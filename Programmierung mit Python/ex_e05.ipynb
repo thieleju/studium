{
  "nbformat": 4,
  "nbformat_minor": 0,
  "metadata": {
    "colab": {
      "provenance": [],
      "collapsed_sections": [
        "kxrUseR_X-ci"
      ]
    },
    "kernelspec": {
      "name": "python3",
      "display_name": "Python 3"
    },
    "language_info": {
      "name": "python"
    }
  },
  "cells": [
    {
      "cell_type": "markdown",
      "source": [
        "# **Übung 5** Programmierung mit Python mit Anwendungen aus dem Maschinellen Lernen"
      ],
      "metadata": {
        "id": "tO4WGLA7VZuQ"
      }
    },
    {
      "cell_type": "markdown",
      "source": [
        "## Aufgabe 1\n",
        "\n",
        "In der ersten Aufgabe geht es darum, Python `Klassen` und `Dunder`-Methoden noch etwas genauer kennenzulernen."
      ],
      "metadata": {
        "id": "kxrUseR_X-ci"
      }
    },
    {
      "cell_type": "markdown",
      "source": [
        "Aufgabe 1.1 (Klassen und Dunder) | Prüfen Sie, dass eine Verbindung zur Laufzeit besteht. \n",
        "- Hovern Sie mit der Maus über die gegebene Klasse `Dummy`. \n",
        "- Nehmen Sie das Objekt `Dummy` oder eine Instanz davon und geben Sie die Ausgabe der `__doc__()` Attribut aus."
      ],
      "metadata": {
        "id": "QILotrpBWU8Y"
      }
    },
    {
      "cell_type": "code",
      "source": [
        "class Dummy():\n",
        "  '''\n",
        "  Hier steht ein String, der die Klasse\n",
        "  und deren Methoden beschreiben könnte.\n",
        "  Dieser String ist über die `__doc__` Attribut (auch `docstring`) abrufbar.\n",
        "\n",
        "  Für den `docstring` sind verschiedene Formate definiert, um automatisch Dokumentation zu erstellen.\n",
        "  Beispiele: https://www.datacamp.com/tutorial/docstrings-python#python-docstring-formats\n",
        "  '''"
      ],
      "metadata": {
        "id": "7x3afqfub2fL"
      },
      "execution_count": null,
      "outputs": []
    },
    {
      "cell_type": "markdown",
      "source": [
        "Aufgabe 1.2 (Klassen und Dunder) | Im folgenden ist die Klasse `TournamentEntry` gegeben. Diese stellt ein Interface für Turnierteilnehmer dar. Interfaces sind abstrakte Klassen, die von allen davon abgeleiteten Klassen die Implementierung von Methoden verlangen können.\n",
        "\n",
        "Hier muss die Methode `__str__()` der abgeleiteten Klasse bereitgestellt werden.\n",
        "\n",
        "Prüfen Sie, dass Sie nicht wie gewohnt eine Instanz von `TournamentEntry` erstellen können.\n"
      ],
      "metadata": {
        "id": "Tv-QJcq9W2QR"
      }
    },
    {
      "cell_type": "code",
      "source": [
        "from abc import abstractmethod, ABC\n",
        "\n",
        "class TournamentEntry(ABC): \n",
        "    @abstractmethod\n",
        "    def __str__(self):\n",
        "      pass"
      ],
      "metadata": {
        "id": "QM4OPBfFCyoC"
      },
      "execution_count": null,
      "outputs": []
    },
    {
      "cell_type": "markdown",
      "source": [
        "Aufgabe 1.3 (Klassen und Dunder) | Schreiben Sie die beiden von `TournamentEntry` abgeleiteten Klassen:\n",
        "- eine Klasse `Player` mit dem Konstruktor Argument `name: str` \n",
        "- eine Klasse `Team` mit den Konstruktor Argumenten `team_name: str`, `names: list[str]`\n",
        "- Erzeugen Sie jeweis eine Instanz der beiden Klassen und prüfen sie auf sinnvollen Output der `__str__()` Methode. \n",
        "\n",
        "Hinweis: `__str__()` wird dann aufgerufen, wenn versucht wird, die Instanz in einen String umzuwandeln."
      ],
      "metadata": {
        "id": "8mbU-RoTNPU5"
      }
    },
    {
      "cell_type": "code",
      "source": [
        "class Player(TournamentEntry):\n",
        "  pass\n",
        "\n",
        "class Team(TournamentEntry):\n",
        "  pass\n",
        "\n"
      ],
      "metadata": {
        "id": "5dywKWsMNOuA"
      },
      "execution_count": null,
      "outputs": []
    },
    {
      "cell_type": "markdown",
      "source": [
        "Aufgabe 1.4 (Klassen und Dunder) | Gegeben ist die Klasse `MatchHelper`. \n",
        "- Schreiben Sie eine Methode `announce`, die eine Begegnung zwischen zwei von `TournamentEntry` abgeleiteten Instanzen ankündigt. `Beispielausgabe: \"Heute treffen NameA und NameB aufeinander.\"`\n",
        "- Schreiben Sie außerdem eine Methode `announce_if_same_type`, die die zuvor geschriebene Methode `announce` nur aufruft, wenn `a` und `b` Instanzen der gleichen Klasse sind. \n",
        "\n",
        "Prüfen Sie ihr Ausgabe.\n"
      ],
      "metadata": {
        "id": "yk2dC7jfNsnY"
      }
    },
    {
      "cell_type": "code",
      "source": [
        "class MatchHelper():\n",
        "  def __init__(self, a: TournamentEntry,  b: TournamentEntry):\n",
        "      if not isinstance(a, TournamentEntry) or not isinstance(b, TournamentEntry):\n",
        "        raise ValueError(\"a or b is not derived from type TournamentEntry\")\n",
        "      self.a = a\n",
        "      self.b = b"
      ],
      "metadata": {
        "id": "9B-7k6xKZkUt"
      },
      "execution_count": null,
      "outputs": []
    },
    {
      "cell_type": "markdown",
      "source": [
        "Aufgabe 1.5 (Klassen und Dunder) | Das Überladen von Operatoren ist ein wichtiges Konzept in vielen Programmiersprachen, da es dem Entwickler erlaubt, benutzerdefinierte Datentypen zu erstellen und Standardoperationen wie Addition, Subtraktion, Multiplikation und Division auf diesen Datentypen anzuwenden.\n",
        "\n",
        "In Python sind Operatoren durch `Dunder`-Methoden definiert und können darüber überladen werden. [Operatoren und Beispiele](https://docs.python.org/3/library/operator.html)\n",
        "\n",
        "Überladen Sie in `TournamentEntry` den `&` Operator (Bitwise And), dass folgender Ausdruck möglich ist.\n",
        "\n",
        "```\n",
        "(Player('Fred') & Player('Linda')).announce()\n",
        "```"
      ],
      "metadata": {
        "id": "rGnmK8-jFtBT"
      }
    },
    {
      "cell_type": "code",
      "source": [
        "#"
      ],
      "metadata": {
        "id": "trBRPmrqKPZI"
      },
      "execution_count": null,
      "outputs": []
    }
  ]
}
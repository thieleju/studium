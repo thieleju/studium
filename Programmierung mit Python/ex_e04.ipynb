{
  "nbformat": 4,
  "nbformat_minor": 0,
  "metadata": {
    "colab": {
      "provenance": [],
      "collapsed_sections": [
        "kxrUseR_X-ci",
        "3lfXW2bOO_yE"
      ]
    },
    "kernelspec": {
      "name": "python3",
      "display_name": "Python 3"
    },
    "language_info": {
      "name": "python"
    }
  },
  "cells": [
    {
      "cell_type": "markdown",
      "source": [
        "# **Übung 4** Programmierung mit Python mit Anwendungen aus dem Maschinellen Lernen"
      ],
      "metadata": {
        "id": "tO4WGLA7VZuQ"
      }
    },
    {
      "cell_type": "markdown",
      "source": [
        "## Aufgabe 1\n",
        "\n",
        "In der ersten Aufgabe geht darum Python Packages kennen zu lernen, um mit deren Funktionalität schnell und einfach verschiedenen Aufgaben lösen zu können.\n",
        "\n",
        "Nachfolgende Zelle enthält die Funktion `get_linear_relationship_sample`. Diese generiert Werte nach folgender linearen Gleichung $f(x) = c0 + x*c1 + N(x)$. $N(x)$ stellt ein von $x$ abhängiges Rauschen da."
      ],
      "metadata": {
        "id": "kxrUseR_X-ci"
      }
    },
    {
      "cell_type": "code",
      "source": [
        "import random\n",
        "import numpy as np\n",
        "from sklearn.model_selection import train_test_split\n",
        "\n",
        "\n",
        "def get_value(x, c0, c1, nf):\n",
        "    return c0 + c1 * x + (random.random()-0.5) * x * x * nf\n",
        "\n",
        "\n",
        "def get_linear_relationship_sample(c0=9, c1=4, noise_factor=0.1):\n",
        "    '''\n",
        "    Erzeugt Punkte in einem bestimmten Bereich nach folgender Funktion f(x) = c0 + x*c1 + N(x)\n",
        "    N ist ein Zufallsterm\n",
        "    '''\n",
        "    X, y = zip(*[(x, get_value(x, c0=c0, c1=c1, nf=noise_factor))\n",
        "                 for x in np.arange(0.1, 15, 0.01)])\n",
        "    X = np.array(X).reshape((len(X), 1))\n",
        "    return train_test_split(\n",
        "        X, y, test_size=0.2, random_state=0)\n"
      ],
      "metadata": {
        "id": "ZAgD0W8WJzHG"
      },
      "execution_count": null,
      "outputs": []
    },
    {
      "cell_type": "code",
      "source": [
        "import random\n",
        "import numpy as np\n",
        "from sklearn.model_selection import train_test_split\n",
        "\n",
        "\n",
        "def get_value(x, c0, c1, nf):\n",
        "    return c0 + c1 * x + (random.random()-0.5) * x * x * nf\n",
        "\n",
        "\n",
        "Y =[(x, get_value(x, c0=9, c1=4, nf=0.1)) for x in np.arange(0.1, 15, 2)]\n",
        "Y,y  =zip(*[(x, get_value(x, c0=9, c1=4, nf=0.1)) for x in np.arange(0.1, 15, 2)])\n",
        "print(Y)\n",
        "print(y)\n"
      ],
      "metadata": {
        "colab": {
          "base_uri": "https://localhost:8080/"
        },
        "id": "nOAXFgr7Zaq9",
        "outputId": "b628473e-b473-41f5-9220-f9565f09962d"
      },
      "execution_count": null,
      "outputs": [
        {
          "output_type": "stream",
          "name": "stdout",
          "text": [
            "(0.1, 2.1, 4.1, 6.1, 8.1, 10.1, 12.1, 14.1)\n",
            "(9.399955251232676, 17.5031663005145, 25.422003545651247, 34.35171272719719, 40.18720407888052, 45.35194262685788, 59.728497767061334, 74.7725450056178)\n"
          ]
        }
      ]
    },
    {
      "cell_type": "markdown",
      "source": [
        "Aufgabe 1.1 (Packages) | Importieren Sie die folgenden Module:\n",
        "- `matplotlib.pyplot` unter dem Bezeichner `plt`\n",
        "- von `sklearn.linear_model` die Klasse `LinearRegression`"
      ],
      "metadata": {
        "id": "QILotrpBWU8Y"
      }
    },
    {
      "cell_type": "code",
      "source": [
        "import matplotlib.pyplot as plt\n",
        "from sklearn.linear_model import LinearRegression"
      ],
      "metadata": {
        "id": "3F7zSAUaWvKb"
      },
      "execution_count": null,
      "outputs": []
    },
    {
      "cell_type": "markdown",
      "source": [
        "Aufgabe 1.2 (Packages) | Führen Sie mit Hilfe der importierten Packages eine Regressionanalyse durch. Die Daten sind durch `get_linear_relationship_sample` vorgegeben.\n",
        "\n",
        "Zur Darstellung von Daten verwenden Sie das Package `matplotlib`\n",
        "Diese bietet eine Vielzahl von Funktionen um Punkte, Linien und weitere geometische Objekte im 2d und 3d Raum darzustellen.\n",
        "\n",
        "In Colab muss erscheinen Plots im Ausgabenbereich. Ein explizites `plt.show()` ist nicht erforderlich.\n",
        "\n",
        "Führen Sie den Code aus und schauen Sie sich die Daten an.\n",
        "X_train und y_train sind die x- und y-Koordinaten der Daten.\n"
      ],
      "metadata": {
        "id": "Tv-QJcq9W2QR"
      }
    },
    {
      "cell_type": "code",
      "source": [
        "X_train, X_test, y_train, _ = get_linear_relationship_sample(\n",
        "    c0=4, c1=5)  # Laden der Daten\n",
        "plt.scatter(X_train, y_train,  color='gray')  # plottet einzelne Punkte"
      ],
      "metadata": {
        "id": "QM4OPBfFCyoC",
        "colab": {
          "base_uri": "https://localhost:8080/",
          "height": 448
        },
        "outputId": "e87d7f54-9be2-4b77-9a63-81c8365fcc7b"
      },
      "execution_count": null,
      "outputs": [
        {
          "output_type": "execute_result",
          "data": {
            "text/plain": [
              "<matplotlib.collections.PathCollection at 0x7f950ae4cd90>"
            ]
          },
          "metadata": {},
          "execution_count": 7
        },
        {
          "output_type": "display_data",
          "data": {
            "text/plain": [
              "<Figure size 640x480 with 1 Axes>"
            ],
            "image/png": "[encoded data removed]"
          },
          "metadata": {}
        }
      ]
    },
    {
      "cell_type": "markdown",
      "source": [
        "Aufgabe 1.3 (Packages) | Führen Sie den Code aus und trainieren Sie die `LinearRegression`. Im Kontext des maschinellen Lernens bedeutet *trainieren* hier die Bestimmung einer Geraden (deswegen lineare Regression) durch die Datenpunkte, so dass der Abstand der Gerade zu den Punkten minimiert wird."
      ],
      "metadata": {
        "id": "8mbU-RoTNPU5"
      }
    },
    {
      "cell_type": "code",
      "source": [
        "reg_model = LinearRegression()  # Modell auswählen: lineare Regression\n",
        "reg_model.fit(X_train, y_train)  # Modell trainieren: Gerade bestimmen\n",
        "# Mit Hilfe des gelernten Modells prädizieren\n",
        "y_pred = reg_model.predict(X_test)\n",
        "# Mit Hilfe der Geraden können wir nun für Punkte mit beliebige\n",
        "# x-Koordinate, die dazugehörige y-Koordinate vorhersagen\n",
        "# oder prädizieren. Die x-Koordinaten der Punkte, die uns\n",
        "# interessieren stehen in X_test."
      ],
      "metadata": {
        "id": "5dywKWsMNOuA"
      },
      "execution_count": null,
      "outputs": []
    },
    {
      "cell_type": "markdown",
      "source": [
        "Aufgabe 1.4 (Packages) | Führen Sie den Code aus und schauen Sie sich die prädizierten Werte (rot) an."
      ],
      "metadata": {
        "id": "yk2dC7jfNsnY"
      }
    },
    {
      "cell_type": "code",
      "source": [
        "plt.scatter(X_train, y_train,  color='gray')  # plottet einzelne Punkte\n",
        "# plottet der Reihenfolge nach Linien zwischen den angegebenen Punkten\n",
        "plt.plot(X_test, y_pred, color='red', linewidth=2)\n",
        "plt.show()"
      ],
      "metadata": {
        "id": "xLDo4e7JNqvd",
        "colab": {
          "base_uri": "https://localhost:8080/",
          "height": 430
        },
        "outputId": "64929dd8-d549-4ad1-94f8-5fad44013caa"
      },
      "execution_count": null,
      "outputs": [
        {
          "output_type": "display_data",
          "data": {
            "text/plain": [
              "<Figure size 640x480 with 1 Axes>"
            ],
            "image/png": "[encoded data removed]"
          },
          "metadata": {}
        }
      ]
    },
    {
      "cell_type": "markdown",
      "source": [
        "Aufgabe 1.5 (Packages) | Schauen Sie sich die Member von `reg_model`. Führen Sie den Code aus und überprüfen Sie die gelernten Koeffiziten mit den vorgegebenen Koeffiziten `c0` und `c1` der Funktion `get_linear_relationship_sample` (siehe Aufgabe 1.2)."
      ],
      "metadata": {
        "id": "C_WsoBkpOGM6"
      }
    },
    {
      "cell_type": "code",
      "source": [
        "print(reg_model.coef_)  # c1\n",
        "print(reg_model.intercept_)  # c0"
      ],
      "metadata": {
        "id": "XaT4AWcXOF99",
        "colab": {
          "base_uri": "https://localhost:8080/"
        },
        "outputId": "1c015b7c-6edf-429c-d648-371b4ed57f53"
      },
      "execution_count": null,
      "outputs": [
        {
          "output_type": "stream",
          "name": "stdout",
          "text": [
            "[5.00341962]\n",
            "4.027641950696648\n"
          ]
        }
      ]
    },
    {
      "cell_type": "markdown",
      "source": [
        "## Aufgabe 2\n",
        "In der zweiten Aufgabe geht darum Python Klassen kennen zu lernen."
      ],
      "metadata": {
        "id": "3lfXW2bOO_yE"
      }
    },
    {
      "cell_type": "markdown",
      "source": [
        "Aufgabe 2.1 (Klassen) | Gegeben sei eine Klasse `Fahrzeug`\n",
        "\n",
        "- Fügen Sie zu der Klasse `Fahrzeug` einen Konstruktor hinzu.\n",
        "Dieser nimmt `anzahl_raeder` und `leistung_ps` als Parameter\n",
        "- Schreiben Sie die Funktion `get_kw`, welche die PS Zahl des Autos in Kilowatt umrechnet\n",
        "- Schreiben Sie die Funktion `get_properties`, welche die Eigenschaften des Autos aneinandergereiht als String zurückgibt"
      ],
      "metadata": {
        "id": "naxKLCj_PLks"
      }
    },
    {
      "cell_type": "code",
      "source": [
        "class Fahrzeug:\n",
        "    pass"
      ],
      "metadata": {
        "id": "I2xru5iBPJST"
      },
      "execution_count": null,
      "outputs": []
    },
    {
      "cell_type": "markdown",
      "source": [
        "Aufgabe 2.2 (Klassen) | Gegeben sei eine Klasse `FahrzeugEintrag`\n",
        "\n",
        "- Fügen Sie zu der Klasse `FahrzeugEintrag` eine `@classmethod` `get_or_register_car(cls, nummernschild, fahrzeug)` hinzu. Diese nimmt ein `nummernschild` als String und ein `fahrzeug` der Klasse `Fahrzeug`. Neue Fahrzeuge sollen als `FahrzeugEintrag` Instanz im `fahrzeug_register` anhand des Nummernschilds eingetragen werden. Bereits gelistete Fahrzeuge sollen unverändert als `FahrzeugEintrag` Instanz zurückgegeben werden\n",
        "\n",
        "- Schreiben Sie die Funktion `get_registered_car_info`, welche folgende Informationen ausgibt: `f'Das Auto mit Nummernschild {self.nummernschild} hat {self.fahrzeug.get_properties()}.`\n",
        "\n",
        "- Testen Sie Ihre Klasse mit folgendem Code:\n",
        "```python\n",
        "# Fahrzeuge anlegen\n",
        "car1 = Fahrzeug(4, 50)\n",
        "car2 = Fahrzeug(4, 60)\n",
        "car3 = Fahrzeug(4, 70)\n",
        "# Fahrzeuge registrieren\n",
        "a1 = FahrzeugEintrag.get_or_register_car('AB-TH-01', car1)\n",
        "a2 = FahrzeugEintrag.get_or_register_car('AB-TH-01', car3) #  car1 wird nicht durch car3 überschrieben\n",
        "b1 = FahrzeugEintrag.get_or_register_car('AB-TH-02', car2)\n",
        "c1 = FahrzeugEintrag.get_or_register_car('AB-TH-03', car1) # es kann das identische Auto(Objekt) zweimal registiert werden\n",
        "# Fahrzeug Infos anzeigen\n",
        "a1.get_registered_car_info()\n",
        "a2.get_registered_car_info()\n",
        "b1.get_registered_car_info()\n",
        "c1.get_registered_car_info()\n",
        "```"
      ],
      "metadata": {
        "id": "tMMsp5IWP6Uz"
      }
    },
    {
      "cell_type": "code",
      "source": [
        "class FahrzeugEintrag():\n",
        "    fahrzeug_register = {}\n",
        "\n",
        "    def __init__(self, nummernschild, fahrzeug):\n",
        "        self.fahrzeug = fahrzeug\n",
        "        self.nummernschild = nummernschild"
      ],
      "metadata": {
        "id": "Z1rkU92BP4yi"
      },
      "execution_count": null,
      "outputs": []
    }
  ]
}
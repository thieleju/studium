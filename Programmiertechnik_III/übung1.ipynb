{
 "cells": [
  {
   "cell_type": "markdown",
   "metadata": {},
   "source": [
    "# Übung 1 vom 11.10.2018\n",
    "\n",
    "Sie besitzen einen Rucksack mit einer Kapazität von n Kilogramm. <br>\n",
    "Sie wollen nun eine Reihe von Produkten in den Rucksack packen, so dass der Wert der gepackten Produkte maximal ist.\n",
    "\n",
    "\n",
    "`dataclasses` sind Klassen, die als Daten-Container verwendet werden können. "
   ]
  },
  {
   "cell_type": "markdown",
   "metadata": {},
   "source": [
    "### Product Dataclass"
   ]
  },
  {
   "cell_type": "code",
   "execution_count": 55,
   "metadata": {},
   "outputs": [],
   "source": [
    "@dataclass\n",
    "class Product:\n",
    "    name: str\n",
    "    weight: float\n",
    "    value: float\n",
    "    multiplier: float = 1\n",
    "\n",
    "    def ratio(self) -> float:\n",
    "        return round(self.value / self.weight, 2)\n",
    "\n",
    "    def toString(self, extended=False) -> str:\n",
    "        output = f\"{self.name}({self.multiplier}x, {self.weight} kg, {self.value} €, {self.ratio()} €/kg)\"\n",
    "        if extended == True:\n",
    "            rel_weight = round(self.weight * self.multiplier, 2)\n",
    "            rel_value = round(self.value * self.multiplier, 2)\n",
    "            output += f\"\\t=> rel_weight: {rel_weight} kg, rel_value: {rel_value} €\"\n",
    "        return output"
   ]
  },
  {
   "cell_type": "markdown",
   "metadata": {},
   "source": [
    "### Bag Dataclass"
   ]
  },
  {
   "cell_type": "code",
   "execution_count": 56,
   "metadata": {},
   "outputs": [],
   "source": [
    "@dataclass\n",
    "class Bag:\n",
    "    name: str\n",
    "    capacity: float\n",
    "    products: list[Product]\n",
    "\n",
    "    def total_weight(self) -> float:\n",
    "        return round(sum([(p.weight * p.multiplier) for p in self.products]), 2)\n",
    "\n",
    "    def total_value(self) -> float:\n",
    "        return round(sum([(p.value * p.multiplier) for p in self.products]), 2)\n",
    "\n",
    "    def print(self):\n",
    "        print(f\"Bag: {self.name}\")\n",
    "        print(f\"- Total weight: {self.total_weight()} kg / {self.capacity} kg\")\n",
    "        print(f\"- Total value: {self.total_value()} €\")\n",
    "        print(\"- Products:\")\n",
    "        for p in self.products:\n",
    "            print(f\"  - {p.toString(extended=True)}\")"
   ]
  },
  {
   "cell_type": "markdown",
   "metadata": {},
   "source": [
    "Set the capacity of the bags and initialize the given products."
   ]
  },
  {
   "cell_type": "code",
   "execution_count": 57,
   "metadata": {},
   "outputs": [
    {
     "name": "stdout",
     "output_type": "stream",
     "text": [
      "O1(1x, 12.34 kg, 123.99 €, 10.05 €/kg)\n",
      "O2(1x, 23.45 kg, 600.54 €, 25.61 €/kg)\n",
      "O3(1x, 12.78 kg, 90.67 €, 7.09 €/kg)\n",
      "O4(1x, 9.34 kg, 34.32 €, 3.67 €/kg)\n"
     ]
    }
   ],
   "source": [
    "# default bag capacity in kg\n",
    "capacity = 41\n",
    "\n",
    "# generate products\n",
    "products = [Product(\"O1\", 12.34, 123.99),\n",
    "            Product(\"O2\", 23.45, 600.54),\n",
    "            Product(\"O3\", 12.78, 90.67),\n",
    "            Product(\"O4\", 9.34, 34.32)]\n",
    "\n",
    "# List all products\n",
    "for p in products:\n",
    "    print(p.toString())"
   ]
  },
  {
   "cell_type": "markdown",
   "metadata": {},
   "source": [
    "### Exercise 1 - The fractal algorithm  "
   ]
  },
  {
   "cell_type": "code",
   "execution_count": 58,
   "metadata": {},
   "outputs": [
    {
     "name": "stdout",
     "output_type": "stream",
     "text": [
      "Bag: Fractal Bag\n",
      "- Total weight: 41.0 kg / 41 kg\n",
      "- Total value: 761.5 €\n",
      "- Products:\n",
      "  - O2(1x, 23.45 kg, 600.54 €, 25.61 €/kg)\t=> rel_weight: 23.45 kg, rel_value: 600.54 €\n",
      "  - O1(1x, 12.34 kg, 123.99 €, 10.05 €/kg)\t=> rel_weight: 12.34 kg, rel_value: 123.99 €\n",
      "  - O3(0.4077x, 12.78 kg, 90.67 €, 7.09 €/kg)\t=> rel_weight: 5.21 kg, rel_value: 36.97 €\n"
     ]
    }
   ],
   "source": [
    "bag = Bag(\"Fractal Bag\", capacity, [])\n",
    "temp_products = products.copy()\n",
    "\n",
    "# add products to bag until capacity is reached\n",
    "while bag.total_weight() < bag.capacity:\n",
    "    # exit if no products are left\n",
    "    if len(temp_products) == 0:\n",
    "        break\n",
    "    # get product with highest value/weight ratio\n",
    "    product = max(temp_products, key=lambda x: x.ratio())\n",
    "    # check if capacity would be reached\n",
    "    if bag.total_weight() + product.weight >= bag.capacity:\n",
    "        # add last product with adjusted multiplier\n",
    "        product.multiplier = round(\n",
    "            (bag.capacity - bag.total_weight()) / product.weight, 4)\n",
    "        bag.products.append(product)\n",
    "        break\n",
    "    # add product to bag\n",
    "    bag.products.append(product)\n",
    "    # remove product from list\n",
    "    temp_products.remove(product)\n",
    "\n",
    "bag.print()"
   ]
  },
  {
   "cell_type": "markdown",
   "metadata": {},
   "source": [
    "### Exercise 2 - The discrete algorithm (optimal?)"
   ]
  },
  {
   "cell_type": "code",
   "execution_count": 59,
   "metadata": {},
   "outputs": [
    {
     "name": "stdout",
     "output_type": "stream",
     "text": [
      "Bag: Discrete Bag\n",
      "- Total weight: 35.79 kg / 41 kg\n",
      "- Total value: 724.53 €\n",
      "- Products:\n",
      "  - O2(1x, 23.45 kg, 600.54 €, 25.61 €/kg)\t=> rel_weight: 23.45 kg, rel_value: 600.54 €\n",
      "  - O1(1x, 12.34 kg, 123.99 €, 10.05 €/kg)\t=> rel_weight: 12.34 kg, rel_value: 123.99 €\n"
     ]
    }
   ],
   "source": [
    "bag = Bag(\"Discrete Bag\", capacity, [])\n",
    "temp_products = products.copy()\n",
    "\n",
    "# add products to bag until capacity is reached\n",
    "while bag.total_weight() < bag.capacity:\n",
    "    # exit if no products are left\n",
    "    if len(temp_products) == 0:\n",
    "        break\n",
    "    # get product with highest value/weight ratio\n",
    "    product = max(temp_products, key=lambda x: x.ratio())\n",
    "    # check if capacity would be reached\n",
    "    if bag.total_weight() + product.weight >= bag.capacity:\n",
    "        break\n",
    "    # add product to bag\n",
    "    bag.products.append(product)\n",
    "    # remove product from list\n",
    "    temp_products.remove(product)\n",
    "    \n",
    "bag.print()"
   ]
  }
 ],
 "metadata": {
  "kernelspec": {
   "display_name": "Python 3.9.13 ('data_science')",
   "language": "python",
   "name": "python3"
  },
  "language_info": {
   "codemirror_mode": {
    "name": "ipython",
    "version": 3
   },
   "file_extension": ".py",
   "mimetype": "text/x-python",
   "name": "python",
   "nbconvert_exporter": "python",
   "pygments_lexer": "ipython3",
   "version": "3.9.13"
  },
  "orig_nbformat": 4,
  "vscode": {
   "interpreter": {
    "hash": "b0ea866badf843fe87e7dcd9c13a6927fe93696ce445e65c9915953e839036f8"
   }
  }
 },
 "nbformat": 4,
 "nbformat_minor": 2
}

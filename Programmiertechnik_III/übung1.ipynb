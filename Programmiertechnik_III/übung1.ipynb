{
 "cells": [
  {
   "cell_type": "markdown",
   "metadata": {},
   "source": [
    "# Übung 1 vom 11.10.2022\n",
    "\n",
    "Sie besitzen einen Rucksack mit einer Kapazität von n Kilogramm. <br>\n",
    "Sie wollen nun eine Reihe von Produkten in den Rucksack packen, so dass der Wert der gepackten Produkte maximal ist.\n",
    "\n",
    "\n",
    "### Erläuterung Dataclasses\n",
    "\n",
    "Dataclasses sind Klassen, die als Daten-Container verwendet werden können. <br>\n",
    "Die Funktion `__post_init__()` wird nach der Initialisierung der Klasse aufgerufen und setzt zusätzliche berechnete Felder. <br>\n",
    "Beispiel: Die Variable 'value' wird nicht initialisiert(`init=False`) und nicht bei einem print angezeigt(`repr=False`) <br>\n",
    "```py\n",
    "value: float = field(init=False, repr=False)\n",
    "```"
   ]
  },
  {
   "cell_type": "markdown",
   "metadata": {},
   "source": [
    "### Product Dataclass"
   ]
  },
  {
   "cell_type": "code",
   "execution_count": 274,
   "metadata": {},
   "outputs": [],
   "source": [
    "from dataclasses import dataclass, field\n",
    "\n",
    "@dataclass\n",
    "class Product:\n",
    "    name: str\n",
    "    weight: float\n",
    "    value: float\n",
    "    multiplier: float = 1\n",
    "    ratio: float = field(init=False)\n",
    "    \n",
    "    def rel_value(self) -> float:\n",
    "        return round(self.value * self.multiplier, 2)\n",
    "    \n",
    "    def rel_weight(self) -> float:\n",
    "        return round(self.weight * self.multiplier, 2)\n",
    "    \n",
    "    def __post_init__(self) -> None:\n",
    "        self.ratio = round(self.value / self.weight, 2)"
   ]
  },
  {
   "cell_type": "markdown",
   "metadata": {},
   "source": [
    "### Bag Dataclass"
   ]
  },
  {
   "cell_type": "code",
   "execution_count": 275,
   "metadata": {},
   "outputs": [],
   "source": [
    "@dataclass\n",
    "class Bag:\n",
    "    name: str\n",
    "    capacity: float\n",
    "    products: list[Product]\n",
    "\n",
    "    def total_weight(self) -> float:\n",
    "        return round(sum([(p.weight * p.multiplier) for p in self.products]), 2)\n",
    "\n",
    "    def total_value(self) -> float:\n",
    "        return round(sum([(p.value * p.multiplier) for p in self.products]), 2)\n",
    "\n",
    "    def __str__(self) -> str:\n",
    "        products_str = \"\\n  - \".join([f\"{p.multiplier}x\\t{p.name}({p.rel_value()}€, {p.rel_weight()}kg, {p.ratio}€/kg)\" for p in self.products])\n",
    "        return (f\"Bag: {self.name}\\n\"\n",
    "        f\"- Capacity: {self.total_weight()}kg / {self.capacity}kg\\n\"\n",
    "        f\"- Value: {self.total_value()}€\\n\"\n",
    "        f\"- Products: {len(self.products)}\\n  - {products_str}\")"
   ]
  },
  {
   "cell_type": "markdown",
   "metadata": {},
   "source": [
    "Set the capacity of the bags and initialize the given products."
   ]
  },
  {
   "cell_type": "code",
   "execution_count": 276,
   "metadata": {},
   "outputs": [
    {
     "name": "stdout",
     "output_type": "stream",
     "text": [
      "Product(name='Product2', weight=23.45, value=600.54, multiplier=1, ratio=25.61)\n",
      "Product(name='Product1', weight=12.34, value=123.99, multiplier=1, ratio=10.05)\n",
      "Product(name='Product3', weight=12.78, value=90.67, multiplier=1, ratio=7.09)\n",
      "Product(name='Product4', weight=9.34, value=34.32, multiplier=1, ratio=3.67)\n"
     ]
    }
   ],
   "source": [
    "# default bag capacity in kg\n",
    "capacity = 41\n",
    "\n",
    "# generate products\n",
    "products = [Product(\"Product1\", 12.34, 123.99),\n",
    "            Product(\"Product2\", 23.45, 600.54),\n",
    "            Product(\"Product3\", 12.78, 90.67),\n",
    "            Product(\"Product4\", 9.34, 34.32)]\n",
    "\n",
    "# List all products sorted by value/weight ratio\n",
    "for p in sorted(products, key=lambda p: p.ratio, reverse=True):\n",
    "    print(p)"
   ]
  },
  {
   "cell_type": "markdown",
   "metadata": {},
   "source": [
    "### Exercise 1 - The fractal algorithm  "
   ]
  },
  {
   "cell_type": "code",
   "execution_count": 277,
   "metadata": {},
   "outputs": [
    {
     "name": "stdout",
     "output_type": "stream",
     "text": [
      "Bag: Fractal Bag\n",
      "- Capacity: 41.0kg / 41kg\n",
      "- Value: 761.5€\n",
      "- Products: 3\n",
      "  - 1x Product2(600.54€, 23.45kg, 25.61€/kg)\n",
      "  - 1x Product1(123.99€, 12.34kg, 10.05€/kg)\n",
      "  - 0.4077x Product3(36.97€, 5.21kg, 7.09€/kg)\n"
     ]
    }
   ],
   "source": [
    "bag = Bag(\"Fractal Bag\", capacity, [])\n",
    "temp_products = products.copy()\n",
    "\n",
    "# add products to bag until capacity is reached\n",
    "while bag.total_weight() < bag.capacity:\n",
    "    # exit if no products are left\n",
    "    if len(temp_products) == 0:\n",
    "        break\n",
    "    # get product with highest value/weight ratio\n",
    "    product = max(temp_products, key=lambda x: x.ratio)\n",
    "    # check if capacity would be reached\n",
    "    if bag.total_weight() + product.weight >= bag.capacity:\n",
    "        # add last product with adjusted multiplier\n",
    "        product.multiplier = round(\n",
    "            (bag.capacity - bag.total_weight()) / product.weight, 4)\n",
    "        bag.products.append(product)\n",
    "        break\n",
    "    # add product to bag\n",
    "    bag.products.append(product)\n",
    "    # remove product from list\n",
    "    temp_products.remove(product)\n",
    "\n",
    "print(bag)"
   ]
  },
  {
   "cell_type": "markdown",
   "metadata": {},
   "source": [
    "### Exercise 2 - The discrete algorithm (optimal?)"
   ]
  },
  {
   "cell_type": "code",
   "execution_count": 278,
   "metadata": {},
   "outputs": [
    {
     "name": "stdout",
     "output_type": "stream",
     "text": [
      "Bag: Discrete Bag\n",
      "- Capacity: 35.79kg / 41kg\n",
      "- Value: 724.53€\n",
      "- Products: 2\n",
      "  - 1x Product2(600.54€, 23.45kg, 25.61€/kg)\n",
      "  - 1x Product1(123.99€, 12.34kg, 10.05€/kg)\n"
     ]
    }
   ],
   "source": [
    "bag = Bag(\"Discrete Bag\", capacity, [])\n",
    "temp_products = products.copy()\n",
    "\n",
    "# add products to bag until capacity is reached\n",
    "while bag.total_weight() < bag.capacity:\n",
    "    # exit if no products are left\n",
    "    if len(temp_products) == 0:\n",
    "        break\n",
    "    # get product with highest value/weight ratio\n",
    "    product = max(temp_products, key=lambda x: x.ratio)\n",
    "    # check if capacity would be reached\n",
    "    if bag.total_weight() + product.weight >= bag.capacity:\n",
    "        break\n",
    "    # add product to bag\n",
    "    bag.products.append(product)\n",
    "    # remove product from list\n",
    "    temp_products.remove(product)\n",
    "    \n",
    "print(bag)"
   ]
  }
 ],
 "metadata": {
  "kernelspec": {
   "display_name": "Python 3.9.13 ('data_science')",
   "language": "python",
   "name": "python3"
  },
  "language_info": {
   "codemirror_mode": {
    "name": "ipython",
    "version": 3
   },
   "file_extension": ".py",
   "mimetype": "text/x-python",
   "name": "python",
   "nbconvert_exporter": "python",
   "pygments_lexer": "ipython3",
   "version": "3.9.13"
  },
  "orig_nbformat": 4,
  "vscode": {
   "interpreter": {
    "hash": "b0ea866badf843fe87e7dcd9c13a6927fe93696ce445e65c9915953e839036f8"
   }
  }
 },
 "nbformat": 4,
 "nbformat_minor": 2
}

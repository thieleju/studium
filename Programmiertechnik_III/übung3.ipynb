{
 "cells": [
  {
   "cell_type": "markdown",
   "metadata": {},
   "source": [
    "# Übung 3 vom 25.10.2022\n",
    "\n",
    "\n",
    "## Exercise 1\n",
    "\n",
    "Geben Sie die kleinste obere Schranke für die Komplexität der folgenden Algorithmen an.\n",
    "\n",
    "**Algorithmus 1**\n",
    "```\n",
    "c1 * (n+1)\n",
    "c2 * (5+1)n\n",
    "c3 * 5n\n",
    "f(n) = c1*(n+1) + c2*(6n) + c3*(5n)\n",
    "f(n) = n*c1+c1 + 6n*c2 + 5n*c3\n",
    "f(n) = n * (c1 + 6*c2 + 5*c3) +c1\n",
    "f(n) => O(n)\n",
    "```\n",
    "\n",
    "**Algorithmus 2**\n",
    "```\n",
    "c1 * (n+1)\n",
    "c2 * (n+1)n\n",
    "c3 * n²\n",
    "f(n) = c1*(n+1) + c2*n(n+1) + c3*n²\n",
    "f(n) = c1n+c1 + c2n²+c2n + c3n²\n",
    "f(n) = n² (c2+c3) + n (c1+c2) + c1\n",
    "f(n) => O(n² + n) = O(n²)\n",
    "```\n",
    "\n",
    "**Algorithmus 3**\n",
    "```\n",
    "c1 * (n+1)\n",
    "c2 * (6+1)n\n",
    "c3 * 6n * (n+1)\n",
    "c4 * 6n * n\n",
    "f(n) = c1*n + c1 + c2*7n + c3*6n² + c3*6n + c4*6n²\n",
    "f(n) = n² (6*c3 + 6*c4) + n (c1 + 7*c2 + 6*c3) + c1 + c2\n",
    "f(n) => O(n² + n) = O(n²)\n",
    "```"
   ]
  },
  {
   "cell_type": "markdown",
   "metadata": {},
   "source": [
    "## Exercise 2 \n",
    "Bringen Sie die folgenden Ordnungen in die richtige Reihenfolge (von klein zu groß)\n",
    "\n",
    "```\n",
    "𝑂(1)\n",
    "𝑂(log log n)\n",
    "𝑂(2^(logn))\n",
    "𝑂(n)\n",
    "𝑂(n log n)\n",
    "𝑂(n^2) = 𝑂(n^2+log n)\n",
    "𝑂(n^2 * n)\n",
    "𝑂(2^n)\n",
    "𝑂(4^n)\n",
    "𝑂(n!)\n",
    "O(2^2^n)\n",
    "```"
   ]
  },
  {
   "cell_type": "markdown",
   "metadata": {},
   "source": [
    "## Exercise 3\n",
    "\n",
    "Sie haben für Ihren Algorithmus die Laufzeitfunktionen bestimmt. Finden Sie nun die jeweiligen\n",
    "obere Schranken. (Geben Sie dazu jeweils ein c und ein n0 an.)\n",
    "\n",
    "```\n",
    "1. f(n) = 3n + 8 𝑂(n) mit c = 4 und n0 = 9 , d.h. 4n ist ab n0 = 9 größer als 3n + 8.\n",
    "2. f(n) = n² + 1 𝑂(n²) mit c = 2 und n0 = 1\n",
    "3. f(n) = f^4 + 100n² + 50 𝑂(n^4) mit c = 2 und n0 = 11\n",
    "4. f(n) = 2n³ − 2n² 𝑂(n³) mit c = 2 und n0 = 1\n",
    "```\n",
    "\n",
    "(Beachten Sie: Die angegebenen c und n0 sind nur eine Möglichkeit. Es lassen sich viele weitere\n",
    "c und n0 finden.)\n"
   ]
  },
  {
   "cell_type": "markdown",
   "metadata": {},
   "source": [
    "## Exercise 4\n",
    "\n",
    "Entwickeln Sie einen Algorithmus, der gleichzeitig das Minimum und das Maximum einer\n",
    "Zahlensequenz (z.B. in einem Array) sucht. Welche Komplexität hat Ihr Algorithmus?\n",
    "\n",
    "A: Dieser Algorithmus durchläuft genau einmal das Array 𝑎 und updated dabei sowohl min als\n",
    "auch max bei Bedarf. Die Laufzeit ist in 𝑂(𝑛), wobei 𝑛 die Anzahl der Elemente im Array ist."
   ]
  },
  {
   "cell_type": "markdown",
   "metadata": {},
   "source": [
    "## Exercise 5\n",
    "\n",
    "Enthalten in `challenge_of_the_week_2.ipynb`"
   ]
  }
 ],
 "metadata": {
  "kernelspec": {
   "display_name": "Python 3.9.13 ('data_science')",
   "language": "python",
   "name": "python3"
  },
  "language_info": {
   "codemirror_mode": {
    "name": "ipython",
    "version": 3
   },
   "file_extension": ".py",
   "mimetype": "text/x-python",
   "name": "python",
   "nbconvert_exporter": "python",
   "pygments_lexer": "ipython3",
   "version": "3.9.13"
  },
  "orig_nbformat": 4,
  "vscode": {
   "interpreter": {
    "hash": "b0ea866badf843fe87e7dcd9c13a6927fe93696ce445e65c9915953e839036f8"
   }
  }
 },
 "nbformat": 4,
 "nbformat_minor": 2
}

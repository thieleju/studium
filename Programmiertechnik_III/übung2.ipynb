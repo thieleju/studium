{
 "cells": [
  {
   "cell_type": "markdown",
   "metadata": {},
   "source": [
    "# Übung 2 vom 18.10.2022\n",
    "\n",
    "### Exercise 1\n",
    "\n",
    "Entwerfen Sie einen Algorithmus zur gerechten Aufteilung eines Kuchens unter 3 Personen. Beschreiben Sie den Algorithmus in geeigneter Weise, zum Beispiel in Pseudocode\n",
    "oder als Nassi-Shneidermann Diagramm. Auch bebilderter Fließtext kann sinnvoll sein."
   ]
  },
  {
   "cell_type": "code",
   "execution_count": 7,
   "metadata": {},
   "outputs": [],
   "source": [
    "from dataclasses import dataclass, field\n",
    "import random as random\n",
    "\n",
    "@dataclass\n",
    "class Person:\n",
    "    name: str\n",
    "    estimate_percent: float = 0\n",
    "    percent: float = 0\n",
    "    cake: float = 0\n",
    "    position: int = field(init=False, default=0, repr=False)\n",
    "\n",
    "    def __str__(self) -> str:\n",
    "        return f\"{self.position}. Aufteilung: {self.name} schätzt {round(self.estimate_percent*100,2)}% und bekommt {round(self.cake,2)} ({round((self.cake/Group.cake*100),2)}%) Kuchen ({round(self.percent*100,2)}%, diff {round((self.percent-self.estimate_percent)*100,2)})\"\n",
    "\n",
    "@dataclass\n",
    "class Group:\n",
    "    name: str\n",
    "    members: list[Person]\n",
    "    cake: float = 100\n",
    "\n",
    "    def __init__(self, name: str, members: list[Person]) -> None:\n",
    "        self.name = name\n",
    "        self.members = members\n",
    "\n",
    "    def __str__(self) -> str:\n",
    "        # sort members by estimate_percent\n",
    "        members_sorted = sorted(self.members, key=lambda member: member.position)\n",
    "        mermbers_str = \"\\n  - \".join([str(member) for member in members_sorted])\n",
    "        return f\"Gruppe: {self.name}\\n- Mitglieder: {len(self.members)}\\n  - {mermbers_str}\"\n"
   ]
  },
  {
   "cell_type": "code",
   "execution_count": 8,
   "metadata": {},
   "outputs": [],
   "source": [
    "members = [\n",
    "    Person(\"Alice\"),\n",
    "    Person(\"Bob\"),\n",
    "    Person(\"Charlie\"),\n",
    "    # Person(\"David\"),\n",
    "    # Person(\"Eve\"),\n",
    "    # Person(\"Frank\"),\n",
    "    # Person(\"Grace\"),\n",
    "    # Person(\"Hans\"),\n",
    "]"
   ]
  },
  {
   "cell_type": "markdown",
   "metadata": {},
   "source": [
    "### Gerecht, aber nicht neidfrei (wahrscheinlich falsch)\n",
    "\n",
    "Die Variable `estimate_variance` definiert wie gut die Personen bei ihrer Schätzung sind."
   ]
  },
  {
   "cell_type": "code",
   "execution_count": 9,
   "metadata": {},
   "outputs": [
    {
     "name": "stdout",
     "output_type": "stream",
     "text": [
      "Gruppe: Gerechte Aufteilung\n",
      "- Mitglieder: 4\n",
      "  - 1. Aufteilung: Charlie schätzt 20.04% und bekommt 20.84 (20.84%) Kuchen (20.84%, diff 0.8)\n",
      "  - 2. Aufteilung: Alice schätzt 29.26% und bekommt 25.2 (25.2%) Kuchen (31.84%, diff 2.58)\n",
      "  - 3. Aufteilung: David schätzt 50.14% und bekommt 27.39 (27.39%) Kuchen (50.76%, diff 0.63)\n",
      "  - 4. Aufteilung: Bob schätzt 51.39% und bekommt 26.57 (26.57%) Kuchen (49.24%, diff -2.16)\n"
     ]
    }
   ],
   "source": [
    "group1 = Group(\"Gerechte Aufteilung\", members.copy())\n",
    "\n",
    "estimate_variance = 0.05\n",
    "\n",
    "while group1.cake > 0:\n",
    "    \n",
    "    # filter members who already have a slice\n",
    "    members_filtered = [member for member in group1.members if member.position == 0]\n",
    "    \n",
    "    if len(members_filtered) == 2:\n",
    "        m1 = members_filtered[len(members_filtered)-1]\n",
    "        m2 = members_filtered[len(members_filtered)-2]\n",
    "        # get estimate for last two members\n",
    "        m1.estimate_percent = 1 / len(members_filtered) + random.uniform(-estimate_variance, estimate_variance)\n",
    "        m2.estimate_percent = 1 / len(members_filtered) + random.uniform(-estimate_variance, estimate_variance)\n",
    "        # find mean of estimates\n",
    "        mean_estimate = (m1.estimate_percent + m2.estimate_percent) / 2\n",
    "        # split remaining cake equally\n",
    "        small_part = mean_estimate if mean_estimate < 0.5 else 1 - mean_estimate\n",
    "        # check which member gets the small part\n",
    "        # The idea is that the member with the \"better\" estimate gets the bigger part\n",
    "        if  mean_estimate < 0.5:\n",
    "            m1.percent = small_part if m1.estimate_percent < m2.estimate_percent else 1 - small_part\n",
    "            m2.percent = 1 - small_part if m1.estimate_percent < m2.estimate_percent else small_part\n",
    "        else :\n",
    "            m1.percent = small_part if m1.estimate_percent > m2.estimate_percent else 1 - small_part\n",
    "            m2.percent = 1 - small_part if m1.estimate_percent > m2.estimate_percent else small_part\n",
    "        # give remaining cake to members\n",
    "        m1.cake = group1.cake * m1.percent\n",
    "        m2.cake = group1.cake * m2.percent\n",
    "        # set position of members\n",
    "        m1.position = len(group1.members) - len(members_filtered) + 1\n",
    "        m2.position = len(group1.members) - len(members_filtered) + 2\n",
    "        # set cake to 0\n",
    "        group1.cake = 0\n",
    "        \n",
    "    else: \n",
    "        # get estimate for all remaining members\n",
    "        for member in members_filtered:\n",
    "            member.estimate_percent = 1 / len(members_filtered) + random.uniform(-estimate_variance, estimate_variance)\n",
    "\n",
    "        # find member with smallest estimate\n",
    "        member_smallest_estimate = min(members_filtered, key=lambda member: member.estimate_percent)\n",
    "        # find member with second smallest estimate\n",
    "        member_second_smallest_estimate = min(members_filtered, key=lambda member: member.estimate_percent if member != member_smallest_estimate else 1)\n",
    "        # find mean of estimates\n",
    "        mean_estimate = (member_smallest_estimate.estimate_percent + member_second_smallest_estimate.estimate_percent) / 2\n",
    "        # split remaining cake one time and give it to member with smallest estimate\n",
    "        member_smallest_estimate.percent = mean_estimate\n",
    "        member_smallest_estimate.cake = mean_estimate * group1.cake \n",
    "        # set position of member\n",
    "        member_smallest_estimate.position = len(group1.members) - len(members_filtered) + 1\n",
    "        # reduce cake\n",
    "        group1.cake -= member_smallest_estimate.cake\n",
    "       \n",
    "# print results\n",
    "print(group1)"
   ]
  },
  {
   "cell_type": "markdown",
   "metadata": {},
   "source": [
    "### Neidfreies Teilen\n",
    "\n",
    "Aufgabe übersprungen.\n",
    "[Quelle](https://www.spektrum.de/news/neidfreies-teilen-wie-man-einen-kuchen-fair-aufteilt/1432192)"
   ]
  },
  {
   "cell_type": "markdown",
   "metadata": {},
   "source": [
    "### Exercise 2\n",
    "\n",
    "Betrachten Sie folgendes Spiel: <br>\n",
    "Eine Gruppe von N Personen stellt sich in beliebiger Ordnung auf. Jede Person bekommt dabei 1 bis max 4 Nachbarn zugewiesen (z.B. links, rechts, vorne, hinten). Nun werden für jede Person 2 Karten mit dem Namen der Person beschriftet. Eine Karte wird aus dem Spiel genommen, die restlichen Karten werden gemischt und an die Spieler so verteilt. 1 Person erhält 1 Karte, die restlichen Personen zwei. Nun geben die Spieler ihre Karten so lange an ihre Nachbarn weiter, bis am Ende alle Spieler:innen alle Karten mit ihrem Namen in Händen halten. Aber Achtung: es darf zu jedem Zeitpunkt nur eine Karte weitergegeben werden und das nur an eine:n Spieler:in mit nur einer Karte in der Hand.\n",
    "\n",
    "1. In der vergangenen Übung haben wir die Greedy-Strategie als Lösungsstrategie kennengelernt. Was bedeutet diese Strategie für dieses Spiel? Führt sie immer zu einer Lösung?\n",
    "2. Entwerfen Sie für dieses Spiel einen Algorithmus, nach dem die Karten weitergegeben werden.\n",
    "3. Jeder Algorithmus hat eine Ein- und eine Ausgabe. Welches sind zulässige Eingaben für Ihren Algorithmus? Wie beschreiben Sie eine korrekte Ausgabe?\n"
   ]
  },
  {
   "cell_type": "code",
   "execution_count": null,
   "metadata": {},
   "outputs": [],
   "source": []
  }
 ],
 "metadata": {
  "kernelspec": {
   "display_name": "Python 3.10.4 64-bit",
   "language": "python",
   "name": "python3"
  },
  "language_info": {
   "codemirror_mode": {
    "name": "ipython",
    "version": 3
   },
   "file_extension": ".py",
   "mimetype": "text/x-python",
   "name": "python",
   "nbconvert_exporter": "python",
   "pygments_lexer": "ipython3",
   "version": "3.10.4"
  },
  "orig_nbformat": 4,
  "vscode": {
   "interpreter": {
    "hash": "3b6681b19b7e292dd10f3937973fc2193d3ae28b044883bc9884a3ff4f3ed7d5"
   }
  }
 },
 "nbformat": 4,
 "nbformat_minor": 2
}

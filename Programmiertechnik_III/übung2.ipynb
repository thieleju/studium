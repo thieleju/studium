{
 "cells": [
  {
   "cell_type": "markdown",
   "metadata": {},
   "source": [
    "# Übung 2 vom 18.10.2022\n",
    "\n",
    "### Exercise 1\n",
    "\n",
    "Entwerfen Sie einen Algorithmus zur gerechten Aufteilung eines Kuchens unter 3 Personen. Beschreiben Sie den Algorithmus in geeigneter Weise, zum Beispiel in Pseudocode\n",
    "oder als Nassi-Shneidermann Diagramm. Auch bebilderter Fließtext kann sinnvoll sein."
   ]
  },
  {
   "cell_type": "code",
   "execution_count": 827,
   "metadata": {},
   "outputs": [],
   "source": [
    "from dataclasses import dataclass, field\n",
    "import random as random\n",
    "\n",
    "@dataclass\n",
    "class Person:\n",
    "    name: str\n",
    "    estimate_percent: float = 0\n",
    "    percent: float = 0\n",
    "    cake: float = 0\n",
    "    position: int = field(init=False, default=0, repr=False)\n",
    "\n",
    "    def __str__(self) -> str:\n",
    "        return f\"{self.position}. Aufteilung: {self.name} schätzt {round(self.estimate_percent*100,2)}% und bekommt {round(self.cake,2)} ({round((self.cake/Group.cake*100),2)}%) Kuchen ({round(self.percent*100,2)}%, diff {round((self.percent-self.estimate_percent)*100,2)})\"\n",
    "\n",
    "@dataclass\n",
    "class Group:\n",
    "    name: str\n",
    "    members: list[Person]\n",
    "    cake: float = 200\n",
    "\n",
    "    def __init__(self, name: str, members: list[Person]) -> None:\n",
    "        self.name = name\n",
    "        self.members = members\n",
    "\n",
    "    def __str__(self) -> str:\n",
    "        # sort members by estimate_percent\n",
    "        members_sorted = sorted(self.members, key=lambda member: member.position)\n",
    "        mermbers_str = \"\\n  - \".join([str(member) for member in members_sorted])\n",
    "        member_highest_percent = max(self.members, key=lambda member: member.percent)\n",
    "        return f\"Gruppe: {self.name}\\n- Mitglieder: {len(self.members)}\\n  - {mermbers_str}\\n\\nGrößtes Stück: {member_highest_percent}\"\n"
   ]
  },
  {
   "cell_type": "code",
   "execution_count": 828,
   "metadata": {},
   "outputs": [],
   "source": [
    "members = [\n",
    "    Person(\"Alice\"),\n",
    "    Person(\"Bob\"),\n",
    "    Person(\"Charlie\"),\n",
    "    Person(\"David\"),\n",
    "    # Person(\"Eve\"),\n",
    "    # Person(\"Frank\"),\n",
    "    # Person(\"Grace\"),\n",
    "    # Person(\"Hans\"),\n",
    "]"
   ]
  },
  {
   "cell_type": "markdown",
   "metadata": {},
   "source": [
    "### Gerecht, aber nicht neidfrei (wahrscheinlich falsch)\n",
    "\n",
    "Die Variable `estimate_variance` definiert wie gut die Personen bei ihrer Schätzung sind."
   ]
  },
  {
   "cell_type": "code",
   "execution_count": 829,
   "metadata": {},
   "outputs": [
    {
     "name": "stdout",
     "output_type": "stream",
     "text": [
      "Gruppe: Gerechte Aufteilung\n",
      "- Mitglieder: 4\n",
      "  - 1. Aufteilung: Alice schätzt 22.39% und bekommt 22.44 (22.44%) Kuchen (22.44%, diff 0.05)\n",
      "  - 2. Aufteilung: David schätzt 29.09% und bekommt 22.74 (22.74%) Kuchen (29.33%, diff 0.24)\n",
      "  - 3. Aufteilung: Charlie schätzt 49.83% und bekommt 28.27 (28.27%) Kuchen (51.57%, diff 1.74)\n",
      "  - 4. Aufteilung: Bob schätzt 47.02% und bekommt 26.54 (26.54%) Kuchen (48.43%, diff 1.4)\n",
      "\n",
      "Größtes Stück: 3. Aufteilung: Charlie schätzt 49.83% und bekommt 28.27 (28.27%) Kuchen (51.57%, diff 1.74)\n"
     ]
    }
   ],
   "source": [
    "group1 = Group(\"Gerechte Aufteilung\", members.copy())\n",
    "\n",
    "estimate_variance = 0.05\n",
    "\n",
    "while group1.cake > 0:\n",
    "    \n",
    "    # filter members who already have a slice\n",
    "    members_filtered = [member for member in group1.members if member.position == 0]\n",
    "    \n",
    "    if len(members_filtered) == 2:\n",
    "        m1 = members_filtered[len(members_filtered)-1]\n",
    "        m2 = members_filtered[len(members_filtered)-2]\n",
    "        # get estimate for last two members\n",
    "        m1.estimate_percent = 1 / len(members_filtered) + random.uniform(-estimate_variance, estimate_variance)\n",
    "        m2.estimate_percent = 1 / len(members_filtered) + random.uniform(-estimate_variance, estimate_variance)\n",
    "        # find mean of estimates\n",
    "        mean_estimate = (m1.estimate_percent + m2.estimate_percent) / 2\n",
    "        # split remaining cake equally\n",
    "        small_part = mean_estimate if mean_estimate < 0.5 else 1 - mean_estimate\n",
    "        # check which member gets the small part\n",
    "        # The idea is that the member with the \"better\" estimate gets the bigger part\n",
    "        if  mean_estimate < 0.5:\n",
    "            m1.percent = small_part if m1.estimate_percent < m2.estimate_percent else 1 - small_part\n",
    "            m2.percent = 1 - small_part if m1.estimate_percent < m2.estimate_percent else small_part\n",
    "        else :\n",
    "            m1.percent = small_part if m1.estimate_percent > m2.estimate_percent else 1 - small_part\n",
    "            m2.percent = 1 - small_part if m1.estimate_percent > m2.estimate_percent else small_part\n",
    "        # give remaining cake to members\n",
    "        m1.cake = group1.cake * m1.percent\n",
    "        m2.cake = group1.cake * m2.percent\n",
    "        # set position of members\n",
    "        m1.position = len(group1.members) - len(members_filtered) + 1\n",
    "        m2.position = len(group1.members) - len(members_filtered) + 2\n",
    "        # set cake to 0\n",
    "        group1.cake = 0\n",
    "        \n",
    "    else: \n",
    "        # get estimate for all remaining members\n",
    "        for member in members_filtered:\n",
    "            member.estimate_percent = 1 / len(members_filtered) + random.uniform(-estimate_variance, estimate_variance)\n",
    "\n",
    "        # find member with smallest estimate\n",
    "        member_smallest_estimate = min(members_filtered, key=lambda member: member.estimate_percent)\n",
    "        # find member with second smallest estimate\n",
    "        member_second_smallest_estimate = min(members_filtered, key=lambda member: member.estimate_percent if member != member_smallest_estimate else 1)\n",
    "        # find mean of estimates\n",
    "        mean_estimate = (member_smallest_estimate.estimate_percent + member_second_smallest_estimate.estimate_percent) / 2\n",
    "        # split remaining cake one time and give it to member with smallest estimate\n",
    "        member_smallest_estimate.percent = mean_estimate\n",
    "        member_smallest_estimate.cake = mean_estimate * group1.cake \n",
    "        # set position of member\n",
    "        member_smallest_estimate.position = len(group1.members) - len(members_filtered) + 1\n",
    "        # reduce cake\n",
    "        group1.cake -= member_smallest_estimate.cake\n",
    "       \n",
    "# print results\n",
    "print(group1)"
   ]
  },
  {
   "cell_type": "markdown",
   "metadata": {},
   "source": [
    "### Neidfrei"
   ]
  },
  {
   "cell_type": "code",
   "execution_count": null,
   "metadata": {},
   "outputs": [],
   "source": []
  }
 ],
 "metadata": {
  "kernelspec": {
   "display_name": "Python 3.10.4 64-bit",
   "language": "python",
   "name": "python3"
  },
  "language_info": {
   "codemirror_mode": {
    "name": "ipython",
    "version": 3
   },
   "file_extension": ".py",
   "mimetype": "text/x-python",
   "name": "python",
   "nbconvert_exporter": "python",
   "pygments_lexer": "ipython3",
   "version": "3.10.4"
  },
  "orig_nbformat": 4,
  "vscode": {
   "interpreter": {
    "hash": "3b6681b19b7e292dd10f3937973fc2193d3ae28b044883bc9884a3ff4f3ed7d5"
   }
  }
 },
 "nbformat": 4,
 "nbformat_minor": 2
}

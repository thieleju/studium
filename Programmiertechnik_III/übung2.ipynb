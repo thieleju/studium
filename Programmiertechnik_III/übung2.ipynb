{
 "cells": [
  {
   "cell_type": "markdown",
   "metadata": {},
   "source": [
    "# Übung 2 vom 18.10.2022\n",
    "\n",
    "### Exercise 1\n",
    "\n",
    "Entwerfen Sie einen Algorithmus zur gerechten Aufteilung eines Kuchens unter 3 Personen. Beschreiben Sie den Algorithmus in geeigneter Weise, zum Beispiel in Pseudocode\n",
    "oder als Nassi-Shneidermann Diagramm. Auch bebilderter Fließtext kann sinnvoll sein."
   ]
  },
  {
   "cell_type": "code",
   "execution_count": 242,
   "metadata": {},
   "outputs": [],
   "source": [
    "import random as random\n",
    "\n",
    "\n",
    "class Person:\n",
    "    name: str\n",
    "    estimate_percent: float\n",
    "    cake_percent: float\n",
    "    cake_total: float\n",
    "\n",
    "    def __init__(self, name: str) -> None:\n",
    "        self.name = name\n",
    "\n",
    "    def __str__(self) -> str:\n",
    "        return f\"{self.name} schätzt {self.estimate_percent * 100}% und bekommt {self.cake_total} ({(self.cake_percent - self.estimate_percent)*100})\"\n",
    "\n",
    "\n",
    "class Group:\n",
    "    name: str\n",
    "    members: list[Person] = []\n",
    "    cake: float = 100\n",
    "    cake_total: float = 100\n",
    "\n",
    "    def __init__(self, name: str) -> None:\n",
    "        self.name = name\n",
    "        self.name = name\n",
    "\n",
    "    def __str__(self) -> str:\n",
    "        mermbers_str = \"\\n  - \".join([str(member) for member in self.members])\n",
    "        return f\"Gruppe: {self.name}\\n- Mitglieder: {len(self.members)}\\n  - {mermbers_str}\"\n"
   ]
  },
  {
   "cell_type": "markdown",
   "metadata": {},
   "source": [
    "### Gerecht, aber nicht neidfrei"
   ]
  },
  {
   "cell_type": "code",
   "execution_count": 243,
   "metadata": {},
   "outputs": [
    {
     "name": "stdout",
     "output_type": "stream",
     "text": [
      "26.503669918200355\n",
      "Alice estimated:  26.332912377900126 %\n",
      "Bob estimated:  26.674427458500595 %\n",
      "removed from cake 19.47922472687117\n",
      "31.42413822197459\n",
      "Charlie estimated:  31.104163251724025 %\n",
      "Bob estimated:  31.744113192225154 %\n",
      "removed from cake 15.837998745763638\n"
     ]
    },
    {
     "ename": "AttributeError",
     "evalue": "'Person' object has no attribute 'cake_total'",
     "output_type": "error",
     "traceback": [
      "\u001b[0;31m---------------------------------------------------------------------------\u001b[0m",
      "\u001b[0;31mAttributeError\u001b[0m                            Traceback (most recent call last)",
      "Cell \u001b[0;32mIn [243], line 52\u001b[0m\n\u001b[1;32m     48\u001b[0m     temp_members\u001b[39m.\u001b[39mremove(member_smallest_estimate)\n\u001b[1;32m     51\u001b[0m \u001b[39m# print results\u001b[39;00m\n\u001b[0;32m---> 52\u001b[0m \u001b[39mprint\u001b[39;49m(group1)\n",
      "Cell \u001b[0;32mIn [242], line 28\u001b[0m, in \u001b[0;36mGroup.__str__\u001b[0;34m(self)\u001b[0m\n\u001b[1;32m     27\u001b[0m \u001b[39mdef\u001b[39;00m \u001b[39m__str__\u001b[39m(\u001b[39mself\u001b[39m) \u001b[39m-\u001b[39m\u001b[39m>\u001b[39m \u001b[39mstr\u001b[39m:\n\u001b[0;32m---> 28\u001b[0m     mermbers_str \u001b[39m=\u001b[39m \u001b[39m\"\u001b[39m\u001b[39m\\n\u001b[39;00m\u001b[39m  - \u001b[39m\u001b[39m\"\u001b[39m\u001b[39m.\u001b[39mjoin([\u001b[39mstr\u001b[39m(member) \u001b[39mfor\u001b[39;00m member \u001b[39min\u001b[39;00m \u001b[39mself\u001b[39m\u001b[39m.\u001b[39mmembers])\n\u001b[1;32m     29\u001b[0m     \u001b[39mreturn\u001b[39;00m \u001b[39mf\u001b[39m\u001b[39m\"\u001b[39m\u001b[39mGruppe: \u001b[39m\u001b[39m{\u001b[39;00m\u001b[39mself\u001b[39m\u001b[39m.\u001b[39mname\u001b[39m}\u001b[39;00m\u001b[39m\\n\u001b[39;00m\u001b[39m- Mitglieder: \u001b[39m\u001b[39m{\u001b[39;00m\u001b[39mlen\u001b[39m(\u001b[39mself\u001b[39m\u001b[39m.\u001b[39mmembers)\u001b[39m}\u001b[39;00m\u001b[39m\\n\u001b[39;00m\u001b[39m  - \u001b[39m\u001b[39m{\u001b[39;00mmermbers_str\u001b[39m}\u001b[39;00m\u001b[39m\"\u001b[39m\n",
      "Cell \u001b[0;32mIn [242], line 28\u001b[0m, in \u001b[0;36m<listcomp>\u001b[0;34m(.0)\u001b[0m\n\u001b[1;32m     27\u001b[0m \u001b[39mdef\u001b[39;00m \u001b[39m__str__\u001b[39m(\u001b[39mself\u001b[39m) \u001b[39m-\u001b[39m\u001b[39m>\u001b[39m \u001b[39mstr\u001b[39m:\n\u001b[0;32m---> 28\u001b[0m     mermbers_str \u001b[39m=\u001b[39m \u001b[39m\"\u001b[39m\u001b[39m\\n\u001b[39;00m\u001b[39m  - \u001b[39m\u001b[39m\"\u001b[39m\u001b[39m.\u001b[39mjoin([\u001b[39mstr\u001b[39;49m(member) \u001b[39mfor\u001b[39;00m member \u001b[39min\u001b[39;00m \u001b[39mself\u001b[39m\u001b[39m.\u001b[39mmembers])\n\u001b[1;32m     29\u001b[0m     \u001b[39mreturn\u001b[39;00m \u001b[39mf\u001b[39m\u001b[39m\"\u001b[39m\u001b[39mGruppe: \u001b[39m\u001b[39m{\u001b[39;00m\u001b[39mself\u001b[39m\u001b[39m.\u001b[39mname\u001b[39m}\u001b[39;00m\u001b[39m\\n\u001b[39;00m\u001b[39m- Mitglieder: \u001b[39m\u001b[39m{\u001b[39;00m\u001b[39mlen\u001b[39m(\u001b[39mself\u001b[39m\u001b[39m.\u001b[39mmembers)\u001b[39m}\u001b[39;00m\u001b[39m\\n\u001b[39;00m\u001b[39m  - \u001b[39m\u001b[39m{\u001b[39;00mmermbers_str\u001b[39m}\u001b[39;00m\u001b[39m\"\u001b[39m\n",
      "Cell \u001b[0;32mIn [242], line 14\u001b[0m, in \u001b[0;36mPerson.__str__\u001b[0;34m(self)\u001b[0m\n\u001b[1;32m     13\u001b[0m \u001b[39mdef\u001b[39;00m \u001b[39m__str__\u001b[39m(\u001b[39mself\u001b[39m) \u001b[39m-\u001b[39m\u001b[39m>\u001b[39m \u001b[39mstr\u001b[39m:\n\u001b[0;32m---> 14\u001b[0m     \u001b[39mreturn\u001b[39;00m \u001b[39mf\u001b[39m\u001b[39m\"\u001b[39m\u001b[39m{\u001b[39;00m\u001b[39mself\u001b[39m\u001b[39m.\u001b[39mname\u001b[39m}\u001b[39;00m\u001b[39m schätzt \u001b[39m\u001b[39m{\u001b[39;00m\u001b[39mself\u001b[39m\u001b[39m.\u001b[39mestimate_percent \u001b[39m*\u001b[39m \u001b[39m100\u001b[39m\u001b[39m}\u001b[39;00m\u001b[39m% und bekommt \u001b[39m\u001b[39m{\u001b[39;00m\u001b[39mself\u001b[39m\u001b[39m.\u001b[39mcake_total\u001b[39m}\u001b[39;00m\u001b[39m (\u001b[39m\u001b[39m{\u001b[39;00m(\u001b[39mself\u001b[39m\u001b[39m.\u001b[39mcake_percent \u001b[39m-\u001b[39m \u001b[39mself\u001b[39m\u001b[39m.\u001b[39mestimate_percent)\u001b[39m*\u001b[39m\u001b[39m100\u001b[39m\u001b[39m}\u001b[39;00m\u001b[39m)\u001b[39m\u001b[39m\"\u001b[39m\n",
      "\u001b[0;31mAttributeError\u001b[0m: 'Person' object has no attribute 'cake_total'"
     ]
    }
   ],
   "source": [
    "temp_members = [\n",
    "    Person(\"Alice\"),\n",
    "    Person(\"Bob\"),\n",
    "    Person(\"Charlie\"),\n",
    "    Person(\"David\"),\n",
    "]\n",
    "group1 = Group(\"Gerecht\")\n",
    "group1.members = temp_members.copy()\n",
    "\n",
    "while group1.cake > 0 and len(group1.members) > 0:\n",
    "\n",
    "    # every person sets estimate for 1/len(member) of the cake\n",
    "    for member in temp_members:\n",
    "        # get estimate for person\n",
    "        member.estimate_percent = (\n",
    "            1 / (len(temp_members))) + random.uniform(-0.05, 0.05)\n",
    "\n",
    "    if len(temp_members) == 2:\n",
    "        break\n",
    "\n",
    "    # get smallest estimate\n",
    "    member_smallest_estimate = min(\n",
    "        temp_members, key=lambda x: x.estimate_percent)\n",
    "    # get second smallest estimate\n",
    "    member_second_smallest_estimate = min(\n",
    "        temp_members, key=lambda x: x.estimate_percent if x.estimate_percent > member_smallest_estimate.estimate_percent else 1)\n",
    "    # get mean of smallest and second smallest estimate\n",
    "    mean_estimate = (member_smallest_estimate.estimate_percent +\n",
    "                     member_second_smallest_estimate.estimate_percent) / 2\n",
    "\n",
    "    print(member_smallest_estimate.name,\n",
    "          \"estimated: \", member_smallest_estimate.estimate_percent*100, \"%\")\n",
    "    print(member_second_smallest_estimate.name,\n",
    "          \"estimated: \", member_second_smallest_estimate.estimate_percent*100, \"%\")\n",
    "\n",
    "    # get cake for smallest estimate\n",
    "    member_smallest_estimate.cake_percent = mean_estimate\n",
    "    member_smallest_estimate.cake_total = mean_estimate * group1.cake\n",
    "\n",
    "    # remove cake part from total cake\n",
    "    group1.cake -= group1.cake * mean_estimate\n",
    "    print(\"removed from cake\", group1.cake * mean_estimate)\n",
    "\n",
    "    # add person to group\n",
    "    group1.members.append(member_smallest_estimate)\n",
    "    # remove person from list\n",
    "    temp_members.remove(member_smallest_estimate)\n",
    "\n",
    "\n",
    "# print results\n",
    "print(group1)\n"
   ]
  }
 ],
 "metadata": {
  "kernelspec": {
   "display_name": "Python 3.9.2 64-bit",
   "language": "python",
   "name": "python3"
  },
  "language_info": {
   "codemirror_mode": {
    "name": "ipython",
    "version": 3
   },
   "file_extension": ".py",
   "mimetype": "text/x-python",
   "name": "python",
   "nbconvert_exporter": "python",
   "pygments_lexer": "ipython3",
   "version": "3.9.2"
  },
  "orig_nbformat": 4,
  "vscode": {
   "interpreter": {
    "hash": "916dbcbb3f70747c44a77c7bcd40155683ae19c65e1c03b4aa3499c5328201f1"
   }
  }
 },
 "nbformat": 4,
 "nbformat_minor": 2
}

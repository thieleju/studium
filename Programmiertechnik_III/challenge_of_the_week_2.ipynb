{
 "cells": [
  {
   "cell_type": "markdown",
   "metadata": {},
   "source": [
    "# Challenge Of The Week 2\n",
    "\n",
    "## Neue Aufgabe: <br>\n",
    "\n",
    "Analysieren Sie Ihren Algorithmus von Challenge of the Week 1.<br> \n",
    "Welche Komplexität hat er?"
   ]
  },
  {
   "cell_type": "markdown",
   "metadata": {},
   "source": [
    "```python\n",
    "Kosten Anzahl an Ausführungen\n",
    "c1     n\n",
    "c2     n\n",
    "c3     integral 1:n sum n-1\n",
    "c4     integral 1:n sum n-1\n",
    "c5     ?\n",
    "c6     ?\n",
    "c7     integral 1:n sum n-1\n",
    "c8     n\n",
    "\n",
    "for i in range(len(input)):\n",
    "  counter = 0\n",
    "  while input[i] >= input[i + counter]:\n",
    "    if counter + i >= len(input) - 1:\n",
    "      counter = 0\n",
    "      break\n",
    "    counter += 1\n",
    "  output = np.append(output, counter)\n",
    "```"
   ]
  },
  {
   "cell_type": "code",
   "execution_count": 2,
   "metadata": {},
   "outputs": [],
   "source": [
    "# Ausschnitt aus Challenge of the Week 1\n",
    "for i in range(len(input)):\n",
    "    counter = 0\n",
    "    # while the current temperature is higher than the next one\n",
    "    while input[i] >= input[i + counter]:\n",
    "        # if the next day to check is outside the array,\n",
    "        # break the loop and add 0 to the output\n",
    "        if counter + i >= len(input) - 1:\n",
    "            counter = 0\n",
    "            break\n",
    "        # since next day is colder, add 1 to the counter and continue the loop\n",
    "        counter += 1\n",
    "    # add the number of days to the output array\n",
    "    output = np.append(output, counter)"
   ]
  },
  {
   "cell_type": "markdown",
   "metadata": {},
   "source": [
    "## Problem: Murmeln werfen.\n",
    "\n",
    "Sie haben ein 100stöckiges Haus und einige Murmeln. \n",
    "\n",
    "Ihre Aufgabe ist es, die unterste Etage zu identifizieren, bei der die Murmeln zerspringen, wenn sie aus dem Fenster geworfen werden.\n",
    "\n",
    "Wie schnell können Sie diese Etage bestimmen wenn Sie eine beliebige Anzahl Murmeln haben?\n",
    "> 1. Möglichkeit: Jede Etage von oben nach unten oder von unten nach oben eine Murmel fallen lassen <br>\n",
    "> 2. Möglichkeit: Auf die 50. Etage gehen und eine Murmel hinunter werfen, falls die Murmel kaputt geht, auf die 25. wecheln, falls nicht, auf die 75. wechseln usw\n",
    "\n",
    "Wie schnell können Sie sie bestimmen, wenn Sie 2 Murmeln haben?\n",
    "> Da nur 2 Vergleiche -> 1-25, 26-50, 51-75, 76-100 ?\n",
    "\n",
    "Wie gehen Sie jeweils vor?"
   ]
  }
 ],
 "metadata": {
  "kernelspec": {
   "display_name": "Python 3.10.4 64-bit",
   "language": "python",
   "name": "python3"
  },
  "language_info": {
   "codemirror_mode": {
    "name": "ipython",
    "version": 3
   },
   "file_extension": ".py",
   "mimetype": "text/x-python",
   "name": "python",
   "nbconvert_exporter": "python",
   "pygments_lexer": "ipython3",
   "version": "3.10.4"
  },
  "orig_nbformat": 4,
  "vscode": {
   "interpreter": {
    "hash": "3b6681b19b7e292dd10f3937973fc2193d3ae28b044883bc9884a3ff4f3ed7d5"
   }
  }
 },
 "nbformat": 4,
 "nbformat_minor": 2
}

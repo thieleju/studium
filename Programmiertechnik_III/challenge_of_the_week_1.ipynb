{
 "cells": [
  {
   "cell_type": "markdown",
   "metadata": {},
   "source": [
    "# Challenge Of The Week 1\n",
    "\n",
    "$Problem$: Warten auf wärmeres Wetter <br>\n",
    "$Eingabe$: Array mit Tageshöchsttemperaturen <br>\n",
    "$Ausgabe$: Array von Zahlen, wobei gilt A[i] ist die Anzahl der Tage, die man warten muss bis zum nächsten wärmeren Tag. Gibt es keinen wärmeren Tag mehr, ist die Antwort 0."
   ]
  },
  {
   "cell_type": "code",
   "execution_count": 32,
   "metadata": {},
   "outputs": [],
   "source": [
    "import numpy as np\n",
    "\n",
    "# array with given temperatures\n",
    "input = np.array([15, 17, 18, 15, 14, 14, 15, 20, 18, 19])\n",
    "\n",
    "# array of 20 random temperatures from 10 to 28 degrees\n",
    "# input = np.random.randint(10, 28, 20)\n",
    "\n",
    "# empty output array\n",
    "output = np.array([])"
   ]
  },
  {
   "cell_type": "markdown",
   "metadata": {},
   "source": [
    "### The Algorithm\n",
    "Iterate over all temperatures to find the next warmer day"
   ]
  },
  {
   "cell_type": "code",
   "execution_count": 33,
   "metadata": {},
   "outputs": [],
   "source": [
    "# iterate over all temperatures\n",
    "for i in range(len(input)):\n",
    "    counter = 0\n",
    "    # while the current temperature is higher than the next one\n",
    "    while input[i] >= input[i + counter]:\n",
    "        # if the next day to check is outside the array,\n",
    "        # break the loop and add 0 to the output\n",
    "        if counter + i >= len(input) - 1:\n",
    "            counter = 0\n",
    "            break\n",
    "        # since next day is colder, add 1 to the counter and continue the loop\n",
    "        counter += 1\n",
    "    # add the number of days to the output array\n",
    "    output = np.append(output, counter)"
   ]
  },
  {
   "cell_type": "markdown",
   "metadata": {},
   "source": [
    "### Print the output array in a nice format"
   ]
  },
  {
   "cell_type": "code",
   "execution_count": 34,
   "metadata": {},
   "outputs": [
    {
     "name": "stdout",
     "output_type": "stream",
     "text": [
      "Day: 1 with 15°C\tDays until warmer: 1.0\n",
      "Day: 2 with 17°C\tDays until warmer: 1.0\n",
      "Day: 3 with 18°C\tDays until warmer: 5.0\n",
      "Day: 4 with 15°C\tDays until warmer: 4.0\n",
      "Day: 5 with 14°C\tDays until warmer: 2.0\n",
      "Day: 6 with 14°C\tDays until warmer: 1.0\n",
      "Day: 7 with 15°C\tDays until warmer: 1.0\n",
      "Day: 8 with 20°C\tDays until warmer: Unknown, but >= 3\n",
      "Day: 9 with 18°C\tDays until warmer: 1.0\n",
      "Day: 10 with 19°C\tDays until warmer: Unknown, but >= 1\n"
     ]
    }
   ],
   "source": [
    "for i, temp in enumerate(input):\n",
    "    solution = output[i] if output[i] != 0 else f\"Unknown, but >= {len(input) - i}\"\n",
    "    print(f\"Day: {i + 1} with {temp}°C\\tDays until warmer: {solution}\")"
   ]
  }
 ],
 "metadata": {
  "kernelspec": {
   "display_name": "Python 3.10.4 64-bit",
   "language": "python",
   "name": "python3"
  },
  "language_info": {
   "codemirror_mode": {
    "name": "ipython",
    "version": 3
   },
   "file_extension": ".py",
   "mimetype": "text/x-python",
   "name": "python",
   "nbconvert_exporter": "python",
   "pygments_lexer": "ipython3",
   "version": "3.10.4"
  },
  "orig_nbformat": 4,
  "vscode": {
   "interpreter": {
    "hash": "3b6681b19b7e292dd10f3937973fc2193d3ae28b044883bc9884a3ff4f3ed7d5"
   }
  }
 },
 "nbformat": 4,
 "nbformat_minor": 2
}

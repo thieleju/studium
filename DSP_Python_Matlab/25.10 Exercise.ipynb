{
 "cells": [
  {
   "cell_type": "code",
   "execution_count": 114,
   "metadata": {},
   "outputs": [
    {
     "data": {
      "image/png": "[encoded data removed]",
      "text/plain": [
       "<Figure size 432x288 with 1 Axes>"
      ]
     },
     "metadata": {
      "needs_background": "light"
     },
     "output_type": "display_data"
    }
   ],
   "source": [
    "#%% Import libs\n",
    "import math\n",
    "import numpy as np\n",
    "import matplotlib.pyplot as plt\n",
    "\n",
    "#%% Define variables\n",
    "fs = 100\n",
    "dt = 1/fs\n",
    "N  = 200\n",
    "t  = np.arange(0, 2, 1/fs) # time step 1/fs \n",
    "f_signal = 2\n",
    "\n",
    "#%% Signal generation\n",
    "s = np.cos(2 * math.pi * f_signal * t) * np.exp(-0.5* t)\n",
    "\n",
    "plt.subplot(211)\n",
    "plt.plot(t, s, \"r-\")\n",
    "plt.xlabel(\"t in [s]\")\n",
    "plt.ylabel(\"s(t)\")\n",
    "plt.grid()\n",
    "plt.show()"
   ]
  },
  {
   "cell_type": "code",
   "execution_count": 115,
   "metadata": {},
   "outputs": [
    {
     "name": "stdout",
     "output_type": "stream",
     "text": [
      "4.0\n",
      "5.0\n",
      "6.4031242374328485\n",
      "0.8960553845713439\n"
     ]
    }
   ],
   "source": [
    "# complex numbers\n",
    "\n",
    "z = 4 + 5j\n",
    "\n",
    "print(z.real)\n",
    "print(z.imag)\n",
    "print(abs(z))\n",
    "print(abs(np.angle(z)))"
   ]
  },
  {
   "cell_type": "code",
   "execution_count": 116,
   "metadata": {},
   "outputs": [
    {
     "name": "stdout",
     "output_type": "stream",
     "text": [
      "[0. 1. 2. 3. 4. 5. 6. 7.]\n"
     ]
    }
   ],
   "source": [
    "N = 8\n",
    "ar = np.linspace(0,N-1, N)\n",
    "print(ar)"
   ]
  }
 ],
 "metadata": {
  "interpreter": {
   "hash": "4138dce0fa74a6453ad2e7bd72e4222e8a2660a917e8bc73b32b3d62a6a94433"
  },
  "kernelspec": {
   "display_name": "Python 3.8.8 64-bit ('base': conda)",
   "name": "python3"
  },
  "language_info": {
   "codemirror_mode": {
    "name": "ipython",
    "version": 3
   },
   "file_extension": ".py",
   "mimetype": "text/x-python",
   "name": "python",
   "nbconvert_exporter": "python",
   "pygments_lexer": "ipython3",
   "version": "3.8.8"
  },
  "orig_nbformat": 4
 },
 "nbformat": 4,
 "nbformat_minor": 2
}

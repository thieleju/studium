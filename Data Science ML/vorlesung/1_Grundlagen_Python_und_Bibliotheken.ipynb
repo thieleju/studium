{
 "cells": [
  {
   "cell_type": "markdown",
   "metadata": {},
   "source": [
    "# Python: Grundlagen und einige Bibliotheken\n",
    "\n",
    "## Elementare Notebook-Bedienung\n",
    "\n",
    "Jupyter-Notebooks bestehen aus einer Abfolge von kurzen Blöcken. Dieses können Code-Zellen oder Markdown-Zellen sein.\n",
    "Für das konkrete Arbeiten nutzt man zwei Modi. Mit `Esc` wechselt man in den Command-Modus und mit `Enter` in den Editier-Modus.\n",
    "\n",
    "Shortcuts im Command-Modus:\n",
    "-  `Shift+Enter`: Zelle ausführen und zur nächsten springen, `Strg+Enter`: Zelle ausführen und bleiben \n",
    "-  Zelle nach oben/unten wechseln mit `j` und `k` (bzw. mit den Pfeiltasten)\n",
    "- `b` und `a`: eine neue Zelle unter (**b**elow) bzw. über (**a**bove) der aktuellen Zelle einfügen\n",
    "- `dd`: aktuelle Zelle entfernen\n",
    "- `m`: Zelle zu Markdownzelle ändern, `y` Zelle ausführbar machen\n",
    "- `Tab`: Autocompletion :-)"
   ]
  },
  {
   "cell_type": "markdown",
   "metadata": {},
   "source": [
    "### Markdown\n",
    "\n",
    "Eine Analysenotebook lebt davon, dass es nicht nur Codeblöcke enthält, sondern diese in einen Kontext stellt. Ohne Erläuterungen kann der Leser die Analyseschritte nur schwerlich einordnen. Letztendlich ist es wie eine Geschichtenerzählung! Markdown erlaubt eine sehr leichtgewichtige Textformatierung mit unterschiedlichen Überschriftengrößen, Stichpunkten, Hervorhebungen, Links, Bildern oder auch Formeln. Hier beispielhaft ein Markdown-Code und darunter der entsprechend gerenderte Text:\n",
    "\n",
    "```\n",
    "# Beispiel: Markdown Hauptüberschrift\n",
    "## Mit Unterüberschrift\n",
    "### Und noch kleinere Überschrift\n",
    "#### Und sogar noch kleinerer Überschrift\n",
    "\n",
    "Normaler Text. Auch Formeln sind möglich (LaTeX-Syntax) $\\int_{x=1}^{10}x^2dx$.\n",
    "\n",
    "- ganz viele Stichpunkte\n",
    "  - auch eingerückte\n",
    "  - Unterpunkte\n",
    "- Juhuu!\n",
    "\n",
    "1. nummerierte\n",
    "2. Stichpunkte\n",
    "\n",
    "*kursiver Text*, **fett**, `monospace`, normal.\n",
    "(Für mehr Syntax siehe [https://www.markdownguide.org/basic-syntax](https://www.markdownguide.org/basic-syntax))\n",
    "```\n",
    "\n",
    "# Beispiel: Markdown Hauptüberschrift\n",
    "## Mit Unterüberschrift\n",
    "### Und noch kleinere Überschrift\n",
    "#### Und sogar noch kleinerer Überschrift\n",
    "\n",
    "Normaler Text. Auch Formeln sind möglich (LaTeX-Syntax) $\\int_{x=1}^{10}x^2dx$.\n",
    "\n",
    "- ganz viele Stichpunkte\n",
    "  - auch eingerückte\n",
    "  - Unterpunkte\n",
    "- Juhuu!\n",
    "\n",
    "1. nummerierte\n",
    "2. Stichpunkte\n",
    "\n",
    "*kursiver Text*, **fett**, `monospace`, normal.\n",
    "(Für mehr Syntax siehe [https://www.markdownguide.org/basic-syntax](https://www.markdownguide.org/basic-syntax))"
   ]
  },
  {
   "cell_type": "markdown",
   "metadata": {},
   "source": [
    "### Shell commands in Jupyter\n",
    "\n",
    "Shell commands können nach einem Ausrufezeichen direkt eingegeben werden. Das erlaubt einem z.B. zu prüfen, was das aktuelle Arbeitsverzeichnis ist und ob bestimmte Files im current working directory zu finden sind. N.B. Je nach Betriebssystem unterschiedliche Eingaben!"
   ]
  },
  {
   "cell_type": "code",
   "execution_count": 40,
   "metadata": {},
   "outputs": [
    {
     "name": "stdout",
     "output_type": "stream",
     "text": [
      " Volume in Laufwerk C: hat keine Bezeichnung.\n",
      " Volumeseriennummer: EC17-1834\n",
      "\n",
      " Verzeichnis von c:\\git\\studium\\Data Science Schwerpunkt\n",
      "\n",
      "22.03.2024  08:07    <DIR>          .\n",
      "22.03.2024  08:07    <DIR>          ..\n",
      "22.03.2024  08:05             2.781 1_Uebung.ipynb\n",
      "22.03.2024  08:24            37.296 Grundlagen_Python_und_Bibliotheken.ipynb\n",
      "22.03.2024  08:29             1.373 new.ipynb\n",
      "               3 Datei(en),         41.450 Bytes\n",
      "               2 Verzeichnis(se), 82.045.173.760 Bytes frei\n"
     ]
    }
   ],
   "source": [
    "!dir"
   ]
  },
  {
   "cell_type": "markdown",
   "metadata": {},
   "source": [
    "## Allgemeines Python\n",
    "\n",
    "Probieren Sie den untenstehenden Code selbst aus! Zur Übersichtlichkeit sind oft viele Anweisungen zu einer Zelle zusammengefasst. Es empfiehlt sich diese zeilenweise auszuprobieren, denn sonst wird nur das Resultat der letzten Zeile angezeigt."
   ]
  },
  {
   "cell_type": "markdown",
   "metadata": {},
   "source": [
    "#### Variablen und Zuweisungen"
   ]
  },
  {
   "cell_type": "code",
   "execution_count": 41,
   "metadata": {},
   "outputs": [
    {
     "data": {
      "text/plain": [
       "17"
      ]
     },
     "execution_count": 41,
     "metadata": {},
     "output_type": "execute_result"
    }
   ],
   "source": [
    "x = 17\n",
    "x"
   ]
  },
  {
   "cell_type": "markdown",
   "metadata": {},
   "source": [
    "#### Elementare Rechenoperationen"
   ]
  },
  {
   "cell_type": "code",
   "execution_count": 42,
   "metadata": {},
   "outputs": [
    {
     "name": "stdout",
     "output_type": "stream",
     "text": [
      "19\n",
      "15\n",
      "34\n",
      "8.5\n",
      "289\n",
      "1\n",
      "8\n"
     ]
    }
   ],
   "source": [
    "print(x+2)\n",
    "print(x-2)\n",
    "print(x*2)\n",
    "print(x/2)\n",
    "print(x**2) # Potenz\n",
    "print(x%2) # Modulo\n",
    "print(x//2) # ganzzahlige Division (d.h. abrunden)"
   ]
  },
  {
   "cell_type": "markdown",
   "metadata": {},
   "source": [
    "#### Datentypen\n",
    "\n",
    "int (z.B. 5, 17, -42), float (z.B. 3.4, 1.0, -2.32), string (z.B. \"Hallo Welt!\"), bool (True, False)"
   ]
  },
  {
   "cell_type": "code",
   "execution_count": 43,
   "metadata": {},
   "outputs": [
    {
     "name": "stdout",
     "output_type": "stream",
     "text": [
      "x:  5 <class 'int'>\n",
      "y:  5.2 <class 'float'>\n",
      "a:  ein einfacher Text <class 'str'>\n",
      "b:  False <class 'bool'>\n"
     ]
    }
   ],
   "source": [
    "x = 5 # integer zwischen ca -2 Mrd. und +2 Mrd.\n",
    "print(\"x: \", x, type(x))\n",
    "\n",
    "y = 5.2 # float\n",
    "print(\"y: \", y, type(y))\n",
    "\n",
    "a = \"ein einfacher Text\" # mehrzeiliger Text in Dreifachanführungszeichen; auch Steuerzeichen \\n (Umbruch) oder \\t (Tabulator) möglich\n",
    "print(\"a: \", a, type(a))\n",
    "\n",
    "b = False # bool\n",
    "print(\"b: \", b, type(b))"
   ]
  },
  {
   "cell_type": "markdown",
   "metadata": {},
   "source": [
    "#### Einfache Stringoperationen"
   ]
  },
  {
   "cell_type": "code",
   "execution_count": 44,
   "metadata": {},
   "outputs": [
    {
     "name": "stdout",
     "output_type": "stream",
     "text": [
      "n\n",
      "in ein\n",
      "ein einfacher Textein einfacher Textein einfacher Text\n",
      "ein einfacher Texthallo\n",
      "EIN EINFACHER TEXT\n",
      "iin iinfachir Tixt\n"
     ]
    }
   ],
   "source": [
    "print(a[2]) # Slicing erlaubt Zugriff auf Stellen/Bereiche im String. Indizierung startet bei 0.\n",
    "print(a[1:7])\n",
    "print(a * 3)\n",
    "print(a + \"hallo\")\n",
    "print(a.upper())\n",
    "print(a.replace(\"e\", \"i\"))"
   ]
  },
  {
   "cell_type": "markdown",
   "metadata": {},
   "source": [
    "Strings können Steuerzeichen enthalten, welche mit Backslash `\\` eingeleitet werden. Markiert man einen String als Raw-String indem man ein `r` voranstellt, so wird die Interpretation von Steuerzeichen unterbunden."
   ]
  },
  {
   "cell_type": "code",
   "execution_count": 45,
   "metadata": {},
   "outputs": [
    {
     "name": "stdout",
     "output_type": "stream",
     "text": [
      "Ein \n",
      " Text mit \t\"gewissen\" \\Steuerzeichen.\n",
      "Ein \\n Text mit \\t\\\"gewissen\\\" \\\\Steuerzeichen.\n"
     ]
    }
   ],
   "source": [
    "text = \"Ein \\n Text mit \\t\\\"gewissen\\\" \\\\Steuerzeichen.\"\n",
    "print(text)\n",
    "\n",
    "text = r\"Ein \\n Text mit \\t\\\"gewissen\\\" \\\\Steuerzeichen.\"\n",
    "print(text)"
   ]
  },
  {
   "cell_type": "markdown",
   "metadata": {},
   "source": [
    "#### Vergleiche und boolesche Operationen\n",
    "\n",
    "Logische Vergleiche können `True` oder `False` ergeben und auch verknüft werden."
   ]
  },
  {
   "cell_type": "code",
   "execution_count": 46,
   "metadata": {},
   "outputs": [
    {
     "name": "stdout",
     "output_type": "stream",
     "text": [
      "False\n",
      "True\n",
      "True\n",
      "True\n"
     ]
    }
   ],
   "source": [
    "a = 13\n",
    "b = 14\n",
    "print(a == b) # Vergleich auf Gleichheit\n",
    "print(a != b) # Vergleich auf Ungleichheit\n",
    "print(a < b)\n",
    "print(((a > 5) or (a % 2 == 0)) and not (a > 20)) # verschiedene Verknüpfungen"
   ]
  },
  {
   "cell_type": "markdown",
   "metadata": {},
   "source": [
    "#### Listen, Tuples und Dictionarys"
   ]
  },
  {
   "cell_type": "code",
   "execution_count": 47,
   "metadata": {},
   "outputs": [
    {
     "data": {
      "text/plain": [
       "3"
      ]
     },
     "execution_count": 47,
     "metadata": {},
     "output_type": "execute_result"
    }
   ],
   "source": [
    "a_list = [4, 2, \"hallo\", 4.3, 9] # eine Liste kann unterschiedliche Datentypen enthalten\n",
    "a_list[2] # Element an Position 2 (Achtung: Zählung beginnt bei 0!)\n",
    "a_list[:2] # alles bis Position 2 (slicing)\n",
    "a_list[2:] # alles ab Position 2\n",
    "a_list[2:4] # von Position 2 bis 4 (exklusive)\n",
    "a_list[-2] # Element an vorletzter Position\n",
    "a_list.append(42) # Element anhängen\n",
    "a_list\n",
    "\n",
    "other_list = [[1, 2, 3], [4, 5, 6]] # verschachtelte Liste\n",
    "other_list[0]\n",
    "other_list[0][2]"
   ]
  },
  {
   "cell_type": "code",
   "execution_count": 48,
   "metadata": {},
   "outputs": [],
   "source": [
    "a_tuple = (4, 6, \"hallo\") # ähnlich zu Listen, man kann die Elemente aber nicht ändern (immutable)"
   ]
  },
  {
   "cell_type": "code",
   "execution_count": 49,
   "metadata": {},
   "outputs": [
    {
     "name": "stdout",
     "output_type": "stream",
     "text": [
      "{'Harry': 'Gryffindor', 'Snape': 'Slytherin', 'Cedric': 'Hufflepuff'}\n",
      "Gryffindor\n",
      "None\n",
      "Neeiiiiin!\n",
      "[('Harry', 'Gryffindor'), ('Snape', 'Slytherin'), ('Cedric', 'Hufflepuff')]\n",
      "['Harry', 'Snape', 'Cedric']\n"
     ]
    }
   ],
   "source": [
    "a_dictionary= {}\n",
    "a_dictionary[\"Harry\"] = \"Gryffindor\"\n",
    "a_dictionary[\"Snape\"] = \"Slytherin\"\n",
    "a_dictionary[\"Cedric\"] = \"Hufflepuff\"\n",
    "\n",
    "print(a_dictionary)\n",
    "print(a_dictionary[\"Harry\"])\n",
    "# print(a_dictionary[\"Voldemort\"]) # -> KeyError :-(\n",
    "\n",
    "print(a_dictionary.get(\"Voldemort\")) # mit .get() lassen sich KeyErrors vermeiden, falls man auf einen nicht vorhandenen Wert zugreifen möchte\n",
    "print(a_dictionary.get(\"Voldemort\", \"Neeiiiiin!\")) # Default-Wert für fehlende Keys\n",
    "\n",
    "print(list(a_dictionary.items()))\n",
    "print(list(a_dictionary.keys()))"
   ]
  },
  {
   "cell_type": "markdown",
   "metadata": {},
   "source": [
    "#### Kontrollstrukturen: Fallunterscheidung und Schleifen"
   ]
  },
  {
   "cell_type": "code",
   "execution_count": 50,
   "metadata": {},
   "outputs": [
    {
     "name": "stdout",
     "output_type": "stream",
     "text": [
      "nicht Hans\n"
     ]
    }
   ],
   "source": [
    "name = \"Anne\"\n",
    "if name == \"Hans\":\n",
    "    print(\"Hallo Hans\")\n",
    "else: # else-Statement ist optional\n",
    "    print(\"nicht Hans\")"
   ]
  },
  {
   "cell_type": "code",
   "execution_count": 51,
   "metadata": {},
   "outputs": [
    {
     "name": "stdout",
     "output_type": "stream",
     "text": [
      "0; 1; 2; 3; 4; 5; 6; 7; 8; 9; \n",
      "[3, 7, 11, 15, 19]\n"
     ]
    }
   ],
   "source": [
    "for i in range(10): # range ist ein Iterator, der hier die Werte 0 bis 9 durchläuft\n",
    "    print(i, end=\"; \")\n",
    "\n",
    "print()\n",
    "\n",
    "print(list(range(3, 20, 4))) # man kann range(start, stop, step) auch Startwert, und Schrittweite vorgeben "
   ]
  },
  {
   "cell_type": "code",
   "execution_count": 52,
   "metadata": {},
   "outputs": [
    {
     "name": "stdout",
     "output_type": "stream",
     "text": [
      "7\n",
      "5\n",
      "3\n"
     ]
    }
   ],
   "source": [
    "x = 7\n",
    "while x > 2:\n",
    "    print(x)\n",
    "    x = x-2"
   ]
  },
  {
   "cell_type": "markdown",
   "metadata": {},
   "source": [
    "Eine Do-While-Schleife (wie z.B. in C) gibt es in Python nicht. Man kann diese aber mit einer While-Schleife und einem `break`-Statement erzeugen."
   ]
  },
  {
   "cell_type": "code",
   "execution_count": 53,
   "metadata": {},
   "outputs": [
    {
     "name": "stdout",
     "output_type": "stream",
     "text": [
      "0\n",
      "1\n",
      "2\n",
      "3\n",
      "4\n",
      "5\n"
     ]
    }
   ],
   "source": [
    "x=0\n",
    "while True:\n",
    "    print(x)\n",
    "    x += 1\n",
    "    if (x > 5):\n",
    "        break"
   ]
  },
  {
   "cell_type": "markdown",
   "metadata": {},
   "source": [
    "#### List Comprehension\n",
    "\n",
    "Oft möchte man eine Liste erzeugen, indem man über eine andere Liste iteriert. Zum Beispiel alle Quadratzahlen der Zahlen 0 bis 9. Klassischerweise würde der Code so aussehen:\n",
    "\n",
    "```\n",
    "quadratzahlen = []\n",
    "for x in range(10):\n",
    "    quadratzahlen.append(x**2)\n",
    "quadratzahlen\n",
    "```\n",
    "\n",
    "Durch List-Comprehensions wird dieser Code wesentlich übersichtlicher."
   ]
  },
  {
   "cell_type": "code",
   "execution_count": 54,
   "metadata": {},
   "outputs": [
    {
     "name": "stdout",
     "output_type": "stream",
     "text": [
      "[0, 1, 4, 9, 16, 25, 36, 49, 64, 81]\n",
      "[0, 'hallo1', 4, 'hallo3', 16, 'hallo5', 36, 'hallo7', 64, 'hallo9']\n"
     ]
    }
   ],
   "source": [
    "print([i**2 for i in range(10)])\n",
    "print([i**2 if i % 2 == 0 else 'hallo'+str(i) for i in range(10)])"
   ]
  },
  {
   "cell_type": "markdown",
   "metadata": {},
   "source": [
    "#### Funktionen\n",
    "Sobald sich Code wiederholt sollte man ihn im Regelfall als Funktion kapseln."
   ]
  },
  {
   "cell_type": "code",
   "execution_count": 55,
   "metadata": {},
   "outputs": [
    {
     "name": "stdout",
     "output_type": "stream",
     "text": [
      "20\n",
      "12\n",
      "20\n"
     ]
    }
   ],
   "source": [
    "def my_function(x, y, z = 3): # z hat hier einen Default-Wert von 3\n",
    "    a = 2 * x + y * z\n",
    "    return a\n",
    "\n",
    "print(my_function(3, 2, 7)) # Argumente werden gemäß Reihenfolge zugeordnet\n",
    "print(my_function(3, 2)) # Nutzung eines Default-Wertes\n",
    "print(my_function(x = 3, z = 7, y = 2)) # Argumente explizit zu benennen ist empfohlen"
   ]
  },
  {
   "cell_type": "markdown",
   "metadata": {},
   "source": [
    "Man kann Funktionen auch typisieren."
   ]
  },
  {
   "cell_type": "code",
   "execution_count": 56,
   "metadata": {},
   "outputs": [
    {
     "data": {
      "text/plain": [
       "9"
      ]
     },
     "execution_count": 56,
     "metadata": {},
     "output_type": "execute_result"
    }
   ],
   "source": [
    "def pot(x: int, n: int = 2) -> int:\n",
    "    return x**n\n",
    "\n",
    "pot(3)"
   ]
  },
  {
   "cell_type": "markdown",
   "metadata": {},
   "source": [
    "Manchmal möchte man Funktionen in noch kompakterer unbenamter Form angeben. Hierfür eignen sich lambda-Funktionen.\n",
    "Beispiel: `lambda x:  x**2` ist eine unbenamte Funktion, welche ihr Argument quadriert."
   ]
  },
  {
   "cell_type": "code",
   "execution_count": 57,
   "metadata": {},
   "outputs": [
    {
     "name": "stdout",
     "output_type": "stream",
     "text": [
      "['langweilig', 'Frühstück', 'nein', 'Hut']\n",
      "['Frühstück', 'Hut', 'langweilig', 'nein']\n",
      "['Hut', 'nein', 'Frühstück', 'langweilig']\n",
      "['nein', 'langweilig', 'Hut', 'Frühstück']\n"
     ]
    }
   ],
   "source": [
    "a_list = [\"langweilig\",\"Frühstück\", \"nein\", \"Hut\"]\n",
    "\n",
    "print(a_list)\n",
    "print(sorted(a_list)) # sorted() sortiert eine Liste gemäß Standardvergleich der Listenelemente\n",
    "print(sorted(a_list, key=lambda x: len(x))) # Man kann eine Funktion für die Vergleiche angeben. Die lambda-Funktion liefert das zweite Element von x zurück\n",
    "print(sorted(a_list, key=lambda x: x[2]))"
   ]
  },
  {
   "cell_type": "markdown",
   "metadata": {},
   "source": [
    "## Kurzer Einblick in gewisse Bibliotheken"
   ]
  },
  {
   "cell_type": "code",
   "execution_count": 58,
   "metadata": {},
   "outputs": [],
   "source": [
    "import numpy as np\n",
    "import pandas as pd\n",
    "from matplotlib import pyplot as plt\n",
    "import seaborn as sns"
   ]
  },
  {
   "cell_type": "markdown",
   "metadata": {},
   "source": [
    "### Numpy\n",
    "\n",
    "Schnelle und kompakte Verarbeitung von Vektoren und Matrizen"
   ]
  },
  {
   "cell_type": "code",
   "execution_count": 59,
   "metadata": {},
   "outputs": [
    {
     "name": "stdout",
     "output_type": "stream",
     "text": [
      "[12 31 52 17]\n",
      "[30 30 40 40]\n",
      "[ 24  62 104  34]\n",
      "[290 305 422 387]\n",
      "[ True False False  True]\n"
     ]
    }
   ],
   "source": [
    "x = np.array([12, 31, 52, 17])\n",
    "y = np.array([30, 30, 40, 40])\n",
    "\n",
    "print(x)\n",
    "print(y)\n",
    "print(2*x)\n",
    "print(x^2 + 10*y)\n",
    "print(x < y)"
   ]
  },
  {
   "cell_type": "code",
   "execution_count": 60,
   "metadata": {},
   "outputs": [
    {
     "name": "stdout",
     "output_type": "stream",
     "text": [
      "[-0.53657292 -0.40403765  0.98662759 -0.96139749]\n",
      "[1.62754791e+05 2.90488497e+13 3.83100800e+22 2.41549528e+07]\n"
     ]
    }
   ],
   "source": [
    "print(np.sin(x))\n",
    "print(np.exp(x))"
   ]
  },
  {
   "cell_type": "code",
   "execution_count": 61,
   "metadata": {},
   "outputs": [
    {
     "name": "stdout",
     "output_type": "stream",
     "text": [
      "[ 0  1  2  3  4  5  6  7  8  9 10 11 12 13 14]\n",
      "[[ 0  1  2]\n",
      " [ 3  4  5]\n",
      " [ 6  7  8]\n",
      " [ 9 10 11]\n",
      " [12 13 14]]\n"
     ]
    }
   ],
   "source": [
    "z = np.arange(15)\n",
    "print(z)\n",
    "print(z.reshape(5, 3))"
   ]
  },
  {
   "cell_type": "markdown",
   "metadata": {},
   "source": [
    "### Pandas\n",
    "\n",
    "Tabellen in Python"
   ]
  },
  {
   "cell_type": "code",
   "execution_count": 62,
   "metadata": {},
   "outputs": [
    {
     "data": {
      "text/html": [
       "<div>\n",
       "<style scoped>\n",
       "    .dataframe tbody tr th:only-of-type {\n",
       "        vertical-align: middle;\n",
       "    }\n",
       "\n",
       "    .dataframe tbody tr th {\n",
       "        vertical-align: top;\n",
       "    }\n",
       "\n",
       "    .dataframe thead th {\n",
       "        text-align: right;\n",
       "    }\n",
       "</style>\n",
       "<table border=\"1\" class=\"dataframe\">\n",
       "  <thead>\n",
       "    <tr style=\"text-align: right;\">\n",
       "      <th></th>\n",
       "      <th>alter</th>\n",
       "      <th>name</th>\n",
       "    </tr>\n",
       "  </thead>\n",
       "  <tbody>\n",
       "    <tr>\n",
       "      <th>0</th>\n",
       "      <td>12</td>\n",
       "      <td>Adam</td>\n",
       "    </tr>\n",
       "    <tr>\n",
       "      <th>1</th>\n",
       "      <td>31</td>\n",
       "      <td>Bea</td>\n",
       "    </tr>\n",
       "    <tr>\n",
       "      <th>2</th>\n",
       "      <td>52</td>\n",
       "      <td>Carla</td>\n",
       "    </tr>\n",
       "    <tr>\n",
       "      <th>3</th>\n",
       "      <td>17</td>\n",
       "      <td>Doris</td>\n",
       "    </tr>\n",
       "  </tbody>\n",
       "</table>\n",
       "</div>"
      ],
      "text/plain": [
       "   alter   name\n",
       "0     12   Adam\n",
       "1     31    Bea\n",
       "2     52  Carla\n",
       "3     17  Doris"
      ]
     },
     "execution_count": 62,
     "metadata": {},
     "output_type": "execute_result"
    }
   ],
   "source": [
    "df = pd.DataFrame({\"alter\": x, \"name\": [\"Adam\", \"Bea\", \"Carla\", \"Doris\"]})\n",
    "df"
   ]
  },
  {
   "cell_type": "code",
   "execution_count": 63,
   "metadata": {},
   "outputs": [
    {
     "data": {
      "text/html": [
       "<div>\n",
       "<style scoped>\n",
       "    .dataframe tbody tr th:only-of-type {\n",
       "        vertical-align: middle;\n",
       "    }\n",
       "\n",
       "    .dataframe tbody tr th {\n",
       "        vertical-align: top;\n",
       "    }\n",
       "\n",
       "    .dataframe thead th {\n",
       "        text-align: right;\n",
       "    }\n",
       "</style>\n",
       "<table border=\"1\" class=\"dataframe\">\n",
       "  <thead>\n",
       "    <tr style=\"text-align: right;\">\n",
       "      <th></th>\n",
       "      <th>alter</th>\n",
       "      <th>name</th>\n",
       "      <th>alt</th>\n",
       "    </tr>\n",
       "  </thead>\n",
       "  <tbody>\n",
       "    <tr>\n",
       "      <th>0</th>\n",
       "      <td>12</td>\n",
       "      <td>Adam</td>\n",
       "      <td>False</td>\n",
       "    </tr>\n",
       "    <tr>\n",
       "      <th>1</th>\n",
       "      <td>31</td>\n",
       "      <td>Bea</td>\n",
       "      <td>True</td>\n",
       "    </tr>\n",
       "    <tr>\n",
       "      <th>2</th>\n",
       "      <td>52</td>\n",
       "      <td>Carla</td>\n",
       "      <td>True</td>\n",
       "    </tr>\n",
       "    <tr>\n",
       "      <th>3</th>\n",
       "      <td>17</td>\n",
       "      <td>Doris</td>\n",
       "      <td>False</td>\n",
       "    </tr>\n",
       "  </tbody>\n",
       "</table>\n",
       "</div>"
      ],
      "text/plain": [
       "   alter   name    alt\n",
       "0     12   Adam  False\n",
       "1     31    Bea   True\n",
       "2     52  Carla   True\n",
       "3     17  Doris  False"
      ]
     },
     "execution_count": 63,
     "metadata": {},
     "output_type": "execute_result"
    }
   ],
   "source": [
    "df[\"alt\"] = df[\"alter\"] > 30\n",
    "df"
   ]
  },
  {
   "cell_type": "code",
   "execution_count": 64,
   "metadata": {},
   "outputs": [
    {
     "data": {
      "text/plain": [
       "alt\n",
       "False    14.5\n",
       "True     41.5\n",
       "Name: alter, dtype: float64"
      ]
     },
     "execution_count": 64,
     "metadata": {},
     "output_type": "execute_result"
    }
   ],
   "source": [
    "df.groupby(\"alt\")[\"alter\"].mean()"
   ]
  },
  {
   "cell_type": "code",
   "execution_count": 65,
   "metadata": {},
   "outputs": [
    {
     "data": {
      "text/plain": [
       "<Axes: xlabel='alter', ylabel='name'>"
      ]
     },
     "execution_count": 65,
     "metadata": {},
     "output_type": "execute_result"
    },
    {
     "data": {
      "image/png": "[encoded data removed]",
      "text/plain": [
       "<Figure size 640x480 with 1 Axes>"
      ]
     },
     "metadata": {},
     "output_type": "display_data"
    }
   ],
   "source": [
    "sns.barplot(x=df[\"alter\"], y = df[\"name\"], color=\"lightblue\")"
   ]
  },
  {
   "cell_type": "code",
   "execution_count": null,
   "metadata": {},
   "outputs": [],
   "source": []
  }
 ],
 "metadata": {
  "kernelspec": {
   "display_name": "Gdl_Data_Science",
   "language": "python",
   "name": "python3"
  },
  "language_info": {
   "codemirror_mode": {
    "name": "ipython",
    "version": 3
   },
   "file_extension": ".py",
   "mimetype": "text/x-python",
   "name": "python",
   "nbconvert_exporter": "python",
   "pygments_lexer": "ipython3",
   "version": "3.12.2"
  }
 },
 "nbformat": 4,
 "nbformat_minor": 2
}

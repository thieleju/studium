{
 "cells": [
  {
   "cell_type": "markdown",
   "metadata": {},
   "source": [
    "Vorab: conda install gensim"
   ]
  },
  {
   "cell_type": "code",
   "execution_count": 1,
   "metadata": {},
   "outputs": [
    {
     "name": "stdout",
     "output_type": "stream",
     "text": [
      "[==================================================] 100.0% 66.0/66.0MB downloaded\n"
     ]
    }
   ],
   "source": [
    "import gensim.downloader\n",
    "\n",
    "model = gensim.downloader.load('glove-wiki-gigaword-50')"
   ]
  },
  {
   "cell_type": "code",
   "execution_count": 2,
   "metadata": {},
   "outputs": [
    {
     "name": "stdout",
     "output_type": "stream",
     "text": [
      "[ 0.50451   0.68607  -0.59517  -0.022801  0.60046  -0.13498  -0.08813\n",
      "  0.47377  -0.61798  -0.31012  -0.076666  1.493    -0.034189 -0.98173\n",
      "  0.68229   0.81722  -0.51874  -0.31503  -0.55809   0.66421   0.1961\n",
      " -0.13495  -0.11476  -0.30344   0.41177  -2.223    -1.0756   -1.0783\n",
      " -0.34354   0.33505   1.9927   -0.04234  -0.64319   0.71125   0.49159\n",
      "  0.16754   0.34344  -0.25663  -0.8523    0.1661    0.40102   1.1685\n",
      " -1.0137   -0.21585  -0.15155   0.78321  -0.91241  -1.6106   -0.64426\n",
      " -0.51042 ]\n",
      "50\n"
     ]
    }
   ],
   "source": [
    "print(model[\"king\"])\n",
    "print(len(model[\"king\"]))"
   ]
  },
  {
   "cell_type": "code",
   "execution_count": 6,
   "metadata": {},
   "outputs": [
    {
     "data": {
      "text/plain": [
       "400000"
      ]
     },
     "execution_count": 6,
     "metadata": {},
     "output_type": "execute_result"
    }
   ],
   "source": [
    "# model.key_to_index\n",
    "len(model.key_to_index)"
   ]
  },
  {
   "cell_type": "code",
   "execution_count": 7,
   "metadata": {},
   "outputs": [
    {
     "data": {
      "text/plain": [
       "0.7839044"
      ]
     },
     "execution_count": 7,
     "metadata": {},
     "output_type": "execute_result"
    }
   ],
   "source": [
    "model.similarity(\"king\", \"queen\")"
   ]
  },
  {
   "cell_type": "code",
   "execution_count": 12,
   "metadata": {},
   "outputs": [
    {
     "data": {
      "text/plain": [
       "[('prince', 0.8236179351806641),\n",
       " ('queen', 0.7839044332504272),\n",
       " ('ii', 0.7746230363845825),\n",
       " ('emperor', 0.7736247777938843),\n",
       " ('son', 0.766719400882721),\n",
       " ('uncle', 0.7627150416374207),\n",
       " ('kingdom', 0.7542160749435425),\n",
       " ('throne', 0.7539914846420288),\n",
       " ('brother', 0.7492411136627197),\n",
       " ('ruler', 0.7434254288673401)]"
      ]
     },
     "execution_count": 12,
     "metadata": {},
     "output_type": "execute_result"
    }
   ],
   "source": [
    "model.most_similar(\"king\")"
   ]
  },
  {
   "cell_type": "code",
   "execution_count": 17,
   "metadata": {},
   "outputs": [
    {
     "data": {
      "text/plain": [
       "[('berlin', 0.8601380586624146),\n",
       " ('warsaw', 0.7723298668861389),\n",
       " ('dresden', 0.7384515404701233),\n",
       " ('munich', 0.7296178340911865),\n",
       " ('prague', 0.7184273600578308),\n",
       " ('germany', 0.7181333899497986),\n",
       " ('hamburg', 0.6971051096916199),\n",
       " ('leipzig', 0.6824449300765991),\n",
       " ('vienna', 0.6683523058891296),\n",
       " ('heidelberg', 0.6571907997131348)]"
      ]
     },
     "execution_count": 17,
     "metadata": {},
     "output_type": "execute_result"
    }
   ],
   "source": [
    "model.most_similar(model[\"germany\"] - model[\"france\"] + model[\"berlin\"])"
   ]
  },
  {
   "cell_type": "code",
   "execution_count": 21,
   "metadata": {},
   "outputs": [
    {
     "data": {
      "text/plain": [
       "[('gourmet', 0.6915086507797241),\n",
       " ('fries', 0.6719846129417419),\n",
       " ('sausages', 0.6515130400657654),\n",
       " ('hamburger', 0.6382428407669067),\n",
       " ('deli', 0.633992612361908),\n",
       " ('braise', 0.6236903071403503),\n",
       " ('sushi', 0.6191728115081787),\n",
       " ('chef', 0.6177274584770203),\n",
       " ('hamburgers', 0.6171662211418152),\n",
       " ('burgers', 0.6170257925987244)]"
      ]
     },
     "execution_count": 21,
     "metadata": {},
     "output_type": "execute_result"
    }
   ],
   "source": [
    "# Japan verhält sich zu Sushi wie Deutschland zu?\n",
    "model.most_similar(model[\"germany\"] - model[\"japan\"] + model[\"sushi\"])"
   ]
  },
  {
   "cell_type": "code",
   "execution_count": 34,
   "metadata": {},
   "outputs": [
    {
     "data": {
      "text/plain": [
       "[('sous', 0.705322802066803),\n",
       " ('champagne', 0.6959414482116699),\n",
       " ('gourmet', 0.694339394569397),\n",
       " ('provence', 0.6751832962036133),\n",
       " ('hors', 0.6701313853263855),\n",
       " ('comte', 0.6638895273208618),\n",
       " (\"d'oeuvres\", 0.652723491191864),\n",
       " ('wine', 0.6512296795845032),\n",
       " ('tasting', 0.6478123068809509),\n",
       " ('tapas', 0.629562497138977)]"
      ]
     },
     "execution_count": 34,
     "metadata": {},
     "output_type": "execute_result"
    }
   ],
   "source": [
    "model.most_similar(model[\"france\"] - model[\"japan\"] + model[\"sushi\"])"
   ]
  },
  {
   "cell_type": "code",
   "execution_count": 37,
   "metadata": {},
   "outputs": [
    {
     "data": {
      "image/png": "[encoded data removed]",
      "text/plain": [
       "<Figure size 640x480 with 1 Axes>"
      ]
     },
     "metadata": {},
     "output_type": "display_data"
    }
   ],
   "source": [
    "from sklearn.decomposition import PCA\n",
    "import matplotlib.pyplot as plt\n",
    "\n",
    "# words = [\"germany\", \"france\", \"berlin\", \"paris\", \"italy\", \"rome\", \"japan\", \"tokyo\",]\n",
    "\n",
    "words = [\"germany\", \"france\", \"italy\", \"japan\", \"beer\", \"wine\", \"pizza\", \"sushi\"]\n",
    "\n",
    "projections = PCA(n_components=2).fit_transform(model[words])\n",
    "\n",
    "fig, ax = plt.subplots()\n",
    "ax.scatter(projections[:, 0], projections[:, 1])\n",
    "for word, (x,y) in zip(words, projections):\n",
    "    ax.text(x, y, word)"
   ]
  }
 ],
 "metadata": {
  "kernelspec": {
   "display_name": "Gdl_Data_Science",
   "language": "python",
   "name": "python3"
  },
  "language_info": {
   "codemirror_mode": {
    "name": "ipython",
    "version": 3
   },
   "file_extension": ".py",
   "mimetype": "text/x-python",
   "name": "python",
   "nbconvert_exporter": "python",
   "pygments_lexer": "ipython3",
   "version": "3.10.8"
  }
 },
 "nbformat": 4,
 "nbformat_minor": 2
}

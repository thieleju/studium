{
 "cells": [
  {
   "cell_type": "markdown",
   "metadata": {},
   "source": [
    "Vorab: conda install gensim"
   ]
  },
  {
   "cell_type": "code",
   "execution_count": 21,
   "metadata": {},
   "outputs": [],
   "source": [
    "import gensim.downloader\n",
    "\n",
    "model = gensim.downloader.load('glove-wiki-gigaword-50')"
   ]
  },
  {
   "cell_type": "code",
   "execution_count": 22,
   "metadata": {},
   "outputs": [
    {
     "name": "stdout",
     "output_type": "stream",
     "text": [
      "[ 0.50451   0.68607  -0.59517  -0.022801  0.60046  -0.13498  -0.08813\n",
      "  0.47377  -0.61798  -0.31012  -0.076666  1.493    -0.034189 -0.98173\n",
      "  0.68229   0.81722  -0.51874  -0.31503  -0.55809   0.66421   0.1961\n",
      " -0.13495  -0.11476  -0.30344   0.41177  -2.223    -1.0756   -1.0783\n",
      " -0.34354   0.33505   1.9927   -0.04234  -0.64319   0.71125   0.49159\n",
      "  0.16754   0.34344  -0.25663  -0.8523    0.1661    0.40102   1.1685\n",
      " -1.0137   -0.21585  -0.15155   0.78321  -0.91241  -1.6106   -0.64426\n",
      " -0.51042 ]\n",
      "50\n"
     ]
    }
   ],
   "source": [
    "print(model[\"king\"])\n",
    "print(len(model[\"king\"]))"
   ]
  },
  {
   "cell_type": "code",
   "execution_count": 23,
   "metadata": {},
   "outputs": [
    {
     "data": {
      "text/plain": [
       "400000"
      ]
     },
     "execution_count": 23,
     "metadata": {},
     "output_type": "execute_result"
    }
   ],
   "source": [
    "# model.key_to_index\n",
    "len(model.key_to_index)"
   ]
  },
  {
   "cell_type": "code",
   "execution_count": 24,
   "metadata": {},
   "outputs": [
    {
     "data": {
      "text/plain": [
       "0.7839043"
      ]
     },
     "execution_count": 24,
     "metadata": {},
     "output_type": "execute_result"
    }
   ],
   "source": [
    "model.similarity(\"king\", \"queen\")"
   ]
  },
  {
   "cell_type": "code",
   "execution_count": 25,
   "metadata": {},
   "outputs": [
    {
     "data": {
      "text/plain": [
       "[('prince', 0.8236179351806641),\n",
       " ('queen', 0.7839043140411377),\n",
       " ('ii', 0.7746229767799377),\n",
       " ('emperor', 0.7736246585845947),\n",
       " ('son', 0.766719400882721),\n",
       " ('uncle', 0.7627150416374207),\n",
       " ('kingdom', 0.7542161345481873),\n",
       " ('throne', 0.7539913654327393),\n",
       " ('brother', 0.7492411136627197),\n",
       " ('ruler', 0.7434253692626953)]"
      ]
     },
     "execution_count": 25,
     "metadata": {},
     "output_type": "execute_result"
    }
   ],
   "source": [
    "model.most_similar(\"king\")"
   ]
  },
  {
   "cell_type": "code",
   "execution_count": 26,
   "metadata": {},
   "outputs": [
    {
     "data": {
      "text/plain": [
       "[('berlin', 0.9181488156318665),\n",
       " ('frankfurt', 0.8184096217155457),\n",
       " ('munich', 0.8120746612548828),\n",
       " ('vienna', 0.8101339936256409),\n",
       " ('germany', 0.8048953413963318),\n",
       " ('hamburg', 0.797433614730835),\n",
       " ('stockholm', 0.7717639803886414),\n",
       " ('warsaw', 0.7688193917274475),\n",
       " ('budapest', 0.7663007378578186),\n",
       " ('prague', 0.7654389142990112)]"
      ]
     },
     "execution_count": 26,
     "metadata": {},
     "output_type": "execute_result"
    }
   ],
   "source": [
    "model.most_similar(model[\"germany\"] - model[\"france\"] + model[\"paris\"])"
   ]
  },
  {
   "cell_type": "code",
   "execution_count": 27,
   "metadata": {},
   "outputs": [
    {
     "data": {
      "text/plain": [
       "[('gourmet', 0.6915085911750793),\n",
       " ('fries', 0.6719846129417419),\n",
       " ('sausages', 0.6515130400657654),\n",
       " ('hamburger', 0.6382428407669067),\n",
       " ('deli', 0.6339925527572632),\n",
       " ('braise', 0.6236903071403503),\n",
       " ('sushi', 0.6191727519035339),\n",
       " ('chef', 0.6177273988723755),\n",
       " ('hamburgers', 0.6171662211418152),\n",
       " ('burgers', 0.6170258522033691)]"
      ]
     },
     "execution_count": 27,
     "metadata": {},
     "output_type": "execute_result"
    }
   ],
   "source": [
    "# Japan verhält sich zu Sushi wie Deutschland zu?\n",
    "model.most_similar(model[\"germany\"] - model[\"japan\"] + model[\"sushi\"])"
   ]
  },
  {
   "cell_type": "code",
   "execution_count": 28,
   "metadata": {},
   "outputs": [
    {
     "data": {
      "text/plain": [
       "[('sous', 0.705322802066803),\n",
       " ('champagne', 0.6959413886070251),\n",
       " ('gourmet', 0.694339394569397),\n",
       " ('provence', 0.6751832365989685),\n",
       " ('hors', 0.6701313257217407),\n",
       " ('comte', 0.6638895869255066),\n",
       " (\"d'oeuvres\", 0.652723491191864),\n",
       " ('wine', 0.6512296199798584),\n",
       " ('tasting', 0.6478123664855957),\n",
       " ('tapas', 0.6295624375343323)]"
      ]
     },
     "execution_count": 28,
     "metadata": {},
     "output_type": "execute_result"
    }
   ],
   "source": [
    "model.most_similar(model[\"france\"] - model[\"japan\"] + model[\"sushi\"])"
   ]
  },
  {
   "cell_type": "code",
   "execution_count": 29,
   "metadata": {},
   "outputs": [
    {
     "data": {
      "image/png": "[encoded data removed]",
      "text/plain": [
       "<Figure size 640x480 with 1 Axes>"
      ]
     },
     "metadata": {},
     "output_type": "display_data"
    }
   ],
   "source": [
    "from sklearn.decomposition import PCA\n",
    "import matplotlib.pyplot as plt\n",
    "\n",
    "# words = [\"germany\", \"france\", \"berlin\", \"paris\", \"italy\", \"rome\", \"japan\", \"tokyo\",]\n",
    "\n",
    "words = [\"germany\", \"france\", \"italy\", \"japan\", \"beer\", \"wine\", \"pizza\", \"sushi\"]\n",
    "\n",
    "projections = PCA(n_components=2).fit_transform(model[words])\n",
    "\n",
    "fig, ax = plt.subplots()\n",
    "ax.scatter(projections[:, 0], projections[:, 1])\n",
    "for word, (x,y) in zip(words, projections):\n",
    "    ax.text(x, y, word)"
   ]
  }
 ],
 "metadata": {
  "kernelspec": {
   "display_name": "Gdl_Data_Science",
   "language": "python",
   "name": "python3"
  },
  "language_info": {
   "codemirror_mode": {
    "name": "ipython",
    "version": 3
   },
   "file_extension": ".py",
   "mimetype": "text/x-python",
   "name": "python",
   "nbconvert_exporter": "python",
   "pygments_lexer": "ipython3",
   "version": "3.9.13"
  }
 },
 "nbformat": 4,
 "nbformat_minor": 2
}

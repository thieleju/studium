{
 "cells": [
  {
   "attachments": {},
   "cell_type": "markdown",
   "metadata": {},
   "source": [
    "<img src=\"https://www.th-ab.de/typo3conf/ext/th_ab/Resources/Public/assets/logo-th-ab.svg\" alt=\"TH-AB Logo\" width=\"200\"/>\n",
    "\n",
    "Prof. Dr. Möckel, Prof. Dr. Radke, Katharina Kuhnert\n",
    "\n",
    "Maschinelles Lernen Schwerpunkt Data Science<br>\n",
    "SoSe 2024"
   ]
  },
  {
   "attachments": {},
   "cell_type": "markdown",
   "metadata": {},
   "source": [
    "# Übung 6.1: Erschließung eines unbekannten Datensatzes"
   ]
  },
  {
   "attachments": {},
   "cell_type": "markdown",
   "metadata": {},
   "source": [
    "### Bibliotheken importieren und PyTorch Umgebung prüfen"
   ]
  },
  {
   "cell_type": "code",
   "execution_count": null,
   "metadata": {},
   "outputs": [],
   "source": [
    "import matplotlib.pyplot as plt\n",
    "import numpy as np\n",
    "import pandas as pd\n",
    "import time\n",
    "\n",
    "# PyTorch\n",
    "try:\n",
    "    import torch\n",
    "    import torchvision\n",
    "    import torchmetrics\n",
    "except:\n",
    "    !pip install torch\n",
    "    !pip install torchvision\n",
    "    !pip install torchmetrics\n",
    "    import torch\n",
    "    import torchvision\n",
    "    import torchmetrics\n",
    "\n",
    "from torch import nn\n",
    "from torchvision import datasets\n",
    "from torchvision.transforms import ToTensor"
   ]
  },
  {
   "cell_type": "code",
   "execution_count": null,
   "metadata": {},
   "outputs": [],
   "source": [
    "# PyTorch Version überprüfen\n",
    "if (torch.__version__ < \"2.0.0\"):\n",
    "    raise Exception(\"Wrong PyTorch version\")\n",
    "else:\n",
    "    print(\"PyTorch Version:\", torch.__version__)"
   ]
  },
  {
   "attachments": {},
   "cell_type": "markdown",
   "metadata": {},
   "source": [
    "### Beispieldatensatz handgeschriebener Ziffern (MNIST) laden und analysieren\n",
    "\n",
    "Der Datensatz MNIST (Modified National Institute of Standards and Technology) besteht aus handschriftlichen Ziffern (0 bis 9), die in zwei unabhängigen, aber gleich strukturierten Teilpaketen zur Verfügung gestellt werden. \n",
    "\n",
    "Für das Training und für alle weiteren Analysen (Validierung und Benchmarking, non-training) eines Modells stehen zum Download bereit\n",
    "\n",
    "* Training Dataset\n",
    "* Non-Training Dataset"
   ]
  },
  {
   "cell_type": "code",
   "execution_count": null,
   "metadata": {},
   "outputs": [],
   "source": [
    "# Dataset für Training\n",
    "ds_train = datasets.MNIST(\n",
    "    root=\"data\", # Zielpfad für Datendownload\n",
    "    train=True, # Trainingsdaten laden\n",
    "    download=True,\n",
    "    transform=ToTensor(), # Transformiere Features (Bilddaten) zu Tensoren\n",
    "    target_transform=None # Keine Transformierung für Labels (Targets)\n",
    ")\n",
    "\n",
    "# Dataset für Validierung und Test\n",
    "ds_non_train = datasets.MNIST(\n",
    "    root=\"data\",\n",
    "    train=False, # Keine Trainingsdaten laden\n",
    "    download=True,\n",
    "    transform=ToTensor()\n",
    ")"
   ]
  },
  {
   "attachments": {},
   "cell_type": "markdown",
   "metadata": {},
   "source": [
    "## Verständnis der geladenen Daten durch schrittweises Vorgehen:\n",
    "\n",
    "### 1. Analyse des geladenen Datensatzes\n",
    "\n",
    "#### 1.a) Bestimmen Sie den Datentyp der Objekte ds_train und ds_non_train und erläutern Sie das Ergebnis."
   ]
  },
  {
   "cell_type": "code",
   "execution_count": null,
   "metadata": {},
   "outputs": [],
   "source": [
    "# Datentyp:\n",
    "print(\"Datentyp des gesamten Trainingsdatensatzes: \", )\n",
    "print(\"Datentyp des gesamten Nicht-Trainingsdatensatzes: \", )"
   ]
  },
  {
   "attachments": {},
   "cell_type": "markdown",
   "metadata": {},
   "source": [
    "Interpretation: Es handelt sich um eine eigene Klasse."
   ]
  },
  {
   "attachments": {},
   "cell_type": "markdown",
   "metadata": {},
   "source": [
    "#### 1.b) Nutzen Sie die Befehle print() und dir() um die für die Klasse des Objekts ds_train definierten Attribute und Funktionen ausgeben zu lassen:"
   ]
  },
  {
   "cell_type": "code",
   "execution_count": null,
   "metadata": {},
   "outputs": [],
   "source": []
  },
  {
   "attachments": {},
   "cell_type": "markdown",
   "metadata": {},
   "source": [
    "#### 1.c) Betrachten im Folgenden die überladenen Standard-Funktionen für print und die Länge len sowie die Attribute \"classes\", \"data\", \"train\" und \"train_labels\"\n",
    "\n",
    "Welche Ausgabe erfolgt durch die Print-Routine?"
   ]
  },
  {
   "cell_type": "code",
   "execution_count": null,
   "metadata": {},
   "outputs": [],
   "source": [
    "# Direkte Ausgabe der Objekte durch die print-Funktion\n",
    "print()\n",
    "print()"
   ]
  },
  {
   "attachments": {},
   "cell_type": "markdown",
   "metadata": {},
   "source": [
    "Bestimmen Sie den Umfang beider Teildatensätze durch die Verwendung von len und vergleichen Sie mit dem Output der Print-Routine"
   ]
  },
  {
   "cell_type": "code",
   "execution_count": null,
   "metadata": {},
   "outputs": [],
   "source": [
    "# Umfang:\n",
    "print(\"Länge des Trainings-Datensatzes: \", )\n",
    "print(\"Länge des Validierungs- und Testdatensatzes (zusammen): \", )"
   ]
  },
  {
   "attachments": {},
   "cell_type": "markdown",
   "metadata": {},
   "source": [
    "Interpretation: Number of datapoints = Länge des Datensatzes\n",
    "\n",
    "Untersuchen Sie zunächst die Attribute classes und train_labels. Was beinhalten diese? Wie ist eine Warnung zu deuten? "
   ]
  },
  {
   "cell_type": "code",
   "execution_count": null,
   "metadata": {},
   "outputs": [],
   "source": [
    "print()"
   ]
  },
  {
   "cell_type": "code",
   "execution_count": null,
   "metadata": {},
   "outputs": [],
   "source": [
    "print()"
   ]
  },
  {
   "attachments": {},
   "cell_type": "markdown",
   "metadata": {},
   "source": [
    "Vergleichen Sie mit dem Attribut targets. Bestimmen sie für dieses seinen Datentyp, Datenformat (shape) und den Wertebereich, d.h. welche verschiedenen Werte angenommen werden können. Deuten Sie ihre Beobachtungen."
   ]
  },
  {
   "cell_type": "code",
   "execution_count": null,
   "metadata": {},
   "outputs": [],
   "source": [
    "print(ds_train.)"
   ]
  },
  {
   "cell_type": "code",
   "execution_count": null,
   "metadata": {},
   "outputs": [],
   "source": [
    "print(\"Direkte Ausgabe: \", )\n",
    "print(\"Shape: \", )\n",
    "print(\"Auftretende verschiedene Werte: \", )"
   ]
  },
  {
   "attachments": {},
   "cell_type": "markdown",
   "metadata": {},
   "source": [
    "Interpretation: Die train_labels = targets sind die Zuordnungen zu den Klassen 0 bis 9"
   ]
  },
  {
   "attachments": {},
   "cell_type": "markdown",
   "metadata": {},
   "source": [
    "Was beinhaltet das Attribut train? Vergleichen Sie dazu seinen Werte auf dem training und non-training Datensatz. "
   ]
  },
  {
   "cell_type": "code",
   "execution_count": null,
   "metadata": {},
   "outputs": [],
   "source": [
    "print()"
   ]
  },
  {
   "cell_type": "code",
   "execution_count": null,
   "metadata": {},
   "outputs": [],
   "source": [
    "print()"
   ]
  },
  {
   "attachments": {},
   "cell_type": "markdown",
   "metadata": {},
   "source": [
    "Interpretation: Mit dem Flag train wird entschieden, ob es sich um Trainingsdaten oder Testdaten handelt\n",
    "\n",
    "\n",
    "Betrachten Sie nun das Attribut data. \n",
    "Bei der direkten Ausgabe von data ist Vorsicht ratsam (meist zu viele Daten), gehen Sie daher schrittweise vor: Lassen Sie Datentyp und Datenformat (shape) ausgeben und interpretieren Sie die Datenstruktur. Worum handelt es sich vermutlich? "
   ]
  },
  {
   "cell_type": "code",
   "execution_count": null,
   "metadata": {},
   "outputs": [],
   "source": [
    "print()"
   ]
  },
  {
   "cell_type": "code",
   "execution_count": null,
   "metadata": {},
   "outputs": [],
   "source": [
    "print()"
   ]
  },
  {
   "attachments": {},
   "cell_type": "markdown",
   "metadata": {},
   "source": [
    "Bei den Daten handelt es sich vermutlich um 60.000 sw-Bilder mit 28x28 Pixel"
   ]
  },
  {
   "attachments": {},
   "cell_type": "markdown",
   "metadata": {},
   "source": [
    "### 2) Analyse des ersten Elements des Datensatzes "
   ]
  },
  {
   "attachments": {},
   "cell_type": "markdown",
   "metadata": {},
   "source": [
    "#### 2.a) Bestimmen Sie nun den Datentyp des ersten Elements des Datensatzes:"
   ]
  },
  {
   "cell_type": "code",
   "execution_count": null,
   "metadata": {},
   "outputs": [],
   "source": [
    "print(\"Datentyp des ersten Elements des Trainingsdatensatzes: \", )\n",
    "print(\"Datentyp des ersten Elements des Nicht-Trainingsdatensatzes: \", )"
   ]
  },
  {
   "attachments": {},
   "cell_type": "markdown",
   "metadata": {},
   "source": [
    "#### 2.b) Offensichtlich liegt ein Datentupel vor. Bestimmen Sie nun die Dimension des Tupels = Länge des Datentupels "
   ]
  },
  {
   "cell_type": "code",
   "execution_count": null,
   "metadata": {},
   "outputs": [],
   "source": [
    "print(\" Anzahl der Elemente im Datentupel des ersten Trainingsbeispiels: \", )\n",
    "print(\" Anzahl der Elemente im Datentupel des ersten Nicht-Trainingsbeispiels: \", )"
   ]
  },
  {
   "attachments": {},
   "cell_type": "markdown",
   "metadata": {},
   "source": [
    "### 3) Zerlegung des Datentupels in Komponenten\n",
    "\n",
    "Zerlegen Sie das erste Element des Datensatzes ds_train in zwei Elemente (hier willkürlich genannt: A,B). Bestimmen Sie jeweils deren Datentyp."
   ]
  },
  {
   "cell_type": "code",
   "execution_count": null,
   "metadata": {},
   "outputs": [],
   "source": [
    "A,B = ds_train[0]\n",
    "print(\"Datentyp des ersten Elements des Datentupels: \", )\n",
    "print(\"Datentyp des zweiten Elements des Datentupels: \", )"
   ]
  },
  {
   "attachments": {},
   "cell_type": "markdown",
   "metadata": {},
   "source": [
    "### 4) Analyse der Komponenten:\n",
    "\n",
    "Bestimmen Sie soweit sinnvoll Datenformat (shape) sowie die Anzahl seiner Elemente (numel) und erklären Sie so den Inhalt eines Datenpunktes"
   ]
  },
  {
   "cell_type": "code",
   "execution_count": null,
   "metadata": {},
   "outputs": [],
   "source": [
    "print(\"Ausgabe der Integer-Zahl: \", )\n",
    "print(\"Struktur des Tensors: \", )\n",
    "print(\"Anzahl der Elemente im Tensor: \", )\n",
    "print(\"(Zum Vergleich: 1*28*28 =\", 28*28, \")\")"
   ]
  },
  {
   "attachments": {},
   "cell_type": "markdown",
   "metadata": {},
   "source": [
    "Interpretation: Ein Datenpunkt besteht aus der Kombination von einem Bilder (28 x 28 Pixel) mit einem Label (dargestellte Ziffer). Da das Dataset für die Klassifikation von Ziffern gedacht ist entsprechen die Labels die Bezeichnungen der jeweiligen Ziffern."
   ]
  },
  {
   "attachments": {},
   "cell_type": "markdown",
   "metadata": {},
   "source": [
    "### 5. Graphische Darstellung eines Beispiels aus dem Dataset:"
   ]
  },
  {
   "attachments": {},
   "cell_type": "markdown",
   "metadata": {},
   "source": [
    "Konvertieren Sie den Bildanteil eines Datenpunktes in eine quadratische Matrix, indem sie die redundaten Tensordimension mit squeeze reduzieren (\"Tensor zusammendrücken\") und geben Sie diese als Graustufenbild aus"
   ]
  },
  {
   "cell_type": "code",
   "execution_count": null,
   "metadata": {},
   "outputs": [],
   "source": [
    "plt.imshow(A.squeeze, cmap=\"gray\")\n",
    "plt.show()"
   ]
  }
 ],
 "metadata": {
  "kernelspec": {
   "display_name": "juno",
   "language": "python",
   "name": "python3"
  },
  "language_info": {
   "codemirror_mode": {
    "name": "ipython",
    "version": 3
   },
   "file_extension": ".py",
   "mimetype": "text/x-python",
   "name": "python",
   "nbconvert_exporter": "python",
   "pygments_lexer": "ipython3",
   "version": "3.10.10"
  },
  "orig_nbformat": 4
 },
 "nbformat": 4,
 "nbformat_minor": 2
}

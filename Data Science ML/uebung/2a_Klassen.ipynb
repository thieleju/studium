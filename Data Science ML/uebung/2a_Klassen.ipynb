{
 "cells": [
  {
   "attachments": {},
   "cell_type": "markdown",
   "metadata": {},
   "source": [
    "<img src=\"https://www.th-ab.de/typo3conf/ext/th_ab/Resources/Public/assets/logo-th-ab.svg\" alt=\"TH-AB Logo\" width=\"200\"/>\n",
    "\n",
    "Prof. Dr. Möckel, Prof. Klaus Radke, Katharina Kuhnert\n",
    "\n",
    "Maschinelles Lernen Schwerpunkt Data Science<br>\n",
    "SoSe 2024"
   ]
  },
  {
   "attachments": {},
   "cell_type": "markdown",
   "metadata": {},
   "source": [
    "# Übung 2a: Klassen und Vererbung"
   ]
  },
  {
   "attachments": {},
   "cell_type": "markdown",
   "metadata": {},
   "source": [
    "## Aufgabe 1: Vererbung"
   ]
  },
  {
   "attachments": {},
   "cell_type": "markdown",
   "metadata": {},
   "source": [
    "Implementieren Sie eine Klasse `Time_keeper`, welche eine Zeitmessung ermöglicht. Ergänzen Sie den vorgegebenen Code. Vergleichen Sie die Overhead-Zeiten der timit Bibliothek und Ihrer eigenen Implementierung, indem Sie den arithmetischen Mittelwert berechnen. Wiederholen Sie die Testdurchläufe. Welche Aussage lässt sich treffen?"
   ]
  },
  {
   "attachments": {},
   "cell_type": "markdown",
   "metadata": {},
   "source": [
    "#### Kopieren Sie die Klasse `Simple_time()` aus den Vorlesungsunterlagen in den folgenden Abschnitt:"
   ]
  },
  {
   "cell_type": "code",
   "execution_count": 1,
   "metadata": {},
   "outputs": [],
   "source": [
    "# concept of a time without seconds\n",
    "class Simple_time():\n",
    "    # default constructor\n",
    "    def __init__(self):\n",
    "        self.__hour = 0\n",
    "        self.__minute = 0\n",
    "\n",
    "    # overloaded constructor\n",
    "    # args with strong typing and default value None\n",
    "    def __init__(self, hour: int = 0, minute: int = 0):\n",
    "        self.__check_hour(hour)\n",
    "        self._check_minute(minute)\n",
    "        self.__hour = hour\n",
    "        self.__minute = minute\n",
    "\n",
    "    # private method hour sanity check\n",
    "    def __check_hour(self, hour: int):\n",
    "        if (hour not in range(0, 23)):\n",
    "            raise ValueError(\"Ungültiger Wert für Stunde\")\n",
    "\n",
    "    # protected method minute sanity check\n",
    "    # NOTE should be private, but this is an example\n",
    "    def _check_minute(self, minute: int):\n",
    "        if (minute not in range(0, 59)):\n",
    "            raise ValueError(\"Ungültiger Wert für Minute\")\n",
    "\n",
    "    # use of a decorator (a getter for self.__hour)\n",
    "    @property\n",
    "    def hour(self):\n",
    "        return self.__hour\n",
    "\n",
    "    # a setter for the decorator 'hour'\n",
    "    @hour.setter\n",
    "    def hour(self, hour):\n",
    "        self.__check_hour(hour)\n",
    "        self._hour = hour\n",
    "\n",
    "    # use of a decorator (a getter for self.__minute)\n",
    "    @property\n",
    "    def minute(self):\n",
    "        return self.__minute\n",
    "\n",
    "    # a setter for the decorator 'minute'\n",
    "    @minute.setter\n",
    "    def minute(self, minute):\n",
    "        self._check_minute(minute)\n",
    "        self.__minute = minute\n",
    "\n",
    "    # generate human readable representation with str() function\n",
    "    def __str__(self):\n",
    "        return \"The time is \" + str(self.hour) + \":\" + str(self.minute)\n",
    "    \n",
    "    # generate semantic representation with repr() function\n",
    "    def __repr__(self):\n",
    "        return \"SimpleTime(\" + str(self.hour) + \", \" + str(self.minute) + \")\""
   ]
  },
  {
   "attachments": {},
   "cell_type": "markdown",
   "metadata": {},
   "source": [
    "#### Importieren Sie die Bibliothek `datetime` mit dem Kürzel `dt`:"
   ]
  },
  {
   "cell_type": "code",
   "execution_count": 3,
   "metadata": {},
   "outputs": [],
   "source": [
    "import datetime as dt"
   ]
  },
  {
   "attachments": {},
   "cell_type": "markdown",
   "metadata": {},
   "source": [
    "#### Implementieren Sie eine Klasse `Duration`, welche von der Klasse `Simple_time` erbt mit folgender Funktionalität:\n",
    "\n",
    "* Erweiterung der Klasse durch die Membervariable `second` als Property und Setter.\n",
    "* Überladen eines Konstrukturs, der das Argument vom Typ `dt.datetime` nutzt, um `hour`, `minute` and `second` zu setzen.\n",
    "* Erstellung einer Memberfunktion `measure`:\n",
    "    * Bildung der Differenz der Übergebenen Zeit mit der in der Klasse gespeicherten Zeit.\n",
    "    * Rückgabe der Zeitdifferenz (=Dauer) als `str`\n",
    "    * Nutzen Sie `datetime` um Berechnungen durchzuführen\n",
    "* Überschreiben der `__str__` Memberfunktion mit der Ausgabeform: `The time is: hour:minute:second`"
   ]
  },
  {
   "cell_type": "code",
   "execution_count": 18,
   "metadata": {},
   "outputs": [],
   "source": [
    "class Duration(Simple_time):\n",
    "    def __init__(self, time: dt.datetime):\n",
    "        super().__init__(time.hour,time.minute)\n",
    "        self.__second = time.second\n",
    "\n",
    "    def measure(self,timeParam: dt.datetime) -> str:\n",
    "        timeInstance = dt.timedelta(hours=self.hour,minutes=self.minute,seconds=self.second)\n",
    "        duration = timeParam - timeInstance\n",
    "        return f\"Time diff: {str(duration.time())}\" \n",
    "    \n",
    "    @property\n",
    "    def second(self):\n",
    "        return self.__second\n",
    "\n",
    "    @second.setter\n",
    "    def second(self, second):\n",
    "        self.__second = second\n",
    "\n",
    "    def __str__(self):\n",
    "        return super().__str__()"
   ]
  },
  {
   "cell_type": "code",
   "execution_count": 19,
   "metadata": {},
   "outputs": [
    {
     "name": "stdout",
     "output_type": "stream",
     "text": [
      "Time diff: 01:30:00\n"
     ]
    }
   ],
   "source": [
    "dt1 = dt.datetime(year=2024, month=1, day=1, hour=8, minute=0, second=0)\n",
    "dt2 = dt.datetime(year=2024, month=1, day=1, hour=9, minute=30, second=0)\n",
    "\n",
    "dur = Duration(dt1)\n",
    "diff = dur.measure(dt2)\n",
    "print(diff)"
   ]
  },
  {
   "attachments": {},
   "cell_type": "markdown",
   "metadata": {},
   "source": [
    "## Aufgabe 2: Anwendung und Zeitmessung"
   ]
  },
  {
   "attachments": {},
   "cell_type": "markdown",
   "metadata": {},
   "source": [
    "Erstellen Sie zwei Listen aus zufälligen Zahlen mit Hilfe von Numpy. Erstellen Sie eine Liste `rnd_a` mit der Funktion `random.randint`. Die andere Liste `rnd_b` erstellen Sie mit der Funktion `random.rand`. Geben Sie beide Listen mit `print()` aus."
   ]
  },
  {
   "cell_type": "code",
   "execution_count": 26,
   "metadata": {},
   "outputs": [
    {
     "name": "stdout",
     "output_type": "stream",
     "text": [
      "[ 1 80 32 ... 25 79 92]\n",
      "[[0.30538407 0.23527824 0.08651866 ... 0.2267468  0.68559263 0.99124818]]\n"
     ]
    }
   ],
   "source": [
    "import numpy as np\n",
    "\n",
    "amount = 50000000\n",
    "rnd_a = np.random.randint(1, 100, amount)\n",
    "rnd_b = np.random.rand(1, amount)\n",
    "\n",
    "print(rnd_a)\n",
    "print(rnd_b)"
   ]
  },
  {
   "attachments": {},
   "cell_type": "markdown",
   "metadata": {},
   "source": [
    "Nutzen Sie die erstellte Klasse aus Aufgabe 1 um die Laufzeit der Sortierung der Liste `rnd_a` zu erfassen."
   ]
  },
  {
   "cell_type": "code",
   "execution_count": 30,
   "metadata": {},
   "outputs": [
    {
     "name": "stdout",
     "output_type": "stream",
     "text": [
      "Sort Time diff: 00:00:01.131964\n"
     ]
    }
   ],
   "source": [
    "duration_a = Duration(dt.datetime.now())\n",
    "rnd_a.sort()\n",
    "measured_a = duration_a.measure(dt.datetime.now())\n",
    "print(f\"Sort {measured_a}\")"
   ]
  },
  {
   "attachments": {},
   "cell_type": "markdown",
   "metadata": {},
   "source": [
    "Nutzen Sie die erstellte Klasse aus Aufgabe 1 um die Laufzeit der Sortierung der Liste `rnd_b` zu erfassen."
   ]
  },
  {
   "cell_type": "code",
   "execution_count": 31,
   "metadata": {},
   "outputs": [
    {
     "name": "stdout",
     "output_type": "stream",
     "text": [
      "Sort Time diff: 00:00:01.536839\n"
     ]
    }
   ],
   "source": [
    "duration_b = Duration(dt.datetime.now())\n",
    "rnd_b.sort()\n",
    "measured_b = duration_b.measure(dt.datetime.now())\n",
    "print(f\"Sort {measured_b}\")"
   ]
  },
  {
   "attachments": {},
   "cell_type": "markdown",
   "metadata": {},
   "source": [
    "#### Welche Aussage lässt sich anhand der Zeitmessungen treffen?"
   ]
  },
  {
   "cell_type": "markdown",
   "metadata": {},
   "source": [
    "Integer können schneller sortiert werden, da diese mit 32bit kleiner als float (64 bit) sind."
   ]
  },
  {
   "attachments": {},
   "cell_type": "markdown",
   "metadata": {},
   "source": [
    "Die Datenypen der beiden Zufallsgeneratoren sind unterschiedlich. Die Sortierung von `int` (Ganzzahlen) ist im Vergleich zu `float64` (Fließkommazahlen) signifikant schneller."
   ]
  }
 ],
 "metadata": {
  "kernelspec": {
   "display_name": "juno",
   "language": "python",
   "name": "python3"
  },
  "language_info": {
   "codemirror_mode": {
    "name": "ipython",
    "version": 3
   },
   "file_extension": ".py",
   "mimetype": "text/x-python",
   "name": "python",
   "nbconvert_exporter": "python",
   "pygments_lexer": "ipython3",
   "version": "3.12.2"
  },
  "orig_nbformat": 4
 },
 "nbformat": 4,
 "nbformat_minor": 2
}

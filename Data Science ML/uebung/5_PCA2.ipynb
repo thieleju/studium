{
 "cells": [
  {
   "cell_type": "markdown",
   "metadata": {},
   "source": [
    "## Autoren erkennen\n",
    "\n",
    "**Grundidee**: Autoren haben unterschiedliche Sprachstile und es sollte möglich sein, Autoren aufgrund ihres Sprachstils voneinander zu unterscheiden.\n",
    "\n",
    "**Methodik**: Ein Ansatz um Sprachstil zu kodieren, ist, die Häufigkeit gewisser Worte zu bestimmen. Wir beschränken uns hier auf die 50 häufigsten Worte, z.B. *und*, *ich*, *nicht*, .... \n",
    "Konkret werden wir jeden Text in gleichmäßig große Abschnitte (jeweils 5000 Worte) unterteilen und die Häufigkeit dieser Worte ermitteln. Die resultierenden 50-dimensionalen Datenpunkte werden wir mittels PCA auf wenige Dimensionen reduzieren und visualisieren. "
   ]
  },
  {
   "cell_type": "code",
   "execution_count": 2,
   "metadata": {},
   "outputs": [],
   "source": [
    "from pathlib import Path\n",
    "import re\n",
    "import pandas as pd\n",
    "from sklearn.decomposition import PCA\n",
    "from matplotlib import pyplot as plt\n",
    "import seaborn as sns\n",
    "import plotly.express as px\n",
    "import warnings\n",
    "warnings.filterwarnings(\"ignore\")"
   ]
  },
  {
   "cell_type": "markdown",
   "metadata": {},
   "source": [
    "Zunächst iterieren wir über alle txt-Dateien und ermitteln die 50 häufigsten Worte im gesamten Corpus."
   ]
  },
  {
   "cell_type": "code",
   "execution_count": 13,
   "metadata": {},
   "outputs": [
    {
     "name": "stdout",
     "output_type": "stream",
     "text": [
      "corpus: num words:  235289  different words:  21801\n"
     ]
    }
   ],
   "source": [
    "filepaths = list(Path().glob(\"texts/*.txt\"))\n",
    "\n",
    "word_counter = {}\n",
    "for p in filepaths:\n",
    "    text = p.read_text()\n",
    "    text = text.lower()\n",
    "    words = re.split(r\"[\\W_]+\", text) # \\W = Nicht-Wort-Zeichen sowie zusätzlich Unterstrich als Trennsymbole\n",
    "    for word in words:\n",
    "        word_counter[word] = word_counter.get(word, 0) + 1\n",
    "\n",
    "print(\"corpus: num words: \", sum(word_counter.values()), \" different words: \", len(word_counter.items()))"
   ]
  },
  {
   "cell_type": "code",
   "execution_count": 7,
   "metadata": {},
   "outputs": [
    {
     "data": {
      "text/plain": [
       "1107"
      ]
     },
     "execution_count": 7,
     "metadata": {},
     "output_type": "execute_result"
    }
   ],
   "source": [
    "# seltsames Wort nehmen wir mal raus\n",
    "word_counter.pop(\"s\")"
   ]
  },
  {
   "cell_type": "code",
   "execution_count": 15,
   "metadata": {},
   "outputs": [
    {
     "name": "stdout",
     "output_type": "stream",
     "text": [
      "[('ich', 6034), ('und', 5874), ('der', 4554), ('die', 4291), ('sie', 3752), ('nicht', 3538), ('zu', 3074), ('das', 3016), ('ist', 2573), ('er', 2389), ('den', 2347), ('so', 2255), ('in', 2255), ('du', 2064), ('ein', 2050), ('es', 2016), ('mir', 1919), ('mit', 1897), ('mich', 1848), ('was', 1670), ('ihr', 1618), ('auf', 1588), ('sich', 1531), ('von', 1525), ('wie', 1479), ('dem', 1462), ('daß', 1294), ('wenn', 1240), ('doch', 1117), ('s', 1107), ('mein', 1074), ('an', 1049), ('nur', 1041), ('ihn', 975), ('noch', 970), ('auch', 935), ('als', 897), ('des', 874), ('ihm', 811), ('sein', 784), ('hat', 737), ('will', 729), ('nun', 727), ('euch', 726), ('da', 705), ('wir', 697), ('eine', 694), ('aus', 683), ('aber', 681), ('meine', 670)]\n",
      "['ich', 'und', 'der', 'die', 'sie', 'nicht', 'zu', 'das', 'ist', 'er', 'den', 'so', 'in', 'du', 'ein', 'es', 'mir', 'mit', 'mich', 'was', 'ihr', 'auf', 'sich', 'von', 'wie', 'dem', 'daß', 'wenn', 'doch', 's', 'mein', 'an', 'nur', 'ihn', 'noch', 'auch', 'als', 'des', 'ihm', 'sein', 'hat', 'will', 'nun', 'euch', 'da', 'wir', 'eine', 'aus', 'aber', 'meine']\n"
     ]
    }
   ],
   "source": [
    "# Dictionary nach Value absteigend sortieren und die ersten 50 Tuple auswählen\n",
    "frequent_items = sorted(word_counter.items(), key=lambda x: x[1], reverse=True)[:50]\n",
    "print(frequent_items)\n",
    "frequent_words = [pair[0] for pair in frequent_items] # * unpacks the list\n",
    "print(frequent_words)"
   ]
  },
  {
   "cell_type": "markdown",
   "metadata": {},
   "source": [
    "Die Liste `frequent_words` wird im Folgenden genutzt.\n",
    "Wir splitten jeden Text in Blöcke von 5000 Worten und zählen die Häufigkeiten der `frequent_words`. "
   ]
  },
  {
   "cell_type": "code",
   "execution_count": 17,
   "metadata": {},
   "outputs": [
    {
     "data": {
      "text/html": [
       "<div>\n",
       "<style scoped>\n",
       "    .dataframe tbody tr th:only-of-type {\n",
       "        vertical-align: middle;\n",
       "    }\n",
       "\n",
       "    .dataframe tbody tr th {\n",
       "        vertical-align: top;\n",
       "    }\n",
       "\n",
       "    .dataframe thead th {\n",
       "        text-align: right;\n",
       "    }\n",
       "</style>\n",
       "<table border=\"1\" class=\"dataframe\">\n",
       "  <thead>\n",
       "    <tr style=\"text-align: right;\">\n",
       "      <th></th>\n",
       "      <th>ich</th>\n",
       "      <th>und</th>\n",
       "      <th>der</th>\n",
       "      <th>die</th>\n",
       "      <th>sie</th>\n",
       "      <th>nicht</th>\n",
       "      <th>zu</th>\n",
       "      <th>das</th>\n",
       "      <th>ist</th>\n",
       "      <th>er</th>\n",
       "      <th>...</th>\n",
       "      <th>euch</th>\n",
       "      <th>da</th>\n",
       "      <th>wir</th>\n",
       "      <th>eine</th>\n",
       "      <th>aus</th>\n",
       "      <th>aber</th>\n",
       "      <th>meine</th>\n",
       "      <th>author</th>\n",
       "      <th>title</th>\n",
       "      <th>chunksize</th>\n",
       "    </tr>\n",
       "  </thead>\n",
       "  <tbody>\n",
       "    <tr>\n",
       "      <th>0</th>\n",
       "      <td>176</td>\n",
       "      <td>200</td>\n",
       "      <td>96</td>\n",
       "      <td>118</td>\n",
       "      <td>73</td>\n",
       "      <td>52</td>\n",
       "      <td>79</td>\n",
       "      <td>84</td>\n",
       "      <td>55</td>\n",
       "      <td>38</td>\n",
       "      <td>...</td>\n",
       "      <td>2</td>\n",
       "      <td>23</td>\n",
       "      <td>7</td>\n",
       "      <td>32</td>\n",
       "      <td>13</td>\n",
       "      <td>8</td>\n",
       "      <td>14</td>\n",
       "      <td>Goethe</td>\n",
       "      <td>Die Leiden des jungen Werther</td>\n",
       "      <td>5000</td>\n",
       "    </tr>\n",
       "    <tr>\n",
       "      <th>1</th>\n",
       "      <td>146</td>\n",
       "      <td>204</td>\n",
       "      <td>97</td>\n",
       "      <td>142</td>\n",
       "      <td>100</td>\n",
       "      <td>50</td>\n",
       "      <td>74</td>\n",
       "      <td>78</td>\n",
       "      <td>47</td>\n",
       "      <td>22</td>\n",
       "      <td>...</td>\n",
       "      <td>0</td>\n",
       "      <td>25</td>\n",
       "      <td>49</td>\n",
       "      <td>22</td>\n",
       "      <td>11</td>\n",
       "      <td>9</td>\n",
       "      <td>12</td>\n",
       "      <td>Goethe</td>\n",
       "      <td>Die Leiden des jungen Werther</td>\n",
       "      <td>5000</td>\n",
       "    </tr>\n",
       "    <tr>\n",
       "      <th>2</th>\n",
       "      <td>180</td>\n",
       "      <td>169</td>\n",
       "      <td>99</td>\n",
       "      <td>116</td>\n",
       "      <td>86</td>\n",
       "      <td>67</td>\n",
       "      <td>79</td>\n",
       "      <td>81</td>\n",
       "      <td>70</td>\n",
       "      <td>30</td>\n",
       "      <td>...</td>\n",
       "      <td>3</td>\n",
       "      <td>18</td>\n",
       "      <td>11</td>\n",
       "      <td>20</td>\n",
       "      <td>12</td>\n",
       "      <td>9</td>\n",
       "      <td>12</td>\n",
       "      <td>Goethe</td>\n",
       "      <td>Die Leiden des jungen Werther</td>\n",
       "      <td>5000</td>\n",
       "    </tr>\n",
       "    <tr>\n",
       "      <th>4</th>\n",
       "      <td>103</td>\n",
       "      <td>160</td>\n",
       "      <td>122</td>\n",
       "      <td>117</td>\n",
       "      <td>26</td>\n",
       "      <td>62</td>\n",
       "      <td>67</td>\n",
       "      <td>60</td>\n",
       "      <td>53</td>\n",
       "      <td>30</td>\n",
       "      <td>...</td>\n",
       "      <td>28</td>\n",
       "      <td>18</td>\n",
       "      <td>8</td>\n",
       "      <td>11</td>\n",
       "      <td>13</td>\n",
       "      <td>2</td>\n",
       "      <td>10</td>\n",
       "      <td>Goethe</td>\n",
       "      <td>Faust I</td>\n",
       "      <td>5000</td>\n",
       "    </tr>\n",
       "    <tr>\n",
       "      <th>5</th>\n",
       "      <td>94</td>\n",
       "      <td>137</td>\n",
       "      <td>127</td>\n",
       "      <td>120</td>\n",
       "      <td>40</td>\n",
       "      <td>66</td>\n",
       "      <td>51</td>\n",
       "      <td>69</td>\n",
       "      <td>59</td>\n",
       "      <td>52</td>\n",
       "      <td>...</td>\n",
       "      <td>15</td>\n",
       "      <td>14</td>\n",
       "      <td>27</td>\n",
       "      <td>9</td>\n",
       "      <td>18</td>\n",
       "      <td>7</td>\n",
       "      <td>4</td>\n",
       "      <td>Goethe</td>\n",
       "      <td>Faust I</td>\n",
       "      <td>5000</td>\n",
       "    </tr>\n",
       "    <tr>\n",
       "      <th>6</th>\n",
       "      <td>112</td>\n",
       "      <td>145</td>\n",
       "      <td>90</td>\n",
       "      <td>98</td>\n",
       "      <td>45</td>\n",
       "      <td>57</td>\n",
       "      <td>60</td>\n",
       "      <td>61</td>\n",
       "      <td>51</td>\n",
       "      <td>33</td>\n",
       "      <td>...</td>\n",
       "      <td>43</td>\n",
       "      <td>15</td>\n",
       "      <td>22</td>\n",
       "      <td>10</td>\n",
       "      <td>15</td>\n",
       "      <td>1</td>\n",
       "      <td>5</td>\n",
       "      <td>Goethe</td>\n",
       "      <td>Faust I</td>\n",
       "      <td>5000</td>\n",
       "    </tr>\n",
       "    <tr>\n",
       "      <th>7</th>\n",
       "      <td>118</td>\n",
       "      <td>149</td>\n",
       "      <td>75</td>\n",
       "      <td>111</td>\n",
       "      <td>60</td>\n",
       "      <td>73</td>\n",
       "      <td>70</td>\n",
       "      <td>71</td>\n",
       "      <td>73</td>\n",
       "      <td>51</td>\n",
       "      <td>...</td>\n",
       "      <td>20</td>\n",
       "      <td>17</td>\n",
       "      <td>13</td>\n",
       "      <td>16</td>\n",
       "      <td>9</td>\n",
       "      <td>2</td>\n",
       "      <td>5</td>\n",
       "      <td>Goethe</td>\n",
       "      <td>Faust I</td>\n",
       "      <td>5000</td>\n",
       "    </tr>\n",
       "    <tr>\n",
       "      <th>8</th>\n",
       "      <td>136</td>\n",
       "      <td>161</td>\n",
       "      <td>68</td>\n",
       "      <td>73</td>\n",
       "      <td>48</td>\n",
       "      <td>83</td>\n",
       "      <td>67</td>\n",
       "      <td>63</td>\n",
       "      <td>73</td>\n",
       "      <td>36</td>\n",
       "      <td>...</td>\n",
       "      <td>16</td>\n",
       "      <td>20</td>\n",
       "      <td>10</td>\n",
       "      <td>8</td>\n",
       "      <td>11</td>\n",
       "      <td>5</td>\n",
       "      <td>13</td>\n",
       "      <td>Goethe</td>\n",
       "      <td>Faust I</td>\n",
       "      <td>5000</td>\n",
       "    </tr>\n",
       "    <tr>\n",
       "      <th>9</th>\n",
       "      <td>107</td>\n",
       "      <td>149</td>\n",
       "      <td>108</td>\n",
       "      <td>133</td>\n",
       "      <td>69</td>\n",
       "      <td>71</td>\n",
       "      <td>54</td>\n",
       "      <td>72</td>\n",
       "      <td>63</td>\n",
       "      <td>28</td>\n",
       "      <td>...</td>\n",
       "      <td>15</td>\n",
       "      <td>33</td>\n",
       "      <td>37</td>\n",
       "      <td>9</td>\n",
       "      <td>15</td>\n",
       "      <td>5</td>\n",
       "      <td>3</td>\n",
       "      <td>Goethe</td>\n",
       "      <td>Faust I</td>\n",
       "      <td>5000</td>\n",
       "    </tr>\n",
       "    <tr>\n",
       "      <th>11</th>\n",
       "      <td>104</td>\n",
       "      <td>175</td>\n",
       "      <td>141</td>\n",
       "      <td>104</td>\n",
       "      <td>48</td>\n",
       "      <td>68</td>\n",
       "      <td>65</td>\n",
       "      <td>52</td>\n",
       "      <td>38</td>\n",
       "      <td>38</td>\n",
       "      <td>...</td>\n",
       "      <td>4</td>\n",
       "      <td>12</td>\n",
       "      <td>13</td>\n",
       "      <td>9</td>\n",
       "      <td>13</td>\n",
       "      <td>2</td>\n",
       "      <td>11</td>\n",
       "      <td>Goethe</td>\n",
       "      <td>Iphigenie auf Tauris</td>\n",
       "      <td>5000</td>\n",
       "    </tr>\n",
       "    <tr>\n",
       "      <th>12</th>\n",
       "      <td>85</td>\n",
       "      <td>165</td>\n",
       "      <td>133</td>\n",
       "      <td>118</td>\n",
       "      <td>72</td>\n",
       "      <td>64</td>\n",
       "      <td>56</td>\n",
       "      <td>47</td>\n",
       "      <td>33</td>\n",
       "      <td>33</td>\n",
       "      <td>...</td>\n",
       "      <td>13</td>\n",
       "      <td>8</td>\n",
       "      <td>9</td>\n",
       "      <td>11</td>\n",
       "      <td>20</td>\n",
       "      <td>1</td>\n",
       "      <td>4</td>\n",
       "      <td>Goethe</td>\n",
       "      <td>Iphigenie auf Tauris</td>\n",
       "      <td>5000</td>\n",
       "    </tr>\n",
       "    <tr>\n",
       "      <th>13</th>\n",
       "      <td>96</td>\n",
       "      <td>148</td>\n",
       "      <td>131</td>\n",
       "      <td>130</td>\n",
       "      <td>59</td>\n",
       "      <td>63</td>\n",
       "      <td>65</td>\n",
       "      <td>63</td>\n",
       "      <td>41</td>\n",
       "      <td>37</td>\n",
       "      <td>...</td>\n",
       "      <td>3</td>\n",
       "      <td>6</td>\n",
       "      <td>15</td>\n",
       "      <td>11</td>\n",
       "      <td>9</td>\n",
       "      <td>4</td>\n",
       "      <td>9</td>\n",
       "      <td>Goethe</td>\n",
       "      <td>Iphigenie auf Tauris</td>\n",
       "      <td>5000</td>\n",
       "    </tr>\n",
       "    <tr>\n",
       "      <th>15</th>\n",
       "      <td>138</td>\n",
       "      <td>90</td>\n",
       "      <td>176</td>\n",
       "      <td>92</td>\n",
       "      <td>135</td>\n",
       "      <td>89</td>\n",
       "      <td>63</td>\n",
       "      <td>66</td>\n",
       "      <td>70</td>\n",
       "      <td>47</td>\n",
       "      <td>...</td>\n",
       "      <td>1</td>\n",
       "      <td>13</td>\n",
       "      <td>10</td>\n",
       "      <td>24</td>\n",
       "      <td>16</td>\n",
       "      <td>35</td>\n",
       "      <td>9</td>\n",
       "      <td>Lessing</td>\n",
       "      <td>Emilia Galotti</td>\n",
       "      <td>5000</td>\n",
       "    </tr>\n",
       "    <tr>\n",
       "      <th>16</th>\n",
       "      <td>176</td>\n",
       "      <td>115</td>\n",
       "      <td>106</td>\n",
       "      <td>73</td>\n",
       "      <td>107</td>\n",
       "      <td>90</td>\n",
       "      <td>70</td>\n",
       "      <td>64</td>\n",
       "      <td>63</td>\n",
       "      <td>65</td>\n",
       "      <td>...</td>\n",
       "      <td>1</td>\n",
       "      <td>13</td>\n",
       "      <td>7</td>\n",
       "      <td>17</td>\n",
       "      <td>13</td>\n",
       "      <td>30</td>\n",
       "      <td>43</td>\n",
       "      <td>Lessing</td>\n",
       "      <td>Emilia Galotti</td>\n",
       "      <td>5000</td>\n",
       "    </tr>\n",
       "    <tr>\n",
       "      <th>17</th>\n",
       "      <td>150</td>\n",
       "      <td>85</td>\n",
       "      <td>136</td>\n",
       "      <td>75</td>\n",
       "      <td>212</td>\n",
       "      <td>117</td>\n",
       "      <td>56</td>\n",
       "      <td>58</td>\n",
       "      <td>76</td>\n",
       "      <td>67</td>\n",
       "      <td>...</td>\n",
       "      <td>0</td>\n",
       "      <td>14</td>\n",
       "      <td>14</td>\n",
       "      <td>13</td>\n",
       "      <td>11</td>\n",
       "      <td>31</td>\n",
       "      <td>19</td>\n",
       "      <td>Lessing</td>\n",
       "      <td>Emilia Galotti</td>\n",
       "      <td>5000</td>\n",
       "    </tr>\n",
       "    <tr>\n",
       "      <th>18</th>\n",
       "      <td>141</td>\n",
       "      <td>88</td>\n",
       "      <td>125</td>\n",
       "      <td>74</td>\n",
       "      <td>231</td>\n",
       "      <td>96</td>\n",
       "      <td>63</td>\n",
       "      <td>55</td>\n",
       "      <td>55</td>\n",
       "      <td>54</td>\n",
       "      <td>...</td>\n",
       "      <td>0</td>\n",
       "      <td>18</td>\n",
       "      <td>15</td>\n",
       "      <td>19</td>\n",
       "      <td>13</td>\n",
       "      <td>33</td>\n",
       "      <td>20</td>\n",
       "      <td>Lessing</td>\n",
       "      <td>Emilia Galotti</td>\n",
       "      <td>5000</td>\n",
       "    </tr>\n",
       "    <tr>\n",
       "      <th>20</th>\n",
       "      <td>200</td>\n",
       "      <td>90</td>\n",
       "      <td>76</td>\n",
       "      <td>86</td>\n",
       "      <td>86</td>\n",
       "      <td>91</td>\n",
       "      <td>61</td>\n",
       "      <td>52</td>\n",
       "      <td>46</td>\n",
       "      <td>82</td>\n",
       "      <td>...</td>\n",
       "      <td>3</td>\n",
       "      <td>13</td>\n",
       "      <td>26</td>\n",
       "      <td>18</td>\n",
       "      <td>14</td>\n",
       "      <td>31</td>\n",
       "      <td>16</td>\n",
       "      <td>Lessing</td>\n",
       "      <td>Minna von Barnhelm</td>\n",
       "      <td>5000</td>\n",
       "    </tr>\n",
       "    <tr>\n",
       "      <th>21</th>\n",
       "      <td>133</td>\n",
       "      <td>91</td>\n",
       "      <td>82</td>\n",
       "      <td>63</td>\n",
       "      <td>126</td>\n",
       "      <td>77</td>\n",
       "      <td>49</td>\n",
       "      <td>58</td>\n",
       "      <td>67</td>\n",
       "      <td>121</td>\n",
       "      <td>...</td>\n",
       "      <td>0</td>\n",
       "      <td>13</td>\n",
       "      <td>31</td>\n",
       "      <td>12</td>\n",
       "      <td>21</td>\n",
       "      <td>28</td>\n",
       "      <td>4</td>\n",
       "      <td>Lessing</td>\n",
       "      <td>Minna von Barnhelm</td>\n",
       "      <td>5000</td>\n",
       "    </tr>\n",
       "    <tr>\n",
       "      <th>22</th>\n",
       "      <td>174</td>\n",
       "      <td>88</td>\n",
       "      <td>75</td>\n",
       "      <td>56</td>\n",
       "      <td>164</td>\n",
       "      <td>109</td>\n",
       "      <td>47</td>\n",
       "      <td>75</td>\n",
       "      <td>58</td>\n",
       "      <td>62</td>\n",
       "      <td>...</td>\n",
       "      <td>0</td>\n",
       "      <td>24</td>\n",
       "      <td>19</td>\n",
       "      <td>4</td>\n",
       "      <td>15</td>\n",
       "      <td>36</td>\n",
       "      <td>8</td>\n",
       "      <td>Lessing</td>\n",
       "      <td>Minna von Barnhelm</td>\n",
       "      <td>5000</td>\n",
       "    </tr>\n",
       "    <tr>\n",
       "      <th>23</th>\n",
       "      <td>124</td>\n",
       "      <td>65</td>\n",
       "      <td>60</td>\n",
       "      <td>68</td>\n",
       "      <td>159</td>\n",
       "      <td>82</td>\n",
       "      <td>55</td>\n",
       "      <td>68</td>\n",
       "      <td>48</td>\n",
       "      <td>41</td>\n",
       "      <td>...</td>\n",
       "      <td>0</td>\n",
       "      <td>12</td>\n",
       "      <td>18</td>\n",
       "      <td>9</td>\n",
       "      <td>14</td>\n",
       "      <td>24</td>\n",
       "      <td>5</td>\n",
       "      <td>Lessing</td>\n",
       "      <td>Minna von Barnhelm</td>\n",
       "      <td>5000</td>\n",
       "    </tr>\n",
       "    <tr>\n",
       "      <th>24</th>\n",
       "      <td>167</td>\n",
       "      <td>77</td>\n",
       "      <td>72</td>\n",
       "      <td>70</td>\n",
       "      <td>207</td>\n",
       "      <td>90</td>\n",
       "      <td>62</td>\n",
       "      <td>64</td>\n",
       "      <td>66</td>\n",
       "      <td>43</td>\n",
       "      <td>...</td>\n",
       "      <td>6</td>\n",
       "      <td>15</td>\n",
       "      <td>14</td>\n",
       "      <td>9</td>\n",
       "      <td>14</td>\n",
       "      <td>26</td>\n",
       "      <td>14</td>\n",
       "      <td>Lessing</td>\n",
       "      <td>Minna von Barnhelm</td>\n",
       "      <td>5000</td>\n",
       "    </tr>\n",
       "    <tr>\n",
       "      <th>26</th>\n",
       "      <td>108</td>\n",
       "      <td>105</td>\n",
       "      <td>71</td>\n",
       "      <td>49</td>\n",
       "      <td>33</td>\n",
       "      <td>100</td>\n",
       "      <td>64</td>\n",
       "      <td>59</td>\n",
       "      <td>52</td>\n",
       "      <td>87</td>\n",
       "      <td>...</td>\n",
       "      <td>30</td>\n",
       "      <td>11</td>\n",
       "      <td>9</td>\n",
       "      <td>7</td>\n",
       "      <td>11</td>\n",
       "      <td>9</td>\n",
       "      <td>6</td>\n",
       "      <td>Lessing</td>\n",
       "      <td>Nathan der Weise</td>\n",
       "      <td>5000</td>\n",
       "    </tr>\n",
       "    <tr>\n",
       "      <th>27</th>\n",
       "      <td>125</td>\n",
       "      <td>101</td>\n",
       "      <td>61</td>\n",
       "      <td>55</td>\n",
       "      <td>36</td>\n",
       "      <td>129</td>\n",
       "      <td>58</td>\n",
       "      <td>67</td>\n",
       "      <td>53</td>\n",
       "      <td>59</td>\n",
       "      <td>...</td>\n",
       "      <td>28</td>\n",
       "      <td>16</td>\n",
       "      <td>8</td>\n",
       "      <td>7</td>\n",
       "      <td>20</td>\n",
       "      <td>14</td>\n",
       "      <td>8</td>\n",
       "      <td>Lessing</td>\n",
       "      <td>Nathan der Weise</td>\n",
       "      <td>5000</td>\n",
       "    </tr>\n",
       "    <tr>\n",
       "      <th>28</th>\n",
       "      <td>161</td>\n",
       "      <td>80</td>\n",
       "      <td>82</td>\n",
       "      <td>55</td>\n",
       "      <td>20</td>\n",
       "      <td>126</td>\n",
       "      <td>77</td>\n",
       "      <td>85</td>\n",
       "      <td>53</td>\n",
       "      <td>75</td>\n",
       "      <td>...</td>\n",
       "      <td>39</td>\n",
       "      <td>17</td>\n",
       "      <td>9</td>\n",
       "      <td>6</td>\n",
       "      <td>12</td>\n",
       "      <td>6</td>\n",
       "      <td>9</td>\n",
       "      <td>Lessing</td>\n",
       "      <td>Nathan der Weise</td>\n",
       "      <td>5000</td>\n",
       "    </tr>\n",
       "    <tr>\n",
       "      <th>29</th>\n",
       "      <td>142</td>\n",
       "      <td>95</td>\n",
       "      <td>105</td>\n",
       "      <td>64</td>\n",
       "      <td>41</td>\n",
       "      <td>108</td>\n",
       "      <td>114</td>\n",
       "      <td>69</td>\n",
       "      <td>48</td>\n",
       "      <td>61</td>\n",
       "      <td>...</td>\n",
       "      <td>48</td>\n",
       "      <td>16</td>\n",
       "      <td>7</td>\n",
       "      <td>10</td>\n",
       "      <td>11</td>\n",
       "      <td>10</td>\n",
       "      <td>9</td>\n",
       "      <td>Lessing</td>\n",
       "      <td>Nathan der Weise</td>\n",
       "      <td>5000</td>\n",
       "    </tr>\n",
       "    <tr>\n",
       "      <th>30</th>\n",
       "      <td>142</td>\n",
       "      <td>94</td>\n",
       "      <td>87</td>\n",
       "      <td>62</td>\n",
       "      <td>42</td>\n",
       "      <td>103</td>\n",
       "      <td>71</td>\n",
       "      <td>74</td>\n",
       "      <td>46</td>\n",
       "      <td>43</td>\n",
       "      <td>...</td>\n",
       "      <td>25</td>\n",
       "      <td>13</td>\n",
       "      <td>14</td>\n",
       "      <td>7</td>\n",
       "      <td>9</td>\n",
       "      <td>16</td>\n",
       "      <td>4</td>\n",
       "      <td>Lessing</td>\n",
       "      <td>Nathan der Weise</td>\n",
       "      <td>5000</td>\n",
       "    </tr>\n",
       "    <tr>\n",
       "      <th>31</th>\n",
       "      <td>119</td>\n",
       "      <td>84</td>\n",
       "      <td>69</td>\n",
       "      <td>48</td>\n",
       "      <td>70</td>\n",
       "      <td>117</td>\n",
       "      <td>85</td>\n",
       "      <td>60</td>\n",
       "      <td>48</td>\n",
       "      <td>53</td>\n",
       "      <td>...</td>\n",
       "      <td>37</td>\n",
       "      <td>14</td>\n",
       "      <td>8</td>\n",
       "      <td>8</td>\n",
       "      <td>12</td>\n",
       "      <td>14</td>\n",
       "      <td>8</td>\n",
       "      <td>Lessing</td>\n",
       "      <td>Nathan der Weise</td>\n",
       "      <td>5000</td>\n",
       "    </tr>\n",
       "    <tr>\n",
       "      <th>33</th>\n",
       "      <td>86</td>\n",
       "      <td>110</td>\n",
       "      <td>114</td>\n",
       "      <td>112</td>\n",
       "      <td>26</td>\n",
       "      <td>62</td>\n",
       "      <td>73</td>\n",
       "      <td>78</td>\n",
       "      <td>71</td>\n",
       "      <td>75</td>\n",
       "      <td>...</td>\n",
       "      <td>30</td>\n",
       "      <td>11</td>\n",
       "      <td>9</td>\n",
       "      <td>18</td>\n",
       "      <td>16</td>\n",
       "      <td>19</td>\n",
       "      <td>13</td>\n",
       "      <td>Schiller</td>\n",
       "      <td>Die Räuber</td>\n",
       "      <td>5000</td>\n",
       "    </tr>\n",
       "    <tr>\n",
       "      <th>34</th>\n",
       "      <td>93</td>\n",
       "      <td>172</td>\n",
       "      <td>92</td>\n",
       "      <td>89</td>\n",
       "      <td>14</td>\n",
       "      <td>60</td>\n",
       "      <td>58</td>\n",
       "      <td>76</td>\n",
       "      <td>47</td>\n",
       "      <td>36</td>\n",
       "      <td>...</td>\n",
       "      <td>17</td>\n",
       "      <td>26</td>\n",
       "      <td>24</td>\n",
       "      <td>18</td>\n",
       "      <td>27</td>\n",
       "      <td>18</td>\n",
       "      <td>9</td>\n",
       "      <td>Schiller</td>\n",
       "      <td>Die Räuber</td>\n",
       "      <td>5000</td>\n",
       "    </tr>\n",
       "    <tr>\n",
       "      <th>35</th>\n",
       "      <td>107</td>\n",
       "      <td>110</td>\n",
       "      <td>95</td>\n",
       "      <td>81</td>\n",
       "      <td>18</td>\n",
       "      <td>65</td>\n",
       "      <td>54</td>\n",
       "      <td>53</td>\n",
       "      <td>45</td>\n",
       "      <td>88</td>\n",
       "      <td>...</td>\n",
       "      <td>18</td>\n",
       "      <td>13</td>\n",
       "      <td>10</td>\n",
       "      <td>11</td>\n",
       "      <td>20</td>\n",
       "      <td>12</td>\n",
       "      <td>15</td>\n",
       "      <td>Schiller</td>\n",
       "      <td>Die Räuber</td>\n",
       "      <td>5000</td>\n",
       "    </tr>\n",
       "    <tr>\n",
       "      <th>36</th>\n",
       "      <td>111</td>\n",
       "      <td>174</td>\n",
       "      <td>117</td>\n",
       "      <td>127</td>\n",
       "      <td>38</td>\n",
       "      <td>40</td>\n",
       "      <td>50</td>\n",
       "      <td>60</td>\n",
       "      <td>45</td>\n",
       "      <td>64</td>\n",
       "      <td>...</td>\n",
       "      <td>7</td>\n",
       "      <td>26</td>\n",
       "      <td>33</td>\n",
       "      <td>12</td>\n",
       "      <td>16</td>\n",
       "      <td>21</td>\n",
       "      <td>13</td>\n",
       "      <td>Schiller</td>\n",
       "      <td>Die Räuber</td>\n",
       "      <td>5000</td>\n",
       "    </tr>\n",
       "    <tr>\n",
       "      <th>37</th>\n",
       "      <td>116</td>\n",
       "      <td>138</td>\n",
       "      <td>83</td>\n",
       "      <td>90</td>\n",
       "      <td>63</td>\n",
       "      <td>52</td>\n",
       "      <td>54</td>\n",
       "      <td>59</td>\n",
       "      <td>40</td>\n",
       "      <td>36</td>\n",
       "      <td>...</td>\n",
       "      <td>27</td>\n",
       "      <td>8</td>\n",
       "      <td>8</td>\n",
       "      <td>15</td>\n",
       "      <td>15</td>\n",
       "      <td>12</td>\n",
       "      <td>16</td>\n",
       "      <td>Schiller</td>\n",
       "      <td>Die Räuber</td>\n",
       "      <td>5000</td>\n",
       "    </tr>\n",
       "    <tr>\n",
       "      <th>38</th>\n",
       "      <td>123</td>\n",
       "      <td>138</td>\n",
       "      <td>95</td>\n",
       "      <td>66</td>\n",
       "      <td>48</td>\n",
       "      <td>71</td>\n",
       "      <td>34</td>\n",
       "      <td>61</td>\n",
       "      <td>42</td>\n",
       "      <td>66</td>\n",
       "      <td>...</td>\n",
       "      <td>28</td>\n",
       "      <td>21</td>\n",
       "      <td>5</td>\n",
       "      <td>18</td>\n",
       "      <td>14</td>\n",
       "      <td>19</td>\n",
       "      <td>22</td>\n",
       "      <td>Schiller</td>\n",
       "      <td>Die Räuber</td>\n",
       "      <td>5000</td>\n",
       "    </tr>\n",
       "    <tr>\n",
       "      <th>39</th>\n",
       "      <td>107</td>\n",
       "      <td>133</td>\n",
       "      <td>110</td>\n",
       "      <td>112</td>\n",
       "      <td>34</td>\n",
       "      <td>58</td>\n",
       "      <td>39</td>\n",
       "      <td>44</td>\n",
       "      <td>54</td>\n",
       "      <td>60</td>\n",
       "      <td>...</td>\n",
       "      <td>11</td>\n",
       "      <td>18</td>\n",
       "      <td>27</td>\n",
       "      <td>17</td>\n",
       "      <td>25</td>\n",
       "      <td>14</td>\n",
       "      <td>19</td>\n",
       "      <td>Schiller</td>\n",
       "      <td>Die Räuber</td>\n",
       "      <td>5000</td>\n",
       "    </tr>\n",
       "    <tr>\n",
       "      <th>40</th>\n",
       "      <td>134</td>\n",
       "      <td>113</td>\n",
       "      <td>88</td>\n",
       "      <td>87</td>\n",
       "      <td>23</td>\n",
       "      <td>59</td>\n",
       "      <td>40</td>\n",
       "      <td>60</td>\n",
       "      <td>61</td>\n",
       "      <td>51</td>\n",
       "      <td>...</td>\n",
       "      <td>38</td>\n",
       "      <td>21</td>\n",
       "      <td>4</td>\n",
       "      <td>18</td>\n",
       "      <td>19</td>\n",
       "      <td>24</td>\n",
       "      <td>17</td>\n",
       "      <td>Schiller</td>\n",
       "      <td>Die Räuber</td>\n",
       "      <td>5000</td>\n",
       "    </tr>\n",
       "    <tr>\n",
       "      <th>42</th>\n",
       "      <td>123</td>\n",
       "      <td>124</td>\n",
       "      <td>91</td>\n",
       "      <td>91</td>\n",
       "      <td>74</td>\n",
       "      <td>52</td>\n",
       "      <td>45</td>\n",
       "      <td>86</td>\n",
       "      <td>52</td>\n",
       "      <td>74</td>\n",
       "      <td>...</td>\n",
       "      <td>1</td>\n",
       "      <td>18</td>\n",
       "      <td>4</td>\n",
       "      <td>24</td>\n",
       "      <td>16</td>\n",
       "      <td>15</td>\n",
       "      <td>33</td>\n",
       "      <td>Schiller</td>\n",
       "      <td>Kabale und Liebe</td>\n",
       "      <td>5000</td>\n",
       "    </tr>\n",
       "    <tr>\n",
       "      <th>43</th>\n",
       "      <td>135</td>\n",
       "      <td>120</td>\n",
       "      <td>92</td>\n",
       "      <td>102</td>\n",
       "      <td>103</td>\n",
       "      <td>61</td>\n",
       "      <td>74</td>\n",
       "      <td>65</td>\n",
       "      <td>41</td>\n",
       "      <td>26</td>\n",
       "      <td>...</td>\n",
       "      <td>1</td>\n",
       "      <td>5</td>\n",
       "      <td>9</td>\n",
       "      <td>26</td>\n",
       "      <td>12</td>\n",
       "      <td>16</td>\n",
       "      <td>23</td>\n",
       "      <td>Schiller</td>\n",
       "      <td>Kabale und Liebe</td>\n",
       "      <td>5000</td>\n",
       "    </tr>\n",
       "    <tr>\n",
       "      <th>44</th>\n",
       "      <td>100</td>\n",
       "      <td>118</td>\n",
       "      <td>97</td>\n",
       "      <td>98</td>\n",
       "      <td>133</td>\n",
       "      <td>51</td>\n",
       "      <td>76</td>\n",
       "      <td>77</td>\n",
       "      <td>53</td>\n",
       "      <td>50</td>\n",
       "      <td>...</td>\n",
       "      <td>2</td>\n",
       "      <td>14</td>\n",
       "      <td>22</td>\n",
       "      <td>26</td>\n",
       "      <td>14</td>\n",
       "      <td>21</td>\n",
       "      <td>21</td>\n",
       "      <td>Schiller</td>\n",
       "      <td>Kabale und Liebe</td>\n",
       "      <td>5000</td>\n",
       "    </tr>\n",
       "    <tr>\n",
       "      <th>45</th>\n",
       "      <td>110</td>\n",
       "      <td>122</td>\n",
       "      <td>105</td>\n",
       "      <td>81</td>\n",
       "      <td>129</td>\n",
       "      <td>48</td>\n",
       "      <td>72</td>\n",
       "      <td>66</td>\n",
       "      <td>68</td>\n",
       "      <td>31</td>\n",
       "      <td>...</td>\n",
       "      <td>1</td>\n",
       "      <td>12</td>\n",
       "      <td>13</td>\n",
       "      <td>22</td>\n",
       "      <td>11</td>\n",
       "      <td>13</td>\n",
       "      <td>26</td>\n",
       "      <td>Schiller</td>\n",
       "      <td>Kabale und Liebe</td>\n",
       "      <td>5000</td>\n",
       "    </tr>\n",
       "    <tr>\n",
       "      <th>46</th>\n",
       "      <td>117</td>\n",
       "      <td>108</td>\n",
       "      <td>78</td>\n",
       "      <td>88</td>\n",
       "      <td>135</td>\n",
       "      <td>62</td>\n",
       "      <td>64</td>\n",
       "      <td>54</td>\n",
       "      <td>47</td>\n",
       "      <td>33</td>\n",
       "      <td>...</td>\n",
       "      <td>7</td>\n",
       "      <td>8</td>\n",
       "      <td>8</td>\n",
       "      <td>24</td>\n",
       "      <td>11</td>\n",
       "      <td>19</td>\n",
       "      <td>31</td>\n",
       "      <td>Schiller</td>\n",
       "      <td>Kabale und Liebe</td>\n",
       "      <td>5000</td>\n",
       "    </tr>\n",
       "    <tr>\n",
       "      <th>47</th>\n",
       "      <td>122</td>\n",
       "      <td>129</td>\n",
       "      <td>76</td>\n",
       "      <td>89</td>\n",
       "      <td>99</td>\n",
       "      <td>65</td>\n",
       "      <td>59</td>\n",
       "      <td>84</td>\n",
       "      <td>51</td>\n",
       "      <td>65</td>\n",
       "      <td>...</td>\n",
       "      <td>1</td>\n",
       "      <td>17</td>\n",
       "      <td>11</td>\n",
       "      <td>22</td>\n",
       "      <td>13</td>\n",
       "      <td>16</td>\n",
       "      <td>27</td>\n",
       "      <td>Schiller</td>\n",
       "      <td>Kabale und Liebe</td>\n",
       "      <td>5000</td>\n",
       "    </tr>\n",
       "    <tr>\n",
       "      <th>49</th>\n",
       "      <td>110</td>\n",
       "      <td>121</td>\n",
       "      <td>100</td>\n",
       "      <td>104</td>\n",
       "      <td>48</td>\n",
       "      <td>63</td>\n",
       "      <td>84</td>\n",
       "      <td>58</td>\n",
       "      <td>37</td>\n",
       "      <td>50</td>\n",
       "      <td>...</td>\n",
       "      <td>15</td>\n",
       "      <td>12</td>\n",
       "      <td>16</td>\n",
       "      <td>14</td>\n",
       "      <td>12</td>\n",
       "      <td>7</td>\n",
       "      <td>11</td>\n",
       "      <td>Schiller</td>\n",
       "      <td>Turandot, Prinzessin von China</td>\n",
       "      <td>5000</td>\n",
       "    </tr>\n",
       "    <tr>\n",
       "      <th>50</th>\n",
       "      <td>102</td>\n",
       "      <td>123</td>\n",
       "      <td>116</td>\n",
       "      <td>124</td>\n",
       "      <td>40</td>\n",
       "      <td>72</td>\n",
       "      <td>86</td>\n",
       "      <td>76</td>\n",
       "      <td>84</td>\n",
       "      <td>53</td>\n",
       "      <td>...</td>\n",
       "      <td>22</td>\n",
       "      <td>5</td>\n",
       "      <td>3</td>\n",
       "      <td>9</td>\n",
       "      <td>16</td>\n",
       "      <td>4</td>\n",
       "      <td>11</td>\n",
       "      <td>Schiller</td>\n",
       "      <td>Turandot, Prinzessin von China</td>\n",
       "      <td>5000</td>\n",
       "    </tr>\n",
       "    <tr>\n",
       "      <th>51</th>\n",
       "      <td>121</td>\n",
       "      <td>128</td>\n",
       "      <td>83</td>\n",
       "      <td>81</td>\n",
       "      <td>62</td>\n",
       "      <td>77</td>\n",
       "      <td>100</td>\n",
       "      <td>43</td>\n",
       "      <td>68</td>\n",
       "      <td>24</td>\n",
       "      <td>...</td>\n",
       "      <td>35</td>\n",
       "      <td>7</td>\n",
       "      <td>18</td>\n",
       "      <td>7</td>\n",
       "      <td>19</td>\n",
       "      <td>5</td>\n",
       "      <td>13</td>\n",
       "      <td>Schiller</td>\n",
       "      <td>Turandot, Prinzessin von China</td>\n",
       "      <td>5000</td>\n",
       "    </tr>\n",
       "    <tr>\n",
       "      <th>52</th>\n",
       "      <td>147</td>\n",
       "      <td>98</td>\n",
       "      <td>83</td>\n",
       "      <td>102</td>\n",
       "      <td>69</td>\n",
       "      <td>64</td>\n",
       "      <td>87</td>\n",
       "      <td>39</td>\n",
       "      <td>54</td>\n",
       "      <td>40</td>\n",
       "      <td>...</td>\n",
       "      <td>68</td>\n",
       "      <td>6</td>\n",
       "      <td>3</td>\n",
       "      <td>20</td>\n",
       "      <td>16</td>\n",
       "      <td>4</td>\n",
       "      <td>8</td>\n",
       "      <td>Schiller</td>\n",
       "      <td>Turandot, Prinzessin von China</td>\n",
       "      <td>5000</td>\n",
       "    </tr>\n",
       "  </tbody>\n",
       "</table>\n",
       "<p>45 rows × 53 columns</p>\n",
       "</div>"
      ],
      "text/plain": [
       "    ich  und  der  die  sie  nicht   zu  das  ist   er  ...  euch  da  wir  \\\n",
       "0   176  200   96  118   73     52   79   84   55   38  ...     2  23    7   \n",
       "1   146  204   97  142  100     50   74   78   47   22  ...     0  25   49   \n",
       "2   180  169   99  116   86     67   79   81   70   30  ...     3  18   11   \n",
       "4   103  160  122  117   26     62   67   60   53   30  ...    28  18    8   \n",
       "5    94  137  127  120   40     66   51   69   59   52  ...    15  14   27   \n",
       "6   112  145   90   98   45     57   60   61   51   33  ...    43  15   22   \n",
       "7   118  149   75  111   60     73   70   71   73   51  ...    20  17   13   \n",
       "8   136  161   68   73   48     83   67   63   73   36  ...    16  20   10   \n",
       "9   107  149  108  133   69     71   54   72   63   28  ...    15  33   37   \n",
       "11  104  175  141  104   48     68   65   52   38   38  ...     4  12   13   \n",
       "12   85  165  133  118   72     64   56   47   33   33  ...    13   8    9   \n",
       "13   96  148  131  130   59     63   65   63   41   37  ...     3   6   15   \n",
       "15  138   90  176   92  135     89   63   66   70   47  ...     1  13   10   \n",
       "16  176  115  106   73  107     90   70   64   63   65  ...     1  13    7   \n",
       "17  150   85  136   75  212    117   56   58   76   67  ...     0  14   14   \n",
       "18  141   88  125   74  231     96   63   55   55   54  ...     0  18   15   \n",
       "20  200   90   76   86   86     91   61   52   46   82  ...     3  13   26   \n",
       "21  133   91   82   63  126     77   49   58   67  121  ...     0  13   31   \n",
       "22  174   88   75   56  164    109   47   75   58   62  ...     0  24   19   \n",
       "23  124   65   60   68  159     82   55   68   48   41  ...     0  12   18   \n",
       "24  167   77   72   70  207     90   62   64   66   43  ...     6  15   14   \n",
       "26  108  105   71   49   33    100   64   59   52   87  ...    30  11    9   \n",
       "27  125  101   61   55   36    129   58   67   53   59  ...    28  16    8   \n",
       "28  161   80   82   55   20    126   77   85   53   75  ...    39  17    9   \n",
       "29  142   95  105   64   41    108  114   69   48   61  ...    48  16    7   \n",
       "30  142   94   87   62   42    103   71   74   46   43  ...    25  13   14   \n",
       "31  119   84   69   48   70    117   85   60   48   53  ...    37  14    8   \n",
       "33   86  110  114  112   26     62   73   78   71   75  ...    30  11    9   \n",
       "34   93  172   92   89   14     60   58   76   47   36  ...    17  26   24   \n",
       "35  107  110   95   81   18     65   54   53   45   88  ...    18  13   10   \n",
       "36  111  174  117  127   38     40   50   60   45   64  ...     7  26   33   \n",
       "37  116  138   83   90   63     52   54   59   40   36  ...    27   8    8   \n",
       "38  123  138   95   66   48     71   34   61   42   66  ...    28  21    5   \n",
       "39  107  133  110  112   34     58   39   44   54   60  ...    11  18   27   \n",
       "40  134  113   88   87   23     59   40   60   61   51  ...    38  21    4   \n",
       "42  123  124   91   91   74     52   45   86   52   74  ...     1  18    4   \n",
       "43  135  120   92  102  103     61   74   65   41   26  ...     1   5    9   \n",
       "44  100  118   97   98  133     51   76   77   53   50  ...     2  14   22   \n",
       "45  110  122  105   81  129     48   72   66   68   31  ...     1  12   13   \n",
       "46  117  108   78   88  135     62   64   54   47   33  ...     7   8    8   \n",
       "47  122  129   76   89   99     65   59   84   51   65  ...     1  17   11   \n",
       "49  110  121  100  104   48     63   84   58   37   50  ...    15  12   16   \n",
       "50  102  123  116  124   40     72   86   76   84   53  ...    22   5    3   \n",
       "51  121  128   83   81   62     77  100   43   68   24  ...    35   7   18   \n",
       "52  147   98   83  102   69     64   87   39   54   40  ...    68   6    3   \n",
       "\n",
       "    eine  aus  aber  meine    author                           title  \\\n",
       "0     32   13     8     14    Goethe   Die Leiden des jungen Werther   \n",
       "1     22   11     9     12    Goethe   Die Leiden des jungen Werther   \n",
       "2     20   12     9     12    Goethe   Die Leiden des jungen Werther   \n",
       "4     11   13     2     10    Goethe                         Faust I   \n",
       "5      9   18     7      4    Goethe                         Faust I   \n",
       "6     10   15     1      5    Goethe                         Faust I   \n",
       "7     16    9     2      5    Goethe                         Faust I   \n",
       "8      8   11     5     13    Goethe                         Faust I   \n",
       "9      9   15     5      3    Goethe                         Faust I   \n",
       "11     9   13     2     11    Goethe            Iphigenie auf Tauris   \n",
       "12    11   20     1      4    Goethe            Iphigenie auf Tauris   \n",
       "13    11    9     4      9    Goethe            Iphigenie auf Tauris   \n",
       "15    24   16    35      9   Lessing                  Emilia Galotti   \n",
       "16    17   13    30     43   Lessing                  Emilia Galotti   \n",
       "17    13   11    31     19   Lessing                  Emilia Galotti   \n",
       "18    19   13    33     20   Lessing                  Emilia Galotti   \n",
       "20    18   14    31     16   Lessing              Minna von Barnhelm   \n",
       "21    12   21    28      4   Lessing              Minna von Barnhelm   \n",
       "22     4   15    36      8   Lessing              Minna von Barnhelm   \n",
       "23     9   14    24      5   Lessing              Minna von Barnhelm   \n",
       "24     9   14    26     14   Lessing              Minna von Barnhelm   \n",
       "26     7   11     9      6   Lessing                Nathan der Weise   \n",
       "27     7   20    14      8   Lessing                Nathan der Weise   \n",
       "28     6   12     6      9   Lessing                Nathan der Weise   \n",
       "29    10   11    10      9   Lessing                Nathan der Weise   \n",
       "30     7    9    16      4   Lessing                Nathan der Weise   \n",
       "31     8   12    14      8   Lessing                Nathan der Weise   \n",
       "33    18   16    19     13  Schiller                      Die Räuber   \n",
       "34    18   27    18      9  Schiller                      Die Räuber   \n",
       "35    11   20    12     15  Schiller                      Die Räuber   \n",
       "36    12   16    21     13  Schiller                      Die Räuber   \n",
       "37    15   15    12     16  Schiller                      Die Räuber   \n",
       "38    18   14    19     22  Schiller                      Die Räuber   \n",
       "39    17   25    14     19  Schiller                      Die Räuber   \n",
       "40    18   19    24     17  Schiller                      Die Räuber   \n",
       "42    24   16    15     33  Schiller                Kabale und Liebe   \n",
       "43    26   12    16     23  Schiller                Kabale und Liebe   \n",
       "44    26   14    21     21  Schiller                Kabale und Liebe   \n",
       "45    22   11    13     26  Schiller                Kabale und Liebe   \n",
       "46    24   11    19     31  Schiller                Kabale und Liebe   \n",
       "47    22   13    16     27  Schiller                Kabale und Liebe   \n",
       "49    14   12     7     11  Schiller  Turandot, Prinzessin von China   \n",
       "50     9   16     4     11  Schiller  Turandot, Prinzessin von China   \n",
       "51     7   19     5     13  Schiller  Turandot, Prinzessin von China   \n",
       "52    20   16     4      8  Schiller  Turandot, Prinzessin von China   \n",
       "\n",
       "    chunksize  \n",
       "0        5000  \n",
       "1        5000  \n",
       "2        5000  \n",
       "4        5000  \n",
       "5        5000  \n",
       "6        5000  \n",
       "7        5000  \n",
       "8        5000  \n",
       "9        5000  \n",
       "11       5000  \n",
       "12       5000  \n",
       "13       5000  \n",
       "15       5000  \n",
       "16       5000  \n",
       "17       5000  \n",
       "18       5000  \n",
       "20       5000  \n",
       "21       5000  \n",
       "22       5000  \n",
       "23       5000  \n",
       "24       5000  \n",
       "26       5000  \n",
       "27       5000  \n",
       "28       5000  \n",
       "29       5000  \n",
       "30       5000  \n",
       "31       5000  \n",
       "33       5000  \n",
       "34       5000  \n",
       "35       5000  \n",
       "36       5000  \n",
       "37       5000  \n",
       "38       5000  \n",
       "39       5000  \n",
       "40       5000  \n",
       "42       5000  \n",
       "43       5000  \n",
       "44       5000  \n",
       "45       5000  \n",
       "46       5000  \n",
       "47       5000  \n",
       "49       5000  \n",
       "50       5000  \n",
       "51       5000  \n",
       "52       5000  \n",
       "\n",
       "[45 rows x 53 columns]"
      ]
     },
     "execution_count": 17,
     "metadata": {},
     "output_type": "execute_result"
    }
   ],
   "source": [
    "chunksize = 5000\n",
    "frequency_vectors = []\n",
    "\n",
    "for p in list(Path(\"texts\").glob(\"*.txt\")):\n",
    "    filename = str(p)\n",
    "    author = re.search(r\"\\\\(.*) - \", filename).groups()[0]\n",
    "    title = re.search(r\" - (.*)\\.txt\", filename).groups()[0]\n",
    "    text = p.read_text()\n",
    "    text = text.lower()\n",
    "    words = re.split(r\"[\\W_]+\", text) # \\W = non-word characters\n",
    "    \n",
    "    chunks = [words[idx : idx+chunksize] for idx in range(0, len(words), chunksize)]\n",
    "    for chunk in chunks:\n",
    "        # count the frequencies (but only of the globally frequent words)\n",
    "        word_counter = {}\n",
    "        for word in frequent_words:\n",
    "            word_counter[word] = 0\n",
    "        for word in chunk:\n",
    "            if word in frequent_words:\n",
    "                word_counter[word] = word_counter[word] + 1\n",
    "\n",
    "        word_counter[\"author\"] = author\n",
    "        word_counter[\"title\"] = title\n",
    "        word_counter[\"chunksize\"] = len(chunk)\n",
    "        frequency_vectors.append(word_counter)\n",
    "\n",
    "freqs = pd.DataFrame(frequency_vectors)\n",
    "freqs = freqs[freqs[\"chunksize\"] == chunksize] # eliminate small blocks (end of book)\n",
    "freqs"
   ]
  },
  {
   "cell_type": "markdown",
   "metadata": {},
   "source": [
    "Obige Tabelle ist der eigentliche Datensatz mit jeweils 50 Dimensionen pro Zeile.\n",
    "\n",
    "Nun reduzieren wir die Dimensionen mittels PCA auf 3 Hauptkomponenten. Man sieht, dass die ersten beiden Hauptkomponenten bereits 56% der Varianz erklären. Durch Hinzunahme der dritten Hauptkomponente werden 64% der Varianz erklärt. (Das ist für ursprünglich 50 Dimensionen bereits relativ gut!)"
   ]
  },
  {
   "cell_type": "code",
   "execution_count": 18,
   "metadata": {},
   "outputs": [
    {
     "name": "stdout",
     "output_type": "stream",
     "text": [
      "[0.3594702  0.20633515 0.0750588 ]  sum:  0.6408641530512011\n"
     ]
    },
    {
     "data": {
      "text/html": [
       "<div>\n",
       "<style scoped>\n",
       "    .dataframe tbody tr th:only-of-type {\n",
       "        vertical-align: middle;\n",
       "    }\n",
       "\n",
       "    .dataframe tbody tr th {\n",
       "        vertical-align: top;\n",
       "    }\n",
       "\n",
       "    .dataframe thead th {\n",
       "        text-align: right;\n",
       "    }\n",
       "</style>\n",
       "<table border=\"1\" class=\"dataframe\">\n",
       "  <thead>\n",
       "    <tr style=\"text-align: right;\">\n",
       "      <th></th>\n",
       "      <th>ich</th>\n",
       "      <th>und</th>\n",
       "      <th>der</th>\n",
       "      <th>die</th>\n",
       "      <th>sie</th>\n",
       "      <th>nicht</th>\n",
       "      <th>zu</th>\n",
       "      <th>das</th>\n",
       "      <th>ist</th>\n",
       "      <th>er</th>\n",
       "      <th>...</th>\n",
       "      <th>eine</th>\n",
       "      <th>aus</th>\n",
       "      <th>aber</th>\n",
       "      <th>meine</th>\n",
       "      <th>author</th>\n",
       "      <th>title</th>\n",
       "      <th>chunksize</th>\n",
       "      <th>PC 1</th>\n",
       "      <th>PC 2</th>\n",
       "      <th>PC 3</th>\n",
       "    </tr>\n",
       "  </thead>\n",
       "  <tbody>\n",
       "    <tr>\n",
       "      <th>0</th>\n",
       "      <td>176</td>\n",
       "      <td>200</td>\n",
       "      <td>96</td>\n",
       "      <td>118</td>\n",
       "      <td>73</td>\n",
       "      <td>52</td>\n",
       "      <td>79</td>\n",
       "      <td>84</td>\n",
       "      <td>55</td>\n",
       "      <td>38</td>\n",
       "      <td>...</td>\n",
       "      <td>32</td>\n",
       "      <td>13</td>\n",
       "      <td>8</td>\n",
       "      <td>14</td>\n",
       "      <td>Goethe</td>\n",
       "      <td>Die Leiden des jungen Werther</td>\n",
       "      <td>5000</td>\n",
       "      <td>-31.878012</td>\n",
       "      <td>-52.355270</td>\n",
       "      <td>81.781096</td>\n",
       "    </tr>\n",
       "    <tr>\n",
       "      <th>1</th>\n",
       "      <td>146</td>\n",
       "      <td>204</td>\n",
       "      <td>97</td>\n",
       "      <td>142</td>\n",
       "      <td>100</td>\n",
       "      <td>50</td>\n",
       "      <td>74</td>\n",
       "      <td>78</td>\n",
       "      <td>47</td>\n",
       "      <td>22</td>\n",
       "      <td>...</td>\n",
       "      <td>22</td>\n",
       "      <td>11</td>\n",
       "      <td>9</td>\n",
       "      <td>12</td>\n",
       "      <td>Goethe</td>\n",
       "      <td>Die Leiden des jungen Werther</td>\n",
       "      <td>5000</td>\n",
       "      <td>-30.203729</td>\n",
       "      <td>-84.877476</td>\n",
       "      <td>80.334977</td>\n",
       "    </tr>\n",
       "    <tr>\n",
       "      <th>2</th>\n",
       "      <td>180</td>\n",
       "      <td>169</td>\n",
       "      <td>99</td>\n",
       "      <td>116</td>\n",
       "      <td>86</td>\n",
       "      <td>67</td>\n",
       "      <td>79</td>\n",
       "      <td>81</td>\n",
       "      <td>70</td>\n",
       "      <td>30</td>\n",
       "      <td>...</td>\n",
       "      <td>20</td>\n",
       "      <td>12</td>\n",
       "      <td>9</td>\n",
       "      <td>12</td>\n",
       "      <td>Goethe</td>\n",
       "      <td>Die Leiden des jungen Werther</td>\n",
       "      <td>5000</td>\n",
       "      <td>-8.140628</td>\n",
       "      <td>-36.809083</td>\n",
       "      <td>72.765477</td>\n",
       "    </tr>\n",
       "    <tr>\n",
       "      <th>4</th>\n",
       "      <td>103</td>\n",
       "      <td>160</td>\n",
       "      <td>122</td>\n",
       "      <td>117</td>\n",
       "      <td>26</td>\n",
       "      <td>62</td>\n",
       "      <td>67</td>\n",
       "      <td>60</td>\n",
       "      <td>53</td>\n",
       "      <td>30</td>\n",
       "      <td>...</td>\n",
       "      <td>11</td>\n",
       "      <td>13</td>\n",
       "      <td>2</td>\n",
       "      <td>10</td>\n",
       "      <td>Goethe</td>\n",
       "      <td>Faust I</td>\n",
       "      <td>5000</td>\n",
       "      <td>-78.874723</td>\n",
       "      <td>-10.862589</td>\n",
       "      <td>22.022126</td>\n",
       "    </tr>\n",
       "    <tr>\n",
       "      <th>5</th>\n",
       "      <td>94</td>\n",
       "      <td>137</td>\n",
       "      <td>127</td>\n",
       "      <td>120</td>\n",
       "      <td>40</td>\n",
       "      <td>66</td>\n",
       "      <td>51</td>\n",
       "      <td>69</td>\n",
       "      <td>59</td>\n",
       "      <td>52</td>\n",
       "      <td>...</td>\n",
       "      <td>9</td>\n",
       "      <td>18</td>\n",
       "      <td>7</td>\n",
       "      <td>4</td>\n",
       "      <td>Goethe</td>\n",
       "      <td>Faust I</td>\n",
       "      <td>5000</td>\n",
       "      <td>-59.399966</td>\n",
       "      <td>-17.149846</td>\n",
       "      <td>-4.770960</td>\n",
       "    </tr>\n",
       "  </tbody>\n",
       "</table>\n",
       "<p>5 rows × 56 columns</p>\n",
       "</div>"
      ],
      "text/plain": [
       "   ich  und  der  die  sie  nicht  zu  das  ist  er  ...  eine  aus  aber  \\\n",
       "0  176  200   96  118   73     52  79   84   55  38  ...    32   13     8   \n",
       "1  146  204   97  142  100     50  74   78   47  22  ...    22   11     9   \n",
       "2  180  169   99  116   86     67  79   81   70  30  ...    20   12     9   \n",
       "4  103  160  122  117   26     62  67   60   53  30  ...    11   13     2   \n",
       "5   94  137  127  120   40     66  51   69   59  52  ...     9   18     7   \n",
       "\n",
       "   meine  author                          title  chunksize       PC 1  \\\n",
       "0     14  Goethe  Die Leiden des jungen Werther       5000 -31.878012   \n",
       "1     12  Goethe  Die Leiden des jungen Werther       5000 -30.203729   \n",
       "2     12  Goethe  Die Leiden des jungen Werther       5000  -8.140628   \n",
       "4     10  Goethe                        Faust I       5000 -78.874723   \n",
       "5      4  Goethe                        Faust I       5000 -59.399966   \n",
       "\n",
       "        PC 2       PC 3  \n",
       "0 -52.355270  81.781096  \n",
       "1 -84.877476  80.334977  \n",
       "2 -36.809083  72.765477  \n",
       "4 -10.862589  22.022126  \n",
       "5 -17.149846  -4.770960  \n",
       "\n",
       "[5 rows x 56 columns]"
      ]
     },
     "execution_count": 18,
     "metadata": {},
     "output_type": "execute_result"
    }
   ],
   "source": [
    "pca = PCA(n_components=3).fit(freqs.iloc[:, 0:50])\n",
    "freqs[[\"PC 1\", \"PC 2\", \"PC 3\"]] = pca.transform(freqs.iloc[:, 0:50])\n",
    "\n",
    "print(pca.explained_variance_ratio_, \" sum: \", pca.explained_variance_ratio_.sum())\n",
    "freqs.head()"
   ]
  },
  {
   "cell_type": "code",
   "execution_count": 32,
   "metadata": {},
   "outputs": [
    {
     "data": {
      "text/plain": [
       "<seaborn.axisgrid.FacetGrid at 0x1a560755100>"
      ]
     },
     "execution_count": 32,
     "metadata": {},
     "output_type": "execute_result"
    },
    {
     "data": {
      "image/png": "[encoded data removed]",
      "text/plain": [
       "<Figure size 864.375x300 with 1 Axes>"
      ]
     },
     "metadata": {},
     "output_type": "display_data"
    }
   ],
   "source": [
    "sns.relplot(data=freqs, x=\"PC 1\", y=\"PC 2\", hue=\"author\", style = \"title\", aspect = 2, height=3)"
   ]
  },
  {
   "cell_type": "markdown",
   "metadata": {},
   "source": [
    "In der zweidimensionalen Visualisierung erkennt man bereits deutliche Unterschiede zwischen Lessing und den beiden anderen Autoren. Zwischen Goethe und Schiller zu unterscheiden ist jedoch nicht direkt möglich."
   ]
  },
  {
   "cell_type": "code",
   "execution_count": 20,
   "metadata": {},
   "outputs": [
    {
     "data": {
      "application/vnd.plotly.v1+json": {
       "config": {
        "plotlyServerURL": "https://plot.ly"
       },
       "data": [
        {
         "hovertemplate": "author=Goethe<br>title=Die Leiden des jungen Werther<br>PC 1=%{x}<br>PC 2=%{y}<br>PC 3=%{z}<extra></extra>",
         "legendgroup": "Goethe, Die Leiden des jungen Werther",
         "marker": {
          "color": "#636efa",
          "symbol": "circle"
         },
         "mode": "markers",
         "name": "Goethe, Die Leiden des jungen Werther",
         "scene": "scene",
         "showlegend": true,
         "type": "scatter3d",
         "x": [
          -31.878011921995064,
          -30.20372868916177,
          -8.14062828801395
         ],
         "y": [
          -52.35526992251855,
          -84.87747585782901,
          -36.809082629972146
         ],
         "z": [
          81.78109586771703,
          80.33497675368382,
          72.76547657312204
         ]
        },
        {
         "hovertemplate": "author=Goethe<br>title=Faust I<br>PC 1=%{x}<br>PC 2=%{y}<br>PC 3=%{z}<extra></extra>",
         "legendgroup": "Goethe, Faust I",
         "marker": {
          "color": "#636efa",
          "symbol": "diamond"
         },
         "mode": "markers",
         "name": "Goethe, Faust I",
         "scene": "scene",
         "showlegend": true,
         "type": "scatter3d",
         "x": [
          -78.87472295460034,
          -59.39996586774711,
          -54.98003990845089,
          -38.59695679746305,
          -38.26021889290071,
          -41.485212933590454
         ],
         "y": [
          -10.862588590355667,
          -17.149846160724035,
          12.74482442520064,
          2.8318999397006532,
          28.40680289146875,
          -32.29183915678335
         ],
         "z": [
          22.022126260936723,
          -4.770960018744043,
          14.34493084421793,
          17.274743183067862,
          32.44134907343337,
          15.741304690457682
         ]
        },
        {
         "hovertemplate": "author=Goethe<br>title=Iphigenie auf Tauris<br>PC 1=%{x}<br>PC 2=%{y}<br>PC 3=%{z}<extra></extra>",
         "legendgroup": "Goethe, Iphigenie auf Tauris",
         "marker": {
          "color": "#636efa",
          "symbol": "square"
         },
         "mode": "markers",
         "name": "Goethe, Iphigenie auf Tauris",
         "scene": "scene",
         "showlegend": true,
         "type": "scatter3d",
         "x": [
          -68.16037738747089,
          -59.615967972436565,
          -58.352629283089826
         ],
         "y": [
          -44.687356316576874,
          -55.704781166765116,
          -48.35535643642474
         ],
         "z": [
          1.1756832607706933,
          -12.11116001053734,
          -10.847955290222757
         ]
        },
        {
         "hovertemplate": "author=Lessing<br>title=Emilia Galotti<br>PC 1=%{x}<br>PC 2=%{y}<br>PC 3=%{z}<extra></extra>",
         "legendgroup": "Lessing, Emilia Galotti",
         "marker": {
          "color": "#EF553B",
          "symbol": "x"
         },
         "mode": "markers",
         "name": "Lessing, Emilia Galotti",
         "scene": "scene",
         "showlegend": true,
         "type": "scatter3d",
         "x": [
          73.02608087997314,
          71.19506469973001,
          153.4591363791712,
          159.89146383716053
         ],
         "y": [
          -29.98140985742641,
          7.1099747548772285,
          -39.566368332973035,
          -53.19563761424561
         ],
         "z": [
          2.689413031425084,
          36.48265565040122,
          1.0908424413680162,
          -4.202521473212428
         ]
        },
        {
         "hovertemplate": "author=Lessing<br>title=Minna von Barnhelm<br>PC 1=%{x}<br>PC 2=%{y}<br>PC 3=%{z}<extra></extra>",
         "legendgroup": "Lessing, Minna von Barnhelm",
         "marker": {
          "color": "#EF553B",
          "symbol": "cross"
         },
         "mode": "markers",
         "name": "Lessing, Minna von Barnhelm",
         "scene": "scene",
         "showlegend": true,
         "type": "scatter3d",
         "x": [
          55.79404830240345,
          84.99786089966831,
          121.13630162112328,
          107.23575721369535,
          148.74221802581746
         ],
         "y": [
          25.564501856667302,
          19.68741933313102,
          10.295230855667786,
          -6.178804493631585,
          -27.22516973397512
         ],
         "z": [
          8.445519103760176,
          -38.26309783995382,
          4.226929487645174,
          -32.33707482631121,
          2.09205476422623
         ]
        },
        {
         "hovertemplate": "author=Lessing<br>title=Nathan der Weise<br>PC 1=%{x}<br>PC 2=%{y}<br>PC 3=%{z}<extra></extra>",
         "legendgroup": "Lessing, Nathan der Weise",
         "marker": {
          "color": "#EF553B",
          "symbol": "circle"
         },
         "mode": "markers",
         "name": "Lessing, Nathan der Weise",
         "scene": "scene",
         "showlegend": true,
         "type": "scatter3d",
         "x": [
          -6.7293469948236435,
          4.0492879523773055,
          13.138695670153602,
          9.56072429308296,
          9.757506906050867,
          30.521643881543653
         ],
         "y": [
          99.59820124669383,
          109.04943280628399,
          128.58537436566226,
          98.42233885251316,
          86.1091418346546,
          102.08481910814764
         ],
         "z": [
          -6.413174010485987,
          4.129842250531588,
          24.84912017250313,
          32.31283411605296,
          22.805980724010205,
          0.8743185795780217
         ]
        },
        {
         "hovertemplate": "author=Schiller<br>title=Die Räuber<br>PC 1=%{x}<br>PC 2=%{y}<br>PC 3=%{z}<extra></extra>",
         "legendgroup": "Schiller, Die Räuber",
         "marker": {
          "color": "#00cc96",
          "symbol": "diamond"
         },
         "mode": "markers",
         "name": "Schiller, Die Räuber",
         "scene": "scene",
         "showlegend": true,
         "type": "scatter3d",
         "x": [
          -48.596763095504244,
          -96.6446468225941,
          -63.16960712974361,
          -84.86076225156083,
          -41.01955763138512,
          -38.37737116393985,
          -61.22989687975631,
          -48.21475289881011
         ],
         "y": [
          12.233051879734555,
          -2.05847732987095,
          21.549031029537666,
          -42.727551949626374,
          -9.777237493053896,
          17.854237187869252,
          -15.446698112563237,
          30.893583490477784
         ],
         "z": [
          -27.68905828205398,
          -14.80481165949524,
          -65.38605924565164,
          -13.77541661954658,
          -20.35094593223445,
          -29.182373319262062,
          -44.738560639212466,
          -22.73545535505686
         ]
        },
        {
         "hovertemplate": "author=Schiller<br>title=Kabale und Liebe<br>PC 1=%{x}<br>PC 2=%{y}<br>PC 3=%{z}<extra></extra>",
         "legendgroup": "Schiller, Kabale und Liebe",
         "marker": {
          "color": "#00cc96",
          "symbol": "square"
         },
         "mode": "markers",
         "name": "Schiller, Kabale und Liebe",
         "scene": "scene",
         "showlegend": true,
         "type": "scatter3d",
         "x": [
          -7.562432337632877,
          16.11246498284061,
          29.343056095143282,
          32.79728310885979,
          46.99362060530418,
          8.523898828010415
         ],
         "y": [
          -12.048446800232291,
          -48.03758674893935,
          -60.05775896733732,
          -50.106114119298724,
          -35.38788694347236,
          -25.80235955946284
         ],
         "z": [
          -24.856316208738615,
          -4.366386236893585,
          -31.25344881552471,
          -20.094070992586772,
          -24.676983504942022,
          -27.651394533368464
         ]
        },
        {
         "hovertemplate": "author=Schiller<br>title=Turandot, Prinzessin von China<br>PC 1=%{x}<br>PC 2=%{y}<br>PC 3=%{z}<extra></extra>",
         "legendgroup": "Schiller, Turandot, Prinzessin von China",
         "marker": {
          "color": "#00cc96",
          "symbol": "x"
         },
         "mode": "markers",
         "name": "Schiller, Turandot, Prinzessin von China",
         "scene": "scene",
         "showlegend": true,
         "type": "scatter3d",
         "x": [
          -39.138178947721904,
          -47.75225597399625,
          -22.499588556214285,
          -2.5324926015055023
         ],
         "y": [
          -7.804138200463385,
          -8.3190125687211,
          21.6593066130036,
          22.13508259195119
         ],
         "z": [
          -4.734529314457842,
          -5.940122748209206,
          5.083920848754092,
          8.216759199038643
         ]
        }
       ],
       "layout": {
        "legend": {
         "title": {
          "text": "author, title"
         },
         "tracegroupgap": 0
        },
        "margin": {
         "t": 60
        },
        "scene": {
         "domain": {
          "x": [
           0,
           1
          ],
          "y": [
           0,
           1
          ]
         },
         "xaxis": {
          "title": {
           "text": "PC 1"
          }
         },
         "yaxis": {
          "title": {
           "text": "PC 2"
          }
         },
         "zaxis": {
          "title": {
           "text": "PC 3"
          }
         }
        },
        "template": {
         "data": {
          "bar": [
           {
            "error_x": {
             "color": "#2a3f5f"
            },
            "error_y": {
             "color": "#2a3f5f"
            },
            "marker": {
             "line": {
              "color": "#E5ECF6",
              "width": 0.5
             },
             "pattern": {
              "fillmode": "overlay",
              "size": 10,
              "solidity": 0.2
             }
            },
            "type": "bar"
           }
          ],
          "barpolar": [
           {
            "marker": {
             "line": {
              "color": "#E5ECF6",
              "width": 0.5
             },
             "pattern": {
              "fillmode": "overlay",
              "size": 10,
              "solidity": 0.2
             }
            },
            "type": "barpolar"
           }
          ],
          "carpet": [
           {
            "aaxis": {
             "endlinecolor": "#2a3f5f",
             "gridcolor": "white",
             "linecolor": "white",
             "minorgridcolor": "white",
             "startlinecolor": "#2a3f5f"
            },
            "baxis": {
             "endlinecolor": "#2a3f5f",
             "gridcolor": "white",
             "linecolor": "white",
             "minorgridcolor": "white",
             "startlinecolor": "#2a3f5f"
            },
            "type": "carpet"
           }
          ],
          "choropleth": [
           {
            "colorbar": {
             "outlinewidth": 0,
             "ticks": ""
            },
            "type": "choropleth"
           }
          ],
          "contour": [
           {
            "colorbar": {
             "outlinewidth": 0,
             "ticks": ""
            },
            "colorscale": [
             [
              0,
              "#0d0887"
             ],
             [
              0.1111111111111111,
              "#46039f"
             ],
             [
              0.2222222222222222,
              "#7201a8"
             ],
             [
              0.3333333333333333,
              "#9c179e"
             ],
             [
              0.4444444444444444,
              "#bd3786"
             ],
             [
              0.5555555555555556,
              "#d8576b"
             ],
             [
              0.6666666666666666,
              "#ed7953"
             ],
             [
              0.7777777777777778,
              "#fb9f3a"
             ],
             [
              0.8888888888888888,
              "#fdca26"
             ],
             [
              1,
              "#f0f921"
             ]
            ],
            "type": "contour"
           }
          ],
          "contourcarpet": [
           {
            "colorbar": {
             "outlinewidth": 0,
             "ticks": ""
            },
            "type": "contourcarpet"
           }
          ],
          "heatmap": [
           {
            "colorbar": {
             "outlinewidth": 0,
             "ticks": ""
            },
            "colorscale": [
             [
              0,
              "#0d0887"
             ],
             [
              0.1111111111111111,
              "#46039f"
             ],
             [
              0.2222222222222222,
              "#7201a8"
             ],
             [
              0.3333333333333333,
              "#9c179e"
             ],
             [
              0.4444444444444444,
              "#bd3786"
             ],
             [
              0.5555555555555556,
              "#d8576b"
             ],
             [
              0.6666666666666666,
              "#ed7953"
             ],
             [
              0.7777777777777778,
              "#fb9f3a"
             ],
             [
              0.8888888888888888,
              "#fdca26"
             ],
             [
              1,
              "#f0f921"
             ]
            ],
            "type": "heatmap"
           }
          ],
          "heatmapgl": [
           {
            "colorbar": {
             "outlinewidth": 0,
             "ticks": ""
            },
            "colorscale": [
             [
              0,
              "#0d0887"
             ],
             [
              0.1111111111111111,
              "#46039f"
             ],
             [
              0.2222222222222222,
              "#7201a8"
             ],
             [
              0.3333333333333333,
              "#9c179e"
             ],
             [
              0.4444444444444444,
              "#bd3786"
             ],
             [
              0.5555555555555556,
              "#d8576b"
             ],
             [
              0.6666666666666666,
              "#ed7953"
             ],
             [
              0.7777777777777778,
              "#fb9f3a"
             ],
             [
              0.8888888888888888,
              "#fdca26"
             ],
             [
              1,
              "#f0f921"
             ]
            ],
            "type": "heatmapgl"
           }
          ],
          "histogram": [
           {
            "marker": {
             "pattern": {
              "fillmode": "overlay",
              "size": 10,
              "solidity": 0.2
             }
            },
            "type": "histogram"
           }
          ],
          "histogram2d": [
           {
            "colorbar": {
             "outlinewidth": 0,
             "ticks": ""
            },
            "colorscale": [
             [
              0,
              "#0d0887"
             ],
             [
              0.1111111111111111,
              "#46039f"
             ],
             [
              0.2222222222222222,
              "#7201a8"
             ],
             [
              0.3333333333333333,
              "#9c179e"
             ],
             [
              0.4444444444444444,
              "#bd3786"
             ],
             [
              0.5555555555555556,
              "#d8576b"
             ],
             [
              0.6666666666666666,
              "#ed7953"
             ],
             [
              0.7777777777777778,
              "#fb9f3a"
             ],
             [
              0.8888888888888888,
              "#fdca26"
             ],
             [
              1,
              "#f0f921"
             ]
            ],
            "type": "histogram2d"
           }
          ],
          "histogram2dcontour": [
           {
            "colorbar": {
             "outlinewidth": 0,
             "ticks": ""
            },
            "colorscale": [
             [
              0,
              "#0d0887"
             ],
             [
              0.1111111111111111,
              "#46039f"
             ],
             [
              0.2222222222222222,
              "#7201a8"
             ],
             [
              0.3333333333333333,
              "#9c179e"
             ],
             [
              0.4444444444444444,
              "#bd3786"
             ],
             [
              0.5555555555555556,
              "#d8576b"
             ],
             [
              0.6666666666666666,
              "#ed7953"
             ],
             [
              0.7777777777777778,
              "#fb9f3a"
             ],
             [
              0.8888888888888888,
              "#fdca26"
             ],
             [
              1,
              "#f0f921"
             ]
            ],
            "type": "histogram2dcontour"
           }
          ],
          "mesh3d": [
           {
            "colorbar": {
             "outlinewidth": 0,
             "ticks": ""
            },
            "type": "mesh3d"
           }
          ],
          "parcoords": [
           {
            "line": {
             "colorbar": {
              "outlinewidth": 0,
              "ticks": ""
             }
            },
            "type": "parcoords"
           }
          ],
          "pie": [
           {
            "automargin": true,
            "type": "pie"
           }
          ],
          "scatter": [
           {
            "fillpattern": {
             "fillmode": "overlay",
             "size": 10,
             "solidity": 0.2
            },
            "type": "scatter"
           }
          ],
          "scatter3d": [
           {
            "line": {
             "colorbar": {
              "outlinewidth": 0,
              "ticks": ""
             }
            },
            "marker": {
             "colorbar": {
              "outlinewidth": 0,
              "ticks": ""
             }
            },
            "type": "scatter3d"
           }
          ],
          "scattercarpet": [
           {
            "marker": {
             "colorbar": {
              "outlinewidth": 0,
              "ticks": ""
             }
            },
            "type": "scattercarpet"
           }
          ],
          "scattergeo": [
           {
            "marker": {
             "colorbar": {
              "outlinewidth": 0,
              "ticks": ""
             }
            },
            "type": "scattergeo"
           }
          ],
          "scattergl": [
           {
            "marker": {
             "colorbar": {
              "outlinewidth": 0,
              "ticks": ""
             }
            },
            "type": "scattergl"
           }
          ],
          "scattermapbox": [
           {
            "marker": {
             "colorbar": {
              "outlinewidth": 0,
              "ticks": ""
             }
            },
            "type": "scattermapbox"
           }
          ],
          "scatterpolar": [
           {
            "marker": {
             "colorbar": {
              "outlinewidth": 0,
              "ticks": ""
             }
            },
            "type": "scatterpolar"
           }
          ],
          "scatterpolargl": [
           {
            "marker": {
             "colorbar": {
              "outlinewidth": 0,
              "ticks": ""
             }
            },
            "type": "scatterpolargl"
           }
          ],
          "scatterternary": [
           {
            "marker": {
             "colorbar": {
              "outlinewidth": 0,
              "ticks": ""
             }
            },
            "type": "scatterternary"
           }
          ],
          "surface": [
           {
            "colorbar": {
             "outlinewidth": 0,
             "ticks": ""
            },
            "colorscale": [
             [
              0,
              "#0d0887"
             ],
             [
              0.1111111111111111,
              "#46039f"
             ],
             [
              0.2222222222222222,
              "#7201a8"
             ],
             [
              0.3333333333333333,
              "#9c179e"
             ],
             [
              0.4444444444444444,
              "#bd3786"
             ],
             [
              0.5555555555555556,
              "#d8576b"
             ],
             [
              0.6666666666666666,
              "#ed7953"
             ],
             [
              0.7777777777777778,
              "#fb9f3a"
             ],
             [
              0.8888888888888888,
              "#fdca26"
             ],
             [
              1,
              "#f0f921"
             ]
            ],
            "type": "surface"
           }
          ],
          "table": [
           {
            "cells": {
             "fill": {
              "color": "#EBF0F8"
             },
             "line": {
              "color": "white"
             }
            },
            "header": {
             "fill": {
              "color": "#C8D4E3"
             },
             "line": {
              "color": "white"
             }
            },
            "type": "table"
           }
          ]
         },
         "layout": {
          "annotationdefaults": {
           "arrowcolor": "#2a3f5f",
           "arrowhead": 0,
           "arrowwidth": 1
          },
          "autotypenumbers": "strict",
          "coloraxis": {
           "colorbar": {
            "outlinewidth": 0,
            "ticks": ""
           }
          },
          "colorscale": {
           "diverging": [
            [
             0,
             "#8e0152"
            ],
            [
             0.1,
             "#c51b7d"
            ],
            [
             0.2,
             "#de77ae"
            ],
            [
             0.3,
             "#f1b6da"
            ],
            [
             0.4,
             "#fde0ef"
            ],
            [
             0.5,
             "#f7f7f7"
            ],
            [
             0.6,
             "#e6f5d0"
            ],
            [
             0.7,
             "#b8e186"
            ],
            [
             0.8,
             "#7fbc41"
            ],
            [
             0.9,
             "#4d9221"
            ],
            [
             1,
             "#276419"
            ]
           ],
           "sequential": [
            [
             0,
             "#0d0887"
            ],
            [
             0.1111111111111111,
             "#46039f"
            ],
            [
             0.2222222222222222,
             "#7201a8"
            ],
            [
             0.3333333333333333,
             "#9c179e"
            ],
            [
             0.4444444444444444,
             "#bd3786"
            ],
            [
             0.5555555555555556,
             "#d8576b"
            ],
            [
             0.6666666666666666,
             "#ed7953"
            ],
            [
             0.7777777777777778,
             "#fb9f3a"
            ],
            [
             0.8888888888888888,
             "#fdca26"
            ],
            [
             1,
             "#f0f921"
            ]
           ],
           "sequentialminus": [
            [
             0,
             "#0d0887"
            ],
            [
             0.1111111111111111,
             "#46039f"
            ],
            [
             0.2222222222222222,
             "#7201a8"
            ],
            [
             0.3333333333333333,
             "#9c179e"
            ],
            [
             0.4444444444444444,
             "#bd3786"
            ],
            [
             0.5555555555555556,
             "#d8576b"
            ],
            [
             0.6666666666666666,
             "#ed7953"
            ],
            [
             0.7777777777777778,
             "#fb9f3a"
            ],
            [
             0.8888888888888888,
             "#fdca26"
            ],
            [
             1,
             "#f0f921"
            ]
           ]
          },
          "colorway": [
           "#636efa",
           "#EF553B",
           "#00cc96",
           "#ab63fa",
           "#FFA15A",
           "#19d3f3",
           "#FF6692",
           "#B6E880",
           "#FF97FF",
           "#FECB52"
          ],
          "font": {
           "color": "#2a3f5f"
          },
          "geo": {
           "bgcolor": "white",
           "lakecolor": "white",
           "landcolor": "#E5ECF6",
           "showlakes": true,
           "showland": true,
           "subunitcolor": "white"
          },
          "hoverlabel": {
           "align": "left"
          },
          "hovermode": "closest",
          "mapbox": {
           "style": "light"
          },
          "paper_bgcolor": "white",
          "plot_bgcolor": "#E5ECF6",
          "polar": {
           "angularaxis": {
            "gridcolor": "white",
            "linecolor": "white",
            "ticks": ""
           },
           "bgcolor": "#E5ECF6",
           "radialaxis": {
            "gridcolor": "white",
            "linecolor": "white",
            "ticks": ""
           }
          },
          "scene": {
           "xaxis": {
            "backgroundcolor": "#E5ECF6",
            "gridcolor": "white",
            "gridwidth": 2,
            "linecolor": "white",
            "showbackground": true,
            "ticks": "",
            "zerolinecolor": "white"
           },
           "yaxis": {
            "backgroundcolor": "#E5ECF6",
            "gridcolor": "white",
            "gridwidth": 2,
            "linecolor": "white",
            "showbackground": true,
            "ticks": "",
            "zerolinecolor": "white"
           },
           "zaxis": {
            "backgroundcolor": "#E5ECF6",
            "gridcolor": "white",
            "gridwidth": 2,
            "linecolor": "white",
            "showbackground": true,
            "ticks": "",
            "zerolinecolor": "white"
           }
          },
          "shapedefaults": {
           "line": {
            "color": "#2a3f5f"
           }
          },
          "ternary": {
           "aaxis": {
            "gridcolor": "white",
            "linecolor": "white",
            "ticks": ""
           },
           "baxis": {
            "gridcolor": "white",
            "linecolor": "white",
            "ticks": ""
           },
           "bgcolor": "#E5ECF6",
           "caxis": {
            "gridcolor": "white",
            "linecolor": "white",
            "ticks": ""
           }
          },
          "title": {
           "x": 0.05
          },
          "xaxis": {
           "automargin": true,
           "gridcolor": "white",
           "linecolor": "white",
           "ticks": "",
           "title": {
            "standoff": 15
           },
           "zerolinecolor": "white",
           "zerolinewidth": 2
          },
          "yaxis": {
           "automargin": true,
           "gridcolor": "white",
           "linecolor": "white",
           "ticks": "",
           "title": {
            "standoff": 15
           },
           "zerolinecolor": "white",
           "zerolinewidth": 2
          }
         }
        }
       }
      }
     },
     "metadata": {},
     "output_type": "display_data"
    }
   ],
   "source": [
    "fig = px.scatter_3d(freqs, x=\"PC 1\", y=\"PC 2\", z=\"PC 3\", color=\"author\", symbol = \"title\")\n",
    "fig.show()"
   ]
  },
  {
   "cell_type": "markdown",
   "metadata": {},
   "source": [
    "Durch Hinzunahme der dritten Hauptkomponente sind auch Goethe und Schiller voneinander trennbar. "
   ]
  },
  {
   "cell_type": "code",
   "execution_count": 21,
   "metadata": {},
   "outputs": [
    {
     "data": {
      "text/html": [
       "<div>\n",
       "<style scoped>\n",
       "    .dataframe tbody tr th:only-of-type {\n",
       "        vertical-align: middle;\n",
       "    }\n",
       "\n",
       "    .dataframe tbody tr th {\n",
       "        vertical-align: top;\n",
       "    }\n",
       "\n",
       "    .dataframe thead th {\n",
       "        text-align: right;\n",
       "    }\n",
       "</style>\n",
       "<table border=\"1\" class=\"dataframe\">\n",
       "  <thead>\n",
       "    <tr style=\"text-align: right;\">\n",
       "      <th></th>\n",
       "      <th>word</th>\n",
       "      <th>PC 1</th>\n",
       "      <th>PC 2</th>\n",
       "      <th>PC 3</th>\n",
       "    </tr>\n",
       "  </thead>\n",
       "  <tbody>\n",
       "    <tr>\n",
       "      <th>0</th>\n",
       "      <td>ich</td>\n",
       "      <td>0.235112</td>\n",
       "      <td>0.071668</td>\n",
       "      <td>0.500397</td>\n",
       "    </tr>\n",
       "    <tr>\n",
       "      <th>1</th>\n",
       "      <td>und</td>\n",
       "      <td>-0.363455</td>\n",
       "      <td>-0.327753</td>\n",
       "      <td>0.431647</td>\n",
       "    </tr>\n",
       "    <tr>\n",
       "      <th>2</th>\n",
       "      <td>der</td>\n",
       "      <td>-0.047479</td>\n",
       "      <td>-0.230509</td>\n",
       "      <td>0.005153</td>\n",
       "    </tr>\n",
       "    <tr>\n",
       "      <th>3</th>\n",
       "      <td>die</td>\n",
       "      <td>-0.207558</td>\n",
       "      <td>-0.340000</td>\n",
       "      <td>0.158414</td>\n",
       "    </tr>\n",
       "    <tr>\n",
       "      <th>4</th>\n",
       "      <td>sie</td>\n",
       "      <td>0.724582</td>\n",
       "      <td>-0.465573</td>\n",
       "      <td>-0.008408</td>\n",
       "    </tr>\n",
       "    <tr>\n",
       "      <th>5</th>\n",
       "      <td>nicht</td>\n",
       "      <td>0.184676</td>\n",
       "      <td>0.301394</td>\n",
       "      <td>0.125270</td>\n",
       "    </tr>\n",
       "    <tr>\n",
       "      <th>6</th>\n",
       "      <td>zu</td>\n",
       "      <td>0.001018</td>\n",
       "      <td>0.062207</td>\n",
       "      <td>0.249979</td>\n",
       "    </tr>\n",
       "    <tr>\n",
       "      <th>7</th>\n",
       "      <td>das</td>\n",
       "      <td>0.000786</td>\n",
       "      <td>-0.000357</td>\n",
       "      <td>0.125495</td>\n",
       "    </tr>\n",
       "    <tr>\n",
       "      <th>8</th>\n",
       "      <td>ist</td>\n",
       "      <td>0.048293</td>\n",
       "      <td>-0.001261</td>\n",
       "      <td>0.065736</td>\n",
       "    </tr>\n",
       "    <tr>\n",
       "      <th>9</th>\n",
       "      <td>er</td>\n",
       "      <td>0.072297</td>\n",
       "      <td>0.170767</td>\n",
       "      <td>-0.273579</td>\n",
       "    </tr>\n",
       "  </tbody>\n",
       "</table>\n",
       "</div>"
      ],
      "text/plain": [
       "    word      PC 1      PC 2      PC 3\n",
       "0    ich  0.235112  0.071668  0.500397\n",
       "1    und -0.363455 -0.327753  0.431647\n",
       "2    der -0.047479 -0.230509  0.005153\n",
       "3    die -0.207558 -0.340000  0.158414\n",
       "4    sie  0.724582 -0.465573 -0.008408\n",
       "5  nicht  0.184676  0.301394  0.125270\n",
       "6     zu  0.001018  0.062207  0.249979\n",
       "7    das  0.000786 -0.000357  0.125495\n",
       "8    ist  0.048293 -0.001261  0.065736\n",
       "9     er  0.072297  0.170767 -0.273579"
      ]
     },
     "execution_count": 21,
     "metadata": {},
     "output_type": "execute_result"
    }
   ],
   "source": [
    "directions = pd.DataFrame({\"word\" : frequent_words})\n",
    "\n",
    "directions[[\"PC 1\", \"PC 2\", \"PC 3\"]] = pca.components_.T\n",
    "directions.head(10)"
   ]
  },
  {
   "cell_type": "markdown",
   "metadata": {},
   "source": [
    "Nun ein Blick in die Richtungen der Hauptkomponenten, d.h. in die Koeffizienten der Linearkombinationen."
   ]
  },
  {
   "cell_type": "code",
   "execution_count": 29,
   "metadata": {},
   "outputs": [
    {
     "data": {
      "image/png": "[encoded data removed]",
      "text/plain": [
       "<Figure size 600x600 with 3 Axes>"
      ]
     },
     "metadata": {},
     "output_type": "display_data"
    }
   ],
   "source": [
    "fix, axs = plt.subplots(1, 3, layout = \"constrained\", figsize = (6, 6), sharex=True)\n",
    "sns.barplot(ax = axs[0], x=directions[\"PC 1\"], y = directions[\"word\"])\n",
    "sns.barplot(ax = axs[1], x=directions[\"PC 2\"], y = directions[\"word\"])\n",
    "sns.barplot(ax = axs[2], x=directions[\"PC 3\"], y = directions[\"word\"])\n",
    "plt.show()"
   ]
  },
  {
   "cell_type": "markdown",
   "metadata": {},
   "source": [
    "## Wer hat das unbekannte Buch geschrieben?\n",
    "\n",
    "Wir gehen davon aus, dass im Arbeitsverzeichnis die Datei \"unknown author - Reineke Fuchs.txt\" liegt.\n",
    "Der Code ist identisch zu oben. (Sinnvollerweise hätte man ihn oben direkt als Funktion geschrieben um hier eine Codedopplung zu vermeiden.)"
   ]
  },
  {
   "cell_type": "code",
   "execution_count": 25,
   "metadata": {},
   "outputs": [
    {
     "name": "stdout",
     "output_type": "stream",
     "text": [
      "unknown author - Reineke Fuchs.txt\n"
     ]
    },
    {
     "data": {
      "text/html": [
       "<div>\n",
       "<style scoped>\n",
       "    .dataframe tbody tr th:only-of-type {\n",
       "        vertical-align: middle;\n",
       "    }\n",
       "\n",
       "    .dataframe tbody tr th {\n",
       "        vertical-align: top;\n",
       "    }\n",
       "\n",
       "    .dataframe thead th {\n",
       "        text-align: right;\n",
       "    }\n",
       "</style>\n",
       "<table border=\"1\" class=\"dataframe\">\n",
       "  <thead>\n",
       "    <tr style=\"text-align: right;\">\n",
       "      <th></th>\n",
       "      <th>ich</th>\n",
       "      <th>und</th>\n",
       "      <th>der</th>\n",
       "      <th>die</th>\n",
       "      <th>sie</th>\n",
       "      <th>nicht</th>\n",
       "      <th>zu</th>\n",
       "      <th>das</th>\n",
       "      <th>ist</th>\n",
       "      <th>er</th>\n",
       "      <th>...</th>\n",
       "      <th>euch</th>\n",
       "      <th>da</th>\n",
       "      <th>wir</th>\n",
       "      <th>eine</th>\n",
       "      <th>aus</th>\n",
       "      <th>aber</th>\n",
       "      <th>meine</th>\n",
       "      <th>author</th>\n",
       "      <th>title</th>\n",
       "      <th>chunksize</th>\n",
       "    </tr>\n",
       "  </thead>\n",
       "  <tbody>\n",
       "    <tr>\n",
       "      <th>0</th>\n",
       "      <td>86</td>\n",
       "      <td>231</td>\n",
       "      <td>123</td>\n",
       "      <td>118</td>\n",
       "      <td>47</td>\n",
       "      <td>29</td>\n",
       "      <td>79</td>\n",
       "      <td>43</td>\n",
       "      <td>21</td>\n",
       "      <td>157</td>\n",
       "      <td>...</td>\n",
       "      <td>34</td>\n",
       "      <td>25</td>\n",
       "      <td>9</td>\n",
       "      <td>9</td>\n",
       "      <td>7</td>\n",
       "      <td>24</td>\n",
       "      <td>5</td>\n",
       "      <td>unknown author</td>\n",
       "      <td>Reineke Fuchs</td>\n",
       "      <td>5000</td>\n",
       "    </tr>\n",
       "    <tr>\n",
       "      <th>1</th>\n",
       "      <td>130</td>\n",
       "      <td>231</td>\n",
       "      <td>91</td>\n",
       "      <td>98</td>\n",
       "      <td>59</td>\n",
       "      <td>42</td>\n",
       "      <td>95</td>\n",
       "      <td>47</td>\n",
       "      <td>21</td>\n",
       "      <td>125</td>\n",
       "      <td>...</td>\n",
       "      <td>39</td>\n",
       "      <td>34</td>\n",
       "      <td>18</td>\n",
       "      <td>3</td>\n",
       "      <td>7</td>\n",
       "      <td>21</td>\n",
       "      <td>6</td>\n",
       "      <td>unknown author</td>\n",
       "      <td>Reineke Fuchs</td>\n",
       "      <td>5000</td>\n",
       "    </tr>\n",
       "    <tr>\n",
       "      <th>2</th>\n",
       "      <td>122</td>\n",
       "      <td>244</td>\n",
       "      <td>100</td>\n",
       "      <td>120</td>\n",
       "      <td>52</td>\n",
       "      <td>43</td>\n",
       "      <td>79</td>\n",
       "      <td>53</td>\n",
       "      <td>18</td>\n",
       "      <td>106</td>\n",
       "      <td>...</td>\n",
       "      <td>33</td>\n",
       "      <td>27</td>\n",
       "      <td>14</td>\n",
       "      <td>4</td>\n",
       "      <td>9</td>\n",
       "      <td>16</td>\n",
       "      <td>10</td>\n",
       "      <td>unknown author</td>\n",
       "      <td>Reineke Fuchs</td>\n",
       "      <td>5000</td>\n",
       "    </tr>\n",
       "    <tr>\n",
       "      <th>3</th>\n",
       "      <td>132</td>\n",
       "      <td>246</td>\n",
       "      <td>85</td>\n",
       "      <td>90</td>\n",
       "      <td>56</td>\n",
       "      <td>50</td>\n",
       "      <td>102</td>\n",
       "      <td>57</td>\n",
       "      <td>31</td>\n",
       "      <td>107</td>\n",
       "      <td>...</td>\n",
       "      <td>46</td>\n",
       "      <td>26</td>\n",
       "      <td>19</td>\n",
       "      <td>1</td>\n",
       "      <td>3</td>\n",
       "      <td>21</td>\n",
       "      <td>9</td>\n",
       "      <td>unknown author</td>\n",
       "      <td>Reineke Fuchs</td>\n",
       "      <td>5000</td>\n",
       "    </tr>\n",
       "    <tr>\n",
       "      <th>4</th>\n",
       "      <td>140</td>\n",
       "      <td>265</td>\n",
       "      <td>81</td>\n",
       "      <td>121</td>\n",
       "      <td>101</td>\n",
       "      <td>62</td>\n",
       "      <td>94</td>\n",
       "      <td>69</td>\n",
       "      <td>27</td>\n",
       "      <td>81</td>\n",
       "      <td>...</td>\n",
       "      <td>41</td>\n",
       "      <td>23</td>\n",
       "      <td>24</td>\n",
       "      <td>4</td>\n",
       "      <td>5</td>\n",
       "      <td>24</td>\n",
       "      <td>6</td>\n",
       "      <td>unknown author</td>\n",
       "      <td>Reineke Fuchs</td>\n",
       "      <td>5000</td>\n",
       "    </tr>\n",
       "    <tr>\n",
       "      <th>5</th>\n",
       "      <td>123</td>\n",
       "      <td>236</td>\n",
       "      <td>104</td>\n",
       "      <td>123</td>\n",
       "      <td>114</td>\n",
       "      <td>56</td>\n",
       "      <td>85</td>\n",
       "      <td>53</td>\n",
       "      <td>26</td>\n",
       "      <td>91</td>\n",
       "      <td>...</td>\n",
       "      <td>29</td>\n",
       "      <td>30</td>\n",
       "      <td>13</td>\n",
       "      <td>1</td>\n",
       "      <td>12</td>\n",
       "      <td>16</td>\n",
       "      <td>8</td>\n",
       "      <td>unknown author</td>\n",
       "      <td>Reineke Fuchs</td>\n",
       "      <td>5000</td>\n",
       "    </tr>\n",
       "    <tr>\n",
       "      <th>6</th>\n",
       "      <td>115</td>\n",
       "      <td>254</td>\n",
       "      <td>78</td>\n",
       "      <td>122</td>\n",
       "      <td>77</td>\n",
       "      <td>62</td>\n",
       "      <td>78</td>\n",
       "      <td>52</td>\n",
       "      <td>19</td>\n",
       "      <td>94</td>\n",
       "      <td>...</td>\n",
       "      <td>31</td>\n",
       "      <td>26</td>\n",
       "      <td>13</td>\n",
       "      <td>4</td>\n",
       "      <td>5</td>\n",
       "      <td>13</td>\n",
       "      <td>5</td>\n",
       "      <td>unknown author</td>\n",
       "      <td>Reineke Fuchs</td>\n",
       "      <td>5000</td>\n",
       "    </tr>\n",
       "    <tr>\n",
       "      <th>7</th>\n",
       "      <td>169</td>\n",
       "      <td>220</td>\n",
       "      <td>60</td>\n",
       "      <td>99</td>\n",
       "      <td>66</td>\n",
       "      <td>56</td>\n",
       "      <td>99</td>\n",
       "      <td>58</td>\n",
       "      <td>22</td>\n",
       "      <td>93</td>\n",
       "      <td>...</td>\n",
       "      <td>70</td>\n",
       "      <td>28</td>\n",
       "      <td>15</td>\n",
       "      <td>4</td>\n",
       "      <td>9</td>\n",
       "      <td>21</td>\n",
       "      <td>13</td>\n",
       "      <td>unknown author</td>\n",
       "      <td>Reineke Fuchs</td>\n",
       "      <td>5000</td>\n",
       "    </tr>\n",
       "  </tbody>\n",
       "</table>\n",
       "<p>8 rows × 53 columns</p>\n",
       "</div>"
      ],
      "text/plain": [
       "   ich  und  der  die  sie  nicht   zu  das  ist   er  ...  euch  da  wir  \\\n",
       "0   86  231  123  118   47     29   79   43   21  157  ...    34  25    9   \n",
       "1  130  231   91   98   59     42   95   47   21  125  ...    39  34   18   \n",
       "2  122  244  100  120   52     43   79   53   18  106  ...    33  27   14   \n",
       "3  132  246   85   90   56     50  102   57   31  107  ...    46  26   19   \n",
       "4  140  265   81  121  101     62   94   69   27   81  ...    41  23   24   \n",
       "5  123  236  104  123  114     56   85   53   26   91  ...    29  30   13   \n",
       "6  115  254   78  122   77     62   78   52   19   94  ...    31  26   13   \n",
       "7  169  220   60   99   66     56   99   58   22   93  ...    70  28   15   \n",
       "\n",
       "   eine  aus  aber  meine          author          title  chunksize  \n",
       "0     9    7    24      5  unknown author  Reineke Fuchs       5000  \n",
       "1     3    7    21      6  unknown author  Reineke Fuchs       5000  \n",
       "2     4    9    16     10  unknown author  Reineke Fuchs       5000  \n",
       "3     1    3    21      9  unknown author  Reineke Fuchs       5000  \n",
       "4     4    5    24      6  unknown author  Reineke Fuchs       5000  \n",
       "5     1   12    16      8  unknown author  Reineke Fuchs       5000  \n",
       "6     4    5    13      5  unknown author  Reineke Fuchs       5000  \n",
       "7     4    9    21     13  unknown author  Reineke Fuchs       5000  \n",
       "\n",
       "[8 rows x 53 columns]"
      ]
     },
     "execution_count": 25,
     "metadata": {},
     "output_type": "execute_result"
    }
   ],
   "source": [
    "chunksize = 5000\n",
    "frequency_vectors = []\n",
    "\n",
    "for p in list(Path().glob(\"unknown author - Reineke Fuchs.txt\")):\n",
    "    filename = str(p)\n",
    "    print(filename)\n",
    "    author = re.search(r\"(.*) - \", filename).groups()[0]\n",
    "    title = re.search(r\" - (.*)\\.txt\", filename).groups()[0]\n",
    "    text = p.read_text()\n",
    "    text = text.lower()\n",
    "    words = re.split(r\"[\\W_]+\", text) # \\W = non-word characters\n",
    "    \n",
    "    chunks = [words[idx : idx+chunksize] for idx in range(0, len(words), chunksize)]\n",
    "    for chunk in chunks:\n",
    "        # count the frequencies (but only of the globally frequent words)\n",
    "        word_counter = {}\n",
    "        for word in frequent_words:\n",
    "            word_counter[word] = 0\n",
    "        for word in chunk:\n",
    "            if word in frequent_words:\n",
    "                word_counter[word] = word_counter[word] + 1\n",
    "\n",
    "        word_counter[\"author\"] = author\n",
    "        word_counter[\"title\"] = title\n",
    "        word_counter[\"chunksize\"] = len(chunk)\n",
    "        frequency_vectors.append(word_counter)\n",
    "\n",
    "freqs_new = pd.DataFrame(frequency_vectors)\n",
    "freqs_new = freqs_new[freqs_new[\"chunksize\"] == chunksize] # eliminate small blocks (end of book)\n",
    "freqs_new"
   ]
  },
  {
   "cell_type": "code",
   "execution_count": 27,
   "metadata": {},
   "outputs": [
    {
     "data": {
      "text/html": [
       "<div>\n",
       "<style scoped>\n",
       "    .dataframe tbody tr th:only-of-type {\n",
       "        vertical-align: middle;\n",
       "    }\n",
       "\n",
       "    .dataframe tbody tr th {\n",
       "        vertical-align: top;\n",
       "    }\n",
       "\n",
       "    .dataframe thead th {\n",
       "        text-align: right;\n",
       "    }\n",
       "</style>\n",
       "<table border=\"1\" class=\"dataframe\">\n",
       "  <thead>\n",
       "    <tr style=\"text-align: right;\">\n",
       "      <th></th>\n",
       "      <th>ich</th>\n",
       "      <th>und</th>\n",
       "      <th>der</th>\n",
       "      <th>die</th>\n",
       "      <th>sie</th>\n",
       "      <th>nicht</th>\n",
       "      <th>zu</th>\n",
       "      <th>das</th>\n",
       "      <th>ist</th>\n",
       "      <th>er</th>\n",
       "      <th>...</th>\n",
       "      <th>eine</th>\n",
       "      <th>aus</th>\n",
       "      <th>aber</th>\n",
       "      <th>meine</th>\n",
       "      <th>author</th>\n",
       "      <th>title</th>\n",
       "      <th>chunksize</th>\n",
       "      <th>PC 1</th>\n",
       "      <th>PC 2</th>\n",
       "      <th>PC 3</th>\n",
       "    </tr>\n",
       "  </thead>\n",
       "  <tbody>\n",
       "    <tr>\n",
       "      <th>0</th>\n",
       "      <td>86</td>\n",
       "      <td>231</td>\n",
       "      <td>123</td>\n",
       "      <td>118</td>\n",
       "      <td>47</td>\n",
       "      <td>29</td>\n",
       "      <td>79</td>\n",
       "      <td>43</td>\n",
       "      <td>21</td>\n",
       "      <td>157</td>\n",
       "      <td>...</td>\n",
       "      <td>9</td>\n",
       "      <td>7</td>\n",
       "      <td>24</td>\n",
       "      <td>5</td>\n",
       "      <td>unknown author</td>\n",
       "      <td>Reineke Fuchs</td>\n",
       "      <td>5000</td>\n",
       "      <td>-64.364337</td>\n",
       "      <td>-31.441019</td>\n",
       "      <td>5.762559</td>\n",
       "    </tr>\n",
       "    <tr>\n",
       "      <th>1</th>\n",
       "      <td>130</td>\n",
       "      <td>231</td>\n",
       "      <td>91</td>\n",
       "      <td>98</td>\n",
       "      <td>59</td>\n",
       "      <td>42</td>\n",
       "      <td>95</td>\n",
       "      <td>47</td>\n",
       "      <td>21</td>\n",
       "      <td>125</td>\n",
       "      <td>...</td>\n",
       "      <td>3</td>\n",
       "      <td>7</td>\n",
       "      <td>21</td>\n",
       "      <td>6</td>\n",
       "      <td>unknown author</td>\n",
       "      <td>Reineke Fuchs</td>\n",
       "      <td>5000</td>\n",
       "      <td>-45.821161</td>\n",
       "      <td>-15.717635</td>\n",
       "      <td>42.612064</td>\n",
       "    </tr>\n",
       "    <tr>\n",
       "      <th>2</th>\n",
       "      <td>122</td>\n",
       "      <td>244</td>\n",
       "      <td>100</td>\n",
       "      <td>120</td>\n",
       "      <td>52</td>\n",
       "      <td>43</td>\n",
       "      <td>79</td>\n",
       "      <td>53</td>\n",
       "      <td>18</td>\n",
       "      <td>106</td>\n",
       "      <td>...</td>\n",
       "      <td>4</td>\n",
       "      <td>9</td>\n",
       "      <td>16</td>\n",
       "      <td>10</td>\n",
       "      <td>unknown author</td>\n",
       "      <td>Reineke Fuchs</td>\n",
       "      <td>5000</td>\n",
       "      <td>-57.979291</td>\n",
       "      <td>-33.919110</td>\n",
       "      <td>47.566880</td>\n",
       "    </tr>\n",
       "    <tr>\n",
       "      <th>3</th>\n",
       "      <td>132</td>\n",
       "      <td>246</td>\n",
       "      <td>85</td>\n",
       "      <td>90</td>\n",
       "      <td>56</td>\n",
       "      <td>50</td>\n",
       "      <td>102</td>\n",
       "      <td>57</td>\n",
       "      <td>31</td>\n",
       "      <td>107</td>\n",
       "      <td>...</td>\n",
       "      <td>1</td>\n",
       "      <td>3</td>\n",
       "      <td>21</td>\n",
       "      <td>9</td>\n",
       "      <td>unknown author</td>\n",
       "      <td>Reineke Fuchs</td>\n",
       "      <td>5000</td>\n",
       "      <td>-41.999734</td>\n",
       "      <td>-12.164324</td>\n",
       "      <td>66.073307</td>\n",
       "    </tr>\n",
       "    <tr>\n",
       "      <th>4</th>\n",
       "      <td>140</td>\n",
       "      <td>265</td>\n",
       "      <td>81</td>\n",
       "      <td>121</td>\n",
       "      <td>101</td>\n",
       "      <td>62</td>\n",
       "      <td>94</td>\n",
       "      <td>69</td>\n",
       "      <td>27</td>\n",
       "      <td>81</td>\n",
       "      <td>...</td>\n",
       "      <td>4</td>\n",
       "      <td>5</td>\n",
       "      <td>24</td>\n",
       "      <td>6</td>\n",
       "      <td>unknown author</td>\n",
       "      <td>Reineke Fuchs</td>\n",
       "      <td>5000</td>\n",
       "      <td>-19.182004</td>\n",
       "      <td>-46.494586</td>\n",
       "      <td>92.030409</td>\n",
       "    </tr>\n",
       "    <tr>\n",
       "      <th>5</th>\n",
       "      <td>123</td>\n",
       "      <td>236</td>\n",
       "      <td>104</td>\n",
       "      <td>123</td>\n",
       "      <td>114</td>\n",
       "      <td>56</td>\n",
       "      <td>85</td>\n",
       "      <td>53</td>\n",
       "      <td>26</td>\n",
       "      <td>91</td>\n",
       "      <td>...</td>\n",
       "      <td>1</td>\n",
       "      <td>12</td>\n",
       "      <td>16</td>\n",
       "      <td>8</td>\n",
       "      <td>unknown author</td>\n",
       "      <td>Reineke Fuchs</td>\n",
       "      <td>5000</td>\n",
       "      <td>-11.820748</td>\n",
       "      <td>-58.289275</td>\n",
       "      <td>51.164167</td>\n",
       "    </tr>\n",
       "    <tr>\n",
       "      <th>6</th>\n",
       "      <td>115</td>\n",
       "      <td>254</td>\n",
       "      <td>78</td>\n",
       "      <td>122</td>\n",
       "      <td>77</td>\n",
       "      <td>62</td>\n",
       "      <td>78</td>\n",
       "      <td>52</td>\n",
       "      <td>19</td>\n",
       "      <td>94</td>\n",
       "      <td>...</td>\n",
       "      <td>4</td>\n",
       "      <td>5</td>\n",
       "      <td>13</td>\n",
       "      <td>5</td>\n",
       "      <td>unknown author</td>\n",
       "      <td>Reineke Fuchs</td>\n",
       "      <td>5000</td>\n",
       "      <td>-43.464521</td>\n",
       "      <td>-37.580336</td>\n",
       "      <td>52.217235</td>\n",
       "    </tr>\n",
       "    <tr>\n",
       "      <th>7</th>\n",
       "      <td>169</td>\n",
       "      <td>220</td>\n",
       "      <td>60</td>\n",
       "      <td>99</td>\n",
       "      <td>66</td>\n",
       "      <td>56</td>\n",
       "      <td>99</td>\n",
       "      <td>58</td>\n",
       "      <td>22</td>\n",
       "      <td>93</td>\n",
       "      <td>...</td>\n",
       "      <td>4</td>\n",
       "      <td>9</td>\n",
       "      <td>21</td>\n",
       "      <td>13</td>\n",
       "      <td>unknown author</td>\n",
       "      <td>Reineke Fuchs</td>\n",
       "      <td>5000</td>\n",
       "      <td>-28.689387</td>\n",
       "      <td>5.597444</td>\n",
       "      <td>70.695525</td>\n",
       "    </tr>\n",
       "  </tbody>\n",
       "</table>\n",
       "<p>8 rows × 56 columns</p>\n",
       "</div>"
      ],
      "text/plain": [
       "   ich  und  der  die  sie  nicht   zu  das  ist   er  ...  eine  aus  aber  \\\n",
       "0   86  231  123  118   47     29   79   43   21  157  ...     9    7    24   \n",
       "1  130  231   91   98   59     42   95   47   21  125  ...     3    7    21   \n",
       "2  122  244  100  120   52     43   79   53   18  106  ...     4    9    16   \n",
       "3  132  246   85   90   56     50  102   57   31  107  ...     1    3    21   \n",
       "4  140  265   81  121  101     62   94   69   27   81  ...     4    5    24   \n",
       "5  123  236  104  123  114     56   85   53   26   91  ...     1   12    16   \n",
       "6  115  254   78  122   77     62   78   52   19   94  ...     4    5    13   \n",
       "7  169  220   60   99   66     56   99   58   22   93  ...     4    9    21   \n",
       "\n",
       "   meine          author          title  chunksize       PC 1       PC 2  \\\n",
       "0      5  unknown author  Reineke Fuchs       5000 -64.364337 -31.441019   \n",
       "1      6  unknown author  Reineke Fuchs       5000 -45.821161 -15.717635   \n",
       "2     10  unknown author  Reineke Fuchs       5000 -57.979291 -33.919110   \n",
       "3      9  unknown author  Reineke Fuchs       5000 -41.999734 -12.164324   \n",
       "4      6  unknown author  Reineke Fuchs       5000 -19.182004 -46.494586   \n",
       "5      8  unknown author  Reineke Fuchs       5000 -11.820748 -58.289275   \n",
       "6      5  unknown author  Reineke Fuchs       5000 -43.464521 -37.580336   \n",
       "7     13  unknown author  Reineke Fuchs       5000 -28.689387   5.597444   \n",
       "\n",
       "        PC 3  \n",
       "0   5.762559  \n",
       "1  42.612064  \n",
       "2  47.566880  \n",
       "3  66.073307  \n",
       "4  92.030409  \n",
       "5  51.164167  \n",
       "6  52.217235  \n",
       "7  70.695525  \n",
       "\n",
       "[8 rows x 56 columns]"
      ]
     },
     "execution_count": 27,
     "metadata": {},
     "output_type": "execute_result"
    }
   ],
   "source": [
    "freqs_new[[\"PC 1\", \"PC 2\", \"PC 3\"]] = pca.transform(freqs_new.iloc[:, 0:50])\n",
    "freqs_new"
   ]
  },
  {
   "cell_type": "code",
   "execution_count": 29,
   "metadata": {},
   "outputs": [
    {
     "data": {
      "image/png": "[encoded data removed]",
      "text/plain": [
       "<Figure size 864.375x300 with 1 Axes>"
      ]
     },
     "metadata": {},
     "output_type": "display_data"
    }
   ],
   "source": [
    "g = sns.relplot(data=freqs, x=\"PC 1\", y=\"PC 2\", hue=\"author\", style = \"title\", aspect = 2, height=3)\n",
    "g.ax.scatter(x=freqs_new[\"PC 1\"], y=freqs_new[\"PC 2\"], color = \"black\")\n",
    "plt.show()"
   ]
  },
  {
   "cell_type": "markdown",
   "metadata": {},
   "source": [
    "Der unbekannte Text ist gemäß der zweidimensionalen Projektion vermeindlich von Goethe oder Schiller. Eine genauere Unterscheidung ist hier nicht möglich.\n",
    "\n",
    "Nimmt man hingegen die dritte Hauptkomponente hinzu, so sind die schwarzen Punkte relativ gut Goethe zuzuordnen. Tatsächlich stammt der Text *Reineke Fuchs* von Goethe."
   ]
  },
  {
   "cell_type": "code",
   "execution_count": 31,
   "metadata": {},
   "outputs": [
    {
     "data": {
      "application/vnd.plotly.v1+json": {
       "config": {
        "plotlyServerURL": "https://plot.ly"
       },
       "data": [
        {
         "hovertemplate": "author=Goethe<br>title=Die Leiden des jungen Werther<br>PC 1=%{x}<br>PC 2=%{y}<br>PC 3=%{z}<extra></extra>",
         "legendgroup": "Goethe, Die Leiden des jungen Werther",
         "marker": {
          "color": "#636efa",
          "symbol": "circle"
         },
         "mode": "markers",
         "name": "Goethe, Die Leiden des jungen Werther",
         "scene": "scene",
         "showlegend": true,
         "type": "scatter3d",
         "x": [
          -31.878011921995064,
          -30.20372868916177,
          -8.14062828801395
         ],
         "y": [
          -52.35526992251855,
          -84.87747585782901,
          -36.809082629972146
         ],
         "z": [
          81.78109586771703,
          80.33497675368382,
          72.76547657312204
         ]
        },
        {
         "hovertemplate": "author=Goethe<br>title=Faust I<br>PC 1=%{x}<br>PC 2=%{y}<br>PC 3=%{z}<extra></extra>",
         "legendgroup": "Goethe, Faust I",
         "marker": {
          "color": "#636efa",
          "symbol": "diamond"
         },
         "mode": "markers",
         "name": "Goethe, Faust I",
         "scene": "scene",
         "showlegend": true,
         "type": "scatter3d",
         "x": [
          -78.87472295460034,
          -59.39996586774711,
          -54.98003990845089,
          -38.59695679746305,
          -38.26021889290071,
          -41.485212933590454
         ],
         "y": [
          -10.862588590355667,
          -17.149846160724035,
          12.74482442520064,
          2.8318999397006532,
          28.40680289146875,
          -32.29183915678335
         ],
         "z": [
          22.022126260936723,
          -4.770960018744043,
          14.34493084421793,
          17.274743183067862,
          32.44134907343337,
          15.741304690457682
         ]
        },
        {
         "hovertemplate": "author=Goethe<br>title=Iphigenie auf Tauris<br>PC 1=%{x}<br>PC 2=%{y}<br>PC 3=%{z}<extra></extra>",
         "legendgroup": "Goethe, Iphigenie auf Tauris",
         "marker": {
          "color": "#636efa",
          "symbol": "square"
         },
         "mode": "markers",
         "name": "Goethe, Iphigenie auf Tauris",
         "scene": "scene",
         "showlegend": true,
         "type": "scatter3d",
         "x": [
          -68.16037738747089,
          -59.615967972436565,
          -58.352629283089826
         ],
         "y": [
          -44.687356316576874,
          -55.704781166765116,
          -48.35535643642474
         ],
         "z": [
          1.1756832607706933,
          -12.11116001053734,
          -10.847955290222757
         ]
        },
        {
         "hovertemplate": "author=Lessing<br>title=Emilia Galotti<br>PC 1=%{x}<br>PC 2=%{y}<br>PC 3=%{z}<extra></extra>",
         "legendgroup": "Lessing, Emilia Galotti",
         "marker": {
          "color": "#EF553B",
          "symbol": "x"
         },
         "mode": "markers",
         "name": "Lessing, Emilia Galotti",
         "scene": "scene",
         "showlegend": true,
         "type": "scatter3d",
         "x": [
          73.02608087997314,
          71.19506469973001,
          153.4591363791712,
          159.89146383716053
         ],
         "y": [
          -29.98140985742641,
          7.1099747548772285,
          -39.566368332973035,
          -53.19563761424561
         ],
         "z": [
          2.689413031425084,
          36.48265565040122,
          1.0908424413680162,
          -4.202521473212428
         ]
        },
        {
         "hovertemplate": "author=Lessing<br>title=Minna von Barnhelm<br>PC 1=%{x}<br>PC 2=%{y}<br>PC 3=%{z}<extra></extra>",
         "legendgroup": "Lessing, Minna von Barnhelm",
         "marker": {
          "color": "#EF553B",
          "symbol": "cross"
         },
         "mode": "markers",
         "name": "Lessing, Minna von Barnhelm",
         "scene": "scene",
         "showlegend": true,
         "type": "scatter3d",
         "x": [
          55.79404830240345,
          84.99786089966831,
          121.13630162112328,
          107.23575721369535,
          148.74221802581746
         ],
         "y": [
          25.564501856667302,
          19.68741933313102,
          10.295230855667786,
          -6.178804493631585,
          -27.22516973397512
         ],
         "z": [
          8.445519103760176,
          -38.26309783995382,
          4.226929487645174,
          -32.33707482631121,
          2.09205476422623
         ]
        },
        {
         "hovertemplate": "author=Lessing<br>title=Nathan der Weise<br>PC 1=%{x}<br>PC 2=%{y}<br>PC 3=%{z}<extra></extra>",
         "legendgroup": "Lessing, Nathan der Weise",
         "marker": {
          "color": "#EF553B",
          "symbol": "circle"
         },
         "mode": "markers",
         "name": "Lessing, Nathan der Weise",
         "scene": "scene",
         "showlegend": true,
         "type": "scatter3d",
         "x": [
          -6.7293469948236435,
          4.0492879523773055,
          13.138695670153602,
          9.56072429308296,
          9.757506906050867,
          30.521643881543653
         ],
         "y": [
          99.59820124669383,
          109.04943280628399,
          128.58537436566226,
          98.42233885251316,
          86.1091418346546,
          102.08481910814764
         ],
         "z": [
          -6.413174010485987,
          4.129842250531588,
          24.84912017250313,
          32.31283411605296,
          22.805980724010205,
          0.8743185795780217
         ]
        },
        {
         "hovertemplate": "author=Schiller<br>title=Die Räuber<br>PC 1=%{x}<br>PC 2=%{y}<br>PC 3=%{z}<extra></extra>",
         "legendgroup": "Schiller, Die Räuber",
         "marker": {
          "color": "#00cc96",
          "symbol": "diamond"
         },
         "mode": "markers",
         "name": "Schiller, Die Räuber",
         "scene": "scene",
         "showlegend": true,
         "type": "scatter3d",
         "x": [
          -48.596763095504244,
          -96.6446468225941,
          -63.16960712974361,
          -84.86076225156083,
          -41.01955763138512,
          -38.37737116393985,
          -61.22989687975631,
          -48.21475289881011
         ],
         "y": [
          12.233051879734555,
          -2.05847732987095,
          21.549031029537666,
          -42.727551949626374,
          -9.777237493053896,
          17.854237187869252,
          -15.446698112563237,
          30.893583490477784
         ],
         "z": [
          -27.68905828205398,
          -14.80481165949524,
          -65.38605924565164,
          -13.77541661954658,
          -20.35094593223445,
          -29.182373319262062,
          -44.738560639212466,
          -22.73545535505686
         ]
        },
        {
         "hovertemplate": "author=Schiller<br>title=Kabale und Liebe<br>PC 1=%{x}<br>PC 2=%{y}<br>PC 3=%{z}<extra></extra>",
         "legendgroup": "Schiller, Kabale und Liebe",
         "marker": {
          "color": "#00cc96",
          "symbol": "square"
         },
         "mode": "markers",
         "name": "Schiller, Kabale und Liebe",
         "scene": "scene",
         "showlegend": true,
         "type": "scatter3d",
         "x": [
          -7.562432337632877,
          16.11246498284061,
          29.343056095143282,
          32.79728310885979,
          46.99362060530418,
          8.523898828010415
         ],
         "y": [
          -12.048446800232291,
          -48.03758674893935,
          -60.05775896733732,
          -50.106114119298724,
          -35.38788694347236,
          -25.80235955946284
         ],
         "z": [
          -24.856316208738615,
          -4.366386236893585,
          -31.25344881552471,
          -20.094070992586772,
          -24.676983504942022,
          -27.651394533368464
         ]
        },
        {
         "hovertemplate": "author=Schiller<br>title=Turandot, Prinzessin von China<br>PC 1=%{x}<br>PC 2=%{y}<br>PC 3=%{z}<extra></extra>",
         "legendgroup": "Schiller, Turandot, Prinzessin von China",
         "marker": {
          "color": "#00cc96",
          "symbol": "x"
         },
         "mode": "markers",
         "name": "Schiller, Turandot, Prinzessin von China",
         "scene": "scene",
         "showlegend": true,
         "type": "scatter3d",
         "x": [
          -39.138178947721904,
          -47.75225597399625,
          -22.499588556214285,
          -2.5324926015055023
         ],
         "y": [
          -7.804138200463385,
          -8.3190125687211,
          21.6593066130036,
          22.13508259195119
         ],
         "z": [
          -4.734529314457842,
          -5.940122748209206,
          5.083920848754092,
          8.216759199038643
         ]
        },
        {
         "hovertemplate": "author=unknown author<br>title=Reineke Fuchs<br>PC 1=%{x}<br>PC 2=%{y}<br>PC 3=%{z}<extra></extra>",
         "legendgroup": "unknown author, Reineke Fuchs",
         "marker": {
          "color": "rgb(0, 0, 0)",
          "symbol": "circle"
         },
         "mode": "markers",
         "name": "unknown author, Reineke Fuchs",
         "scene": "scene",
         "showlegend": true,
         "type": "scatter3d",
         "x": [
          -64.3643367727376,
          -45.82116146415183,
          -57.97929084893969,
          -41.99973420351107,
          -19.182003540817046,
          -11.820748433309031,
          -43.46452084447678,
          -28.689386652099287
         ],
         "y": [
          -31.44101907947972,
          -15.717634726089962,
          -33.91910990813361,
          -12.164323833450439,
          -46.49458608590572,
          -58.289274784029956,
          -37.5803360031054,
          5.597444424428502
         ],
         "z": [
          5.7625586136265845,
          42.61206371744087,
          47.566879634149124,
          66.07330718361793,
          92.0304094780618,
          51.16416674220162,
          52.21723513634614,
          70.69552483721236
         ]
        }
       ],
       "layout": {
        "legend": {
         "title": {
          "text": "author, title"
         },
         "tracegroupgap": 0
        },
        "margin": {
         "t": 60
        },
        "scene": {
         "domain": {
          "x": [
           0,
           1
          ],
          "y": [
           0,
           1
          ]
         },
         "xaxis": {
          "title": {
           "text": "PC 1"
          }
         },
         "yaxis": {
          "title": {
           "text": "PC 2"
          }
         },
         "zaxis": {
          "title": {
           "text": "PC 3"
          }
         }
        },
        "template": {
         "data": {
          "bar": [
           {
            "error_x": {
             "color": "#2a3f5f"
            },
            "error_y": {
             "color": "#2a3f5f"
            },
            "marker": {
             "line": {
              "color": "#E5ECF6",
              "width": 0.5
             },
             "pattern": {
              "fillmode": "overlay",
              "size": 10,
              "solidity": 0.2
             }
            },
            "type": "bar"
           }
          ],
          "barpolar": [
           {
            "marker": {
             "line": {
              "color": "#E5ECF6",
              "width": 0.5
             },
             "pattern": {
              "fillmode": "overlay",
              "size": 10,
              "solidity": 0.2
             }
            },
            "type": "barpolar"
           }
          ],
          "carpet": [
           {
            "aaxis": {
             "endlinecolor": "#2a3f5f",
             "gridcolor": "white",
             "linecolor": "white",
             "minorgridcolor": "white",
             "startlinecolor": "#2a3f5f"
            },
            "baxis": {
             "endlinecolor": "#2a3f5f",
             "gridcolor": "white",
             "linecolor": "white",
             "minorgridcolor": "white",
             "startlinecolor": "#2a3f5f"
            },
            "type": "carpet"
           }
          ],
          "choropleth": [
           {
            "colorbar": {
             "outlinewidth": 0,
             "ticks": ""
            },
            "type": "choropleth"
           }
          ],
          "contour": [
           {
            "colorbar": {
             "outlinewidth": 0,
             "ticks": ""
            },
            "colorscale": [
             [
              0,
              "#0d0887"
             ],
             [
              0.1111111111111111,
              "#46039f"
             ],
             [
              0.2222222222222222,
              "#7201a8"
             ],
             [
              0.3333333333333333,
              "#9c179e"
             ],
             [
              0.4444444444444444,
              "#bd3786"
             ],
             [
              0.5555555555555556,
              "#d8576b"
             ],
             [
              0.6666666666666666,
              "#ed7953"
             ],
             [
              0.7777777777777778,
              "#fb9f3a"
             ],
             [
              0.8888888888888888,
              "#fdca26"
             ],
             [
              1,
              "#f0f921"
             ]
            ],
            "type": "contour"
           }
          ],
          "contourcarpet": [
           {
            "colorbar": {
             "outlinewidth": 0,
             "ticks": ""
            },
            "type": "contourcarpet"
           }
          ],
          "heatmap": [
           {
            "colorbar": {
             "outlinewidth": 0,
             "ticks": ""
            },
            "colorscale": [
             [
              0,
              "#0d0887"
             ],
             [
              0.1111111111111111,
              "#46039f"
             ],
             [
              0.2222222222222222,
              "#7201a8"
             ],
             [
              0.3333333333333333,
              "#9c179e"
             ],
             [
              0.4444444444444444,
              "#bd3786"
             ],
             [
              0.5555555555555556,
              "#d8576b"
             ],
             [
              0.6666666666666666,
              "#ed7953"
             ],
             [
              0.7777777777777778,
              "#fb9f3a"
             ],
             [
              0.8888888888888888,
              "#fdca26"
             ],
             [
              1,
              "#f0f921"
             ]
            ],
            "type": "heatmap"
           }
          ],
          "heatmapgl": [
           {
            "colorbar": {
             "outlinewidth": 0,
             "ticks": ""
            },
            "colorscale": [
             [
              0,
              "#0d0887"
             ],
             [
              0.1111111111111111,
              "#46039f"
             ],
             [
              0.2222222222222222,
              "#7201a8"
             ],
             [
              0.3333333333333333,
              "#9c179e"
             ],
             [
              0.4444444444444444,
              "#bd3786"
             ],
             [
              0.5555555555555556,
              "#d8576b"
             ],
             [
              0.6666666666666666,
              "#ed7953"
             ],
             [
              0.7777777777777778,
              "#fb9f3a"
             ],
             [
              0.8888888888888888,
              "#fdca26"
             ],
             [
              1,
              "#f0f921"
             ]
            ],
            "type": "heatmapgl"
           }
          ],
          "histogram": [
           {
            "marker": {
             "pattern": {
              "fillmode": "overlay",
              "size": 10,
              "solidity": 0.2
             }
            },
            "type": "histogram"
           }
          ],
          "histogram2d": [
           {
            "colorbar": {
             "outlinewidth": 0,
             "ticks": ""
            },
            "colorscale": [
             [
              0,
              "#0d0887"
             ],
             [
              0.1111111111111111,
              "#46039f"
             ],
             [
              0.2222222222222222,
              "#7201a8"
             ],
             [
              0.3333333333333333,
              "#9c179e"
             ],
             [
              0.4444444444444444,
              "#bd3786"
             ],
             [
              0.5555555555555556,
              "#d8576b"
             ],
             [
              0.6666666666666666,
              "#ed7953"
             ],
             [
              0.7777777777777778,
              "#fb9f3a"
             ],
             [
              0.8888888888888888,
              "#fdca26"
             ],
             [
              1,
              "#f0f921"
             ]
            ],
            "type": "histogram2d"
           }
          ],
          "histogram2dcontour": [
           {
            "colorbar": {
             "outlinewidth": 0,
             "ticks": ""
            },
            "colorscale": [
             [
              0,
              "#0d0887"
             ],
             [
              0.1111111111111111,
              "#46039f"
             ],
             [
              0.2222222222222222,
              "#7201a8"
             ],
             [
              0.3333333333333333,
              "#9c179e"
             ],
             [
              0.4444444444444444,
              "#bd3786"
             ],
             [
              0.5555555555555556,
              "#d8576b"
             ],
             [
              0.6666666666666666,
              "#ed7953"
             ],
             [
              0.7777777777777778,
              "#fb9f3a"
             ],
             [
              0.8888888888888888,
              "#fdca26"
             ],
             [
              1,
              "#f0f921"
             ]
            ],
            "type": "histogram2dcontour"
           }
          ],
          "mesh3d": [
           {
            "colorbar": {
             "outlinewidth": 0,
             "ticks": ""
            },
            "type": "mesh3d"
           }
          ],
          "parcoords": [
           {
            "line": {
             "colorbar": {
              "outlinewidth": 0,
              "ticks": ""
             }
            },
            "type": "parcoords"
           }
          ],
          "pie": [
           {
            "automargin": true,
            "type": "pie"
           }
          ],
          "scatter": [
           {
            "fillpattern": {
             "fillmode": "overlay",
             "size": 10,
             "solidity": 0.2
            },
            "type": "scatter"
           }
          ],
          "scatter3d": [
           {
            "line": {
             "colorbar": {
              "outlinewidth": 0,
              "ticks": ""
             }
            },
            "marker": {
             "colorbar": {
              "outlinewidth": 0,
              "ticks": ""
             }
            },
            "type": "scatter3d"
           }
          ],
          "scattercarpet": [
           {
            "marker": {
             "colorbar": {
              "outlinewidth": 0,
              "ticks": ""
             }
            },
            "type": "scattercarpet"
           }
          ],
          "scattergeo": [
           {
            "marker": {
             "colorbar": {
              "outlinewidth": 0,
              "ticks": ""
             }
            },
            "type": "scattergeo"
           }
          ],
          "scattergl": [
           {
            "marker": {
             "colorbar": {
              "outlinewidth": 0,
              "ticks": ""
             }
            },
            "type": "scattergl"
           }
          ],
          "scattermapbox": [
           {
            "marker": {
             "colorbar": {
              "outlinewidth": 0,
              "ticks": ""
             }
            },
            "type": "scattermapbox"
           }
          ],
          "scatterpolar": [
           {
            "marker": {
             "colorbar": {
              "outlinewidth": 0,
              "ticks": ""
             }
            },
            "type": "scatterpolar"
           }
          ],
          "scatterpolargl": [
           {
            "marker": {
             "colorbar": {
              "outlinewidth": 0,
              "ticks": ""
             }
            },
            "type": "scatterpolargl"
           }
          ],
          "scatterternary": [
           {
            "marker": {
             "colorbar": {
              "outlinewidth": 0,
              "ticks": ""
             }
            },
            "type": "scatterternary"
           }
          ],
          "surface": [
           {
            "colorbar": {
             "outlinewidth": 0,
             "ticks": ""
            },
            "colorscale": [
             [
              0,
              "#0d0887"
             ],
             [
              0.1111111111111111,
              "#46039f"
             ],
             [
              0.2222222222222222,
              "#7201a8"
             ],
             [
              0.3333333333333333,
              "#9c179e"
             ],
             [
              0.4444444444444444,
              "#bd3786"
             ],
             [
              0.5555555555555556,
              "#d8576b"
             ],
             [
              0.6666666666666666,
              "#ed7953"
             ],
             [
              0.7777777777777778,
              "#fb9f3a"
             ],
             [
              0.8888888888888888,
              "#fdca26"
             ],
             [
              1,
              "#f0f921"
             ]
            ],
            "type": "surface"
           }
          ],
          "table": [
           {
            "cells": {
             "fill": {
              "color": "#EBF0F8"
             },
             "line": {
              "color": "white"
             }
            },
            "header": {
             "fill": {
              "color": "#C8D4E3"
             },
             "line": {
              "color": "white"
             }
            },
            "type": "table"
           }
          ]
         },
         "layout": {
          "annotationdefaults": {
           "arrowcolor": "#2a3f5f",
           "arrowhead": 0,
           "arrowwidth": 1
          },
          "autotypenumbers": "strict",
          "coloraxis": {
           "colorbar": {
            "outlinewidth": 0,
            "ticks": ""
           }
          },
          "colorscale": {
           "diverging": [
            [
             0,
             "#8e0152"
            ],
            [
             0.1,
             "#c51b7d"
            ],
            [
             0.2,
             "#de77ae"
            ],
            [
             0.3,
             "#f1b6da"
            ],
            [
             0.4,
             "#fde0ef"
            ],
            [
             0.5,
             "#f7f7f7"
            ],
            [
             0.6,
             "#e6f5d0"
            ],
            [
             0.7,
             "#b8e186"
            ],
            [
             0.8,
             "#7fbc41"
            ],
            [
             0.9,
             "#4d9221"
            ],
            [
             1,
             "#276419"
            ]
           ],
           "sequential": [
            [
             0,
             "#0d0887"
            ],
            [
             0.1111111111111111,
             "#46039f"
            ],
            [
             0.2222222222222222,
             "#7201a8"
            ],
            [
             0.3333333333333333,
             "#9c179e"
            ],
            [
             0.4444444444444444,
             "#bd3786"
            ],
            [
             0.5555555555555556,
             "#d8576b"
            ],
            [
             0.6666666666666666,
             "#ed7953"
            ],
            [
             0.7777777777777778,
             "#fb9f3a"
            ],
            [
             0.8888888888888888,
             "#fdca26"
            ],
            [
             1,
             "#f0f921"
            ]
           ],
           "sequentialminus": [
            [
             0,
             "#0d0887"
            ],
            [
             0.1111111111111111,
             "#46039f"
            ],
            [
             0.2222222222222222,
             "#7201a8"
            ],
            [
             0.3333333333333333,
             "#9c179e"
            ],
            [
             0.4444444444444444,
             "#bd3786"
            ],
            [
             0.5555555555555556,
             "#d8576b"
            ],
            [
             0.6666666666666666,
             "#ed7953"
            ],
            [
             0.7777777777777778,
             "#fb9f3a"
            ],
            [
             0.8888888888888888,
             "#fdca26"
            ],
            [
             1,
             "#f0f921"
            ]
           ]
          },
          "colorway": [
           "#636efa",
           "#EF553B",
           "#00cc96",
           "#ab63fa",
           "#FFA15A",
           "#19d3f3",
           "#FF6692",
           "#B6E880",
           "#FF97FF",
           "#FECB52"
          ],
          "font": {
           "color": "#2a3f5f"
          },
          "geo": {
           "bgcolor": "white",
           "lakecolor": "white",
           "landcolor": "#E5ECF6",
           "showlakes": true,
           "showland": true,
           "subunitcolor": "white"
          },
          "hoverlabel": {
           "align": "left"
          },
          "hovermode": "closest",
          "mapbox": {
           "style": "light"
          },
          "paper_bgcolor": "white",
          "plot_bgcolor": "#E5ECF6",
          "polar": {
           "angularaxis": {
            "gridcolor": "white",
            "linecolor": "white",
            "ticks": ""
           },
           "bgcolor": "#E5ECF6",
           "radialaxis": {
            "gridcolor": "white",
            "linecolor": "white",
            "ticks": ""
           }
          },
          "scene": {
           "xaxis": {
            "backgroundcolor": "#E5ECF6",
            "gridcolor": "white",
            "gridwidth": 2,
            "linecolor": "white",
            "showbackground": true,
            "ticks": "",
            "zerolinecolor": "white"
           },
           "yaxis": {
            "backgroundcolor": "#E5ECF6",
            "gridcolor": "white",
            "gridwidth": 2,
            "linecolor": "white",
            "showbackground": true,
            "ticks": "",
            "zerolinecolor": "white"
           },
           "zaxis": {
            "backgroundcolor": "#E5ECF6",
            "gridcolor": "white",
            "gridwidth": 2,
            "linecolor": "white",
            "showbackground": true,
            "ticks": "",
            "zerolinecolor": "white"
           }
          },
          "shapedefaults": {
           "line": {
            "color": "#2a3f5f"
           }
          },
          "ternary": {
           "aaxis": {
            "gridcolor": "white",
            "linecolor": "white",
            "ticks": ""
           },
           "baxis": {
            "gridcolor": "white",
            "linecolor": "white",
            "ticks": ""
           },
           "bgcolor": "#E5ECF6",
           "caxis": {
            "gridcolor": "white",
            "linecolor": "white",
            "ticks": ""
           }
          },
          "title": {
           "x": 0.05
          },
          "xaxis": {
           "automargin": true,
           "gridcolor": "white",
           "linecolor": "white",
           "ticks": "",
           "title": {
            "standoff": 15
           },
           "zerolinecolor": "white",
           "zerolinewidth": 2
          },
          "yaxis": {
           "automargin": true,
           "gridcolor": "white",
           "linecolor": "white",
           "ticks": "",
           "title": {
            "standoff": 15
           },
           "zerolinecolor": "white",
           "zerolinewidth": 2
          }
         }
        }
       }
      }
     },
     "metadata": {},
     "output_type": "display_data"
    }
   ],
   "source": [
    "fig  = px.scatter_3d(freqs,     x=\"PC 1\", y=\"PC 2\", z=\"PC 3\", color=\"author\", symbol = \"title\")\n",
    "fig2 = px.scatter_3d(freqs_new, x=\"PC 1\", y=\"PC 2\", z=\"PC 3\", color=\"author\", symbol = \"title\", color_discrete_sequence=['rgb(0, 0, 0)'])\n",
    "\n",
    "fig.add_traces(fig2.data)\n",
    "fig.show()"
   ]
  }
 ],
 "metadata": {
  "kernelspec": {
   "display_name": "Gdl_Data_Science",
   "language": "python",
   "name": "python3"
  },
  "language_info": {
   "codemirror_mode": {
    "name": "ipython",
    "version": 3
   },
   "file_extension": ".py",
   "mimetype": "text/x-python",
   "name": "python",
   "nbconvert_exporter": "python",
   "pygments_lexer": "ipython3",
   "version": "3.12.2"
  }
 },
 "nbformat": 4,
 "nbformat_minor": 2
}

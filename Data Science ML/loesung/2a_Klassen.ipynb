{
 "cells": [
  {
   "attachments": {},
   "cell_type": "markdown",
   "metadata": {},
   "source": [
    "<img src=\"https://www.th-ab.de/typo3conf/ext/th_ab/Resources/Public/assets/logo-th-ab.svg\" alt=\"TH-AB Logo\" width=\"200\"/>\n",
    "\n",
    "Prof. Dr. Möckel, Prof. Dr. Klaus Radke, Katharina Kuhnert\n",
    "\n",
    "Maschinelles Lernen Schwerpunkt Data Science<br>\n",
    "SoSe 2024"
   ]
  },
  {
   "attachments": {},
   "cell_type": "markdown",
   "metadata": {},
   "source": [
    "# Übung 2a: Klassen und Vererbung"
   ]
  },
  {
   "attachments": {},
   "cell_type": "markdown",
   "metadata": {},
   "source": [
    "## Aufgabe 1: Vererbung"
   ]
  },
  {
   "attachments": {},
   "cell_type": "markdown",
   "metadata": {},
   "source": [
    "Implementieren Sie eine Klasse `Time_keeper`, welche eine Zeitmessung ermöglicht. Ergänzen Sie den vorgegebenen Code. Vergleichen Sie die Overhead-Zeiten der timit Bibliothek und Ihrer eigenen Implementierung, indem Sie den arithmetischen Mittelwert berechnen. Wiederholen Sie die Testdurchläufe. Welche Aussage lässt sich treffen?"
   ]
  },
  {
   "attachments": {},
   "cell_type": "markdown",
   "metadata": {},
   "source": [
    "#### Kopieren Sie die Klasse `Simple_time()` aus den Vorlesungsunterlagen in den folgenden Abschnitt:"
   ]
  },
  {
   "cell_type": "code",
   "execution_count": 1,
   "metadata": {},
   "outputs": [],
   "source": [
    "# concept of a time without seconds\n",
    "class Simple_time():\n",
    "    # default constructor\n",
    "    def __init__(self):\n",
    "        self.__hour = 0\n",
    "        self.__minute = 0\n",
    "\n",
    "    # overloaded constructor\n",
    "    # args with strong typing and default value None\n",
    "    def __init__(self, hour: int = 0, minute: int = 0):\n",
    "        self.__check_hour(hour)\n",
    "        self._check_minute(minute)\n",
    "        self.__hour = hour\n",
    "        self.__minute = minute\n",
    "\n",
    "    # private method hour sanity check\n",
    "    def __check_hour(self, hour: int):\n",
    "        if (hour not in range(0, 23)):\n",
    "            raise ValueError(\"Ungültiger Wert für Stunde\")\n",
    "\n",
    "    # protected method minute sanity check\n",
    "    def _check_minute(self, minute: int):\n",
    "        if (minute not in range(0, 59)):\n",
    "            raise ValueError(\"Ungültiger Wert für Minute\")\n",
    "\n",
    "    @property\n",
    "    def hour(self):\n",
    "        return self.__hour\n",
    "\n",
    "    @hour.setter\n",
    "    def hour(self, hour):\n",
    "        self.__check_hour(hour)\n",
    "        self._hour = hour\n",
    "\n",
    "    @property\n",
    "    def minute(self):\n",
    "        return self.__minute\n",
    "\n",
    "    @minute.setter\n",
    "    def minute(self, minute):\n",
    "        self._check_minute(minute)\n",
    "        self.__minute = minute\n",
    "\n",
    "    # generate human readable representation with str() function\n",
    "    def __str__(self):\n",
    "        return \"The time is \" + str(self.hour) + \":\" + str(self.minute)\n",
    "    \n",
    "    # generate semantic representation with repr() function\n",
    "    def __repr__(self):\n",
    "        return \"SimpleTime(\" + str(self.hour) + \", \" + str(self.minute) + \")\""
   ]
  },
  {
   "attachments": {},
   "cell_type": "markdown",
   "metadata": {},
   "source": [
    "#### Importieren Sie die Bibliothek `datetime` mit dem Kürzel `dt`:"
   ]
  },
  {
   "cell_type": "code",
   "execution_count": 2,
   "metadata": {},
   "outputs": [],
   "source": [
    "import datetime as dt"
   ]
  },
  {
   "attachments": {},
   "cell_type": "markdown",
   "metadata": {},
   "source": [
    "#### Implementieren Sie eine Klasse `Duration`, welche von der Klasse `Simple_time` erbt mit folgender Funktionalität:\n",
    "\n",
    "* Erweiterung der Klasse durch die Membervariable `second` als Property und Setter.\n",
    "* Überladen eines Konstrukturs, der das Argument vom Typ `dt.datetime` nutzt, um `hour`, `minute` and `second` zu setzen.\n",
    "* Erstellung einer Memberfunktion `measure`:\n",
    "    * Bildung der Differenz der Übergebenen Zeit mit der in der Klasse gespeicherten Zeit.\n",
    "    * Rückgabe der Zeitdifferenz (=Dauer) als `str`\n",
    "    * Nutzen Sie `datetime` um Berechnungen durchzuführen\n",
    "* Überschreiben der `__str__` Memberfunktion mit der Ausgabeform: `The time is: hour:minute:second`"
   ]
  },
  {
   "cell_type": "code",
   "execution_count": 3,
   "metadata": {},
   "outputs": [],
   "source": [
    "class Duration(Simple_time):\n",
    "\n",
    "    # overloaded constructor using time struct\n",
    "    def __init__(self, now: dt.datetime):\n",
    "        super().__init__(now.hour, now.minute)\n",
    "        self._second = now.second\n",
    "\n",
    "    @property\n",
    "    def second(self):\n",
    "        return self._second\n",
    "\n",
    "    @second.setter\n",
    "    def second(self, value):\n",
    "        if (value not in range(0, 59)):\n",
    "            raise ValueError(\"Ungültiger Wert für Sekunde\")\n",
    "\n",
    "        self._second = value\n",
    "\n",
    "    def measure(self, t1: dt.datetime) -> str:\n",
    "        t0 = dt.timedelta(hours=self.hour, minutes=self.minute, seconds=self.second)\n",
    "        duration = t1 - t0\n",
    "        return \"Zeitdifferenz: \" + str(duration.time())\n",
    "\n",
    "    # override __str__ method from base class\n",
    "    def __str__(self):\n",
    "        return \"The time is \" + str(self.hour) + \":\" + str(self.minute) + \":\" + str(self.second)"
   ]
  },
  {
   "attachments": {},
   "cell_type": "markdown",
   "metadata": {},
   "source": [
    "## Aufgabe 2: Anwendung und Zeitmessung"
   ]
  },
  {
   "attachments": {},
   "cell_type": "markdown",
   "metadata": {},
   "source": [
    "Erstellen Sie zwei Listen aus zufälligen Zahlen mit Hilfe von Numpy. Erstellen Sie eine Liste `rnd_a` mit der Funktion `random.randint`. Die andere Liste `rnd_b` erstellen Sie mit der Funktion `random.rand`. Geben Sie beide Listen mit `print()` aus."
   ]
  },
  {
   "cell_type": "code",
   "execution_count": 4,
   "metadata": {},
   "outputs": [
    {
     "name": "stdout",
     "output_type": "stream",
     "text": [
      "[81 83  3 ... 14 47 48]\n",
      "[[0.56745639 0.61621959 0.81421645 ... 0.89708212 0.51924562 0.67621707]]\n"
     ]
    }
   ],
   "source": [
    "import numpy as np\n",
    "\n",
    "rnd_a = np.random.randint(1, 100, 200000000)\n",
    "rnd_b = np.random.rand(1, 200000000)\n",
    "\n",
    "print(rnd_a)\n",
    "print(rnd_b)"
   ]
  },
  {
   "attachments": {},
   "cell_type": "markdown",
   "metadata": {},
   "source": [
    "Nutzen Sie die erstellte Klasse aus Aufgabe 1 um die Laufzeit der Sortierung der Liste `rnd_a` zu erfassen."
   ]
  },
  {
   "cell_type": "code",
   "execution_count": 5,
   "metadata": {},
   "outputs": [
    {
     "name": "stdout",
     "output_type": "stream",
     "text": [
      "Zeitdifferenz: 00:00:05.732557\n"
     ]
    }
   ],
   "source": [
    "# store current time\n",
    "diff = Duration(dt.datetime.now())\n",
    "# run sort\n",
    "rnd_a.sort()\n",
    "# calculate duration and output\n",
    "print(diff.measure(dt.datetime.now()))"
   ]
  },
  {
   "attachments": {},
   "cell_type": "markdown",
   "metadata": {},
   "source": [
    "Nutzen Sie die erstellte Klasse aus Aufgabe 1 um die Laufzeit der Sortierung der Liste `rnd_b` zu erfassen."
   ]
  },
  {
   "cell_type": "code",
   "execution_count": 6,
   "metadata": {},
   "outputs": [
    {
     "name": "stdout",
     "output_type": "stream",
     "text": [
      "Zeitdifferenz: 00:00:17.476569\n"
     ]
    }
   ],
   "source": [
    "# store current time\n",
    "diff = Duration(dt.datetime.now())\n",
    "# run sort\n",
    "rnd_b.sort()\n",
    "# calculate duration and output\n",
    "print(diff.measure(dt.datetime.now()))"
   ]
  },
  {
   "attachments": {},
   "cell_type": "markdown",
   "metadata": {},
   "source": [
    "#### Welche Aussage lässt sich anhand der Zeitmessungen treffen?"
   ]
  },
  {
   "cell_type": "code",
   "execution_count": 7,
   "metadata": {},
   "outputs": [
    {
     "name": "stdout",
     "output_type": "stream",
     "text": [
      "randint: <class 'numpy.int64'>\n",
      "rand:    <class 'numpy.float64'>\n"
     ]
    }
   ],
   "source": [
    "print(\"randint:\", type(rnd_a[0]))\n",
    "print(\"rand:   \", type(rnd_b[0][0]))"
   ]
  },
  {
   "attachments": {},
   "cell_type": "markdown",
   "metadata": {},
   "source": [
    "Die Datenypen der beiden Zufallsgeneratoren sind unterschiedlich. Die Sortierung von `int` (Ganzzahlen) ist im Vergleich zu `float64` (Fließkommazahlen) signifikant schneller."
   ]
  }
 ],
 "metadata": {
  "kernelspec": {
   "display_name": "juno",
   "language": "python",
   "name": "python3"
  },
  "language_info": {
   "codemirror_mode": {
    "name": "ipython",
    "version": 3
   },
   "file_extension": ".py",
   "mimetype": "text/x-python",
   "name": "python",
   "nbconvert_exporter": "python",
   "pygments_lexer": "ipython3",
   "version": "3.10.9"
  },
  "orig_nbformat": 4
 },
 "nbformat": 4,
 "nbformat_minor": 2
}

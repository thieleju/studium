{
 "cells": [
  {
   "attachments": {},
   "cell_type": "markdown",
   "metadata": {},
   "source": [
    "<img src=\"https://www.th-ab.de/typo3conf/ext/th_ab/Resources/Public/assets/logo-th-ab.svg\" alt=\"TH-AB Logo\" width=\"200\"/>\n",
    "\n",
    "Prof. Dr. Möckel, Prof. Dr. Radke, Katharina Kuhnert\n",
    "\n",
    "Maschinelles Lernen Schwerpunkt Data Science<br>\n",
    "SoSe 2024"
   ]
  },
  {
   "attachments": {},
   "cell_type": "markdown",
   "metadata": {},
   "source": [
    "# Übung 6: Erschließung eines unbekannten Datensatzes"
   ]
  },
  {
   "attachments": {},
   "cell_type": "markdown",
   "metadata": {},
   "source": [
    "### Bibliotheken importieren und PyTorch Umgebung prüfen"
   ]
  },
  {
   "cell_type": "code",
   "execution_count": 1,
   "metadata": {},
   "outputs": [],
   "source": [
    "import matplotlib.pyplot as plt\n",
    "import numpy as np\n",
    "import pandas as pd\n",
    "import time\n",
    "\n",
    "# PyTorch\n",
    "try:\n",
    "    import torch\n",
    "    import torchvision\n",
    "    import torchmetrics\n",
    "except:\n",
    "    !pip install torch\n",
    "    !pip install torchvision\n",
    "    !pip install torchmetrics\n",
    "    import torch\n",
    "    import torchvision\n",
    "    import torchmetrics\n",
    "\n",
    "from torch import nn\n",
    "from torchvision import datasets\n",
    "from torchvision.transforms import ToTensor"
   ]
  },
  {
   "cell_type": "code",
   "execution_count": 2,
   "metadata": {},
   "outputs": [
    {
     "name": "stdout",
     "output_type": "stream",
     "text": [
      "PyTorch Version: 2.0.0+cpu\n"
     ]
    }
   ],
   "source": [
    "# PyTorch Version überprüfen\n",
    "if (torch.__version__ < \"2.0.0\"):\n",
    "    raise Exception(\"Wrong PyTorch version\")\n",
    "else:\n",
    "    print(\"PyTorch Version:\", torch.__version__)"
   ]
  },
  {
   "attachments": {},
   "cell_type": "markdown",
   "metadata": {},
   "source": [
    "### Beispieldatensatz handgeschriebener Ziffern (MNIST) laden und analysieren\n",
    "\n",
    "Der Datensatz MNIST (Modified National Institute of Standards and Technology) besteht aus handschriftlichen Ziffern (0 bis 9), die in zwei unabhängigen, aber gleich strukturierten Teilpaketen zur Verfügung gestellt werden. \n",
    "\n",
    "Für das Training und für alle weiteren Analysen (Validierung und Benchmarking, non-training) eines Modells stehen zum Download bereit\n",
    "\n",
    "* Training Dataset\n",
    "* Non-Training Dataset"
   ]
  },
  {
   "cell_type": "code",
   "execution_count": 3,
   "metadata": {},
   "outputs": [],
   "source": [
    "# Dataset für Training\n",
    "ds_train = datasets.MNIST(\n",
    "    root=\"data\", # Zielpfad für Datendownload\n",
    "    train=True, # Trainingsdaten laden\n",
    "    download=True,\n",
    "    transform=ToTensor(), # Transformiere Features (Bilddaten) zu Tensoren\n",
    "    target_transform=None # Keine Transformierung für Labels (Targets)\n",
    ")\n",
    "\n",
    "# Dataset für Validierung und Test\n",
    "ds_non_train = datasets.MNIST(\n",
    "    root=\"data\",\n",
    "    train=False, # Keine Trainingsdaten laden\n",
    "    download=True,\n",
    "    transform=ToTensor()\n",
    ")"
   ]
  },
  {
   "attachments": {},
   "cell_type": "markdown",
   "metadata": {},
   "source": [
    "## Verständnis der geladenen Daten durch schrittweises Vorgehen:\n",
    "\n",
    "### 1. Analyse des geladenen Datensatzes\n",
    "\n",
    "#### 1.a) Bestimmen Sie den Datentyp der Objekte ds_train und ds_non_train und erläutern Sie das Ergebnis."
   ]
  },
  {
   "cell_type": "code",
   "execution_count": 4,
   "metadata": {},
   "outputs": [
    {
     "name": "stdout",
     "output_type": "stream",
     "text": [
      "Datentyp des gesamten Trainingsdatensatzes:  <class 'torchvision.datasets.mnist.MNIST'>\n",
      "Datentyp des gesamten Nicht-Trainingsdatensatzes:  <class 'torchvision.datasets.mnist.MNIST'>\n"
     ]
    }
   ],
   "source": [
    "# Datentyp:\n",
    "print(\"Datentyp des gesamten Trainingsdatensatzes: \", type(ds_train))\n",
    "print(\"Datentyp des gesamten Nicht-Trainingsdatensatzes: \", type(ds_non_train))"
   ]
  },
  {
   "attachments": {},
   "cell_type": "markdown",
   "metadata": {},
   "source": [
    "Interpretation: Es handelt sich um eine eigene Klasse."
   ]
  },
  {
   "attachments": {},
   "cell_type": "markdown",
   "metadata": {},
   "source": [
    "#### 1.b) Nutzen Sie die Befehle print() und dir() um die für die Klasse des Objekts ds_train definierten Attribute und Funktionen ausgeben zu lassen:"
   ]
  },
  {
   "cell_type": "code",
   "execution_count": 5,
   "metadata": {},
   "outputs": [
    {
     "name": "stdout",
     "output_type": "stream",
     "text": [
      "['__add__', '__annotations__', '__class__', '__class_getitem__', '__delattr__', '__dict__', '__dir__', '__doc__', '__eq__', '__format__', '__ge__', '__getattribute__', '__getitem__', '__gt__', '__hash__', '__init__', '__init_subclass__', '__le__', '__len__', '__lt__', '__module__', '__ne__', '__new__', '__orig_bases__', '__parameters__', '__reduce__', '__reduce_ex__', '__repr__', '__setattr__', '__sizeof__', '__slots__', '__str__', '__subclasshook__', '__weakref__', '_check_exists', '_check_legacy_exist', '_format_transform_repr', '_is_protocol', '_load_data', '_load_legacy_data', '_repr_indent', 'class_to_idx', 'classes', 'data', 'download', 'extra_repr', 'mirrors', 'processed_folder', 'raw_folder', 'resources', 'root', 'target_transform', 'targets', 'test_data', 'test_file', 'test_labels', 'train', 'train_data', 'train_labels', 'training_file', 'transform', 'transforms']\n"
     ]
    }
   ],
   "source": [
    "print(dir(ds_train))"
   ]
  },
  {
   "attachments": {},
   "cell_type": "markdown",
   "metadata": {},
   "source": [
    "#### 1.c) Betrachten im Folgenden die überladenen Standard-Funktionen für print und die Länge len sowie die Attribute \"classes\", \"data\", \"train\" und \"train_labels\"\n",
    "\n",
    "Welche Ausgabe erfolgt durch die Print-Routine?"
   ]
  },
  {
   "cell_type": "code",
   "execution_count": 6,
   "metadata": {},
   "outputs": [
    {
     "name": "stdout",
     "output_type": "stream",
     "text": [
      "Dataset MNIST\n",
      "    Number of datapoints: 60000\n",
      "    Root location: data\n",
      "    Split: Train\n",
      "    StandardTransform\n",
      "Transform: ToTensor()\n",
      "Dataset MNIST\n",
      "    Number of datapoints: 10000\n",
      "    Root location: data\n",
      "    Split: Test\n",
      "    StandardTransform\n",
      "Transform: ToTensor()\n"
     ]
    }
   ],
   "source": [
    "# Direkte Ausgabe des Objekts durch die print-Funktion\n",
    "print(ds_train)\n",
    "print(ds_non_train)"
   ]
  },
  {
   "attachments": {},
   "cell_type": "markdown",
   "metadata": {},
   "source": [
    "Bestimmen Sie den Umfang beider Teildatensätze durch die Verwendung von len und vergleichen Sie mit dem Output der Print-Routine"
   ]
  },
  {
   "cell_type": "code",
   "execution_count": 7,
   "metadata": {},
   "outputs": [
    {
     "name": "stdout",
     "output_type": "stream",
     "text": [
      "Länge des Trainings-Datensatzes:  60000\n",
      "Länge des Validierungs- und Testdatensatzes (zusammen):  10000\n"
     ]
    }
   ],
   "source": [
    "# Umfang:\n",
    "print(\"Länge des Trainings-Datensatzes: \", len(ds_train))\n",
    "print(\"Länge des Validierungs- und Testdatensatzes (zusammen): \", len(ds_non_train))"
   ]
  },
  {
   "attachments": {},
   "cell_type": "markdown",
   "metadata": {},
   "source": [
    "Interpretation: Number of datapoints = Länge des Datensatzes\n",
    "\n",
    "Untersuchen Sie zunächst die Attribute classes und train_labels. Was beinhalten diese? Wie ist eine Warnung zu deuten? "
   ]
  },
  {
   "cell_type": "code",
   "execution_count": 8,
   "metadata": {},
   "outputs": [
    {
     "name": "stdout",
     "output_type": "stream",
     "text": [
      "['0 - zero', '1 - one', '2 - two', '3 - three', '4 - four', '5 - five', '6 - six', '7 - seven', '8 - eight', '9 - nine']\n"
     ]
    }
   ],
   "source": [
    "print(ds_train.classes)"
   ]
  },
  {
   "cell_type": "code",
   "execution_count": 9,
   "metadata": {},
   "outputs": [
    {
     "name": "stdout",
     "output_type": "stream",
     "text": [
      "tensor([5, 0, 4,  ..., 5, 6, 8])\n"
     ]
    },
    {
     "name": "stderr",
     "output_type": "stream",
     "text": [
      "c:\\Users\\moeckel\\Anaconda3\\envs\\AnacondaML\\lib\\site-packages\\torchvision\\datasets\\mnist.py:65: UserWarning: train_labels has been renamed targets\n",
      "  warnings.warn(\"train_labels has been renamed targets\")\n"
     ]
    }
   ],
   "source": [
    "print(ds_train.train_labels)"
   ]
  },
  {
   "attachments": {},
   "cell_type": "markdown",
   "metadata": {},
   "source": [
    "Vergleichen Sie mit dem Attribut targets. Bestimmen sie für dieses seinen Datentyp, Datenformat (shape) und den Wertebereich, d.h. welche verschiedenen Werte angenommen werden können. Deuten Sie ihre Beobachtungen."
   ]
  },
  {
   "cell_type": "code",
   "execution_count": 10,
   "metadata": {},
   "outputs": [
    {
     "name": "stdout",
     "output_type": "stream",
     "text": [
      "tensor([5, 0, 4,  ..., 5, 6, 8])\n"
     ]
    }
   ],
   "source": [
    "print(ds_train.targets)"
   ]
  },
  {
   "cell_type": "code",
   "execution_count": 11,
   "metadata": {},
   "outputs": [
    {
     "name": "stdout",
     "output_type": "stream",
     "text": [
      "Direkte Ausgabe:  tensor([5, 0, 4,  ..., 5, 6, 8])\n",
      "Shape:  torch.Size([60000])\n",
      "Auftretende verschiedene Werte:  tensor([0, 1, 2, 3, 4, 5, 6, 7, 8, 9])\n"
     ]
    }
   ],
   "source": [
    "print(\"Direkte Ausgabe: \", ds_train.targets)\n",
    "print(\"Shape: \", ds_train.targets.shape)\n",
    "print(\"Auftretende verschiedene Werte: \", ds_train.targets.unique())"
   ]
  },
  {
   "attachments": {},
   "cell_type": "markdown",
   "metadata": {},
   "source": [
    "Interpretation: Die train_labels = targets sind die Zuordnungen zu den Klassen 0 bis 9"
   ]
  },
  {
   "attachments": {},
   "cell_type": "markdown",
   "metadata": {},
   "source": [
    "Was beinhaltet das Attribut train? Vergleichen Sie dazu seinen Werte auf dem training und non-training Datensatz. "
   ]
  },
  {
   "cell_type": "code",
   "execution_count": 12,
   "metadata": {},
   "outputs": [
    {
     "name": "stdout",
     "output_type": "stream",
     "text": [
      "True\n"
     ]
    }
   ],
   "source": [
    "print(ds_train.train)"
   ]
  },
  {
   "cell_type": "code",
   "execution_count": 13,
   "metadata": {},
   "outputs": [
    {
     "name": "stdout",
     "output_type": "stream",
     "text": [
      "False\n"
     ]
    }
   ],
   "source": [
    "print(ds_non_train.train)"
   ]
  },
  {
   "attachments": {},
   "cell_type": "markdown",
   "metadata": {},
   "source": [
    "Interpretation: Mit dem Flag train wird entschieden, ob es sich um Trainingsdaten oder Testdaten handelt\n",
    "\n",
    "\n",
    "Betrachten Sie nun das Attribut data. \n",
    "Bei der direkten Ausgabe von data ist Vorsicht ratsam (meist zu viele Daten), gehen Sie daher schrittweise vor: Lassen Sie Datentyp und Datenformat (shape) ausgeben und interpretieren Sie die Datenstruktur. Worum handelt es sich vermutlich? "
   ]
  },
  {
   "cell_type": "code",
   "execution_count": 14,
   "metadata": {},
   "outputs": [
    {
     "name": "stdout",
     "output_type": "stream",
     "text": [
      "<class 'torch.Tensor'>\n"
     ]
    }
   ],
   "source": [
    "print(type(ds_train.data))"
   ]
  },
  {
   "cell_type": "code",
   "execution_count": 15,
   "metadata": {},
   "outputs": [
    {
     "name": "stdout",
     "output_type": "stream",
     "text": [
      "torch.Size([60000, 28, 28])\n"
     ]
    }
   ],
   "source": [
    "print(ds_train.data.shape)"
   ]
  },
  {
   "attachments": {},
   "cell_type": "markdown",
   "metadata": {},
   "source": [
    "Bei den Daten handelt es sich vermutlich um 60.000 sw-Bilder mit 28x28 Pixel"
   ]
  },
  {
   "attachments": {},
   "cell_type": "markdown",
   "metadata": {},
   "source": [
    "### 2) Analyse des ersten Elements des Datensatzes "
   ]
  },
  {
   "attachments": {},
   "cell_type": "markdown",
   "metadata": {},
   "source": [
    "#### 2.a) Bestimmen Sie nun den Datentyp des ersten Elements des Datensatzes:"
   ]
  },
  {
   "cell_type": "code",
   "execution_count": 16,
   "metadata": {},
   "outputs": [
    {
     "name": "stdout",
     "output_type": "stream",
     "text": [
      "Datentyp des ersten Elements des Trainingsdatensatzes:  <class 'tuple'>\n",
      "Datentyp des ersten Elements des Nicht-Trainingsdatensatzes:  <class 'tuple'>\n"
     ]
    }
   ],
   "source": [
    "print(\"Datentyp des ersten Elements des Trainingsdatensatzes: \", type(ds_train[0]))\n",
    "print(\"Datentyp des ersten Elements des Nicht-Trainingsdatensatzes: \", type(ds_non_train[0]))\n"
   ]
  },
  {
   "attachments": {},
   "cell_type": "markdown",
   "metadata": {},
   "source": [
    "#### 2.b) Offensichtlich liegt ein Datentupel vor. Bestimmen Sie nun die Dimension des Tupels = Länge des Datentupels "
   ]
  },
  {
   "cell_type": "code",
   "execution_count": 17,
   "metadata": {},
   "outputs": [
    {
     "name": "stdout",
     "output_type": "stream",
     "text": [
      " Anzahl der Elemente im Datentupel des ersten Trainingsbeispiels:  2\n",
      " Anzahl der Elemente im Datentupel des ersten Nicht-Trainingsbeispiels:  2\n"
     ]
    }
   ],
   "source": [
    "print(\" Anzahl der Elemente im Datentupel des ersten Trainingsbeispiels: \", len(ds_train[0]))\n",
    "print(\" Anzahl der Elemente im Datentupel des ersten Nicht-Trainingsbeispiels: \", len(ds_non_train[0]))"
   ]
  },
  {
   "attachments": {},
   "cell_type": "markdown",
   "metadata": {},
   "source": [
    "### 3) Zerlegung des Datentupels in Komponenten\n",
    "\n",
    "Zerlegen Sie das erste Element des Datensatzes ds_train in zwei Elemente (hier willkürlich genannt: A,B) "
   ]
  },
  {
   "cell_type": "code",
   "execution_count": 18,
   "metadata": {},
   "outputs": [
    {
     "name": "stdout",
     "output_type": "stream",
     "text": [
      "Datentyp des ersten Elements des Datentupels:  <class 'torch.Tensor'>\n",
      "Datentyp des zweiten Elements des Datentupels:  <class 'int'>\n"
     ]
    }
   ],
   "source": [
    "A,B = ds_train[0]\n",
    "print(\"Datentyp des ersten Elements des Datentupels: \", type(A))\n",
    "print(\"Datentyp des zweiten Elements des Datentupels: \", type(B))"
   ]
  },
  {
   "attachments": {},
   "cell_type": "markdown",
   "metadata": {},
   "source": [
    "### 4) Analyse der Komponenten:\n",
    "\n",
    "Bestimmen Sie jeweils deren Datentyp, ggf. Datenformat (shape) sowie falls sinnvoll die Anzahl seiner Elemente (numel) und erklären Sie so den Inhalt eines Datenpunktes"
   ]
  },
  {
   "cell_type": "code",
   "execution_count": 19,
   "metadata": {},
   "outputs": [
    {
     "name": "stdout",
     "output_type": "stream",
     "text": [
      "Ausgabe der Integer-Zahl:  5 \n",
      "\n",
      "Struktur des Tensors:  torch.Size([1, 28, 28])\n",
      "Anzahl der Elemente im Tensor:  784\n",
      "(Zum Vergleich: 1*28*28 = 784 )\n"
     ]
    }
   ],
   "source": [
    "print(\"Ausgabe der Integer-Zahl: \", B, \"\\n\")\n",
    "print(\"Struktur des Tensors: \", A.shape)\n",
    "print(\"Anzahl der Elemente im Tensor: \", A.numel())\n",
    "print(\"(Zum Vergleich: 1*28*28 =\", 28*28, \")\")"
   ]
  },
  {
   "attachments": {},
   "cell_type": "markdown",
   "metadata": {},
   "source": [
    "Interpretation: Ein Datenpunkt besteht aus der Kombination von einem Bilder (28 x 28 Pixel) mit einem Label (dargestellte Ziffer). Da das Dataset für die Klassifikation von Ziffern gedacht ist entsprechen die Labels die Bezeichnungen der jeweiligen Ziffern."
   ]
  },
  {
   "attachments": {},
   "cell_type": "markdown",
   "metadata": {},
   "source": [
    "### 5. Graphische Darstellung eines Beispiels aus dem Dataset:"
   ]
  },
  {
   "attachments": {},
   "cell_type": "markdown",
   "metadata": {},
   "source": [
    "Konvertieren Sie den Bildanteil eines Datenpunktes in eine quadratische Matrix, indem sie die redundaten Tensordimension mit squeeze reduzieren (\"Tensor zusammendrücken\") und geben Sie diese als Graustufenbild aus"
   ]
  },
  {
   "cell_type": "code",
   "execution_count": 1,
   "metadata": {},
   "outputs": [
    {
     "ename": "NameError",
     "evalue": "name 'plt' is not defined",
     "output_type": "error",
     "traceback": [
      "\u001b[1;31m---------------------------------------------------------------------------\u001b[0m",
      "\u001b[1;31mNameError\u001b[0m                                 Traceback (most recent call last)",
      "Cell \u001b[1;32mIn[1], line 1\u001b[0m\n\u001b[1;32m----> 1\u001b[0m plt\u001b[39m.\u001b[39mimshow(A\u001b[39m.\u001b[39msqueeze, cmap\u001b[39m=\u001b[39m\u001b[39m\"\u001b[39m\u001b[39mgray\u001b[39m\u001b[39m\"\u001b[39m)\n\u001b[0;32m      2\u001b[0m plt\u001b[39m.\u001b[39mtitle(label)\n\u001b[0;32m      3\u001b[0m plt\u001b[39m.\u001b[39mshow()\n",
      "\u001b[1;31mNameError\u001b[0m: name 'plt' is not defined"
     ]
    }
   ],
   "source": [
    "plt.imshow(A.squeeze, cmap=\"gray\")\n",
    "plt.show()"
   ]
  }
 ],
 "metadata": {
  "kernelspec": {
   "display_name": "juno",
   "language": "python",
   "name": "python3"
  },
  "language_info": {
   "codemirror_mode": {
    "name": "ipython",
    "version": 3
   },
   "file_extension": ".py",
   "mimetype": "text/x-python",
   "name": "python",
   "nbconvert_exporter": "python",
   "pygments_lexer": "ipython3",
   "version": "3.10.10"
  },
  "orig_nbformat": 4
 },
 "nbformat": 4,
 "nbformat_minor": 2
}

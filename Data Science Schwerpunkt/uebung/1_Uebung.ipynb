{
 "cells": [
  {
   "cell_type": "markdown",
   "metadata": {},
   "source": [
    "## 1. Zahlenkonvertierung\n",
    "\n",
    "Schreiben Sie ein Python-Programm, welches vom Nutzer eine Binärzahl einliest und diese in die entsprechende Dezimalzahl konvertiert.\n",
    "\n",
    "- Für die Nutzereingabe gibt es die Funktion `input()`, welche einen String zurückliefert.\n",
    "- Der allerkürzestes Weg wäre ein Typecast von String zu Integer bezüglich der Basis 2, z.B. `int(\"10110\", base=2)` ergibt 22. Hier sollen Sie **nicht** (oder nur zum Debuggen) darauf zurückgreifen, sonders die Umrechnung selbst implementieren."
   ]
  },
  {
   "cell_type": "code",
   "execution_count": 8,
   "metadata": {},
   "outputs": [
    {
     "name": "stdout",
     "output_type": "stream",
     "text": [
      "Input: \n",
      "Decimal: 0.5625\n",
      "Binary 0.5625\n"
     ]
    }
   ],
   "source": [
    "binary = \"10010\"\n",
    "decimal = 0\n",
    "input = \"\"\n",
    "\n",
    "print(\"Input:\", input)\n",
    "\n",
    "for index, value in enumerate(binary):\n",
    "    exponent = len(input) - index - 1\n",
    "    decimal += int(value) * (2**exponent)\n",
    "\n",
    "print(\"Decimal:\", decimal)\n",
    "\n",
    "binary = \"\"\n",
    "while decimal != 0:\n",
    "    binary = str(decimal % 2) + binary\n",
    "    decimal //= 2\n",
    "\n",
    "print(\"Binary\", binary)"
   ]
  },
  {
   "cell_type": "markdown",
   "metadata": {},
   "source": [
    "## 2. Worthäufigkeiten\n",
    "\n",
    "Lesen Sie die Datei **faust.txt** ein und zählen Sie die Häufigkeit der einzelnen Worte. Welches sind die häufigsten/seltensten Worte? \n",
    "\n",
    "Wenn die Programmlogik erstmal steht, können Sie folgende Optimierungen vornehmen:\n",
    "- Aufgrund von Satzanfängen kann es sinnvoll sein, die Worte alle zu Uppercase oder Lowercase zu konvertieren. Strings kennen z.B. die Methoden `upper()` und `lower()`. (`\"Ein Text\".upper()` -> `\"EIN TEXT\"`)\n",
    "- Es kann sinnvoll sein, Satzzeichen zu entfernen. Am mächtigsten sind hierfür reguläre Ausdrücke (regular expressions). Diese kann man mittels `import re` zur Verfügung stellen. Die Funktion `sub(pattern, replacement, text)` ersetzt im `text` alle Treffer des angegebenen `pattern` durch das `replacement`. Beispiel: `re.sub(\"[,:]\", \"\", \"Beispiel: eins, zwei, drei\")` -> `\"Beispiel eins zwei drei\"` "
   ]
  },
  {
   "cell_type": "code",
   "execution_count": 9,
   "metadata": {},
   "outputs": [
    {
     "name": "stdout",
     "output_type": "stream",
     "text": [
      "Total number of words:  6276\n",
      "Top 10 words:  [('und', 919), ('ich', 691), ('die', 667), ('der', 603), ('faust', 474), ('nicht', 426), ('das', 399), ('ein', 399), ('zu', 398), ('ist', 362)]\n",
      "Bottom 10 words:  [('plaudern', 1), ('schaudern', 1), ('schick', 1), ('gericht', 1), ('lagert', 1), ('bewahren', 1), ('grauts', 1), ('gerichtet', 1), ('innen', 1), ('verhallend', 1)]\n"
     ]
    }
   ],
   "source": [
    "import re\n",
    "\n",
    "dict = {}\n",
    "\n",
    "for word in open(\"../assets/faust.txt\", \"r\").read().split():\n",
    "    parsed_word = re.sub(r\"[^\\w\\s]\", \"\", word.lower())\n",
    "    if parsed_word: dict[parsed_word] = dict.get(parsed_word, 0) + 1\n",
    "\n",
    "# sort the dictionary by word count\n",
    "dict = sorted(dict.items(), key=lambda x: x[1], reverse=True)\n",
    "\n",
    "print(\"Total number of words: \", len(dict))\n",
    "\n",
    "print(\"Top 10 words: \", dict[:10])\n",
    "print(\"Bottom 10 words: \", dict[-10:])"
   ]
  },
  {
   "cell_type": "markdown",
   "metadata": {},
   "source": [
    "Ändern Sie Ihren Code, so dass gezählt wird, wie viele Worte genau einen, zwei, drei, ... Buchstaben lang sind.\n",
    "Was ist die häufigste Wortlänge? Wie lang ist das längste Wort? \n",
    "Visualisieren Sie Ihre Resultate in einem Balkendiagramm."
   ]
  },
  {
   "cell_type": "code",
   "execution_count": 10,
   "metadata": {},
   "outputs": [
    {
     "name": "stdout",
     "output_type": "stream",
     "text": [
      "[(23, ['schneckeschnickeschnack']), (20, ['taschenspielersachen']), (19, ['rechtsgelehrsamkeit']), (18, ['geistesdespotismus']), (17, ['hinweggeschwunden']), (16, ['frühlingsblüthen']), (15, ['halbverklungnen']), (14, ['wirklichkeiten']), (13, ['labyrinthisch']), (12, ['freundschaft']), (11, ['einleitende']), (10, ['jugendlich']), (9, ['zueignung']), (8, ['wolfgang']), (7, ['angaben']), (6, ['goethe']), (5, ['faust']), (4, ['eine']), (3, ['von']), (2, ['zu']), (1, ['o']), (0, [''])]\n"
     ]
    }
   ],
   "source": [
    "import numpy as np\n",
    "import pandas as pd\n",
    "from matplotlib import pyplot as plt\n",
    "import seaborn as sns\n",
    "\n",
    "\n",
    "word_lengths = {}\n",
    "for word in open(\"../assets/faust.txt\", \"r\").read().split():\n",
    "    parsed_word = re.sub(r\"[^\\w\\s]\", \"\", word.lower())\n",
    "    word_length = len(parsed_word)\n",
    "\n",
    "    if word_length not in word_lengths:\n",
    "        word_lengths[word_length] = []\n",
    "        word_lengths[word_length].append(parsed_word)\n",
    "    \n",
    "word_lengths = sorted(word_lengths.items(), key=lambda x:x[0], reverse=True)\n",
    "\n",
    "print(word_lengths)\n",
    "\n"
   ]
  }
 ],
 "metadata": {
  "kernelspec": {
   "display_name": "Maschinelles_Lernen",
   "language": "python",
   "name": "python3"
  },
  "language_info": {
   "codemirror_mode": {
    "name": "ipython",
    "version": 3
   },
   "file_extension": ".py",
   "mimetype": "text/x-python",
   "name": "python",
   "nbconvert_exporter": "python",
   "pygments_lexer": "ipython3",
   "version": "3.12.2"
  }
 },
 "nbformat": 4,
 "nbformat_minor": 2
}

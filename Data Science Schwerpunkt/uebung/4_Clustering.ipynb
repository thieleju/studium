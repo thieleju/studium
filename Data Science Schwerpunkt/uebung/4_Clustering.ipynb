{
 "cells": [
  {
   "attachments": {},
   "cell_type": "markdown",
   "metadata": {},
   "source": [
    "<img src=\"https://www.th-ab.de/typo3conf/ext/th_ab/Resources/Public/assets/logo-th-ab.svg\" alt=\"TH-AB Logo\" width=\"200\"/>\n",
    "\n",
    "Prof. Dr. Möckel, Prof. Dr. Radke, K. Kuhnert\n",
    "\n",
    "Maschinelles Lernen Schwerpunkt Data Science<br>\n",
    "SoSe 2024"
   ]
  },
  {
   "attachments": {},
   "cell_type": "markdown",
   "metadata": {},
   "source": [
    "# Übung: Farbkompression mit K-Means\n",
    "\n",
    "Ziel dieser Übung ist es, das Cluster-Verfahren K-Means einzusetzen, um die Farbaufösung eines Bildes zu reduzieren. Dazu sollen Cluster aufgrund ähnlicher Farbwerte gebildet werden.\n",
    "\n",
    "Referenz: https://github.com/RPI-DATA/course-intro-ml-app/blob/master/content/notebooks/14-unsupervised/03-kmeans.ipynb"
   ]
  },
  {
   "attachments": {},
   "cell_type": "markdown",
   "metadata": {},
   "source": [
    "### Bilddaten laden"
   ]
  },
  {
   "cell_type": "code",
   "execution_count": null,
   "metadata": {},
   "outputs": [],
   "source": [
    "import matplotlib.pyplot as plt\n",
    "import pandas as pd\n",
    "from sklearn.datasets import load_sample_image\n",
    "\n",
    "china = load_sample_image(\"china.jpg\")"
   ]
  },
  {
   "attachments": {},
   "cell_type": "markdown",
   "metadata": {},
   "source": [
    "### Bilddaten analysieren und verstehen"
   ]
  },
  {
   "attachments": {},
   "cell_type": "markdown",
   "metadata": {},
   "source": [
    "Führen Sie für das geladene Bild eine erste explorative Datenanalyse durch. Lassen Sie sich dazu zunächst das Bild mit dem Befehl imshow anzeigen:"
   ]
  },
  {
   "cell_type": "code",
   "execution_count": null,
   "metadata": {},
   "outputs": [],
   "source": [
    "ax = plt.axes(xticks=[], yticks=[])\n",
    "ax.imshow()"
   ]
  },
  {
   "attachments": {},
   "cell_type": "markdown",
   "metadata": {},
   "source": [
    "Mit welcher Datenstruktur wird dieses Farbbild repräsentiert? "
   ]
  },
  {
   "cell_type": "code",
   "execution_count": null,
   "metadata": {},
   "outputs": [],
   "source": [
    "print(\"### Shape ##############\")\n",
    "print(f\"{ }\\n\")"
   ]
  },
  {
   "attachments": {},
   "cell_type": "markdown",
   "metadata": {},
   "source": [
    "Wandeln Sie nun das Bild in einen pandas dataframe mit 3 Spalten um und lassen Sie sich die üblichen Aussagen der deskriptiven Statistik ausgeben (vgl. Vorlesung):"
   ]
  },
  {
   "cell_type": "code",
   "execution_count": null,
   "metadata": {},
   "outputs": [],
   "source": [
    "\n",
    "# load dataset as DataFrame\n",
    "df = pd.DataFrame(china.reshape())\n",
    "\n",
    "# show semantics\n",
    "print(\"### Semantics ##############\")\n",
    "\n",
    "\n",
    "# show potential null values\n",
    "print(f\"\\n### NaN value summary ##############\")\n",
    "\n",
    "\n",
    "# show statistics\n",
    "print(\"### Statistics ##############\")\n",
    "\n",
    "\n",
    "# preview dataset\n",
    "print(\"### Preview ##############\")\n",
    "\n"
   ]
  },
  {
   "attachments": {},
   "cell_type": "markdown",
   "metadata": {},
   "source": [
    "### Datensatz vorbereiten"
   ]
  },
  {
   "attachments": {},
   "cell_type": "markdown",
   "metadata": {},
   "source": [
    "Reskalieren Sie die Farbwerte in den Bereich [0,1] und stellen Sie das Bild durch 3 Spalten dar. "
   ]
  },
  {
   "cell_type": "code",
   "execution_count": null,
   "metadata": {},
   "outputs": [],
   "source": [
    "# rescale colors to [0, 1]\n",
    "X =          # use 0...1 scale\n",
    "\n",
    "# reshape data to 3 columns\n",
    "X = X.reshape()\n",
    "X.shape"
   ]
  },
  {
   "attachments": {},
   "cell_type": "markdown",
   "metadata": {},
   "source": [
    "### Technischer Einschub: Spezielle Funktion zur Darstellung eines pixelweisen Bildplots"
   ]
  },
  {
   "cell_type": "code",
   "execution_count": null,
   "metadata": {},
   "outputs": [],
   "source": [
    "import numpy as np\n",
    "\n",
    "def plot_pixels(data, title, colors=None, N=10000):\n",
    "    if colors is None:\n",
    "        colors = data\n",
    "    \n",
    "    # choose a random subset\n",
    "    rng = np.random.RandomState(0)\n",
    "    i = rng.permutation(data.shape[0])[:N]\n",
    "    colors = colors[i]\n",
    "    R, G, B = data[i].T\n",
    "    \n",
    "    fig, ax = plt.subplots(1, 2, figsize=(16, 6))\n",
    "    ax[0].scatter(R, G, color=colors, marker='.')\n",
    "    ax[0].set(xlabel='Red', ylabel='Green', xlim=(0, 1), ylim=(0, 1))\n",
    "\n",
    "    ax[1].scatter(R, B, color=colors, marker='.')\n",
    "    ax[1].set(xlabel='Red', ylabel='Blue', xlim=(0, 1), ylim=(0, 1))\n",
    "\n",
    "    fig.suptitle(title, size=20);"
   ]
  },
  {
   "attachments": {},
   "cell_type": "markdown",
   "metadata": {},
   "source": [
    "## Clustering der Frabwerte mit K-Means\n",
    "\n",
    "Nutzen Sie nun die MiniBatch-Variante des Clusteralgorithmus KMeans\n",
    "\n",
    "#### Bestimmung der optimalen Anzahl an k-means Clustern\n",
    "\n",
    "Testen Sie K-Means für alle Anzahlen an Clustern zwischen 1 und 30, bestimmen Sie für jeden Wert die inertia Restwerte und erstellen Sie einen elbow plot."
   ]
  },
  {
   "cell_type": "code",
   "execution_count": null,
   "metadata": {},
   "outputs": [],
   "source": [
    "from sklearn.cluster import MiniBatchKMeans\n",
    "from sklearn.cluster import KMeans\n",
    "import matplotlib.pyplot as plt\n",
    "import pandas as pd\n",
    "\n",
    "MAX_CLUSTERS = \n",
    "SEED = 42\n",
    "\n",
    "# calculate inertia for different k values\n",
    "inertia_values = []\n",
    "for k in range(1, MAX_CLUSTERS):\n",
    "    # apply KMeans for n clusters\n",
    "    kmeans = MiniBatchKMeans(   )\n",
    "    \n",
    "    inertia_values.append(   )\n",
    "\n",
    "# plot the elbow\n",
    "plt.figure(figsize=(4, 4))\n",
    "plt.plot(range(1, MAX_CLUSTERS), inertia_values, marker='o')\n",
    "plt.xlabel('Number of clusters (k)')\n",
    "plt.ylabel('Inertia')\n",
    "plt.title('Elbow Method')\n",
    "plt.show()"
   ]
  },
  {
   "attachments": {},
   "cell_type": "markdown",
   "metadata": {},
   "source": [
    "### K-Means anwenden (MiniBatchKMeans)\n",
    "\n",
    "Führen Sie nun das Clustering für 16 Cluster durch"
   ]
  },
  {
   "cell_type": "code",
   "execution_count": null,
   "metadata": {},
   "outputs": [],
   "source": [
    "## setup hyperparameters\n",
    "CLUSTERS = \n",
    "SEED = 42\n",
    "\n",
    "## choose model\n",
    "# apply k-means for n clusters\n",
    "\n",
    "## fitting (training) model\n",
    "\n",
    "# Zuweisung neuer Farbwerte\n",
    "new_colors = kmeans.cluster_centers_[kmeans.predict(X)]\n",
    "\n",
    "## show result\n",
    "plot_pixels(X, colors=new_colors, title=f\"Reduced color space: {CLUSTERS} colors\")"
   ]
  },
  {
   "attachments": {},
   "cell_type": "markdown",
   "metadata": {},
   "source": [
    "### Augenscheinlicher Vergleich von Original zu reduzierter Version\n",
    "\n",
    "Plotten Sie das Originalbild und das farbkomprimierte Bild nebeneinander"
   ]
  },
  {
   "cell_type": "code",
   "execution_count": null,
   "metadata": {},
   "outputs": [],
   "source": [
    "china_recolored = new_colors.reshape(china.shape)\n",
    "\n",
    "fig, ax = plt.subplots(1, 2, figsize=(16, 6), subplot_kw=dict(xticks=[], yticks=[]))\n",
    "fig.subplots_adjust(wspace=0.05)\n",
    "ax[0].imshow(china)\n",
    "ax[0].set_title('Original Image', size=16)\n",
    "ax[1].imshow(china_recolored)\n",
    "ax[1].set_title('16-color Image', size=16);"
   ]
  }
 ],
 "metadata": {
  "kernelspec": {
   "display_name": "juno",
   "language": "python",
   "name": "python3"
  },
  "language_info": {
   "codemirror_mode": {
    "name": "ipython",
    "version": 3
   },
   "file_extension": ".py",
   "mimetype": "text/x-python",
   "name": "python",
   "nbconvert_exporter": "python",
   "pygments_lexer": "ipython3",
   "version": "3.10.10"
  },
  "orig_nbformat": 4
 },
 "nbformat": 4,
 "nbformat_minor": 2
}

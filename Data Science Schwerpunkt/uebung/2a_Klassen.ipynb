{
 "cells": [
  {
   "attachments": {},
   "cell_type": "markdown",
   "metadata": {},
   "source": [
    "<img src=\"https://www.th-ab.de/typo3conf/ext/th_ab/Resources/Public/assets/logo-th-ab.svg\" alt=\"TH-AB Logo\" width=\"200\"/>\n",
    "\n",
    "Prof. Dr. Möckel, Prof. Klaus Radke, Katharina Kuhnert\n",
    "\n",
    "Maschinelles Lernen Schwerpunkt Data Science<br>\n",
    "SoSe 2024"
   ]
  },
  {
   "attachments": {},
   "cell_type": "markdown",
   "metadata": {},
   "source": [
    "# Übung 2a: Klassen und Vererbung"
   ]
  },
  {
   "attachments": {},
   "cell_type": "markdown",
   "metadata": {},
   "source": [
    "## Aufgabe 1: Vererbung"
   ]
  },
  {
   "attachments": {},
   "cell_type": "markdown",
   "metadata": {},
   "source": [
    "Implementieren Sie eine Klasse `Time_keeper`, welche eine Zeitmessung ermöglicht. Ergänzen Sie den vorgegebenen Code. Vergleichen Sie die Overhead-Zeiten der timit Bibliothek und Ihrer eigenen Implementierung, indem Sie den arithmetischen Mittelwert berechnen. Wiederholen Sie die Testdurchläufe. Welche Aussage lässt sich treffen?"
   ]
  },
  {
   "attachments": {},
   "cell_type": "markdown",
   "metadata": {},
   "source": [
    "#### Kopieren Sie die Klasse `Simple_time()` aus den Vorlesungsunterlagen in den folgenden Abschnitt:"
   ]
  },
  {
   "cell_type": "code",
   "execution_count": null,
   "metadata": {},
   "outputs": [],
   "source": []
  },
  {
   "attachments": {},
   "cell_type": "markdown",
   "metadata": {},
   "source": [
    "#### Importieren Sie die Bibliothek `datetime` mit dem Kürzel `dt`:"
   ]
  },
  {
   "cell_type": "code",
   "execution_count": null,
   "metadata": {},
   "outputs": [],
   "source": []
  },
  {
   "attachments": {},
   "cell_type": "markdown",
   "metadata": {},
   "source": [
    "#### Implementieren Sie eine Klasse `Duration`, welche von der Klasse `Simple_time` erbt mit folgender Funktionalität:\n",
    "\n",
    "* Erweiterung der Klasse durch die Membervariable `second` als Property und Setter.\n",
    "* Überladen eines Konstrukturs, der das Argument vom Typ `dt.datetime` nutzt, um `hour`, `minute` and `second` zu setzen.\n",
    "* Erstellung einer Memberfunktion `measure`:\n",
    "    * Bildung der Differenz der Übergebenen Zeit mit der in der Klasse gespeicherten Zeit.\n",
    "    * Rückgabe der Zeitdifferenz (=Dauer) als `str`\n",
    "    * Nutzen Sie `datetime` um Berechnungen durchzuführen\n",
    "* Überschreiben der `__str__` Memberfunktion mit der Ausgabeform: `The time is: hour:minute:second`"
   ]
  },
  {
   "cell_type": "code",
   "execution_count": null,
   "metadata": {},
   "outputs": [],
   "source": []
  },
  {
   "attachments": {},
   "cell_type": "markdown",
   "metadata": {},
   "source": [
    "## Aufgabe 2: Anwendung und Zeitmessung"
   ]
  },
  {
   "attachments": {},
   "cell_type": "markdown",
   "metadata": {},
   "source": [
    "Erstellen Sie zwei Listen aus zufälligen Zahlen mit Hilfe von Numpy. Erstellen Sie eine Liste `rnd_a` mit der Funktion `random.randint`. Die andere Liste `rnd_b` erstellen Sie mit der Funktion `random.rand`. Geben Sie beide Listen mit `print()` aus."
   ]
  },
  {
   "cell_type": "code",
   "execution_count": null,
   "metadata": {},
   "outputs": [],
   "source": []
  },
  {
   "attachments": {},
   "cell_type": "markdown",
   "metadata": {},
   "source": [
    "Nutzen Sie die erstellte Klasse aus Aufgabe 1 um die Laufzeit der Sortierung der Liste `rnd_a` zu erfassen."
   ]
  },
  {
   "cell_type": "code",
   "execution_count": null,
   "metadata": {},
   "outputs": [],
   "source": []
  },
  {
   "attachments": {},
   "cell_type": "markdown",
   "metadata": {},
   "source": [
    "Nutzen Sie die erstellte Klasse aus Aufgabe 1 um die Laufzeit der Sortierung der Liste `rnd_b` zu erfassen."
   ]
  },
  {
   "cell_type": "code",
   "execution_count": null,
   "metadata": {},
   "outputs": [],
   "source": []
  },
  {
   "attachments": {},
   "cell_type": "markdown",
   "metadata": {},
   "source": [
    "#### Welche Aussage lässt sich anhand der Zeitmessungen treffen?"
   ]
  },
  {
   "cell_type": "code",
   "execution_count": null,
   "metadata": {},
   "outputs": [],
   "source": []
  },
  {
   "attachments": {},
   "cell_type": "markdown",
   "metadata": {},
   "source": [
    "Die Datenypen der beiden Zufallsgeneratoren sind unterschiedlich. Die Sortierung von `int` (Ganzzahlen) ist im Vergleich zu `float64` (Fließkommazahlen) signifikant schneller."
   ]
  }
 ],
 "metadata": {
  "kernelspec": {
   "display_name": "juno",
   "language": "python",
   "name": "python3"
  },
  "language_info": {
   "codemirror_mode": {
    "name": "ipython",
    "version": 3
   },
   "file_extension": ".py",
   "mimetype": "text/x-python",
   "name": "python",
   "nbconvert_exporter": "python",
   "pygments_lexer": "ipython3",
   "version": "3.10.9"
  },
  "orig_nbformat": 4
 },
 "nbformat": 4,
 "nbformat_minor": 2
}

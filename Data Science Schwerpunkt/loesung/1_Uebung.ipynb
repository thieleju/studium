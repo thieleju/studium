{
 "cells": [
  {
   "cell_type": "markdown",
   "metadata": {},
   "source": [
    "## 1. Zahlenkonvertierung\n",
    "\n",
    "Schreiben Sie ein Python-Programm, welches vom Nutzer eine Binärzahl einliest und diese in die entsprechende Dezimalzahl konvertiert.\n",
    "\n",
    "- Für die Nutzereingabe gibt es die Funktion `input()`, welche einen String zurückliefert.\n",
    "- Der allerkürzestes Weg wäre ein Typecast von String zu Integer bezüglich der Basis 2, z.B. `int(\"10110\", base=2)` ergibt 22. Hier sollen Sie **nicht** (oder nur zum Debuggen) darauf zurückgreifen, sonders die Umrechnung selbst implementieren."
   ]
  },
  {
   "cell_type": "code",
   "execution_count": 51,
   "metadata": {},
   "outputs": [
    {
     "data": {
      "text/plain": [
       "25"
      ]
     },
     "execution_count": 51,
     "metadata": {},
     "output_type": "execute_result"
    }
   ],
   "source": [
    "binary = input(\"Zahl eingeben:\")\n",
    "\n",
    "#decimal = 0\n",
    "#for i in range(len(binary)):\n",
    "#    decimal += int(binary[i])*(2**(len(binary) - 1 -i))\n",
    "#decimal\n",
    "\n",
    "#decimal = 0\n",
    "#binary_rev = list(reversed(binary))\n",
    "#for i, char in enumerate(binary_rev):\n",
    "#    decimal += int(char) * 2**i\n",
    "#decimal\n",
    "\n",
    "decimal = 0\n",
    "index = 0\n",
    "digits = list(binary)\n",
    "while digits:\n",
    "    if digits.pop() == \"1\":\n",
    "        decimal += 2**index\n",
    "    index += 1\n",
    "decimal"
   ]
  },
  {
   "cell_type": "markdown",
   "metadata": {},
   "source": [
    "## 2. Worthäufigkeiten\n",
    "\n",
    "Lesen Sie die Datei **faust.txt** ein und zählen Sie die Häufigkeit der einzelnen Worte. Welches sind die häufigsten/seltensten Worte? \n",
    "\n",
    "Wenn die Programmlogik erstmal steht, können Sie folgende Optimierungen vornehmen:\n",
    "- Aufgrund von Satzanfängen kann es sinnvoll sein, die Worte alle zu Uppercase oder Lowercase zu konvertieren. Strings kennen z.B. die Methoden `upper()` und `lower()`. (`\"Ein Text\".upper()` -> `\"EIN TEXT\"`)\n",
    "- Es kann sinnvoll sein, Satzzeichen zu entfernen. Am mächtigsten sind hierfür reguläre Ausdrücke (regular expressions). Diese kann man mittels `import re` zur Verfügung stellen. Die Funktion `sub(pattern, replacement, text)` ersetzt im `text` alle Treffer des angegebenen `pattern` durch das `replacement`. Beispiel: `re.sub(\"[,:]\", \"\", \"Beispiel: eins, zwei, drei\")` -> `\"Beispiel eins zwei drei\"` "
   ]
  },
  {
   "cell_type": "markdown",
   "metadata": {},
   "source": [
    "Im Weiteren wollen wir untersuchen, wie viele Worte genau einen, zwei, drei, ... Buchstaben lang sind.\n",
    "Was ist die häufigste Wortlänge? Wie lang ist das längste Wort? \n",
    "Visualisieren Sie Ihre Resultate in einem Balkendiagramm/Histogramm."
   ]
  },
  {
   "cell_type": "code",
   "execution_count": 92,
   "metadata": {},
   "outputs": [
    {
     "data": {
      "text/plain": [
       "[('und', 919),\n",
       " ('ich', 685),\n",
       " ('die', 666),\n",
       " ('der', 605),\n",
       " ('nicht', 419),\n",
       " ('das', 401),\n",
       " ('ein', 398),\n",
       " ('zu', 378),\n",
       " ('ist', 361),\n",
       " ('du', 311)]"
      ]
     },
     "execution_count": 92,
     "metadata": {},
     "output_type": "execute_result"
    }
   ],
   "source": [
    "import re\n",
    "\n",
    "# Datei öffnen und alle Zeilen auslesen\n",
    "with open(\"Goethe - Faust I.txt\", encoding=\"UTF-8\") as file:\n",
    "    lines = file.readlines()\n",
    "\n",
    "\n",
    "counter = {}\n",
    "for line in lines:\n",
    "    # alles zu Lowercase machen Sonderzeichen entfernen\n",
    "    line = line.lower()\n",
    "    line = re.sub(r\"[,:\\.\\!\\?'\\-\\—\\(\\)]\", \"\", line)\n",
    "\n",
    "    # über Einzelworte iterieren und wortweise Einzelcounts erhöhen\n",
    "    words = line.split()\n",
    "    for word in words:\n",
    "        counter[word] = counter.get(word, 0) + 1\n",
    "\n",
    "#10 häufigste Worte:\n",
    "sorted(list(counter.items()), key = lambda pair: pair[1], reverse=True)[:10]"
   ]
  },
  {
   "cell_type": "code",
   "execution_count": 66,
   "metadata": {},
   "outputs": [
    {
     "data": {
      "text/plain": [
       "[('schneckeschnickeschnack', 1),\n",
       " ('walpurgisnachtstraum', 2),\n",
       " ('taschenspielersachen', 1),\n",
       " ('rechtsgelehrsamkeit', 1),\n",
       " ('dahinverräterischer', 1),\n",
       " ('unwiederbringlichen', 1),\n",
       " ('geistesdespotismus', 1),\n",
       " ('jammerknechtschaft', 1),\n",
       " ('hinweggeschwunden', 1),\n",
       " ('schmeichelkräften', 1)]"
      ]
     },
     "execution_count": 66,
     "metadata": {},
     "output_type": "execute_result"
    }
   ],
   "source": [
    "# 10 längste Worte:\n",
    "sorted(list(counter.items()), key = lambda pair: len(pair[0]), reverse=True)[:10]"
   ]
  },
  {
   "cell_type": "markdown",
   "metadata": {},
   "source": [
    "Zur Abwechslung nun weiter mit Pandas:"
   ]
  },
  {
   "cell_type": "code",
   "execution_count": 72,
   "metadata": {},
   "outputs": [
    {
     "data": {
      "text/html": [
       "<div>\n",
       "<style scoped>\n",
       "    .dataframe tbody tr th:only-of-type {\n",
       "        vertical-align: middle;\n",
       "    }\n",
       "\n",
       "    .dataframe tbody tr th {\n",
       "        vertical-align: top;\n",
       "    }\n",
       "\n",
       "    .dataframe thead th {\n",
       "        text-align: right;\n",
       "    }\n",
       "</style>\n",
       "<table border=\"1\" class=\"dataframe\">\n",
       "  <thead>\n",
       "    <tr style=\"text-align: right;\">\n",
       "      <th></th>\n",
       "      <th>word</th>\n",
       "      <th>count</th>\n",
       "      <th>word_len</th>\n",
       "    </tr>\n",
       "  </thead>\n",
       "  <tbody>\n",
       "    <tr>\n",
       "      <th>0</th>\n",
       "      <td>faust</td>\n",
       "      <td>265</td>\n",
       "      <td>5</td>\n",
       "    </tr>\n",
       "    <tr>\n",
       "      <th>1</th>\n",
       "      <td>der</td>\n",
       "      <td>605</td>\n",
       "      <td>3</td>\n",
       "    </tr>\n",
       "    <tr>\n",
       "      <th>2</th>\n",
       "      <td>tragödie</td>\n",
       "      <td>2</td>\n",
       "      <td>8</td>\n",
       "    </tr>\n",
       "    <tr>\n",
       "      <th>3</th>\n",
       "      <td>erster</td>\n",
       "      <td>4</td>\n",
       "      <td>6</td>\n",
       "    </tr>\n",
       "    <tr>\n",
       "      <th>4</th>\n",
       "      <td>teil</td>\n",
       "      <td>8</td>\n",
       "      <td>4</td>\n",
       "    </tr>\n",
       "    <tr>\n",
       "      <th>...</th>\n",
       "      <td>...</td>\n",
       "      <td>...</td>\n",
       "      <td>...</td>\n",
       "    </tr>\n",
       "    <tr>\n",
       "      <th>6555</th>\n",
       "      <td>bewahren</td>\n",
       "      <td>1</td>\n",
       "      <td>8</td>\n",
       "    </tr>\n",
       "    <tr>\n",
       "      <th>6556</th>\n",
       "      <td>graut’s</td>\n",
       "      <td>1</td>\n",
       "      <td>7</td>\n",
       "    </tr>\n",
       "    <tr>\n",
       "      <th>6557</th>\n",
       "      <td>gerichtet</td>\n",
       "      <td>1</td>\n",
       "      <td>9</td>\n",
       "    </tr>\n",
       "    <tr>\n",
       "      <th>6558</th>\n",
       "      <td>innen</td>\n",
       "      <td>1</td>\n",
       "      <td>5</td>\n",
       "    </tr>\n",
       "    <tr>\n",
       "      <th>6559</th>\n",
       "      <td>verhallend</td>\n",
       "      <td>1</td>\n",
       "      <td>10</td>\n",
       "    </tr>\n",
       "  </tbody>\n",
       "</table>\n",
       "<p>6560 rows × 3 columns</p>\n",
       "</div>"
      ],
      "text/plain": [
       "            word  count  word_len\n",
       "0          faust    265         5\n",
       "1            der    605         3\n",
       "2       tragödie      2         8\n",
       "3         erster      4         6\n",
       "4           teil      8         4\n",
       "...          ...    ...       ...\n",
       "6555    bewahren      1         8\n",
       "6556     graut’s      1         7\n",
       "6557   gerichtet      1         9\n",
       "6558       innen      1         5\n",
       "6559  verhallend      1        10\n",
       "\n",
       "[6560 rows x 3 columns]"
      ]
     },
     "execution_count": 72,
     "metadata": {},
     "output_type": "execute_result"
    }
   ],
   "source": [
    "import pandas as pd\n",
    "\n",
    "df = pd.DataFrame(counter.items(), columns=[\"word\", \"count\"])\n",
    "df[\"word_len\"] = df[\"word\"].str.len()\n",
    "df"
   ]
  },
  {
   "cell_type": "code",
   "execution_count": 75,
   "metadata": {},
   "outputs": [
    {
     "data": {
      "text/plain": [
       "word_len\n",
       "1       51\n",
       "2     2534\n",
       "3     9139\n",
       "4     5118\n",
       "5     4603\n",
       "6     3553\n",
       "7     1684\n",
       "8     1337\n",
       "9      861\n",
       "10     555\n",
       "11     375\n",
       "12     263\n",
       "13     148\n",
       "14     364\n",
       "15      35\n",
       "16      21\n",
       "17       8\n",
       "18       2\n",
       "19       3\n",
       "20       3\n",
       "23       1\n",
       "Name: count, dtype: int64"
      ]
     },
     "execution_count": 75,
     "metadata": {},
     "output_type": "execute_result"
    }
   ],
   "source": [
    "len_counts = df.groupby(\"word_len\")[\"count\"].sum()\n",
    "len_counts"
   ]
  },
  {
   "cell_type": "code",
   "execution_count": 91,
   "metadata": {},
   "outputs": [
    {
     "data": {
      "text/plain": [
       "<Axes: xlabel='word_len', ylabel='count'>"
      ]
     },
     "execution_count": 91,
     "metadata": {},
     "output_type": "execute_result"
    },
    {
     "data": {
      "image/png": "[encoded data removed]",
      "text/plain": [
       "<Figure size 640x480 with 1 Axes>"
      ]
     },
     "metadata": {},
     "output_type": "display_data"
    }
   ],
   "source": [
    "import seaborn as sns\n",
    "\n",
    "sns.set_theme()\n",
    "sns.barplot(y = len_counts, x = len_counts.index, color=\"skyblue\")"
   ]
  }
 ],
 "metadata": {
  "kernelspec": {
   "display_name": "Maschinelles_Lernen",
   "language": "python",
   "name": "python3"
  },
  "language_info": {
   "codemirror_mode": {
    "name": "ipython",
    "version": 3
   },
   "file_extension": ".py",
   "mimetype": "text/x-python",
   "name": "python",
   "nbconvert_exporter": "python",
   "pygments_lexer": "ipython3",
   "version": "3.12.2"
  }
 },
 "nbformat": 4,
 "nbformat_minor": 2
}

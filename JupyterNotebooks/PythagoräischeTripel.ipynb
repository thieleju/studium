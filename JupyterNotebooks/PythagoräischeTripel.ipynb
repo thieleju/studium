{
 "cells": [
  {
   "cell_type": "markdown",
   "metadata": {},
   "source": [
    "# Pythagoräische Tripel \n",
    "P = {(k, m, n) ∈ N³ : (1 ≤ k, m, n ≤ 15) ∧ (k² + m² = n²)}"
   ]
  },
  {
   "cell_type": "code",
   "execution_count": 69,
   "metadata": {},
   "outputs": [
    {
     "name": "stdout",
     "output_type": "stream",
     "text": [
      "3 ²+ 4 ²= 5.0 ²\n",
      "4 ²+ 3 ²= 5.0 ²\n",
      "5 ²+ 12 ²= 13.0 ²\n",
      "6 ²+ 8 ²= 10.0 ²\n",
      "8 ²+ 6 ²= 10.0 ²\n",
      "9 ²+ 12 ²= 15.0 ²\n",
      "12 ²+ 5 ²= 13.0 ²\n",
      "12 ²+ 9 ²= 15.0 ²\n",
      "List contains:  8  tripel\n",
      "Tripel: \n",
      " [[3, 4, 5.0], [4, 3, 5.0], [6, 8, 10.0], [8, 6, 10.0], [5, 12, 13.0], [12, 5, 13.0], [9, 12, 15.0], [12, 9, 15.0]]\n"
     ]
    }
   ],
   "source": [
    "import math \n",
    "\n",
    "nIsLessOrEqual = 15\n",
    "n,k,m,l = 0,0,0,[]\n",
    "\n",
    "# add all found tripel to list l\n",
    "for k in range(0,100):\n",
    "  k += 1\n",
    "  for m in range(0,100):\n",
    "    m += 1\n",
    "    n = math.sqrt(k**2 + m**2)\n",
    "    if n.is_integer() and n <= nIsLessOrEqual:\n",
    "      print(k,\"²+\",m,\"²=\",n,\"²\")\n",
    "      l.append([k,m,n])\n",
    "\n",
    "# sort and print list\n",
    "l.sort(key=lambda x: x[2])\n",
    "print(\"List contains: \",len(l),\" tripel\")\n",
    "print(\"Tripel: \\n\",l)"
   ]
  }
 ],
 "metadata": {
  "interpreter": {
   "hash": "4138dce0fa74a6453ad2e7bd72e4222e8a2660a917e8bc73b32b3d62a6a94433"
  },
  "kernelspec": {
   "display_name": "Python 3.8.8 64-bit ('base': conda)",
   "name": "python3"
  },
  "language_info": {
   "codemirror_mode": {
    "name": "ipython",
    "version": 3
   },
   "file_extension": ".py",
   "mimetype": "text/x-python",
   "name": "python",
   "nbconvert_exporter": "python",
   "pygments_lexer": "ipython3",
   "version": "3.8.8"
  },
  "orig_nbformat": 4
 },
 "nbformat": 4,
 "nbformat_minor": 2
}

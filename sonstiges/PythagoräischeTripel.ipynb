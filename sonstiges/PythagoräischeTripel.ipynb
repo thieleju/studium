{
 "cells": [
  {
   "cell_type": "markdown",
   "metadata": {},
   "source": [
    "# Pythagoräische Tripel \n",
    "\n",
    "P = {(k, m, n) ∈ N³ : (1 ≤ k, m, n ≤ 15) ∧ (k² + m² = n²)}\n",
    "\n",
    "> Für alle Exponenten in expRange"
   ]
  },
  {
   "cell_type": "code",
   "execution_count": 1,
   "metadata": {},
   "outputs": [
    {
     "name": "stdout",
     "output_type": "stream",
     "text": [
      "Exponent = 2 Found: 8  ->  [[3, 4, 5.0], [4, 3, 5.0], [6, 8, 10.0], [8, 6, 10.0], [5, 12, 13.0], [12, 5, 13.0], [9, 12, 15.0], [12, 9, 15.0]]\n",
      "Exponent = 3 Found: 0  ->  []\n",
      "Exponent = 4 Found: 0  ->  []\n",
      "Exponent = 5 Found: 0  ->  []\n",
      "Exponent = 6 Found: 0  ->  []\n",
      "Exponent = 7 Found: 0  ->  []\n",
      "Exponent = 8 Found: 0  ->  []\n",
      "Exponent = 9 Found: 0  ->  []\n",
      "Exponent = 10 Found: 0  ->  []\n",
      "Exponent = 11 Found: 0  ->  []\n",
      "Exponent = 12 Found: 0  ->  []\n",
      "Exponent = 13 Found: 0  ->  []\n",
      "Exponent = 14 Found: 0  ->  []\n",
      "Exponent = 15 Found: 0  ->  []\n",
      "Exponent = 16 Found: 0  ->  []\n",
      "Exponent = 17 Found: 0  ->  []\n",
      "Exponent = 18 Found: 0  ->  []\n",
      "Exponent = 19 Found: 0  ->  []\n",
      "Exponent = 20 Found: 0  ->  []\n",
      "Exponent = 21 Found: 2  ->  [[3, 15, 15.0], [15, 3, 15.0]]\n",
      "Exponent = 22 Found: 0  ->  []\n",
      "Exponent = 23 Found: 4  ->  [[3, 13, 13.0], [13, 3, 13.0], [3, 14, 14.0], [14, 3, 14.0]]\n",
      "Exponent = 24 Found: 2  ->  [[3, 12, 12.0], [12, 3, 12.0]]\n",
      "Exponent = 25 Found: 6  ->  [[3, 13, 13.0], [13, 3, 13.0], [3, 14, 14.0], [14, 3, 14.0], [3, 15, 15.0], [15, 3, 15.0]]\n",
      "Exponent = 26 Found: 0  ->  []\n",
      "Exponent = 27 Found: 0  ->  []\n",
      "Exponent = 28 Found: 4  ->  [[3, 10, 10.0], [10, 3, 10.0], [4, 13, 13.0], [13, 4, 13.0]]\n",
      "Exponent = 29 Found: 18  ->  [[3, 10, 10.0], [10, 3, 10.0], [3, 11, 11.0], [11, 3, 11.0], [3, 12, 12.0], [12, 3, 12.0], [3, 13, 13.0], [4, 13, 13.0], [13, 3, 13.0], [13, 4, 13.0], [3, 14, 14.0], [4, 14, 14.0], [14, 3, 14.0], [14, 4, 14.0], [3, 15, 15.0], [4, 15, 15.0], [15, 3, 15.0], [15, 4, 15.0]]\n"
     ]
    }
   ],
   "source": [
    "nIsLessOrEqual = 15\n",
    "n, k, m, l = 0, 0, 0, []\n",
    "\n",
    "expRange = range(2, 30)\n",
    "maxK, maxM = 100, 100\n",
    "\n",
    "for exp in expRange:\n",
    "  tempList = []\n",
    "\n",
    "  # add all found tripel to tempList\n",
    "  for k in range(2, maxK):\n",
    "    k += 1\n",
    "    for m in range(2, maxM):\n",
    "      m += 1\n",
    "      n = (k**exp + m**exp)**(1/exp)\n",
    "      if n % 1 == 0 and n <= nIsLessOrEqual:\n",
    "        tempList.append([k, m, n])\n",
    "\n",
    "  # add entry for exponent to global list\n",
    "  l.append([exp, tempList])\n",
    "\n",
    "\n",
    "# sort inner list and print list\n",
    "for expEntry in l:\n",
    "  expEntry[1].sort(key=lambda x: x[2])\n",
    "  print(\"Exponent = \"+str(expEntry[0]), \"Found: \" + str(len(expEntry[1])), \" -> \", expEntry[1])\n"
   ]
  }
 ],
 "metadata": {
  "interpreter": {
   "hash": "4138dce0fa74a6453ad2e7bd72e4222e8a2660a917e8bc73b32b3d62a6a94433"
  },
  "kernelspec": {
   "display_name": "Python 3",
   "language": "python",
   "name": "python3"
  },
  "orig_nbformat": 4
 },
 "nbformat": 4,
 "nbformat_minor": 2
}

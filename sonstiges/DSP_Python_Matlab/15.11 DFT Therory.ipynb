{
 "cells": [
  {
   "cell_type": "markdown",
   "metadata": {},
   "source": [
    "# Discrete Fourier Transform\n",
    "### Fourier-Transform is the Link between Time and Frequency Domain\n",
    "Time Domain:      s(t) | t <br>\n",
    "Frequency Domain: S(t) | f \n",
    "\n",
    "**continous** Fourier-Transform <br>\n",
    "**discrete** Fourier-Transform (focus)\n",
    "\n",
    "m: frequency index <br>\n",
    "k: time index\n",
    "\n",
    "![alt text](.\\assets\\dft1.png)\n"
   ]
  },
  {
   "cell_type": "markdown",
   "metadata": {},
   "source": [
    "### Time Domain to Frequency Domain\n",
    "![alt text](.\\assets\\dft_timedomain.png)\n"
   ]
  },
  {
   "cell_type": "markdown",
   "metadata": {},
   "source": [
    "![alt text](.\\assets\\dft_xm.png)\n",
    "\n",
    "### Calculation\n",
    "![alt text](.\\assets\\dft_calculation.png)"
   ]
  },
  {
   "cell_type": "markdown",
   "metadata": {},
   "source": [
    "### Plot result\n",
    "![alt text](.\\assets\\dft_calc_graph.png)"
   ]
  },
  {
   "cell_type": "markdown",
   "metadata": {},
   "source": []
  }
 ],
 "metadata": {
  "interpreter": {
   "hash": "4138dce0fa74a6453ad2e7bd72e4222e8a2660a917e8bc73b32b3d62a6a94433"
  },
  "kernelspec": {
   "display_name": "Python 3.8.8 64-bit ('base': conda)",
   "name": "python3"
  },
  "language_info": {
   "codemirror_mode": {
    "name": "ipython",
    "version": 3
   },
   "file_extension": ".py",
   "mimetype": "text/x-python",
   "name": "python",
   "nbconvert_exporter": "python",
   "pygments_lexer": "ipython3",
   "version": "3.8.8"
  },
  "orig_nbformat": 4
 },
 "nbformat": 4,
 "nbformat_minor": 2
}

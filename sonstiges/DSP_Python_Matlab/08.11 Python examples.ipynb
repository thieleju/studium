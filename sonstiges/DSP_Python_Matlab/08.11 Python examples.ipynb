{
 "cells": [
  {
   "cell_type": "code",
   "execution_count": 20,
   "metadata": {},
   "outputs": [],
   "source": [
    "import math \n",
    "import numpy as np"
   ]
  },
  {
   "cell_type": "markdown",
   "metadata": {},
   "source": [
    "# complex numbers"
   ]
  },
  {
   "cell_type": "code",
   "execution_count": 21,
   "metadata": {},
   "outputs": [
    {
     "name": "stdout",
     "output_type": "stream",
     "text": [
      "4.0 5.0 6.4031242374328485 0.8960553845713439\n"
     ]
    }
   ],
   "source": [
    "z = 4 + 5j\n",
    "\n",
    "print(z.real, z.imag, abs(z), abs(np.angle(z)))"
   ]
  },
  {
   "cell_type": "markdown",
   "metadata": {},
   "source": [
    "## **np.linspace**(start, stop, num=50, endpoint=True, retstep=False, dtype=None, axis=0)\n",
    "\n",
    "### Return evenly spaced numbers over a specified interval.\n",
    "### Returns num evenly spaced samples, calculated over the interval [start, stop]."
   ]
  },
  {
   "cell_type": "code",
   "execution_count": 22,
   "metadata": {},
   "outputs": [
    {
     "name": "stdout",
     "output_type": "stream",
     "text": [
      "[0. 1. 2. 3. 4. 5. 6. 7.]\n"
     ]
    }
   ],
   "source": [
    "N = 8\n",
    "ar = np.linspace(0,N-1, N)\n",
    "print(ar)"
   ]
  },
  {
   "cell_type": "markdown",
   "metadata": {},
   "source": [
    "## **np.arange**([start, ]stop, [step, ]dtype=None, *, like=None)\n",
    "\n",
    "### Return evenly spaced values within a given interval.\n",
    "### arange is better for integer steps, linspace is better for not integer steps"
   ]
  },
  {
   "cell_type": "code",
   "execution_count": 23,
   "metadata": {},
   "outputs": [
    {
     "name": "stdout",
     "output_type": "stream",
     "text": [
      "[0 1 2 3 4 5 6 7]\n"
     ]
    }
   ],
   "source": [
    "ar = np.arange(0, N)\n",
    "print(ar)"
   ]
  },
  {
   "cell_type": "markdown",
   "metadata": {},
   "source": [
    "# Functions in python"
   ]
  },
  {
   "cell_type": "code",
   "execution_count": 51,
   "metadata": {},
   "outputs": [
    {
     "name": "stdout",
     "output_type": "stream",
     "text": [
      "16\n",
      "2048\n",
      "12.0\n",
      "990\n"
     ]
    }
   ],
   "source": [
    "\n",
    "def power(base, exp):\n",
    "  return base ** exp\n",
    "\n",
    "def root(num, n):\n",
    "  return num ** (1 / n)\n",
    "\n",
    "def add(*nums):\n",
    "  sum = 0\n",
    "  for x in nums:\n",
    "    sum += x\n",
    "  return sum\n",
    "\n",
    "f = lambda p: p**2\n",
    "print(f(4))\n",
    "\n",
    "print(power(2, 11))\n",
    "print(root(144, 2))\n",
    "print(add(54, 62, 71, 2, 456, 345))"
   ]
  }
 ],
 "metadata": {
  "interpreter": {
   "hash": "4138dce0fa74a6453ad2e7bd72e4222e8a2660a917e8bc73b32b3d62a6a94433"
  },
  "kernelspec": {
   "display_name": "Python 3.8.8 64-bit ('base': conda)",
   "name": "python3"
  },
  "language_info": {
   "codemirror_mode": {
    "name": "ipython",
    "version": 3
   },
   "file_extension": ".py",
   "mimetype": "text/x-python",
   "name": "python",
   "nbconvert_exporter": "python",
   "pygments_lexer": "ipython3",
   "version": "3.8.8"
  },
  "orig_nbformat": 4
 },
 "nbformat": 4,
 "nbformat_minor": 2
}

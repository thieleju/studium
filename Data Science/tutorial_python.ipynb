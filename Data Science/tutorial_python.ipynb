{
 "cells": [
  {
   "cell_type": "markdown",
   "metadata": {},
   "source": [
    "## Elementare Notebook-Bedienung\n",
    "\n",
    "Notebooks haben zwei Modi. Mit `Esc` wechselt man in den Command-Modus und mit `Enter` in den Editier-Modus.\n",
    "\n",
    "Shortcuts im Command-Modus:\n",
    "-  `Shift+Enter`: Zelle ausführen und zur nächsten springen, `Strg+Enter`: Zelle ausführen und bleiben \n",
    "-  Zelle nach oben/unten wechseln mit `j` und `k` (bzw. mit den Pfeiltasten)\n",
    "- `b` und `a`: eine neue Zelle unter (**b**elow) bzw. über (**a**bove) der aktuellen Zelle einfügen\n",
    "- `dd` aktuelle Zelle entfernen\n",
    "- `m` Zelle zu Markdownzelle ändern, `y` Zelle ausführbar machen\n",
    "- `Tab` Autocompletion :-)"
   ]
  },
  {
   "cell_type": "markdown",
   "metadata": {},
   "source": [
    "## Markdown\n",
    "\n",
    "Eine Analysenotebook lebt davon, dass es nicht nur Codeblöcke enthält, sondern diese in einen Kontext stellt. Ohne Erläuterungen kann der Leser die Analyseschritte nur schwerlich einordnen. Letztendlich ist es wie eine Geschichtenerzählung! Markdown erlaubt eine sehr leichtgewichtige Textformatierung mit unterschiedlichen Überschriftengrößen, Stichpunkten, Hervorhebungen, Links, Bildern oder auch Formeln. Hier ein Beispiel:\n",
    "\n",
    "```\n",
    "# Markdown Hauptüberschrift\n",
    "## Mit Unterüberschrift\n",
    "### Und noch kleinere Überschrift\n",
    "#### Und sogar noch kleinerer Überschrift\n",
    "\n",
    "Normaler Text. Auch Formeln sind möglich (LaTeX-Syntax) $\\int_{x=1}^{10}x^2dx$.\n",
    "\n",
    "- ganz viele Stichpunkte\n",
    "  - auch eingerückte\n",
    "  - Unterpunkte\n",
    "- Juhuu!\n",
    "\n",
    "1. nummerierte\n",
    "2. Stichpunkte\n",
    "\n",
    "*kursiver Text*, **fett**, `monospace`, normal. (Für mehr Sytax siehe Internet)\n",
    "```\n",
    "\n",
    "# Markdown Hauptüberschrift\n",
    "## Mit Unterüberschrift\n",
    "### Und noch kleinere Überschrift\n",
    "#### Und sogar noch kleinerer Überschrift\n",
    "\n",
    "Normaler Text. Auch Formeln sind möglich (LaTeX-Syntax) $\\int_{x=1}^{10}x^2dx$.\n",
    "\n",
    "- ganz viele Stichpunkte\n",
    "  - auch eingerückte\n",
    "  - Unterpunkte\n",
    "- Juhuu!\n",
    "\n",
    "1. nummerierte\n",
    "2. Stichpunkte\n",
    "\n",
    "*kursiver Text*, **fett**, `monospace`, normal. (Für mehr Sytax siehe Internet)"
   ]
  },
  {
   "cell_type": "markdown",
   "metadata": {},
   "source": [
    "# Allgemeines Python\n",
    "\n",
    "Probieren Sie den untenstehenden Code selbst aus! Zur Übersichtlichkeit sind oft viele Anweisungen zu einer Zelle zusammengefasst. Es empfiehlt sich diese zeilenweise auszuprobieren, denn sonst wird nur das Resultat der letzten Zeile angezeigt."
   ]
  },
  {
   "cell_type": "markdown",
   "metadata": {},
   "source": [
    "#### Variablen und Zuweisungen"
   ]
  },
  {
   "cell_type": "code",
   "execution_count": 56,
   "metadata": {},
   "outputs": [
    {
     "data": {
      "text/plain": [
       "5"
      ]
     },
     "execution_count": 56,
     "metadata": {},
     "output_type": "execute_result"
    }
   ],
   "source": [
    "x = 5\n",
    "x"
   ]
  },
  {
   "cell_type": "markdown",
   "metadata": {},
   "source": [
    "#### Elementare Rechenoperationen"
   ]
  },
  {
   "cell_type": "code",
   "execution_count": 57,
   "metadata": {},
   "outputs": [
    {
     "data": {
      "text/plain": [
       "2"
      ]
     },
     "execution_count": 57,
     "metadata": {},
     "output_type": "execute_result"
    }
   ],
   "source": [
    "x+2\n",
    "x-2\n",
    "x*2\n",
    "x/2\n",
    "x**2 # Exponentiation\n",
    "x%2 # Modulo\n",
    "x//2 # Division ohne Rest (d.h. abrunden)"
   ]
  },
  {
   "cell_type": "markdown",
   "metadata": {},
   "source": [
    "#### Datentypen\n",
    "\n",
    "int (z.B. 5, 17, -42), float (z.B. 3.4, 1.0, -2.32), string (z.B. \"Hallo Welt!\"), bool (True, False)"
   ]
  },
  {
   "cell_type": "code",
   "execution_count": 58,
   "metadata": {},
   "outputs": [
    {
     "name": "stdout",
     "output_type": "stream",
     "text": [
      "x:  5 <class 'int'> \n",
      "\n",
      "y:  5.2 <class 'float'> \n",
      "\n",
      "a:  ein einfacher Text <class 'str'> \n",
      "\n",
      "b:  False <class 'bool'>\n"
     ]
    }
   ],
   "source": [
    "x = 5 # integer zwischen ca -2 Mrd. und +2 Mrd.\n",
    "print(\"x: \", x, type(x), \"\\n\")\n",
    "\n",
    "y = 5.2 # float\n",
    "print(\"y: \", y, type(y), \"\\n\")\n",
    "\n",
    "a = \"ein einfacher Text\" # mehrzeiliger Text in Dreifachanführungszeichen; auch Steuerzeichen \\n (Umbruch) oder \\t (Tabulator) möglich\n",
    "print(\"a: \", a, type(a), \"\\n\")\n",
    "\n",
    "b = False # bool\n",
    "print(\"b: \", b, type(b))"
   ]
  },
  {
   "cell_type": "markdown",
   "metadata": {},
   "source": [
    "#### Einfache Stringoperationen"
   ]
  },
  {
   "cell_type": "code",
   "execution_count": 59,
   "metadata": {},
   "outputs": [
    {
     "data": {
      "text/plain": [
       "'iin iinfachir Tixt'"
      ]
     },
     "execution_count": 59,
     "metadata": {},
     "output_type": "execute_result"
    }
   ],
   "source": [
    "a[2] # Slicing erlaubt Zugriff auf Stellen/Bereiche im String. Indizierung startet bei 0.\n",
    "a[1:7]\n",
    "a * 3\n",
    "a + \"hallo\"\n",
    "a.upper()\n",
    "a.replace(\"e\", \"i\")"
   ]
  },
  {
   "cell_type": "code",
   "execution_count": 60,
   "metadata": {},
   "outputs": [
    {
     "name": "stdout",
     "output_type": "stream",
     "text": [
      "\u001b[1;31mSignature:\u001b[0m \u001b[0ma\u001b[0m\u001b[1;33m.\u001b[0m\u001b[0mreplace\u001b[0m\u001b[1;33m(\u001b[0m\u001b[0mold\u001b[0m\u001b[1;33m,\u001b[0m \u001b[0mnew\u001b[0m\u001b[1;33m,\u001b[0m \u001b[0mcount\u001b[0m\u001b[1;33m=\u001b[0m\u001b[1;33m-\u001b[0m\u001b[1;36m1\u001b[0m\u001b[1;33m,\u001b[0m \u001b[1;33m/\u001b[0m\u001b[1;33m)\u001b[0m\u001b[1;33m\u001b[0m\u001b[1;33m\u001b[0m\u001b[0m\n",
      "\u001b[1;31mDocstring:\u001b[0m\n",
      "Return a copy with all occurrences of substring old replaced by new.\n",
      "\n",
      "  count\n",
      "    Maximum number of occurrences to replace.\n",
      "    -1 (the default value) means replace all occurrences.\n",
      "\n",
      "If the optional argument count is given, only the first count occurrences are\n",
      "replaced.\n",
      "\u001b[1;31mType:\u001b[0m      builtin_function_or_method\n"
     ]
    }
   ],
   "source": [
    "# Dokumentation zu einem Befehl aufrufen\n",
    "a.replace?"
   ]
  },
  {
   "cell_type": "markdown",
   "metadata": {},
   "source": [
    "#### Vergleiche und boolesche Operationen"
   ]
  },
  {
   "cell_type": "code",
   "execution_count": 61,
   "metadata": {},
   "outputs": [
    {
     "name": "stdout",
     "output_type": "stream",
     "text": [
      "True\n"
     ]
    },
    {
     "data": {
      "text/plain": [
       "False"
      ]
     },
     "execution_count": 61,
     "metadata": {},
     "output_type": "execute_result"
    }
   ],
   "source": [
    "print(4 > 3) # ergibt bool True/False\n",
    "\n",
    "a = 13\n",
    "b = 14\n",
    "\n",
    "a == b # Vergleich mit == , aber Zuweisung mit =\n",
    "a < b \n",
    "a != b # ungleich\n",
    "\n",
    "(a > 5) and (a % 2 == 0)\n",
    "(a > 5)  or (a % 2 == 0)\n",
    "not (a < 20)"
   ]
  },
  {
   "cell_type": "markdown",
   "metadata": {},
   "source": [
    "#### Listen, Tuples und Dictionarys"
   ]
  },
  {
   "cell_type": "code",
   "execution_count": 62,
   "metadata": {},
   "outputs": [
    {
     "data": {
      "text/plain": [
       "3"
      ]
     },
     "execution_count": 62,
     "metadata": {},
     "output_type": "execute_result"
    }
   ],
   "source": [
    "a_list = [4, 2, \"hallo\", 4.3, 9] # eine Liste kann unterschiedliche Datentypen enthalten\n",
    "a_list[2] # Element an Position 2 (Achtung: Zählung beginnt bei 0!)\n",
    "a_list[:2] # alles bis Position 2 (slicing)\n",
    "a_list[2:] # alles ab Position 2\n",
    "a_list[2:4] # von Position 2 bis 4 (exklusive)\n",
    "a_list[-2] # Element an vorletzter Position\n",
    "a_list.append(42) # Element anhängen\n",
    "a_list\n",
    "\n",
    "other_list = [[1, 2, 3], [4, 5, 6]] # verschachtelte Liste\n",
    "other_list[0]\n",
    "other_list[0][2]"
   ]
  },
  {
   "cell_type": "code",
   "execution_count": 63,
   "metadata": {},
   "outputs": [],
   "source": [
    "a_tuple = (4, 6, \"hallo\") # ähnlich zu Listen, man kann die Elemente aber nicht ändern (immutable)"
   ]
  },
  {
   "cell_type": "code",
   "execution_count": 64,
   "metadata": {},
   "outputs": [
    {
     "name": "stdout",
     "output_type": "stream",
     "text": [
      "hat Pech\n"
     ]
    }
   ],
   "source": [
    "a_dictionary = {\"Hans\": \"hat Glück\", \"Marie\": \"hat Pech\", \"Carla\": 42} # Key-Value-Paare\n",
    "print(a_dictionary[\"Marie\"])"
   ]
  },
  {
   "cell_type": "markdown",
   "metadata": {},
   "source": [
    "#### Fallunterscheidung und Schleifen"
   ]
  },
  {
   "cell_type": "code",
   "execution_count": 65,
   "metadata": {},
   "outputs": [
    {
     "name": "stdout",
     "output_type": "stream",
     "text": [
      "nicht Hans\n"
     ]
    }
   ],
   "source": [
    "name = \"Anne\"\n",
    "if name == \"Hans\":\n",
    "    print(\"Hallo Hans\")\n",
    "else: # else-Statement ist optional\n",
    "    print(\"nicht Hans\")"
   ]
  },
  {
   "cell_type": "code",
   "execution_count": 66,
   "metadata": {},
   "outputs": [
    {
     "name": "stdout",
     "output_type": "stream",
     "text": [
      "0\n",
      "1\n",
      "2\n",
      "3\n",
      "4\n",
      "5\n",
      "6\n",
      "7\n",
      "8\n",
      "9\n"
     ]
    }
   ],
   "source": [
    "for i in range(10): # die Variable i durchläuft die Werte 0 bis 9\n",
    "    print(i)"
   ]
  },
  {
   "cell_type": "code",
   "execution_count": 67,
   "metadata": {},
   "outputs": [
    {
     "name": "stdout",
     "output_type": "stream",
     "text": [
      "7\n",
      "5\n",
      "3\n"
     ]
    }
   ],
   "source": [
    "x = 7\n",
    "while x > 2:\n",
    "    print(x)\n",
    "    x = x-2"
   ]
  },
  {
   "cell_type": "markdown",
   "metadata": {},
   "source": [
    "Eine Do-While-Schleife (wie z.B. in C) gibt es in Python nicht. Man kann diese aber mit einer While-Schleife und einem `break`-Statement erzeugen."
   ]
  },
  {
   "cell_type": "markdown",
   "metadata": {},
   "source": [
    "#### List Comprehension\n",
    "\n",
    "Oft möchte man eine Liste erzeugen, indem man über eine andere Liste iteriert. Zum Beispiel alle Quadratzahlen der Zahlen 0 bis 9. Klassischerweise würde der Code so aussehen:\n",
    "\n",
    "```\n",
    "quadratzahlen = []\n",
    "for x in range(10):\n",
    "    quadratzahlen.append(x**2)\n",
    "quadratzahlen\n",
    "```\n",
    "\n",
    "Durch List-Comprehensions wird dieser Code wesentlich übersichtlicher."
   ]
  },
  {
   "cell_type": "code",
   "execution_count": 68,
   "metadata": {},
   "outputs": [
    {
     "data": {
      "text/plain": [
       "[0, 'hallo1', 4, 'hallo3', 16, 'hallo5', 36, 'hallo7', 64, 'hallo9']"
      ]
     },
     "execution_count": 68,
     "metadata": {},
     "output_type": "execute_result"
    }
   ],
   "source": [
    "[i**2 for i in range(10)]\n",
    "[i**2 if i % 2 == 0 else 'hallo'+str(i) for i in range(10)]"
   ]
  },
  {
   "cell_type": "markdown",
   "metadata": {},
   "source": [
    "Etwas anspruchsvoller: Wie viele \"e\" sind in der Datei simple_csv.csv enthalten?"
   ]
  },
  {
   "cell_type": "code",
   "execution_count": 69,
   "metadata": {},
   "outputs": [],
   "source": [
    "with open(\"ressources/simple_csv.csv\") as f:\n",
    "    lines = f.readlines()"
   ]
  },
  {
   "cell_type": "code",
   "execution_count": 70,
   "metadata": {},
   "outputs": [
    {
     "data": {
      "text/plain": [
       "35"
      ]
     },
     "execution_count": 70,
     "metadata": {},
     "output_type": "execute_result"
    }
   ],
   "source": [
    "sum([line.count(\"e\") for line in lines])"
   ]
  },
  {
   "cell_type": "markdown",
   "metadata": {},
   "source": [
    "#### Funktionen\n",
    "Sobald sich Code wiederholt sollte man ihn im Regelfall als Funktion kapseln."
   ]
  },
  {
   "cell_type": "code",
   "execution_count": 71,
   "metadata": {},
   "outputs": [
    {
     "data": {
      "text/plain": [
       "20"
      ]
     },
     "execution_count": 71,
     "metadata": {},
     "output_type": "execute_result"
    }
   ],
   "source": [
    "def my_function(x, y, z):\n",
    "    a = 2 * x + y * z\n",
    "    return a\n",
    "\n",
    "my_function(x = 3, y = 2, z = 7) # Argumente explizit zu benennen ist empfohlen\n",
    "my_function(3, 2, 7) # Argumente werden gemäß Reihenfolge zugeordnet"
   ]
  },
  {
   "cell_type": "markdown",
   "metadata": {},
   "source": [
    "#### Jupyter-Features: Hilfe und und Cell-Magics"
   ]
  },
  {
   "cell_type": "code",
   "execution_count": 72,
   "metadata": {},
   "outputs": [
    {
     "name": "stdout",
     "output_type": "stream",
     "text": [
      "Object `a.replace` not found.\n"
     ]
    }
   ],
   "source": [
    "# Dokumentation zu einem Befehl aufrufen\n",
    "a.replace?"
   ]
  },
  {
   "cell_type": "markdown",
   "metadata": {},
   "source": [
    "`%%timeit` ruft die Zelle mehrfach auf und bildet Statistik über Laufzeit.\n",
    "`%timeit` macht das Gleiche mit der jeweiligen Zeile (line magic).\n",
    "(`%%time` bzw `%time` macht nur einen Durchlauf.)"
   ]
  },
  {
   "cell_type": "code",
   "execution_count": 73,
   "metadata": {},
   "outputs": [
    {
     "name": "stdout",
     "output_type": "stream",
     "text": [
      "27.1 ms ± 873 µs per loop (mean ± std. dev. of 7 runs, 10 loops each)\n"
     ]
    }
   ],
   "source": [
    "%%timeit\n",
    "sum(x**2 for x in range(100000))"
   ]
  },
  {
   "cell_type": "markdown",
   "metadata": {},
   "source": [
    "## NumPy\n",
    "Die NumPy-Bibliothek (https://numpy.org/) erlaubt schnelles und vektorbasiertes Arbeiten mit Arrays, sofern alle Einträge vom selben Datentyp sind. Viele andere Bibliotheken (pandas, scikit-learn, ...) bauen darauf auf."
   ]
  },
  {
   "cell_type": "code",
   "execution_count": 74,
   "metadata": {},
   "outputs": [],
   "source": [
    "import numpy as np # Konvention. Alle NumPy-Funktionen lassen sich so mit np.<Funktionsname> ansprechen"
   ]
  },
  {
   "cell_type": "code",
   "execution_count": 75,
   "metadata": {},
   "outputs": [
    {
     "data": {
      "text/plain": [
       "array([ 0.60874133, -0.03903762,  0.42521096, -1.78067496, -0.36838536])"
      ]
     },
     "execution_count": 75,
     "metadata": {},
     "output_type": "execute_result"
    }
   ],
   "source": [
    "a = np.array([6.5, 7.2, 2, -4]) # Array erzeugen aus expliziter Liste\n",
    "a\n",
    "type(a)\n",
    "b = np.arange(10) # die Zahlen 0 bis 9 als Array\n",
    "b\n",
    "c = np.arange(15).reshape(3, 5) # 2-dimensionals 3x5-Array\n",
    "c\n",
    "d = np.random.randn(5)\n",
    "d"
   ]
  },
  {
   "cell_type": "markdown",
   "metadata": {},
   "source": [
    "Rechnen mit Arrays"
   ]
  },
  {
   "cell_type": "code",
   "execution_count": 76,
   "metadata": {},
   "outputs": [
    {
     "data": {
      "text/plain": [
       "array([6.65141633e+02, 1.33943076e+03, 7.38905610e+00, 1.83156389e-02])"
      ]
     },
     "execution_count": 76,
     "metadata": {},
     "output_type": "execute_result"
    }
   ],
   "source": [
    "a\n",
    "a.mean()\n",
    "a.max()\n",
    "a.sum()\n",
    "\n",
    "2*a + 100 # jeden Eintrag mal 2 plus 100\n",
    "# a + d # elementweise addieren\n",
    "np.exp(a)\n",
    "# a < d"
   ]
  }
 ],
 "metadata": {
  "kernelspec": {
   "display_name": "Python 3.10.4 64-bit",
   "language": "python",
   "name": "python3"
  },
  "language_info": {
   "codemirror_mode": {
    "name": "ipython",
    "version": 3
   },
   "file_extension": ".py",
   "mimetype": "text/x-python",
   "name": "python",
   "nbconvert_exporter": "python",
   "pygments_lexer": "ipython3",
   "version": "3.10.4"
  },
  "orig_nbformat": 4,
  "vscode": {
   "interpreter": {
    "hash": "3b6681b19b7e292dd10f3937973fc2193d3ae28b044883bc9884a3ff4f3ed7d5"
   }
  }
 },
 "nbformat": 4,
 "nbformat_minor": 2
}

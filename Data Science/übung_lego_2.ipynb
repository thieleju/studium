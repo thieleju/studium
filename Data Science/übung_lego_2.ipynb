{
 "cells": [
  {
   "cell_type": "markdown",
   "metadata": {},
   "source": [
    "# Übungssession zu Pandas\n",
    "\n",
    "Erinnerung: https://pandas.pydata.org/Pandas_Cheat_Sheet.pdf"
   ]
  },
  {
   "cell_type": "code",
   "execution_count": 1,
   "metadata": {},
   "outputs": [],
   "source": [
    "import numpy as np\n",
    "import pandas as pd"
   ]
  },
  {
   "cell_type": "code",
   "execution_count": 2,
   "metadata": {},
   "outputs": [
    {
     "data": {
      "text/html": [
       "<div>\n",
       "<style scoped>\n",
       "    .dataframe tbody tr th:only-of-type {\n",
       "        vertical-align: middle;\n",
       "    }\n",
       "\n",
       "    .dataframe tbody tr th {\n",
       "        vertical-align: top;\n",
       "    }\n",
       "\n",
       "    .dataframe thead th {\n",
       "        text-align: right;\n",
       "    }\n",
       "</style>\n",
       "<table border=\"1\" class=\"dataframe\">\n",
       "  <thead>\n",
       "    <tr style=\"text-align: right;\">\n",
       "      <th></th>\n",
       "      <th>name</th>\n",
       "      <th>theme</th>\n",
       "      <th>product_code</th>\n",
       "      <th>ages</th>\n",
       "      <th>piece_count</th>\n",
       "      <th>vip_points</th>\n",
       "      <th>price</th>\n",
       "      <th>dimension_1</th>\n",
       "      <th>dimension_2</th>\n",
       "      <th>dimension_3</th>\n",
       "      <th>url</th>\n",
       "      <th>date</th>\n",
       "    </tr>\n",
       "  </thead>\n",
       "  <tbody>\n",
       "    <tr>\n",
       "      <th>0</th>\n",
       "      <td>Cheops-Pyramide</td>\n",
       "      <td>Architecture</td>\n",
       "      <td>21058</td>\n",
       "      <td>18+</td>\n",
       "      <td>1476.0</td>\n",
       "      <td>1050.0</td>\n",
       "      <td>139.99</td>\n",
       "      <td>NaN</td>\n",
       "      <td>NaN</td>\n",
       "      <td>NaN</td>\n",
       "      <td>/de-de/product/great-pyramid-of-giza-21058</td>\n",
       "      <td>2022-09-19</td>\n",
       "    </tr>\n",
       "    <tr>\n",
       "      <th>1</th>\n",
       "      <td>Taj Mahal</td>\n",
       "      <td>Architecture</td>\n",
       "      <td>21056</td>\n",
       "      <td>18+</td>\n",
       "      <td>2022.0</td>\n",
       "      <td>900.0</td>\n",
       "      <td>119.99</td>\n",
       "      <td>H: 8\" (20cm)</td>\n",
       "      <td>B: 10\" (23cm)</td>\n",
       "      <td>T: 10\" (23cm)</td>\n",
       "      <td>/de-de/product/taj-mahal-21056</td>\n",
       "      <td>2022-09-19</td>\n",
       "    </tr>\n",
       "    <tr>\n",
       "      <th>2</th>\n",
       "      <td>Das Weiße Haus</td>\n",
       "      <td>Architecture</td>\n",
       "      <td>21054</td>\n",
       "      <td>18+</td>\n",
       "      <td>1483.0</td>\n",
       "      <td>750.0</td>\n",
       "      <td>99.99</td>\n",
       "      <td>NaN</td>\n",
       "      <td>NaN</td>\n",
       "      <td>NaN</td>\n",
       "      <td>/de-de/product/the-white-house-21054</td>\n",
       "      <td>2022-09-19</td>\n",
       "    </tr>\n",
       "  </tbody>\n",
       "</table>\n",
       "</div>"
      ],
      "text/plain": [
       "              name         theme  product_code ages  piece_count  vip_points  \\\n",
       "0  Cheops-Pyramide  Architecture         21058  18+       1476.0      1050.0   \n",
       "1        Taj Mahal  Architecture         21056  18+       2022.0       900.0   \n",
       "2   Das Weiße Haus  Architecture         21054  18+       1483.0       750.0   \n",
       "\n",
       "    price   dimension_1    dimension_2    dimension_3  \\\n",
       "0  139.99           NaN            NaN            NaN   \n",
       "1  119.99  H: 8\" (20cm)  B: 10\" (23cm)  T: 10\" (23cm)   \n",
       "2   99.99           NaN            NaN            NaN   \n",
       "\n",
       "                                          url        date  \n",
       "0  /de-de/product/great-pyramid-of-giza-21058  2022-09-19  \n",
       "1              /de-de/product/taj-mahal-21056  2022-09-19  \n",
       "2        /de-de/product/the-white-house-21054  2022-09-19  "
      ]
     },
     "execution_count": 2,
     "metadata": {},
     "output_type": "execute_result"
    }
   ],
   "source": [
    "LEGO = pd.read_csv(\"ressources/LEGO.csv\")\n",
    "LEGO.head(3)"
   ]
  },
  {
   "cell_type": "markdown",
   "metadata": {},
   "source": [
    "### Frage 1: Preise\n",
    "Ziel: Wie oft kommen (bei den aktuellen Modellen) die unterschiedlichen Preise jeweils vor? Sortieren Sie die Preise nach ihrer Häufigkeit."
   ]
  },
  {
   "cell_type": "code",
   "execution_count": null,
   "metadata": {},
   "outputs": [],
   "source": []
  },
  {
   "cell_type": "markdown",
   "metadata": {},
   "source": [
    "### Einschub\n",
    "\n",
    "Bisher hatten wir Split-Apply-Combine in einer relativ einfachen Form gesehen.\n",
    "Meist wurde nach der Gruppierung eine Spalte ausgewählt und darauf eine Aggregationsfunktion angewandt.\n",
    "Grundsätzlich kann man auch beliebige Funktionen auf die jeweiligen SubDataFrames anwenden."
   ]
  },
  {
   "cell_type": "code",
   "execution_count": null,
   "metadata": {},
   "outputs": [],
   "source": []
  },
  {
   "cell_type": "markdown",
   "metadata": {},
   "source": [
    "### Frage 2: Teure Modelle\n",
    "\n",
    "Ziel: Die Gesamttabelle (nur die aktuellen Modelle) soll eingeschränkt werden, so dass für jedes Thema nur die drei teuersten Modelle enthalten sind."
   ]
  },
  {
   "cell_type": "code",
   "execution_count": null,
   "metadata": {},
   "outputs": [],
   "source": []
  },
  {
   "cell_type": "markdown",
   "metadata": {},
   "source": [
    "### Einschub\n",
    "\n",
    "Mit filter() kann man ganze Gruppen entfernen, sofern sie ein Kriterium nicht erfüllen"
   ]
  },
  {
   "cell_type": "code",
   "execution_count": null,
   "metadata": {},
   "outputs": [],
   "source": []
  },
  {
   "cell_type": "markdown",
   "metadata": {},
   "source": [
    "Mit transform() kann man eine Funktion aufrufen aber die Form der ursprünglichen Spalte belassen.\n",
    "Dies ist meist hilfreich wenn man einen aggregierten Wert über alle Zeilen verteilen möchte, von denen er stammt."
   ]
  },
  {
   "cell_type": "code",
   "execution_count": null,
   "metadata": {},
   "outputs": [],
   "source": []
  },
  {
   "cell_type": "markdown",
   "metadata": {},
   "source": [
    "### Frage 3: Neue Modelle\n",
    "\n",
    "Ziel: Welche Sets sind im aktuellen Halbjahr neu hinzugekommen?"
   ]
  },
  {
   "cell_type": "code",
   "execution_count": null,
   "metadata": {},
   "outputs": [],
   "source": []
  },
  {
   "cell_type": "code",
   "execution_count": null,
   "metadata": {},
   "outputs": [],
   "source": []
  },
  {
   "cell_type": "markdown",
   "metadata": {},
   "source": [
    "### Frage 4: Schwierigkeitsgrad\n",
    "\n",
    "(Wir betrachten nur die aktuellen Sets.)\n",
    "Die Altersklasse gibt bereits eine gewisse Auskunft über den Schwierigkeitsgrad eines Sets. Aber wie verhalten sich diese untereinander?\n",
    "Für jedes Modell soll ein Score ermittelt werden, der angibt wie schwierig es im Vergleich zu anderen Modellen der jeweiligen Altersklasse ist."
   ]
  },
  {
   "cell_type": "code",
   "execution_count": null,
   "metadata": {},
   "outputs": [],
   "source": []
  }
 ],
 "metadata": {
  "kernelspec": {
   "display_name": "Python 3.9.2 64-bit",
   "language": "python",
   "name": "python3"
  },
  "language_info": {
   "codemirror_mode": {
    "name": "ipython",
    "version": 3
   },
   "file_extension": ".py",
   "mimetype": "text/x-python",
   "name": "python",
   "nbconvert_exporter": "python",
   "pygments_lexer": "ipython3",
   "version": "3.9.2"
  },
  "orig_nbformat": 4,
  "vscode": {
   "interpreter": {
    "hash": "916dbcbb3f70747c44a77c7bcd40155683ae19c65e1c03b4aa3499c5328201f1"
   }
  }
 },
 "nbformat": 4,
 "nbformat_minor": 2
}

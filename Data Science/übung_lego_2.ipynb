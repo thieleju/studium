{
 "cells": [
  {
   "cell_type": "markdown",
   "metadata": {},
   "source": [
    "# Übungssession zu Pandas\n",
    "\n",
    "Erinnerung: https://pandas.pydata.org/Pandas_Cheat_Sheet.pdf"
   ]
  },
  {
   "cell_type": "code",
   "execution_count": null,
   "metadata": {},
   "outputs": [],
   "source": [
    "import numpy as np\n",
    "import pandas as pd"
   ]
  },
  {
   "cell_type": "code",
   "execution_count": null,
   "metadata": {},
   "outputs": [],
   "source": [
    "LEGO = pd.read_csv(\"LEGO.csv\")\n",
    "LEGO.head(3)"
   ]
  },
  {
   "cell_type": "markdown",
   "metadata": {},
   "source": [
    "### Frage 1: Preise\n",
    "Ziel: Wie oft kommen (bei den aktuellen Modellen) die unterschiedlichen Preise jeweils vor? Sortieren Sie die Preise nach ihrer Häufigkeit."
   ]
  },
  {
   "cell_type": "code",
   "execution_count": null,
   "metadata": {},
   "outputs": [],
   "source": [
    "(LEGO[LEGO[\"date\"] == \"2022-09-19\"]\n",
    "    .groupby(\"price\")\n",
    "    .size()\n",
    "    .sort_values(ascending = False))"
   ]
  },
  {
   "cell_type": "markdown",
   "metadata": {},
   "source": [
    "### Einschub\n",
    "\n",
    "Bisher hatten wir Split-Apply-Combine in einer relativ einfachen Form gesehen.\n",
    "Meist wurde nach der Gruppierung eine Spalte ausgewählt und darauf eine Aggregationsfunktion angewandt.\n",
    "Grundsätzlich kann man auch beliebige Funktionen auf die jeweiligen SubDataFrames anwenden."
   ]
  },
  {
   "cell_type": "code",
   "execution_count": null,
   "metadata": {},
   "outputs": [],
   "source": [
    "def some_stats(subdf):\n",
    "    rows = subdf.shape[0]\n",
    "    num_ages = subdf[\"ages\"].nunique()\n",
    "    num_prices = subdf[\"price\"].nunique()\n",
    "    total_price = subdf[\"price\"].sum()\n",
    "    return pd.Series([rows, num_ages, num_prices, total_price], index= [\"num_sets\", \"num_ages\", \"num_prices\", \"total_price\"])\n",
    "\n",
    "LEGO[LEGO[\"date\"]==\"2022-09-19\"].groupby(\"theme\").apply(some_stats).sort_values(\"total_price\", ascending = False)"
   ]
  },
  {
   "cell_type": "markdown",
   "metadata": {},
   "source": [
    "### Frage 2: Teure Modelle\n",
    "\n",
    "Ziel: Die Gesamttabelle (nur die aktuellen Modelle) soll eingeschränkt werden, so dass für jedes Thema nur die drei teuersten Modelle enthalten sind."
   ]
  },
  {
   "cell_type": "code",
   "execution_count": null,
   "metadata": {},
   "outputs": [],
   "source": [
    "(LEGO[LEGO[\"date\"] == \"2022-09-19\"]\n",
    "    .groupby(\"theme\")\n",
    "    .apply(lambda subdf: subdf.sort_values(\"price\", ascending = False).iloc[0:3])\n",
    "    .reset_index(drop = True))"
   ]
  },
  {
   "cell_type": "markdown",
   "metadata": {},
   "source": [
    "### Einschub\n",
    "\n",
    "Mit filter() kann man ganze Gruppen entfernen, sofern sie ein Kriterium nicht erfüllen."
   ]
  },
  {
   "cell_type": "code",
   "execution_count": null,
   "metadata": {},
   "outputs": [],
   "source": [
    "LEGO.groupby(\"theme\").filter(lambda subdf: len(subdf) <= 2)"
   ]
  },
  {
   "cell_type": "markdown",
   "metadata": {},
   "source": [
    "Mit transform() kann man eine Funktion aufrufen aber die Form der ursprünglichen Spalte belassen.\n",
    "Dies ist meist hilfreich wenn man einen aggregierten Wert über alle Zeilen verteilen möchte, von denen er stammt."
   ]
  },
  {
   "cell_type": "code",
   "execution_count": null,
   "metadata": {},
   "outputs": [],
   "source": [
    "LEGO[\"meanprice_in_theme\"] = LEGO.groupby(\"theme\")[\"price\"].transform(\"mean\")\n",
    "LEGO.head()"
   ]
  },
  {
   "cell_type": "markdown",
   "metadata": {},
   "source": [
    "### Frage 3: Neue Modelle\n",
    "\n",
    "Ziel: Welche Modelle sind im aktuellen Halbjahr neu hinzugekommen?"
   ]
  },
  {
   "cell_type": "code",
   "execution_count": null,
   "metadata": {},
   "outputs": [],
   "source": [
    "df = LEGO.groupby(\"product_code\").filter(lambda subdf: (len(subdf) == 1) & np.any(subdf[\"date\"] == \"2022-09-19\"))\n",
    "df.head()"
   ]
  },
  {
   "cell_type": "code",
   "execution_count": null,
   "metadata": {},
   "outputs": [],
   "source": [
    "LEGO[\"occurences\"] = LEGO.groupby(\"product_code\")[\"date\"].transform(len)\n",
    "LEGO[(LEGO[\"occurences\"] == 1) & (LEGO[\"date\"] == \"2022-09-19\")].head()\n"
   ]
  },
  {
   "cell_type": "markdown",
   "metadata": {},
   "source": [
    "### Frage 4: Schwierigkeitsgrad\n",
    "\n",
    "(Wir betrachten nur die aktuellen Sets.)\n",
    "Die Altersklasse gibt bereits eine gewisse Auskunft über den Schwierigkeitsgrad eines Sets. Aber wie verhalten sich diese untereinander?\n",
    "Für jedes Modell soll ein Score ermittelt werden, der angibt wie schwierig es im Vergleich zu anderen Modellen der jeweiligen Altersklasse ist."
   ]
  },
  {
   "cell_type": "code",
   "execution_count": null,
   "metadata": {},
   "outputs": [],
   "source": [
    "LEGO_current = LEGO[LEGO[\"date\"] == \"2022-09-19\"].copy()\n",
    "LEGO_current[\"mean_pieces\"] = LEGO_current.groupby(\"ages\")[\"piece_count\"].transform(\"median\")\n",
    "LEGO_current[\"rel_complexity\"] = LEGO_current[\"piece_count\"] / LEGO_current[\"mean_pieces\"]\n",
    "LEGO_current.head()"
   ]
  }
 ],
 "metadata": {
  "kernelspec": {
   "display_name": "Python 3.11.0 64-bit",
   "language": "python",
   "name": "python3"
  },
  "language_info": {
   "codemirror_mode": {
    "name": "ipython",
    "version": 3
   },
   "file_extension": ".py",
   "mimetype": "text/x-python",
   "name": "python",
   "nbconvert_exporter": "python",
   "pygments_lexer": "ipython3",
   "version": "3.11.0"
  },
  "orig_nbformat": 4,
  "vscode": {
   "interpreter": {
    "hash": "c86237eded15f21886b9aaff827d3a89c126a6b455051045074d9aa18ad9725f"
   }
  }
 },
 "nbformat": 4,
 "nbformat_minor": 2
}
